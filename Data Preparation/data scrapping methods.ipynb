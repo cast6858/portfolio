{
 "cells": [
  {
   "cell_type": "markdown",
   "id": "4d509734",
   "metadata": {},
   "source": [
    "# Felipe Castillo\n",
    "# Activity 5 and 6\n",
    "# Data Preparation \n",
    "# 1/17/2022"
   ]
  },
  {
   "cell_type": "code",
   "execution_count": 1,
   "id": "78d90d37",
   "metadata": {},
   "outputs": [
    {
     "name": "stdout",
     "output_type": "stream",
     "text": [
      "Pixiedust database opened successfully\n"
     ]
    },
    {
     "data": {
      "text/html": [
       "\n",
       "        <div style=\"margin:10px\">\n",
       "            <a href=\"https://github.com/ibm-watson-data-lab/pixiedust\" target=\"_new\">\n",
       "                <img src=\"https://github.com/ibm-watson-data-lab/pixiedust/raw/master/docs/_static/pd_icon32.png\" style=\"float:left;margin-right:10px\"/>\n",
       "            </a>\n",
       "            <span>Pixiedust version 1.1.19</span>\n",
       "        </div>\n",
       "        "
      ],
      "text/plain": [
       "<IPython.core.display.HTML object>"
      ]
     },
     "metadata": {},
     "output_type": "display_data"
    }
   ],
   "source": [
    "import os \n",
    "import pandas as pd\n",
    "import numpy as np\n",
    "import string \n",
    "from bs4 import BeautifulSoup\n",
    "import pixiedust\n",
    "import matplotlib.pyplot as plt\n",
    "\n",
    "\n",
    "\n",
    "#Changing directory to work with my directory\n",
    "\n",
    "os.chdir(\"C:\\DataScience_DSC_540\\Week5_6\")"
   ]
  },
  {
   "cell_type": "markdown",
   "id": "9f625737",
   "metadata": {},
   "source": [
    "# First Take Read the page using bs4"
   ]
  },
  {
   "cell_type": "code",
   "execution_count": 52,
   "id": "76af5b98",
   "metadata": {},
   "outputs": [],
   "source": [
    "\n",
    "#wiki_url = 'https://en.wikipedia.org/wiki/List_of_countries_by_GDP_(nominal)'\n",
    "#Open html wikipeida file\n",
    "with open(\"List of countries by GDP (nominal) - Wikipedia.htm\" , \"r\", encoding=\"utf8\") as file_html:\n",
    "    soup = BeautifulSoup(file_html)\n",
    "    #print(soup.prettify())\n"
   ]
  },
  {
   "cell_type": "markdown",
   "id": "fcec5a33",
   "metadata": {},
   "source": [
    "# Task 2 how many tables"
   ]
  },
  {
   "cell_type": "code",
   "execution_count": 4,
   "id": "b956c298",
   "metadata": {},
   "outputs": [
    {
     "name": "stdout",
     "output_type": "stream",
     "text": [
      "There are 9 tables\n"
     ]
    }
   ],
   "source": [
    "# Find the table and how many are there.\n",
    "\n",
    "table = soup.findAll(\"table\")\n",
    "\n",
    "#converting into string to get length\n",
    "print(\"There are \" +str(len(table)) + \" tables\")\n"
   ]
  },
  {
   "cell_type": "markdown",
   "id": "7a14fc6b",
   "metadata": {},
   "source": [
    "# Task 3 Find the right table"
   ]
  },
  {
   "cell_type": "code",
   "execution_count": 51,
   "id": "a25626c3",
   "metadata": {
    "scrolled": true
   },
   "outputs": [],
   "source": [
    "#Class name when click also you to see Html Class wikitable\n",
    "gdp_table = soup.find(\"table\",{\"class\": '\"wikitable\"|}'})\n",
    "#gdp_table\n",
    "\n"
   ]
  },
  {
   "cell_type": "markdown",
   "id": "9a080d8c",
   "metadata": {},
   "source": [
    "# Task 4 separate the soruce from data"
   ]
  },
  {
   "cell_type": "code",
   "execution_count": 6,
   "id": "fdf32ea7",
   "metadata": {},
   "outputs": [
    {
     "name": "stdout",
     "output_type": "stream",
     "text": [
      "['\\n', <td style=\"width:33%; text-align:center;\"><b>Per the <a href=\"https://en.wikipedia.org/wiki/International_Monetary_Fund\" title=\"International Monetary Fund\">International Monetary Fund</a> (2017)</b><sup class=\"reference\" id=\"cite_ref-GDP_IMF_1-2\"><a href=\"https://en.wikipedia.org/wiki/List_of_countries_by_GDP_(nominal)#cite_note-GDP_IMF-1\">[1]</a></sup>\n",
      "</td>, '\\n', <td style=\"width:33%; text-align:center;\"><b>Per the <a href=\"https://en.wikipedia.org/wiki/World_Bank\" title=\"World Bank\">World Bank</a> (2017)</b><sup class=\"reference\" id=\"cite_ref-worldbank_20-0\"><a href=\"https://en.wikipedia.org/wiki/List_of_countries_by_GDP_(nominal)#cite_note-worldbank-20\">[20]</a></sup>\n",
      "</td>, '\\n', <td style=\"width:33%; text-align:center;\"><b>Per the <a href=\"https://en.wikipedia.org/wiki/United_Nations\" title=\"United Nations\">United Nations</a> (2016)</b><sup class=\"reference\" id=\"cite_ref-21\"><a href=\"https://en.wikipedia.org/wiki/List_of_countries_by_GDP_(nominal)#cite_note-21\">[21]</a></sup><sup class=\"reference\" id=\"cite_ref-22\"><a href=\"https://en.wikipedia.org/wiki/List_of_countries_by_GDP_(nominal)#cite_note-22\">[22]</a></sup>\n",
      "</td>]\n"
     ]
    }
   ],
   "source": [
    "#Find index of tr and maping to source name\n",
    "# should contain three values \n",
    "\n",
    "#looking for first value at index 0 \n",
    "source_names  = gdp_table.findAll(\"tr\")[0]\n",
    "source_list = []\n",
    "\n",
    "#source equals to three all values will be put in list\n",
    "for source in source_names:\n",
    "    source_list.append(source)\n",
    "\n",
    "#showing list values\n",
    "print(source_list)\n",
    "    \n",
    "    \n",
    "    \n",
    "\n"
   ]
  },
  {
   "cell_type": "markdown",
   "id": "37888e40",
   "metadata": {},
   "source": [
    "# Task 5 Check how to get the source "
   ]
  },
  {
   "cell_type": "code",
   "execution_count": 7,
   "id": "c164faec",
   "metadata": {},
   "outputs": [
    {
     "name": "stdout",
     "output_type": "stream",
     "text": [
      "International Monetary Fund\n",
      "\n",
      "World Bank\n",
      "\n",
      "United Nations\n",
      "\n",
      "\n"
     ]
    }
   ],
   "source": [
    "#All soruces are wraped in anchor tag\n",
    "\n",
    "for text in source_names.findAll('a'):\n",
    "    \n",
    "    #Removing the brackets [] that include a url link\n",
    "    #Once removed the item is strip from uncessary values\n",
    "    temp_value = text.getText().split('[')[0].strip()\n",
    "    print(temp_value)\n"
   ]
  },
  {
   "cell_type": "markdown",
   "id": "604bafef",
   "metadata": {},
   "source": [
    "# Task 6 seperate the header and data first source"
   ]
  },
  {
   "cell_type": "code",
   "execution_count": 8,
   "id": "fbf3da3a",
   "metadata": {},
   "outputs": [
    {
     "name": "stdout",
     "output_type": "stream",
     "text": [
      "['Rank', 'Country', 'GDP(US$MM)']\n"
     ]
    }
   ],
   "source": [
    "#Split the header out\n",
    "\n",
    "#taking value straight from wikipedia thead\n",
    "#thead contains the header values\n",
    "header_source = gdp_table.find(\"thead\")\n",
    "\n",
    "headers = []\n",
    "for header in header_source:\n",
    "    #split infers a array setting its instance point to header\n",
    "    headers =  header.getText().strip().split(\"\\n\")\n",
    "print(headers)   \n",
    "    \n"
   ]
  },
  {
   "cell_type": "code",
   "execution_count": 11,
   "id": "eb51d688",
   "metadata": {},
   "outputs": [],
   "source": [
    "\n",
    "#Looking for the first row in the three data feilds\n",
    "#tobody contains tr\n",
    "#should bring in one value \n",
    "#value text contains all group values\n",
    "first_row = gdp_table.findAll('tbody')[0].findAll('tr')"
   ]
  },
  {
   "cell_type": "code",
   "execution_count": 50,
   "id": "5b302ad3",
   "metadata": {
    "pixiedust": {
     "displayParams": {}
    }
   },
   "outputs": [],
   "source": [
    "\n",
    "\n",
    "data_row_one = []\n",
    "\n",
    "# Taking values and getting text\n",
    "# 3 other values were found removed with similar words like rank and world\n",
    "for values in first_row:\n",
    "    if  (\"Rank\" not in values.get_text() and \"World\" not in values.get_text() and len(values.get_text()) < 60 ):\n",
    "        #Combo of group come with uncessary string characterstics and are removed and strip\n",
    "        data_container = values.get_text().strip().replace(\"\\n\",\"@\").replace(u'\\xa0', u' ').split(\"@\")\n",
    "        data_row_one.append((data_container))\n",
    "\n",
    "\n",
    "\n"
   ]
  },
  {
   "cell_type": "code",
   "execution_count": 44,
   "id": "bd59720e",
   "metadata": {},
   "outputs": [
    {
     "data": {
      "text/html": [
       "<div>\n",
       "<style scoped>\n",
       "    .dataframe tbody tr th:only-of-type {\n",
       "        vertical-align: middle;\n",
       "    }\n",
       "\n",
       "    .dataframe tbody tr th {\n",
       "        vertical-align: top;\n",
       "    }\n",
       "\n",
       "    .dataframe thead th {\n",
       "        text-align: right;\n",
       "    }\n",
       "</style>\n",
       "<table border=\"1\" class=\"dataframe\">\n",
       "  <thead>\n",
       "    <tr style=\"text-align: right;\">\n",
       "      <th></th>\n",
       "      <th>Rank</th>\n",
       "      <th>Country</th>\n",
       "      <th>GDP(US$MM)</th>\n",
       "    </tr>\n",
       "  </thead>\n",
       "  <tbody>\n",
       "    <tr>\n",
       "      <th>0</th>\n",
       "      <td>1</td>\n",
       "      <td>United States</td>\n",
       "      <td>19,390,600</td>\n",
       "    </tr>\n",
       "    <tr>\n",
       "      <th>1</th>\n",
       "      <td>2</td>\n",
       "      <td>China[n 1]</td>\n",
       "      <td>12,014,610</td>\n",
       "    </tr>\n",
       "    <tr>\n",
       "      <th>2</th>\n",
       "      <td>3</td>\n",
       "      <td>Japan</td>\n",
       "      <td>4,872,135</td>\n",
       "    </tr>\n",
       "    <tr>\n",
       "      <th>3</th>\n",
       "      <td>4</td>\n",
       "      <td>Germany</td>\n",
       "      <td>3,684,816</td>\n",
       "    </tr>\n",
       "    <tr>\n",
       "      <th>4</th>\n",
       "      <td>5</td>\n",
       "      <td>United Kingdom</td>\n",
       "      <td>2,624,529</td>\n",
       "    </tr>\n",
       "  </tbody>\n",
       "</table>\n",
       "</div>"
      ],
      "text/plain": [
       "  Rank          Country  GDP(US$MM)\n",
       "0    1    United States  19,390,600\n",
       "1    2       China[n 1]  12,014,610\n",
       "2    3            Japan   4,872,135\n",
       "3    4          Germany   3,684,816\n",
       "4    5   United Kingdom   2,624,529"
      ]
     },
     "execution_count": 44,
     "metadata": {},
     "output_type": "execute_result"
    }
   ],
   "source": [
    "#Result from header and data\n",
    "df1 = pd.DataFrame(data_row_one, columns=headers)\n",
    "df1.head()"
   ]
  },
  {
   "cell_type": "markdown",
   "id": "4b05338d",
   "metadata": {},
   "source": [
    "# Actvity 8: Handling Outliers and Missing Data"
   ]
  },
  {
   "cell_type": "code",
   "execution_count": 18,
   "id": "b2302526",
   "metadata": {},
   "outputs": [],
   "source": [
    "visit_data = pd.read_csv(\"visit_data.csv\")"
   ]
  },
  {
   "cell_type": "code",
   "execution_count": 19,
   "id": "6509173e",
   "metadata": {},
   "outputs": [
    {
     "data": {
      "text/html": [
       "<div>\n",
       "<style scoped>\n",
       "    .dataframe tbody tr th:only-of-type {\n",
       "        vertical-align: middle;\n",
       "    }\n",
       "\n",
       "    .dataframe tbody tr th {\n",
       "        vertical-align: top;\n",
       "    }\n",
       "\n",
       "    .dataframe thead th {\n",
       "        text-align: right;\n",
       "    }\n",
       "</style>\n",
       "<table border=\"1\" class=\"dataframe\">\n",
       "  <thead>\n",
       "    <tr style=\"text-align: right;\">\n",
       "      <th></th>\n",
       "      <th>id</th>\n",
       "      <th>first_name</th>\n",
       "      <th>last_name</th>\n",
       "      <th>email</th>\n",
       "      <th>gender</th>\n",
       "      <th>ip_address</th>\n",
       "      <th>visit</th>\n",
       "    </tr>\n",
       "  </thead>\n",
       "  <tbody>\n",
       "    <tr>\n",
       "      <th>0</th>\n",
       "      <td>1</td>\n",
       "      <td>Sonny</td>\n",
       "      <td>Dahl</td>\n",
       "      <td>sdahl0@mysql.com</td>\n",
       "      <td>Male</td>\n",
       "      <td>135.36.96.183</td>\n",
       "      <td>1225.0</td>\n",
       "    </tr>\n",
       "    <tr>\n",
       "      <th>1</th>\n",
       "      <td>2</td>\n",
       "      <td>NaN</td>\n",
       "      <td>NaN</td>\n",
       "      <td>dhoovart1@hud.gov</td>\n",
       "      <td>NaN</td>\n",
       "      <td>237.165.194.143</td>\n",
       "      <td>919.0</td>\n",
       "    </tr>\n",
       "    <tr>\n",
       "      <th>2</th>\n",
       "      <td>3</td>\n",
       "      <td>Gar</td>\n",
       "      <td>Armal</td>\n",
       "      <td>garmal2@technorati.com</td>\n",
       "      <td>NaN</td>\n",
       "      <td>166.43.137.224</td>\n",
       "      <td>271.0</td>\n",
       "    </tr>\n",
       "    <tr>\n",
       "      <th>3</th>\n",
       "      <td>4</td>\n",
       "      <td>Chiarra</td>\n",
       "      <td>Nulty</td>\n",
       "      <td>cnulty3@newyorker.com</td>\n",
       "      <td>NaN</td>\n",
       "      <td>139.98.137.108</td>\n",
       "      <td>1002.0</td>\n",
       "    </tr>\n",
       "    <tr>\n",
       "      <th>4</th>\n",
       "      <td>5</td>\n",
       "      <td>NaN</td>\n",
       "      <td>NaN</td>\n",
       "      <td>sleaver4@elegantthemes.com</td>\n",
       "      <td>NaN</td>\n",
       "      <td>46.117.117.27</td>\n",
       "      <td>2434.0</td>\n",
       "    </tr>\n",
       "  </tbody>\n",
       "</table>\n",
       "</div>"
      ],
      "text/plain": [
       "   id first_name last_name                       email gender  \\\n",
       "0   1      Sonny      Dahl            sdahl0@mysql.com   Male   \n",
       "1   2        NaN       NaN           dhoovart1@hud.gov    NaN   \n",
       "2   3        Gar     Armal      garmal2@technorati.com    NaN   \n",
       "3   4    Chiarra     Nulty       cnulty3@newyorker.com    NaN   \n",
       "4   5        NaN       NaN  sleaver4@elegantthemes.com    NaN   \n",
       "\n",
       "        ip_address   visit  \n",
       "0    135.36.96.183  1225.0  \n",
       "1  237.165.194.143   919.0  \n",
       "2   166.43.137.224   271.0  \n",
       "3   139.98.137.108  1002.0  \n",
       "4    46.117.117.27  2434.0  "
      ]
     },
     "execution_count": 19,
     "metadata": {},
     "output_type": "execute_result"
    }
   ],
   "source": [
    "visit_data.head()"
   ]
  },
  {
   "cell_type": "markdown",
   "id": "ff56b3f9",
   "metadata": {},
   "source": [
    "# Task -1 Are there duplicates "
   ]
  },
  {
   "cell_type": "code",
   "execution_count": 20,
   "id": "16c9fcc0",
   "metadata": {},
   "outputs": [
    {
     "name": "stdout",
     "output_type": "stream",
     "text": [
      "Duplicates in data set\n",
      "id  number of duplicates  0\n",
      "first_name  number of duplicates  320\n",
      "last_name  number of duplicates  299\n",
      "email  number of duplicates  0\n",
      "gender  number of duplicates  997\n",
      "ip_address  number of duplicates  0\n",
      "visit  number of duplicates  164\n"
     ]
    }
   ],
   "source": [
    "# Checking for number of duplcaites seems like first name and last name has duplicates\n",
    "#iterating by column names\n",
    "#access value in data frame by column\n",
    "# checking each value contains a duplicate by sum\n",
    "\n",
    "print(\"Duplicates in data set\")\n",
    "for column in list(visit_data.columns.values):\n",
    "    print(column, \" number of duplicates \", visit_data[column].duplicated().sum())\n",
    "        \n",
    "    \n",
    "\n"
   ]
  },
  {
   "cell_type": "markdown",
   "id": "627d2c33",
   "metadata": {},
   "source": [
    "# Task 2 - Do essentail columns contain NAN"
   ]
  },
  {
   "cell_type": "code",
   "execution_count": 45,
   "id": "541a4f0b",
   "metadata": {
    "scrolled": true
   },
   "outputs": [
    {
     "name": "stdout",
     "output_type": "stream",
     "text": [
      "NANs in data set\n",
      "id : 0\n",
      "first_name : 296\n",
      "last_name : 296\n",
      "email : 0\n",
      "gender : 505\n",
      "ip_address : 0\n",
      "visit : 26\n"
     ]
    }
   ],
   "source": [
    "#3\n",
    "#iterating by column names\n",
    "#access value in data frame by column\n",
    "\n",
    "\n",
    "print(\"NANs in data set\")\n",
    "for column in list(visit_data.columns.values):\n",
    "    print(column, \":\", visit_data[column].isnull().sum())\n",
    "\n",
    "        \n",
    "        \n",
    "# checking each value by null value\n",
    "  \n",
    "    \n",
    "\n"
   ]
  },
  {
   "cell_type": "markdown",
   "id": "a1f00174",
   "metadata": {},
   "source": [
    "# Getting rid of outliers"
   ]
  },
  {
   "cell_type": "code",
   "execution_count": 22,
   "id": "e889f498",
   "metadata": {},
   "outputs": [
    {
     "data": {
      "text/plain": [
       "count     974.000000\n",
       "mean     1497.976386\n",
       "std       838.959460\n",
       "min         1.000000\n",
       "25%       794.500000\n",
       "50%      1477.000000\n",
       "75%      2224.250000\n",
       "max      2998.000000\n",
       "Name: visit, dtype: float64"
      ]
     },
     "execution_count": 22,
     "metadata": {},
     "output_type": "execute_result"
    }
   ],
   "source": [
    "# Removing outliets\n",
    "#checking the basic information that can give me the perentage below or above the mean\n",
    "visit_data['visit'].describe()"
   ]
  },
  {
   "cell_type": "code",
   "execution_count": 48,
   "id": "12c0d025",
   "metadata": {},
   "outputs": [
    {
     "name": "stdout",
     "output_type": "stream",
     "text": [
      "Below 358.3 and Above 2658.0\n"
     ]
    }
   ],
   "source": [
    "from scipy.stats import iqr\n",
    "import numpy as np\n",
    "\n",
    "#getting the quantile for first q1 and q3 then staying at the margins considered an outlier\n",
    "#The quantile can be adjusted to what I believe is an outlier. \n",
    "#currently I set it to .10 and .90\n",
    "\n",
    "#drop all null values before \n",
    "Above_Q1 = np.quantile(visit_data['visit'].dropna(),0.10)\n",
    "Below_Q3 = np.quantile(visit_data['visit'].dropna(),0.90)\n",
    "\n",
    "#values that were calculated to be in the outliers category\n",
    "print(\"Below {0} and Above {1}\".format(Above_Q1, Below_Q3))\n",
    "visit_data_reduced_outliers =  visit_data[(visit_data['visit'] >= Above_Q1) & (visit_data['visit'] <= Below_Q3)].copy()\n",
    "\n",
    "\n",
    "\n",
    "\n",
    "\n",
    "\n"
   ]
  },
  {
   "cell_type": "markdown",
   "id": "8eddf703",
   "metadata": {},
   "source": [
    "# Task 4 Report size difference"
   ]
  },
  {
   "cell_type": "code",
   "execution_count": 26,
   "id": "c95a843e",
   "metadata": {},
   "outputs": [
    {
     "name": "stdout",
     "output_type": "stream",
     "text": [
      " Before (1000, 7) After (779, 7)\n"
     ]
    }
   ],
   "source": [
    "print(' Before {0} After {1}'.format(visit_data.shape, visit_data_reduced_outliers.shape))"
   ]
  },
  {
   "cell_type": "markdown",
   "id": "9ae5ab3d",
   "metadata": {},
   "source": [
    "# Task Plot box plot to find more outliers "
   ]
  },
  {
   "cell_type": "code",
   "execution_count": 29,
   "id": "1ad750dd",
   "metadata": {
    "scrolled": true
   },
   "outputs": [
    {
     "data": {
      "image/png": "[encoded data removed]",
      "text/plain": [
       "<Figure size 432x288 with 1 Axes>"
      ]
     },
     "metadata": {
      "needs_background": "light"
     },
     "output_type": "display_data"
    }
   ],
   "source": [
    "#identifyiny outliers \n",
    "#first data frame with outliers showing a high 3000 and a low of zero\n",
    "\n",
    "boxplot = visit_data.boxplot(column=['visit'])\n",
    "boxplot.plot()\n",
    "\n",
    "plt.show()\n",
    "\n"
   ]
  },
  {
   "cell_type": "code",
   "execution_count": 30,
   "id": "3bc4d224",
   "metadata": {},
   "outputs": [
    {
     "data": {
      "image/png": "[encoded data removed]",
      "text/plain": [
       "<Figure size 432x288 with 1 Axes>"
      ]
     },
     "metadata": {
      "needs_background": "light"
     },
     "output_type": "display_data"
    }
   ],
   "source": [
    "#Outliers reduced without\n",
    "boxplot = visit_data_reduced_outliers.boxplot(column=['visit'])\n",
    "boxplot.plot()\n",
    "\n",
    "plt.show()\n"
   ]
  },
  {
   "cell_type": "code",
   "execution_count": 31,
   "id": "292ee2a0",
   "metadata": {
    "scrolled": true
   },
   "outputs": [
    {
     "data": {
      "text/plain": [
       "<AxesSubplot:>"
      ]
     },
     "execution_count": 31,
     "metadata": {},
     "output_type": "execute_result"
    },
    {
     "data": {
      "image/png": "[encoded data removed]",
      "text/plain": [
       "<Figure size 432x288 with 1 Axes>"
      ]
     },
     "metadata": {
      "needs_background": "light"
     },
     "output_type": "display_data"
    }
   ],
   "source": [
    "#seeing if there are other abnormailties that could skew the data\n",
    "visit_data_reduced_outliers.visit.hist()"
   ]
  },
  {
   "cell_type": "code",
   "execution_count": 37,
   "id": "0e8e1d9f",
   "metadata": {},
   "outputs": [],
   "source": [
    "#Reapply similar logic to remove outliers \n",
    "\n",
    "#resetting outliers calculations \n",
    "visit_data_reduced_outliers_2 = visit_data_reduced_outliers[(visit_data_reduced_outliers['visit'] >= 500) & (visit_data_reduced_outliers['visit'] <= 2500)].copy()\n",
    "\n",
    "\n",
    "\n",
    "\n",
    "                     "
   ]
  },
  {
   "cell_type": "code",
   "execution_count": 49,
   "id": "07a3a130",
   "metadata": {},
   "outputs": [
    {
     "data": {
      "image/png": "[encoded data removed]",
      "text/plain": [
       "<Figure size 432x288 with 1 Axes>"
      ]
     },
     "metadata": {
      "needs_background": "light"
     },
     "output_type": "display_data"
    }
   ],
   "source": [
    "#Outliers reduced to 2500 and 500 \n",
    "\n",
    "\n",
    "boxplot = visit_data_reduced_outliers_2.boxplot(column=['visit'])\n",
    "boxplot.plot()\n",
    "\n",
    "plt.show()\n",
    "\n",
    "\n",
    "\n"
   ]
  },
  {
   "cell_type": "code",
   "execution_count": 41,
   "id": "07915eef",
   "metadata": {},
   "outputs": [
    {
     "name": "stdout",
     "output_type": "stream",
     "text": [
      " Before (1000, 7) After (686, 7)\n"
     ]
    }
   ],
   "source": [
    "print(' Before {0} After {1}'.format(visit_data.shape, visit_data_reduced_outliers_2.shape))"
   ]
  },
  {
   "cell_type": "markdown",
   "id": "48ce76d3",
   "metadata": {},
   "source": [
    "# Working with SQL LITE"
   ]
  },
  {
   "cell_type": "code",
   "execution_count": 229,
   "id": "5863f9a4",
   "metadata": {},
   "outputs": [],
   "source": [
    "import sqlite3\n",
    "import sqlalchemy as sqla"
   ]
  },
  {
   "cell_type": "code",
   "execution_count": 197,
   "id": "838766aa",
   "metadata": {},
   "outputs": [],
   "source": [
    "#All values a string object\n",
    "#Name, Address, City, State, Zip, Phone Number\n",
    "query = \"\"\"Create Table students_datascience(name VARCHAR, \n",
    "                                 address VARCHAR,\n",
    "                                 city VARCHAR,\n",
    "                                 state VARCHAR(2),\n",
    "                                 zip VARCHAR(5),\n",
    "                                 phone_number VARCHAR(10));\"\"\""
   ]
  },
  {
   "cell_type": "code",
   "execution_count": 198,
   "id": "22989a7f",
   "metadata": {},
   "outputs": [],
   "source": [
    "#connceting to sqlite \n",
    "con = sqlite3.connect(\"mydata.sqlite\")"
   ]
  },
  {
   "cell_type": "code",
   "execution_count": 199,
   "id": "cf2a0a09",
   "metadata": {},
   "outputs": [
    {
     "data": {
      "text/plain": [
       "<sqlite3.Cursor at 0x1e5209f4030>"
      ]
     },
     "execution_count": 199,
     "metadata": {},
     "output_type": "execute_result"
    }
   ],
   "source": [
    "#creating object of sqlite \n",
    "con.execute(query)"
   ]
  },
  {
   "cell_type": "code",
   "execution_count": 200,
   "id": "cc4221dc",
   "metadata": {},
   "outputs": [],
   "source": [
    "con.commit()"
   ]
  },
  {
   "cell_type": "code",
   "execution_count": 223,
   "id": "920399b9",
   "metadata": {},
   "outputs": [],
   "source": [
    "#Aking 10 value swith similar char\n",
    "#Name, Address, City, State, Zip, Phone Number\n",
    "student_data = [(\"Felipe Castillo\" , '9000 e S',\"Oklahoma City\" , 'OK', '76000',\"8009850980\"),\n",
    "                (\"Bob Marly\",'3245  N st',\"Dallas\",'TX','87032',\"8005691188\"),\n",
    "                (\"Brittney Spears\",'5000 e Hillcreast',\"Los Angles\" ,'CL', '90011',\"8007750381\"),\n",
    "                (\"Heith Ledger\",'2134 w Osage',\"Los Angles\" ,'CL', '90011',\"5807910980\"),\n",
    "                (\"Donald Trump\",'5678 Trumpe Tower', \"New York City\", 'NY', '10001',\"8183209800\"),\n",
    "                (\"Hillary Cliton\",'7818 N Cliton ave',\"Washigton\",'DC', '20001',\"7170850980\"),\n",
    "                (\"Clark Kent\",'1234 Farm st', \"Smallville\",'KS', '64030',\"8889851981\"),\n",
    "                (\"Tony Stark\",'54302 mansion lane',\"New York City\" ,'NY', '10001',\"8883650080\"),\n",
    "                (\"Gwen Stacy\",'3215 e ken st',\"San Fransico\",'CL','90011',\"9998850970\"),\n",
    "                (\"Peter Parker\",'9000 Queens Street',\"New York City\" ,'NY', '10001',\"3407850480\")]"
   ]
  },
  {
   "cell_type": "code",
   "execution_count": 224,
   "id": "d4a207c9",
   "metadata": {},
   "outputs": [],
   "source": [
    "# creating a query to insert values\n",
    "stmt = \"INSERT INTO students_datascience VALUES(?,?,?,?,?,?)\""
   ]
  },
  {
   "cell_type": "code",
   "execution_count": 215,
   "id": "bbe165d7",
   "metadata": {},
   "outputs": [
    {
     "data": {
      "text/plain": [
       "<sqlite3.Cursor at 0x1e520ef82d0>"
      ]
     },
     "execution_count": 215,
     "metadata": {},
     "output_type": "execute_result"
    }
   ],
   "source": [
    "#inserting are and apply the insert comand sql\n",
    "con.executemany(stmt,student_data)"
   ]
  },
  {
   "cell_type": "code",
   "execution_count": 216,
   "id": "00c48ed8",
   "metadata": {},
   "outputs": [],
   "source": [
    "cursor = con.execute('select * from students_datascience')"
   ]
  },
  {
   "cell_type": "code",
   "execution_count": 217,
   "id": "6bae9660",
   "metadata": {},
   "outputs": [],
   "source": [
    "rows = cursor.fetchall()"
   ]
  },
  {
   "cell_type": "code",
   "execution_count": 218,
   "id": "7ac2ba59",
   "metadata": {},
   "outputs": [
    {
     "data": {
      "text/plain": [
       "[('Felipe Castillo', '9000 e S', 'Oklahoma City', 'OK', '76000', '8009850980'),\n",
       " ('Bob Marly', '3245  N st', 'Dallas', 'TX', '87032', '8005691188'),\n",
       " ('Brittney Spears',\n",
       "  '5000 e Hillcreast',\n",
       "  'Los Angles',\n",
       "  'CL',\n",
       "  '90011',\n",
       "  '8007750381'),\n",
       " ('Heith Ledger', '2134 w Osage', 'Los Angles', 'CL', '90011', '5807910980'),\n",
       " ('Donald Trump',\n",
       "  '5678 Trumpe Tower',\n",
       "  'New York City',\n",
       "  'NY',\n",
       "  '10001',\n",
       "  '8183209800'),\n",
       " ('Hillary Cliton',\n",
       "  '7818 N Cliton ave',\n",
       "  'Washigton',\n",
       "  'DC',\n",
       "  '20001',\n",
       "  '7170850980'),\n",
       " ('Clark Kent', '1234 Farm st', 'Smallville', 'KS', '64030', '8889851981'),\n",
       " ('Tony Stark',\n",
       "  '54302 mansion lane',\n",
       "  'New York City',\n",
       "  'NY',\n",
       "  '10001',\n",
       "  '8883650080'),\n",
       " ('Gwen Stacy', '3215 e ken st', 'San Fransico', 'CL', '90011', '9998850970'),\n",
       " ('Peter Parker',\n",
       "  '9000 Queens Street',\n",
       "  'New York City',\n",
       "  'NY',\n",
       "  '10001',\n",
       "  '3407850480'),\n",
       " ('Felipe Castillo', '9000 e S', 'Oklahoma City', 'OK', '76000', '8009850980'),\n",
       " ('Bob Marly', '3245  N st', 'Dallas', 'TX', '87032', '8005691188'),\n",
       " ('Brittney Spears',\n",
       "  '5000 e Hillcreast',\n",
       "  'Los Angles',\n",
       "  'CL',\n",
       "  '90011',\n",
       "  '8007750381'),\n",
       " ('Heith Ledger', '2134 w Osage', 'Los Angles', 'CL', '90011', '5807910980'),\n",
       " ('Donald Trump',\n",
       "  '5678 Trumpe Tower',\n",
       "  'New York City',\n",
       "  'NY',\n",
       "  '10001',\n",
       "  '8183209800'),\n",
       " ('Hillary Cliton',\n",
       "  '7818 N Cliton ave',\n",
       "  'Washigton',\n",
       "  'DC',\n",
       "  '20001',\n",
       "  '7170850980'),\n",
       " ('Clark Kent', '1234 Farm st', 'Smallville', 'KS', '64030', '8889851981'),\n",
       " ('Tony Stark',\n",
       "  '54302 mansion lane',\n",
       "  'New York City',\n",
       "  'NY',\n",
       "  '10001',\n",
       "  '8883650080'),\n",
       " ('Gwen Stacy', '3215 e ken st', 'San Fransico', 'CL', '90011', '9998850970'),\n",
       " ('Peter Parker',\n",
       "  '9000 Queens Street',\n",
       "  'New York City',\n",
       "  'NY',\n",
       "  '10001',\n",
       "  '3407850480')]"
      ]
     },
     "execution_count": 218,
     "metadata": {},
     "output_type": "execute_result"
    }
   ],
   "source": [
    "#ALl values inserted in sql table \n",
    "rows"
   ]
  }
 ],
 "metadata": {
  "kernelspec": {
   "display_name": "Python 3",
   "language": "python",
   "name": "python3"
  },
  "language_info": {
   "codemirror_mode": {
    "name": "ipython",
    "version": 3
   },
   "file_extension": ".py",
   "mimetype": "text/x-python",
   "name": "python",
   "nbconvert_exporter": "python",
   "pygments_lexer": "ipython3",
   "version": "3.8.8"
  }
 },
 "nbformat": 4,
 "nbformat_minor": 5
}
