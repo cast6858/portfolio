{
 "cells": [
  {
   "cell_type": "markdown",
   "id": "d68d334b",
   "metadata": {},
   "source": [
    "# Felipe Castillo\n",
    "# Data Preparation\n",
    "# Milestone 2\n",
    "# 1/18/2022"
   ]
  },
  {
   "cell_type": "code",
   "execution_count": 37,
   "id": "c9803bec",
   "metadata": {},
   "outputs": [],
   "source": [
    "import requests\n",
    "import wikipedia as wp\n",
    "import pandas as pd\n",
    "from bs4 import BeautifulSoup\n",
    "import matplotlib.pylab as plt\n",
    "from urllib.request import urlopen\n",
    "from scipy.stats import iqr\n",
    "import numpy as np\n",
    "import json\n",
    "import os\n",
    "import time\n",
    "import re\n",
    "\n",
    "\n",
    "\n",
    "os.chdir(\"C:\\DataScience_DSC_540\\MilestoneFolder\")\n",
    "\n"
   ]
  },
  {
   "cell_type": "markdown",
   "id": "06df278b",
   "metadata": {},
   "source": [
    "# Setting class for api to have instance of a particul year"
   ]
  },
  {
   "cell_type": "markdown",
   "id": "06e51412",
   "metadata": {},
   "source": [
    "Step 1: First I have to create a class to instantiate on a per year bases on the API. This will allow me to have more control on what type of information I want to pull back. Currently I only have campaign information I am after."
   ]
  },
  {
   "cell_type": "code",
   "execution_count": 38,
   "id": "29dfa21a",
   "metadata": {},
   "outputs": [],
   "source": [
    "#https://www.propublica.org/datastore/api/propublica-congress-api\n",
    "\n",
    "\n",
    "#At the moment only campagin finances are included can change\n",
    "class CongressInformation:\n",
    "    def __init__(self, year):\n",
    "        self.year = year\n",
    "        api_key = 'm7hiVghot77xDEUAUd3RIoW4FlLGgrSNBSAxgvlJ'\n",
    "        self.headers = {'X-API-Key': api_key}\n",
    "\n",
    "    def Propublica_Url(self):\n",
    "        return \"https://api.propublica.org/campaign-finance/v1/\"+str(self.year)+\"/candidates/leaders/pac-total.json\"\n",
    "\n",
    "\n",
    "    def JsonData(self, url):\n",
    "        return requests.get(url=url, headers= self.headers).json()"
   ]
  },
  {
   "cell_type": "markdown",
   "id": "934c5ad5",
   "metadata": {},
   "source": [
    "Step 2: I have to capture that data inside a function. This function will take a year and return a json object. The function also connects to the congress class."
   ]
  },
  {
   "cell_type": "code",
   "execution_count": 39,
   "id": "dcacad12",
   "metadata": {},
   "outputs": [],
   "source": [
    "#connceting to class \n",
    "#instance is for year\n",
    "def connect_finical_records_congress(year):\n",
    "    try:\n",
    "        congress_api = CongressInformation(year)\n",
    "        time.sleep(1)# slowing down by one second allowing for first connect\n",
    "        propublica_url = congress_api.Propublica_Url()\n",
    "        json_object = congress_api.JsonData(propublica_url) \n",
    "        return json_object\n",
    "    except:\n",
    "        print(\"Could not connect to api.\")\n",
    "\n",
    "\n"
   ]
  },
  {
   "cell_type": "markdown",
   "id": "f41b1153",
   "metadata": {},
   "source": [
    "The json object is returned. However, its unreadable and needs to be reformatted. What is shown is the instance of 2016 congress records."
   ]
  },
  {
   "cell_type": "code",
   "execution_count": 190,
   "id": "b175a034",
   "metadata": {},
   "outputs": [],
   "source": [
    "#returns a json object in a unreadable format\n",
    "# needing main data like name, and party contributions\n",
    "#setting a function to connect to the instance of a year\n",
    "# more years can be look up an merged\n",
    "\n",
    "#print(connect_finical_records_congress(2016))"
   ]
  },
  {
   "cell_type": "markdown",
   "id": "23d65204",
   "metadata": {},
   "source": [
    "# Formatting json object with function json mapper function"
   ]
  },
  {
   "cell_type": "markdown",
   "id": "d55a1c2b",
   "metadata": {},
   "source": [
    "Step 3:The json object is nested and very hard to read. Plus there is alot of information in the data which is not needed. Once I extract the needed it will be in a array of congress records."
   ]
  },
  {
   "cell_type": "code",
   "execution_count": 40,
   "id": "4b07c448",
   "metadata": {},
   "outputs": [],
   "source": [
    "#Taking the json object and formatting it by the values\n",
    "# Object come in by year \n",
    "# Data in a nested JSON reponse taking, main information by results\n",
    "# Returning an array containing information needed\n",
    "#Will take yearly data and insert it in the array congress is accessiable to other functions \n",
    "\n",
    "congress_data_array = []\n",
    "def json_mapper(json_payload):\n",
    "    \n",
    "  \n",
    "    date = json_payload['cycle']\n",
    "    for results in json_payload['results']:\n",
    "        name = results['name']\n",
    "        #----------Step 4: State come in as /races/CO.json, which is incorrect and should be CO, for state.\n",
    "        state = results['state']\n",
    "        #data converstaion needs to be replaced only state intail required\n",
    "        #/races/CO.json\n",
    "        #need to by CO\n",
    "        #checking if null\n",
    "        if state is not None:\n",
    "            temp_value = state.split(\"/\")[-1].split('.')[0]\n",
    "            state = temp_value  \n",
    "        total_pac = results['total_from_pacs']\n",
    "        total_ind = results['total_from_individuals']\n",
    "        total_con = results['total_contributions']\n",
    "        begin_cash = results['begin_cash']\n",
    "        end_cash = results['end_cash']\n",
    "        total_refunds = results['total_refunds']\n",
    "        debts_owed = results['debts_owed']\n",
    "        congress_data_array.append((name,\n",
    "                                   state, \n",
    "                                   total_pac,\n",
    "                                   total_ind, \n",
    "                                   total_con,\n",
    "                                   begin_cash,\n",
    "                                   end_cash, \n",
    "                                   total_refunds,\n",
    "                                   debts_owed,\n",
    "                                   date))\n",
    "   \n",
    "        \n",
    "    \n",
    "    "
   ]
  },
  {
   "cell_type": "markdown",
   "id": "a751431f",
   "metadata": {},
   "source": [
    "# Adding a readable header for all values"
   ]
  },
  {
   "cell_type": "markdown",
   "id": "2e2bf89a",
   "metadata": {},
   "source": [
    "Step 5: Adding a header to the new data set. Currently the data set is only and array. This array will be built to map out the congress array data set that is stored from the api calls."
   ]
  },
  {
   "cell_type": "code",
   "execution_count": 41,
   "id": "33277a13",
   "metadata": {},
   "outputs": [],
   "source": [
    "#making the headers for returned values \n",
    "\n",
    "header_api_congress = ['candidate_name',\n",
    "                       'state',\n",
    "                       'total_pac_money',\n",
    "                       'total_individual', \n",
    "                       'total_contributions',\n",
    "                       'begin_cash',\n",
    "                       'end_cash', \n",
    "                       'total_refunds',\n",
    "                       'debts_owed',\n",
    "                       'date']"
   ]
  },
  {
   "cell_type": "code",
   "execution_count": 42,
   "id": "6307d841",
   "metadata": {},
   "outputs": [],
   "source": [
    "#connecting all known years to work in api\n",
    "congress_years = ['2014','2012', '2006','2004','1998','1996','2018','2020']\n",
    "\n",
    "\n",
    "#Taking in all years\n",
    "for year in congress_years:\n",
    "    #building congress class by year\n",
    "    temp_year = connect_finical_records_congress(year)\n",
    "    #mapping it with the function\n",
    "    json_mapper(temp_year)\n",
    "    \n",
    "\n",
    "\n",
    "\n",
    "\n",
    "\n"
   ]
  },
  {
   "cell_type": "markdown",
   "id": "265801cb",
   "metadata": {},
   "source": [
    "# Convert to more readable panda data frame\n"
   ]
  },
  {
   "cell_type": "markdown",
   "id": "780371c8",
   "metadata": {},
   "source": [
    "Step 6: As you can see the data is more readable now. However, it will be better saved in a data frame. Header and congress array both hold data. Now they just is need to be passed  into a table. "
   ]
  },
  {
   "cell_type": "code",
   "execution_count": 43,
   "id": "fced6fca",
   "metadata": {},
   "outputs": [
    {
     "data": {
      "text/html": [
       "<div>\n",
       "<style scoped>\n",
       "    .dataframe tbody tr th:only-of-type {\n",
       "        vertical-align: middle;\n",
       "    }\n",
       "\n",
       "    .dataframe tbody tr th {\n",
       "        vertical-align: top;\n",
       "    }\n",
       "\n",
       "    .dataframe thead th {\n",
       "        text-align: right;\n",
       "    }\n",
       "</style>\n",
       "<table border=\"1\" class=\"dataframe\">\n",
       "  <thead>\n",
       "    <tr style=\"text-align: right;\">\n",
       "      <th></th>\n",
       "      <th>candidate_name</th>\n",
       "      <th>state</th>\n",
       "      <th>total_pac_money</th>\n",
       "      <th>total_individual</th>\n",
       "      <th>total_contributions</th>\n",
       "      <th>begin_cash</th>\n",
       "      <th>end_cash</th>\n",
       "      <th>total_refunds</th>\n",
       "      <th>debts_owed</th>\n",
       "      <th>date</th>\n",
       "    </tr>\n",
       "  </thead>\n",
       "  <tbody>\n",
       "    <tr>\n",
       "      <th>0</th>\n",
       "      <td>MCCONNELL, MITCH</td>\n",
       "      <td>KY</td>\n",
       "      <td>3806660.00</td>\n",
       "      <td>12150309.00</td>\n",
       "      <td>17508470.00</td>\n",
       "      <td>7383877.0</td>\n",
       "      <td>252704.00</td>\n",
       "      <td>264879.0</td>\n",
       "      <td>336468.0</td>\n",
       "      <td>2014</td>\n",
       "    </tr>\n",
       "    <tr>\n",
       "      <th>1</th>\n",
       "      <td>LANDRIEU, MARY L</td>\n",
       "      <td>LA</td>\n",
       "      <td>3372829.00</td>\n",
       "      <td>10236297.00</td>\n",
       "      <td>13659528.00</td>\n",
       "      <td>2534428.0</td>\n",
       "      <td>782616.00</td>\n",
       "      <td>83556.0</td>\n",
       "      <td>NaN</td>\n",
       "      <td>2014</td>\n",
       "    </tr>\n",
       "    <tr>\n",
       "      <th>2</th>\n",
       "      <td>CORNYN, JOHN</td>\n",
       "      <td>TX</td>\n",
       "      <td>3348163.00</td>\n",
       "      <td>7907629.00</td>\n",
       "      <td>11255822.00</td>\n",
       "      <td>2671655.0</td>\n",
       "      <td>2954684.00</td>\n",
       "      <td>128722.0</td>\n",
       "      <td>NaN</td>\n",
       "      <td>2014</td>\n",
       "    </tr>\n",
       "    <tr>\n",
       "      <th>3</th>\n",
       "      <td>PRYOR, MARK LUNSFORD</td>\n",
       "      <td>AR</td>\n",
       "      <td>3293383.00</td>\n",
       "      <td>8000604.00</td>\n",
       "      <td>11339394.00</td>\n",
       "      <td>1734136.0</td>\n",
       "      <td>239255.00</td>\n",
       "      <td>78005.0</td>\n",
       "      <td>NaN</td>\n",
       "      <td>2014</td>\n",
       "    </tr>\n",
       "    <tr>\n",
       "      <th>4</th>\n",
       "      <td>ROBERTS, PAT</td>\n",
       "      <td>KS</td>\n",
       "      <td>3085837.00</td>\n",
       "      <td>3367728.00</td>\n",
       "      <td>6463693.00</td>\n",
       "      <td>886894.0</td>\n",
       "      <td>81281.00</td>\n",
       "      <td>24850.0</td>\n",
       "      <td>240408.0</td>\n",
       "      <td>2014</td>\n",
       "    </tr>\n",
       "    <tr>\n",
       "      <th>5</th>\n",
       "      <td>COCHRAN, THAD</td>\n",
       "      <td>MS</td>\n",
       "      <td>3080820.00</td>\n",
       "      <td>3537276.00</td>\n",
       "      <td>6618097.00</td>\n",
       "      <td>480184.0</td>\n",
       "      <td>54954.00</td>\n",
       "      <td>7103.0</td>\n",
       "      <td>487200.0</td>\n",
       "      <td>2014</td>\n",
       "    </tr>\n",
       "    <tr>\n",
       "      <th>6</th>\n",
       "      <td>HAGAN, KAY R</td>\n",
       "      <td>NC</td>\n",
       "      <td>2900412.00</td>\n",
       "      <td>16993199.00</td>\n",
       "      <td>19939016.00</td>\n",
       "      <td>1365627.0</td>\n",
       "      <td>188511.00</td>\n",
       "      <td>164792.0</td>\n",
       "      <td>NaN</td>\n",
       "      <td>2014</td>\n",
       "    </tr>\n",
       "    <tr>\n",
       "      <th>7</th>\n",
       "      <td>MCCARTHY, KEVIN</td>\n",
       "      <td>CA</td>\n",
       "      <td>2848162.32</td>\n",
       "      <td>1521226.55</td>\n",
       "      <td>4369388.87</td>\n",
       "      <td>1824221.6</td>\n",
       "      <td>1988259.09</td>\n",
       "      <td>68300.0</td>\n",
       "      <td>10000.0</td>\n",
       "      <td>2014</td>\n",
       "    </tr>\n",
       "    <tr>\n",
       "      <th>8</th>\n",
       "      <td>UDALL, MARK E</td>\n",
       "      <td>CO</td>\n",
       "      <td>2842094.00</td>\n",
       "      <td>13414189.00</td>\n",
       "      <td>16264228.00</td>\n",
       "      <td>1358707.0</td>\n",
       "      <td>336554.00</td>\n",
       "      <td>254365.0</td>\n",
       "      <td>NaN</td>\n",
       "      <td>2014</td>\n",
       "    </tr>\n",
       "    <tr>\n",
       "      <th>9</th>\n",
       "      <td>WARNER, MARK ROBERT</td>\n",
       "      <td>VA</td>\n",
       "      <td>2811309.00</td>\n",
       "      <td>9556425.00</td>\n",
       "      <td>12431010.00</td>\n",
       "      <td>3704309.0</td>\n",
       "      <td>312737.00</td>\n",
       "      <td>93912.0</td>\n",
       "      <td>NaN</td>\n",
       "      <td>2014</td>\n",
       "    </tr>\n",
       "  </tbody>\n",
       "</table>\n",
       "</div>"
      ],
      "text/plain": [
       "         candidate_name state  total_pac_money  total_individual  \\\n",
       "0      MCCONNELL, MITCH    KY       3806660.00       12150309.00   \n",
       "1      LANDRIEU, MARY L    LA       3372829.00       10236297.00   \n",
       "2          CORNYN, JOHN    TX       3348163.00        7907629.00   \n",
       "3  PRYOR, MARK LUNSFORD    AR       3293383.00        8000604.00   \n",
       "4          ROBERTS, PAT    KS       3085837.00        3367728.00   \n",
       "5         COCHRAN, THAD    MS       3080820.00        3537276.00   \n",
       "6          HAGAN, KAY R    NC       2900412.00       16993199.00   \n",
       "7       MCCARTHY, KEVIN    CA       2848162.32        1521226.55   \n",
       "8         UDALL, MARK E    CO       2842094.00       13414189.00   \n",
       "9   WARNER, MARK ROBERT    VA       2811309.00        9556425.00   \n",
       "\n",
       "   total_contributions  begin_cash    end_cash  total_refunds  debts_owed  \\\n",
       "0          17508470.00   7383877.0   252704.00       264879.0    336468.0   \n",
       "1          13659528.00   2534428.0   782616.00        83556.0         NaN   \n",
       "2          11255822.00   2671655.0  2954684.00       128722.0         NaN   \n",
       "3          11339394.00   1734136.0   239255.00        78005.0         NaN   \n",
       "4           6463693.00    886894.0    81281.00        24850.0    240408.0   \n",
       "5           6618097.00    480184.0    54954.00         7103.0    487200.0   \n",
       "6          19939016.00   1365627.0   188511.00       164792.0         NaN   \n",
       "7           4369388.87   1824221.6  1988259.09        68300.0     10000.0   \n",
       "8          16264228.00   1358707.0   336554.00       254365.0         NaN   \n",
       "9          12431010.00   3704309.0   312737.00        93912.0         NaN   \n",
       "\n",
       "   date  \n",
       "0  2014  \n",
       "1  2014  \n",
       "2  2014  \n",
       "3  2014  \n",
       "4  2014  \n",
       "5  2014  \n",
       "6  2014  \n",
       "7  2014  \n",
       "8  2014  \n",
       "9  2014  "
      ]
     },
     "execution_count": 43,
     "metadata": {},
     "output_type": "execute_result"
    }
   ],
   "source": [
    "#Has all testable years for campaign information\n",
    "df_congress_api = pd.DataFrame(congress_data_array, columns=header_api_congress)\n",
    "df_congress_api.head(10)\n",
    "\n",
    "#Api information is now in a readable format"
   ]
  },
  {
   "cell_type": "markdown",
   "id": "e9c72953",
   "metadata": {},
   "source": [
    "# Felipe Castillo\n",
    "# Data Preparation\n",
    "# Milestone 3\n",
    "# 1/28/2022"
   ]
  },
  {
   "cell_type": "markdown",
   "id": "582e8dbd",
   "metadata": {},
   "source": [
    "# Populating last file source CSV "
   ]
  },
  {
   "cell_type": "code",
   "execution_count": 44,
   "id": "c61b926f",
   "metadata": {},
   "outputs": [],
   "source": [
    "senate_76_20_df = pd.read_csv(\"1976-2020-senate.csv\")"
   ]
  },
  {
   "cell_type": "code",
   "execution_count": 45,
   "id": "c26cfda3",
   "metadata": {
    "scrolled": true
   },
   "outputs": [
    {
     "data": {
      "text/html": [
       "<div>\n",
       "<style scoped>\n",
       "    .dataframe tbody tr th:only-of-type {\n",
       "        vertical-align: middle;\n",
       "    }\n",
       "\n",
       "    .dataframe tbody tr th {\n",
       "        vertical-align: top;\n",
       "    }\n",
       "\n",
       "    .dataframe thead th {\n",
       "        text-align: right;\n",
       "    }\n",
       "</style>\n",
       "<table border=\"1\" class=\"dataframe\">\n",
       "  <thead>\n",
       "    <tr style=\"text-align: right;\">\n",
       "      <th></th>\n",
       "      <th>year</th>\n",
       "      <th>state</th>\n",
       "      <th>state_po</th>\n",
       "      <th>state_fips</th>\n",
       "      <th>state_cen</th>\n",
       "      <th>state_ic</th>\n",
       "      <th>office</th>\n",
       "      <th>district</th>\n",
       "      <th>stage</th>\n",
       "      <th>special</th>\n",
       "      <th>candidate</th>\n",
       "      <th>party_detailed</th>\n",
       "      <th>writein</th>\n",
       "      <th>mode</th>\n",
       "      <th>candidatevotes</th>\n",
       "      <th>totalvotes</th>\n",
       "      <th>unofficial</th>\n",
       "      <th>version</th>\n",
       "      <th>party_simplified</th>\n",
       "    </tr>\n",
       "  </thead>\n",
       "  <tbody>\n",
       "    <tr>\n",
       "      <th>0</th>\n",
       "      <td>1976</td>\n",
       "      <td>ARIZONA</td>\n",
       "      <td>AZ</td>\n",
       "      <td>4</td>\n",
       "      <td>86</td>\n",
       "      <td>61</td>\n",
       "      <td>US SENATE</td>\n",
       "      <td>statewide</td>\n",
       "      <td>gen</td>\n",
       "      <td>False</td>\n",
       "      <td>SAM STEIGER</td>\n",
       "      <td>REPUBLICAN</td>\n",
       "      <td>False</td>\n",
       "      <td>total</td>\n",
       "      <td>321236</td>\n",
       "      <td>741210</td>\n",
       "      <td>False</td>\n",
       "      <td>20210114</td>\n",
       "      <td>REPUBLICAN</td>\n",
       "    </tr>\n",
       "    <tr>\n",
       "      <th>1</th>\n",
       "      <td>1976</td>\n",
       "      <td>ARIZONA</td>\n",
       "      <td>AZ</td>\n",
       "      <td>4</td>\n",
       "      <td>86</td>\n",
       "      <td>61</td>\n",
       "      <td>US SENATE</td>\n",
       "      <td>statewide</td>\n",
       "      <td>gen</td>\n",
       "      <td>False</td>\n",
       "      <td>WM. MATHEWS FEIGHAN</td>\n",
       "      <td>INDEPENDENT</td>\n",
       "      <td>False</td>\n",
       "      <td>total</td>\n",
       "      <td>1565</td>\n",
       "      <td>741210</td>\n",
       "      <td>False</td>\n",
       "      <td>20210114</td>\n",
       "      <td>OTHER</td>\n",
       "    </tr>\n",
       "    <tr>\n",
       "      <th>2</th>\n",
       "      <td>1976</td>\n",
       "      <td>ARIZONA</td>\n",
       "      <td>AZ</td>\n",
       "      <td>4</td>\n",
       "      <td>86</td>\n",
       "      <td>61</td>\n",
       "      <td>US SENATE</td>\n",
       "      <td>statewide</td>\n",
       "      <td>gen</td>\n",
       "      <td>False</td>\n",
       "      <td>DENNIS DECONCINI</td>\n",
       "      <td>DEMOCRAT</td>\n",
       "      <td>False</td>\n",
       "      <td>total</td>\n",
       "      <td>400334</td>\n",
       "      <td>741210</td>\n",
       "      <td>False</td>\n",
       "      <td>20210114</td>\n",
       "      <td>DEMOCRAT</td>\n",
       "    </tr>\n",
       "    <tr>\n",
       "      <th>3</th>\n",
       "      <td>1976</td>\n",
       "      <td>ARIZONA</td>\n",
       "      <td>AZ</td>\n",
       "      <td>4</td>\n",
       "      <td>86</td>\n",
       "      <td>61</td>\n",
       "      <td>US SENATE</td>\n",
       "      <td>statewide</td>\n",
       "      <td>gen</td>\n",
       "      <td>False</td>\n",
       "      <td>ALLAN NORWITZ</td>\n",
       "      <td>LIBERTARIAN</td>\n",
       "      <td>False</td>\n",
       "      <td>total</td>\n",
       "      <td>7310</td>\n",
       "      <td>741210</td>\n",
       "      <td>False</td>\n",
       "      <td>20210114</td>\n",
       "      <td>LIBERTARIAN</td>\n",
       "    </tr>\n",
       "    <tr>\n",
       "      <th>4</th>\n",
       "      <td>1976</td>\n",
       "      <td>ARIZONA</td>\n",
       "      <td>AZ</td>\n",
       "      <td>4</td>\n",
       "      <td>86</td>\n",
       "      <td>61</td>\n",
       "      <td>US SENATE</td>\n",
       "      <td>statewide</td>\n",
       "      <td>gen</td>\n",
       "      <td>False</td>\n",
       "      <td>BOB FIELD</td>\n",
       "      <td>INDEPENDENT</td>\n",
       "      <td>False</td>\n",
       "      <td>total</td>\n",
       "      <td>10765</td>\n",
       "      <td>741210</td>\n",
       "      <td>False</td>\n",
       "      <td>20210114</td>\n",
       "      <td>OTHER</td>\n",
       "    </tr>\n",
       "  </tbody>\n",
       "</table>\n",
       "</div>"
      ],
      "text/plain": [
       "   year    state state_po  state_fips  state_cen  state_ic     office  \\\n",
       "0  1976  ARIZONA       AZ           4         86        61  US SENATE   \n",
       "1  1976  ARIZONA       AZ           4         86        61  US SENATE   \n",
       "2  1976  ARIZONA       AZ           4         86        61  US SENATE   \n",
       "3  1976  ARIZONA       AZ           4         86        61  US SENATE   \n",
       "4  1976  ARIZONA       AZ           4         86        61  US SENATE   \n",
       "\n",
       "    district stage  special            candidate party_detailed  writein  \\\n",
       "0  statewide   gen    False          SAM STEIGER     REPUBLICAN    False   \n",
       "1  statewide   gen    False  WM. MATHEWS FEIGHAN    INDEPENDENT    False   \n",
       "2  statewide   gen    False     DENNIS DECONCINI       DEMOCRAT    False   \n",
       "3  statewide   gen    False        ALLAN NORWITZ    LIBERTARIAN    False   \n",
       "4  statewide   gen    False            BOB FIELD    INDEPENDENT    False   \n",
       "\n",
       "    mode  candidatevotes  totalvotes  unofficial   version party_simplified  \n",
       "0  total          321236      741210       False  20210114       REPUBLICAN  \n",
       "1  total            1565      741210       False  20210114            OTHER  \n",
       "2  total          400334      741210       False  20210114         DEMOCRAT  \n",
       "3  total            7310      741210       False  20210114      LIBERTARIAN  \n",
       "4  total           10765      741210       False  20210114            OTHER  "
      ]
     },
     "execution_count": 45,
     "metadata": {},
     "output_type": "execute_result"
    }
   ],
   "source": [
    "senate_76_20_df.head()"
   ]
  },
  {
   "cell_type": "markdown",
   "id": "2e1a201f",
   "metadata": {},
   "source": [
    "There was a few confusing column names, went a head and updated the column names. Then insert them back into the orginal data drame."
   ]
  },
  {
   "cell_type": "code",
   "execution_count": 47,
   "id": "a07e7d31",
   "metadata": {},
   "outputs": [],
   "source": [
    "#Updating some header names \n",
    "header_name = ['year','state','state_intails','state_fips','state_cen','state_ic','office','district','stage','special','candidate','political_parties','writein','mode','candidatevotes','totalvotesstate','unofficial','version','party_simplified']\n",
    "\n",
    "senate_76_20_df.columns = [x for x in header_name]\n"
   ]
  },
  {
   "cell_type": "code",
   "execution_count": 48,
   "id": "eac396fe",
   "metadata": {
    "scrolled": true
   },
   "outputs": [
    {
     "data": {
      "text/html": [
       "<div>\n",
       "<style scoped>\n",
       "    .dataframe tbody tr th:only-of-type {\n",
       "        vertical-align: middle;\n",
       "    }\n",
       "\n",
       "    .dataframe tbody tr th {\n",
       "        vertical-align: top;\n",
       "    }\n",
       "\n",
       "    .dataframe thead th {\n",
       "        text-align: right;\n",
       "    }\n",
       "</style>\n",
       "<table border=\"1\" class=\"dataframe\">\n",
       "  <thead>\n",
       "    <tr style=\"text-align: right;\">\n",
       "      <th></th>\n",
       "      <th>year</th>\n",
       "      <th>state</th>\n",
       "      <th>state_intails</th>\n",
       "      <th>state_fips</th>\n",
       "      <th>state_cen</th>\n",
       "      <th>state_ic</th>\n",
       "      <th>office</th>\n",
       "      <th>district</th>\n",
       "      <th>stage</th>\n",
       "      <th>special</th>\n",
       "      <th>candidate</th>\n",
       "      <th>political_parties</th>\n",
       "      <th>writein</th>\n",
       "      <th>mode</th>\n",
       "      <th>candidatevotes</th>\n",
       "      <th>totalvotesstate</th>\n",
       "      <th>unofficial</th>\n",
       "      <th>version</th>\n",
       "      <th>party_simplified</th>\n",
       "    </tr>\n",
       "  </thead>\n",
       "  <tbody>\n",
       "    <tr>\n",
       "      <th>0</th>\n",
       "      <td>1976</td>\n",
       "      <td>ARIZONA</td>\n",
       "      <td>AZ</td>\n",
       "      <td>4</td>\n",
       "      <td>86</td>\n",
       "      <td>61</td>\n",
       "      <td>US SENATE</td>\n",
       "      <td>statewide</td>\n",
       "      <td>gen</td>\n",
       "      <td>False</td>\n",
       "      <td>SAM STEIGER</td>\n",
       "      <td>REPUBLICAN</td>\n",
       "      <td>False</td>\n",
       "      <td>total</td>\n",
       "      <td>321236</td>\n",
       "      <td>741210</td>\n",
       "      <td>False</td>\n",
       "      <td>20210114</td>\n",
       "      <td>REPUBLICAN</td>\n",
       "    </tr>\n",
       "    <tr>\n",
       "      <th>1</th>\n",
       "      <td>1976</td>\n",
       "      <td>ARIZONA</td>\n",
       "      <td>AZ</td>\n",
       "      <td>4</td>\n",
       "      <td>86</td>\n",
       "      <td>61</td>\n",
       "      <td>US SENATE</td>\n",
       "      <td>statewide</td>\n",
       "      <td>gen</td>\n",
       "      <td>False</td>\n",
       "      <td>WM. MATHEWS FEIGHAN</td>\n",
       "      <td>INDEPENDENT</td>\n",
       "      <td>False</td>\n",
       "      <td>total</td>\n",
       "      <td>1565</td>\n",
       "      <td>741210</td>\n",
       "      <td>False</td>\n",
       "      <td>20210114</td>\n",
       "      <td>OTHER</td>\n",
       "    </tr>\n",
       "    <tr>\n",
       "      <th>2</th>\n",
       "      <td>1976</td>\n",
       "      <td>ARIZONA</td>\n",
       "      <td>AZ</td>\n",
       "      <td>4</td>\n",
       "      <td>86</td>\n",
       "      <td>61</td>\n",
       "      <td>US SENATE</td>\n",
       "      <td>statewide</td>\n",
       "      <td>gen</td>\n",
       "      <td>False</td>\n",
       "      <td>DENNIS DECONCINI</td>\n",
       "      <td>DEMOCRAT</td>\n",
       "      <td>False</td>\n",
       "      <td>total</td>\n",
       "      <td>400334</td>\n",
       "      <td>741210</td>\n",
       "      <td>False</td>\n",
       "      <td>20210114</td>\n",
       "      <td>DEMOCRAT</td>\n",
       "    </tr>\n",
       "    <tr>\n",
       "      <th>3</th>\n",
       "      <td>1976</td>\n",
       "      <td>ARIZONA</td>\n",
       "      <td>AZ</td>\n",
       "      <td>4</td>\n",
       "      <td>86</td>\n",
       "      <td>61</td>\n",
       "      <td>US SENATE</td>\n",
       "      <td>statewide</td>\n",
       "      <td>gen</td>\n",
       "      <td>False</td>\n",
       "      <td>ALLAN NORWITZ</td>\n",
       "      <td>LIBERTARIAN</td>\n",
       "      <td>False</td>\n",
       "      <td>total</td>\n",
       "      <td>7310</td>\n",
       "      <td>741210</td>\n",
       "      <td>False</td>\n",
       "      <td>20210114</td>\n",
       "      <td>LIBERTARIAN</td>\n",
       "    </tr>\n",
       "    <tr>\n",
       "      <th>4</th>\n",
       "      <td>1976</td>\n",
       "      <td>ARIZONA</td>\n",
       "      <td>AZ</td>\n",
       "      <td>4</td>\n",
       "      <td>86</td>\n",
       "      <td>61</td>\n",
       "      <td>US SENATE</td>\n",
       "      <td>statewide</td>\n",
       "      <td>gen</td>\n",
       "      <td>False</td>\n",
       "      <td>BOB FIELD</td>\n",
       "      <td>INDEPENDENT</td>\n",
       "      <td>False</td>\n",
       "      <td>total</td>\n",
       "      <td>10765</td>\n",
       "      <td>741210</td>\n",
       "      <td>False</td>\n",
       "      <td>20210114</td>\n",
       "      <td>OTHER</td>\n",
       "    </tr>\n",
       "  </tbody>\n",
       "</table>\n",
       "</div>"
      ],
      "text/plain": [
       "   year    state state_intails  state_fips  state_cen  state_ic     office  \\\n",
       "0  1976  ARIZONA            AZ           4         86        61  US SENATE   \n",
       "1  1976  ARIZONA            AZ           4         86        61  US SENATE   \n",
       "2  1976  ARIZONA            AZ           4         86        61  US SENATE   \n",
       "3  1976  ARIZONA            AZ           4         86        61  US SENATE   \n",
       "4  1976  ARIZONA            AZ           4         86        61  US SENATE   \n",
       "\n",
       "    district stage  special            candidate political_parties  writein  \\\n",
       "0  statewide   gen    False          SAM STEIGER        REPUBLICAN    False   \n",
       "1  statewide   gen    False  WM. MATHEWS FEIGHAN       INDEPENDENT    False   \n",
       "2  statewide   gen    False     DENNIS DECONCINI          DEMOCRAT    False   \n",
       "3  statewide   gen    False        ALLAN NORWITZ       LIBERTARIAN    False   \n",
       "4  statewide   gen    False            BOB FIELD       INDEPENDENT    False   \n",
       "\n",
       "    mode  candidatevotes  totalvotesstate  unofficial   version  \\\n",
       "0  total          321236           741210       False  20210114   \n",
       "1  total            1565           741210       False  20210114   \n",
       "2  total          400334           741210       False  20210114   \n",
       "3  total            7310           741210       False  20210114   \n",
       "4  total           10765           741210       False  20210114   \n",
       "\n",
       "  party_simplified  \n",
       "0       REPUBLICAN  \n",
       "1            OTHER  \n",
       "2         DEMOCRAT  \n",
       "3      LIBERTARIAN  \n",
       "4            OTHER  "
      ]
     },
     "execution_count": 48,
     "metadata": {},
     "output_type": "execute_result"
    }
   ],
   "source": [
    "senate_76_20_df.head()"
   ]
  },
  {
   "cell_type": "markdown",
   "id": "4236b3f3",
   "metadata": {},
   "source": [
    "At this point all data sources are loaded into Juypter Notebook."
   ]
  },
  {
   "cell_type": "code",
   "execution_count": 49,
   "id": "b6517b71",
   "metadata": {},
   "outputs": [
    {
     "data": {
      "text/plain": [
       "(3629, 19)"
      ]
     },
     "execution_count": 49,
     "metadata": {},
     "output_type": "execute_result"
    }
   ],
   "source": [
    "senate_76_20_df.shape"
   ]
  },
  {
   "cell_type": "code",
   "execution_count": 50,
   "id": "b31c1955",
   "metadata": {},
   "outputs": [
    {
     "data": {
      "text/plain": [
       "year                   0\n",
       "state                  0\n",
       "state_intails          0\n",
       "state_fips             0\n",
       "state_cen              0\n",
       "state_ic               0\n",
       "office                 0\n",
       "district               0\n",
       "stage                  0\n",
       "special                0\n",
       "candidate            423\n",
       "political_parties    599\n",
       "writein                0\n",
       "mode                   0\n",
       "candidatevotes         0\n",
       "totalvotesstate        0\n",
       "unofficial             0\n",
       "version                0\n",
       "party_simplified       0\n",
       "dtype: int64"
      ]
     },
     "execution_count": 50,
     "metadata": {},
     "output_type": "execute_result"
    }
   ],
   "source": [
    "#checking for null values\n",
    "#There are 3629, we can go head an remove all the NAN values which only two categories have nulls\n",
    "senate_76_20_df.isnull().sum()"
   ]
  },
  {
   "cell_type": "markdown",
   "id": "68f175b8",
   "metadata": {},
   "source": [
    "Step 1: There are 423, null values in candiate. For the purpose of finding relection information the cadidate names with nulls need to be removed."
   ]
  },
  {
   "cell_type": "code",
   "execution_count": 51,
   "id": "cb08e8e2",
   "metadata": {},
   "outputs": [],
   "source": [
    "# removing candidate null values\n",
    "senate_76_20_df =  senate_76_20_df.dropna()"
   ]
  },
  {
   "cell_type": "code",
   "execution_count": 52,
   "id": "a51c9084",
   "metadata": {},
   "outputs": [
    {
     "data": {
      "text/plain": [
       "year                 0\n",
       "state                0\n",
       "state_intails        0\n",
       "state_fips           0\n",
       "state_cen            0\n",
       "state_ic             0\n",
       "office               0\n",
       "district             0\n",
       "stage                0\n",
       "special              0\n",
       "candidate            0\n",
       "political_parties    0\n",
       "writein              0\n",
       "mode                 0\n",
       "candidatevotes       0\n",
       "totalvotesstate      0\n",
       "unofficial           0\n",
       "version              0\n",
       "party_simplified     0\n",
       "dtype: int64"
      ]
     },
     "execution_count": 52,
     "metadata": {},
     "output_type": "execute_result"
    }
   ],
   "source": [
    "# As shown there are no more null values.\n",
    "senate_76_20_df.isnull().sum()"
   ]
  },
  {
   "cell_type": "code",
   "execution_count": 53,
   "id": "55d16fb6",
   "metadata": {},
   "outputs": [
    {
     "data": {
      "text/plain": [
       "699"
      ]
     },
     "execution_count": 53,
     "metadata": {},
     "output_type": "execute_result"
    }
   ],
   "source": [
    "#Checking to see if canditate has been elected more then once.\n",
    "\n",
    "senate_76_20_df['candidate'].duplicated().sum()"
   ]
  },
  {
   "cell_type": "code",
   "execution_count": 54,
   "id": "404b46c5",
   "metadata": {
    "scrolled": true
   },
   "outputs": [
    {
     "name": "stdout",
     "output_type": "stream",
     "text": [
      "Duplicate Rows except first occurrence based on all columns are :\n",
      "85            JAMES L. BUCKLEY\n",
      "86     DANIEL PATRICK MOYNIHAN\n",
      "162             DONALD G. GIES\n",
      "199                  PAUL HELM\n",
      "291                 DAVID WALD\n",
      "302           JAMES L. BUCKLEY\n",
      "352         ALFONSE M. D'AMATO\n",
      "353         ALFONSE M. D'AMATO\n",
      "380               FRANK KINCES\n",
      "404           DENNIS DECONCINI\n",
      "Name: candidate, dtype: object\n"
     ]
    }
   ],
   "source": [
    "#checking for duplicates,\n",
    "\n",
    "\n",
    "senate_76_20_dfRowsDF = senate_76_20_df[senate_76_20_df['candidate'].duplicated()]\n",
    "print(\"Duplicate Rows except first occurrence based on all columns are :\")\n",
    "print(senate_76_20_dfRowsDF.head(10).candidate)\n",
    "\n",
    "\n"
   ]
  },
  {
   "cell_type": "markdown",
   "id": "5ba13cb0",
   "metadata": {},
   "source": [
    "Step 2: populating only unique values into an array of candidate names. The purpose is to see how many times the candiates have been relected."
   ]
  },
  {
   "cell_type": "code",
   "execution_count": 55,
   "id": "a5326da7",
   "metadata": {},
   "outputs": [
    {
     "name": "stdout",
     "output_type": "stream",
     "text": [
      "['JAMES L. BUCKLEY', 'DANIEL PATRICK MOYNIHAN', 'DONALD G. GIES', 'PAUL HELM', 'DAVID WALD', \"ALFONSE M. D'AMATO\", 'FRANK KINCES', 'DENNIS DECONCINI', 'LOWELL P. WEICKER, JR.', 'WILLIAM V. ROTH, JR.', 'LAWTON CHILES', 'RICHARD G. LUGAR', 'PAUL S. SARBANES', 'EDWARD M. KENNEDY', 'DONALD W. RIEGLE, JR.', 'JOHN C. STENNIS', 'JOHN C. DANFORTH', 'LARRY WILLIAMS', 'JOHN MELCHER', 'EDWARD ZORINSKY', 'FLORENCE M. SULLIVAN', 'DANIEL P. MOYNIHAN', 'QUENTIN N. BURDICK', 'HOWARD M. METZENBAUM', 'JOHN H. CHAFEE', 'LLOYD BENTSEN', 'ORRIN G. HATCH', 'ROBERT T. STAFFORD', 'HENRY M. JACKSON', 'ROBERT C. BYRD', 'WILLIAM PROXMIRE', 'MALCOLM WALLOP', 'HOWELL HEFLIN', 'TED STEVENS', 'DAVID PRYOR', 'EARL HIGGERSON', 'JOSEPH R. BIDEN JR.', 'SAM NUNN', 'JAMES A. MCCLURE', 'ROGER W. JEPSEN', 'GARRY DE YOUNG', 'JAMES R. MAHER', 'NANCY LANDON KASSEBAUM', 'WILLIAM S. COHEN', 'CARL LEVIN', 'JEFFREY M. MILLER', 'THAD COCHRAN', 'MAX BAUCUS', 'GORDON J. HUMPHREY', 'BILL BRADLEY', 'JASPER C. GOULD', 'JULIUS LEVIN', 'PETE V. DOMENICI', 'JESSE HELMS', 'STROM THURMOND', 'LARRY PRESSLER', 'JEREMIAH DENTON', 'FRANK H. MURKOWSKI', 'DALE BUMPERS', 'ALAN CRANSTON', 'HENRY JOHN OLSHAW', 'CHRISTOPHER J. DODD', 'PAULA HAWKINS', 'MACK MATTINGLY', 'DANIEL K. INOUYE', 'STEVE SYMMS', 'ALAN J. DIXON', 'OMARI MUSA', 'DAN QUAYLE', 'CHARLES E. GRASSLEY', 'BOB DOLE', 'WENDELL H. FORD', 'HARRIETT WOODS', 'JOHN GLENN', 'DON NICKLES', 'BOB PACKWOOD', 'ARLEN SPECTER', 'ERNEST FRITZ HOLLINGS', 'JAMES ABDNOR', 'JERRY LEVY', 'ANTHONY N. DORIA', 'SLADE GORTON', 'ROBERT W. KASTEN JR.', 'PETE WILSON', 'SPARK MATSUNAGA', 'GEORGE J. MITCHELL', 'DAVE DURENBERGER', 'CHIC HECHT', 'FRANK R. LAUTENBERG', 'JEFF BINGAMAN', 'ROBERT R. MCMILLAN', 'JOHN HEINZ', 'JIM SASSER', 'KHALIL-ULLAH AL-MUHAYMIN', 'PATRICIA GROGAN', 'KEN SCHOOLLAND', 'PAUL SIMON', 'TOM HARKIN', 'MITCH MCCONNELL', 'JOHN F. KERRY', 'RUDY BOSCHWITZ', 'JOHN A. DURKIN', 'MARK O. HATFIELD', 'CLAIBORNE PELL', 'ALBERT GORE JR.', 'PHIL GRAMM', 'JOHN MCCAIN', 'ED FINKELSTEIN', 'BOB GRAHAM', 'WYCHE FOWLER, JR.', 'PAUL COVERDELL', 'DAN COATS', 'JOHN B. BREAUX', 'BARBARA A. MIKULSKI', 'ALAN L. KEYES', 'HARRY REID', \"ALFONSE D'AMATO\", 'ROBERT ABRAMS', 'BOBBY YATES EMORY', 'TERRY SANFORD', 'THOMAS A. DASCHLE', 'PATRICK J. LEAHY', 'DIANNE FEINSTEIN', 'PAUL MEEUWENBERG', 'JOSEPH I. LIEBERMAN', 'CONNIE MACK', 'DANIEL K. AKAKA', 'MARIA M. HUSTACE', 'PLATO TRUMAN', 'WILLIAM ROUNDTREE', 'TRENT LOTT', 'RICHARD H. BRYAN', 'NORMA SEGAL', 'BERNADETTE CASTRO', 'KENT CONRAD', 'NELSON GONZALEZ', 'JAMES M. JEFFORDS', 'CHARLES S. ROBB', 'LARRY E. CRAIG', 'CHAD KOPPIE', 'THOMAS A. FISKE', 'RICHARD J. PEZZULLO', 'HARVEY B. GANTT', 'JAMES M. INHOFE', 'FRED THOMPSON', 'JOHN JAY HOOKER', 'PHILIP L. KIENLEN', 'JOHN W. WARNER', 'JOHN D. ROCKEFELLER IV', 'RICHARD C. SHELBY', 'BARBARA BOXER', 'BEN NIGHTHORSE CAMPBELL', 'JOHN HECKMAN', 'CAROL MOSELEY-BRAUN', 'SAM BROWNBACK', 'JEREMIAH W. (JAY) NIXON', 'CHRISTOPHER S. BOND', 'JUDD GREGG', 'CHARLES E. SCHUMER', 'WILLIAM P. MCMILLEN', 'LAUCH FAIRCLOTH', 'BYRON L. DORGAN', 'RICHARD T. QUILLIAN', 'ERNEST F. HOLLINGS', 'GARY R. VAN HORN', 'ROBERT F. BENNETT', 'PATTY MURRAY', 'EUGENE A. HEM', 'RUSSELL D. FEINGOLD', 'JON KYL', 'BRIAN M. REES', 'OLYMPIA J. SNOWE', 'SPENCER ABRAHAM', 'MARK DAYTON', 'ROD GRAMS', 'JOHN ASHCROFT', 'CONRAD BURNS', 'BEN NELSON', 'HILLARY RODHAM CLINTON', 'RICK LAZIO', 'MIKE DEWINE', 'RICK SANTORUM', 'CHARLES F. JOHNSON', 'BILL FRIST', 'KAY BAILEY HUTCHISON', 'HUGH DOUGLAS', 'HERB KOHL', 'ROBERT R. RAYMOND', 'CRAIG THOMAS', 'JEFF SESSIONS', 'WAYNE ALLARD', 'TOM STRICKLAND', 'RAYMOND J. CLATWORTHY', 'MAX CLELAND', 'RICHARD J. DURBIN', 'PAT ROBERTS', 'MARY L. LANDRIEU', 'RAYMOND BROWN', 'SUZANNE HAIK TERRELL', 'SUSAN M. COLLINS', 'PAUL WELLSTONE', \"SHAWN O'HARA\", 'TAMARA A. MILLAY', 'CHUCK HAGEL', 'KEN BLEVENS', 'GREGORY PASON', 'GORDON SMITH', 'JACK REED', 'TIM JOHNSON', 'NANCY B. SPANNAUS', 'MICHAEL B. ENZI', 'SCOTT A. KOHLHAAS', 'MIKE CRAPO', 'EVAN BAYH', 'GEORGE COOK', 'STEVEN A. ROSILE', 'JIM BUNNING', 'SAM HOUSTON MELTON, JR.', 'GEORGE V. VOINOVICH', 'DAN FITZGERALD', 'RON WYDEN', 'EFIA NWANGAZA', 'TOM DASCHLE', 'JOHN THUNE', 'MARSHA FEINLAND', 'DON J. GRUNDMANN', 'TIMOTHY A. KNIBBS', 'THOMAS R. CARPER', 'BILL NELSON', 'LLOYD JEFFREY MALLAN', 'DEBBIE STABENOW', 'STAN JONES', 'DAVID K. SCHUMANN', 'JOHN ENSIGN', 'J. M. CARTER', 'JOHN SPENCER', 'JAMES GERMALIC', 'SCOTT LANIER JAMESON', 'CRIS ERICSON', 'CRAIG HILL', 'MARIA CANTWELL', 'JOHN R. RAESE', 'DOUGLAS \"DAYHORSE\" CAMPBELL', 'ALLEN BUCKLEY', 'SAXBY CHAMBLISS', 'JIM MARTIN', 'JOHN KENNEDY', 'DOUG DERN', 'NORM COLEMAN', 'DEAN BARKLEY', 'BOB KELLEHER', 'JOHN E. SUNUNU', 'JEANNE SHAHEEN', 'DICK ZIMMER', 'DARYL MIKELL BROOKS', 'DAVID BROWNLOW', 'ROBERT G. TINGLE', 'LAMAR ALEXANDER', 'DAVID GATCHELL', 'JOHN CORNYN', 'MARK R. WARNER', 'GLENDA GAIL PARKER', 'JAY WOLFE', 'TED GIANOUTSOS', 'BLANCHE L. LINCOLN', 'BOB KINSEY', 'RICHARD BLUMENTHAL', \"CHRISTINE O'DONNELL\", 'CHARLIE CRIST', 'JOHNNY ISAKSON', 'CAM CAVASSO', 'JIM BREWER', 'REBECCA SINK-BURRIS', 'CHUCK GRASSLEY', 'DAVID VITTER', 'R. A. \"SKIP\" GALAN', 'JOHN CLIFTON', 'JOSEPH J. DIOGUARDI', 'JAY TOWNSEND', 'RICHARD BURR', 'STEPHEN P. WALLACE', 'JIM DEMINT', 'SCOTT N. BRADLEY', 'CHRISTOPHER S. MURPHY', 'LINDA E. MCMAHON', 'BENJAMIN L. CARDIN', 'SCOTTY BOMAN', 'TIM DAVIS', 'AMY KLOBUCHAR', 'ROGER F. WICKER', 'CLAIRE MCCASKILL', 'JONATHAN DINE', 'JON TESTER', 'BOB KERREY', 'ROBERT MENENDEZ', 'KIRSTEN E. GILLIBRAND', 'COLIA CLARK', 'WENDY LONG', 'SHERROD BROWN', 'SHELDON WHITEHOUSE', 'BOB CORKER', 'PETE DIAMONDSTONE', 'PETER MOSS', 'BERNARD SANDERS', 'GEORGE F. ALLEN', 'JOE MANCHIN III', 'JOHN BARRASSO', 'MARK BEGICH', 'MARK L. PRYOR', 'MARK UDALL', 'KEVIN WADE', 'CHRISTOPHER A. COONS', 'RICHARD A. MATKIN', 'AL FRANKEN', 'SCOTT P. BROWN', 'EUGENE MARTIN LAVERGNE', 'TOM UDALL', 'SEAN HAUGH', 'JEFF MERKLEY', 'BRAD HUTTO', 'LINDSEY GRAHAM', 'VICTOR KOCHER', 'MARTIN PLEASANT', 'RICK TYLER', 'BOB HENRY BABER', 'JOE MILLER', 'LISA MURKOWSKI', 'GARY SWING', 'JOHN BOOZMAN', 'MICHAEL F. BENNET', 'BILL HAMMONS', 'MARCO RUBIO', 'BRIAN SCHATZ', 'JOHN CARROLL', 'CHARLES ALDRICH', 'JERRY MORAN', 'RAND PAUL', '\"ROB\" MANESS', 'ROY BLUNT', 'KELLY AYOTTE', 'JOHN HOEVEN', 'ROB PORTMAN', 'JAMES LANKFORD', 'ROBERT T. MURPHY', 'MARK T. BEARD', 'THOMAS DIXON', 'BILL BLEDSOE', 'TIM SCOTT', 'MIKE LEE', 'BILL BARRON', 'RON JOHNSON', 'CHRISTOPHER S MURPHY', 'RICHARD LION', 'MAZIE K. HIRONO', 'JOE DONNELLY', 'ELIZABETH A. WARREN', 'DEB FISCHER', 'DEAN HELLER', 'HANK SCHROEDER', 'CHELE CHIAVACCI FARLEY', 'HEIDI HEITKAMP', 'TED CRUZ', 'TIMOTHY M. KAINE', 'TAMMY BALDWIN', 'DAN SULLIVAN', 'MARTHA MCSALLY', 'TOM COTTON', 'CORY GARDNER', 'DAVID A. PERDUE', 'JIM RISCH', 'RAY J. WRITZ', 'JONI ERNST', 'RICK STEWART', 'BERYL BILLIOT', 'EDWARD J. MARKEY', 'JOHN JAMES', 'MARCIA SQUIER', 'TINA SMITH', 'MIKE ESPY', 'CINDY HYDE-SMITH', 'STEVE DAINES', 'BEN SASSE', 'MADELYN R. HOFFMAN', 'THOM TILLIS', 'ROBERT MURPHY', 'JOAN FARR', 'MIKE ROUNDS', 'DAVID B. COLLINS', 'SHELLEY MOORE CAPITO', 'KELLY LOEFFLER', 'RAPHAEL WARNOCK', 'JON OSSOFF']\n"
     ]
    }
   ],
   "source": [
    "# find words with their count\n",
    "unique = []\n",
    "#looking at all candidate name\n",
    "for i in senate_76_20_dfRowsDF['candidate']:\n",
    "    #if the name is not in the array then it will be placed\n",
    "    if i not in unique:\n",
    "        unique.append(i)\n",
    "print(unique)"
   ]
  },
  {
   "cell_type": "markdown",
   "id": "58566737",
   "metadata": {},
   "source": [
    "Step 3: Once I have all uique values by name, I have to go into the data frame to see occurances of that partical candiate name."
   ]
  },
  {
   "cell_type": "code",
   "execution_count": 56,
   "id": "19f2b974",
   "metadata": {},
   "outputs": [
    {
     "name": "stdout",
     "output_type": "stream",
     "text": [
      "JAMES L. BUCKLEY 2\n",
      "DANIEL PATRICK MOYNIHAN 5\n",
      "DONALD G. GIES 1\n",
      "PAUL HELM 1\n",
      "DAVID WALD 2\n",
      "ALFONSE M. D'AMATO 5\n",
      "FRANK KINCES 1\n",
      "DENNIS DECONCINI 2\n",
      "LOWELL P. WEICKER, JR. 1\n",
      "WILLIAM V. ROTH, JR. 4\n",
      "LAWTON CHILES 1\n",
      "RICHARD G. LUGAR 5\n",
      "PAUL S. SARBANES 4\n",
      "EDWARD M. KENNEDY 5\n",
      "DONALD W. RIEGLE, JR. 2\n",
      "JOHN C. STENNIS 1\n",
      "JOHN C. DANFORTH 2\n",
      "LARRY WILLIAMS 1\n",
      "JOHN MELCHER 2\n",
      "EDWARD ZORINSKY 1\n",
      "FLORENCE M. SULLIVAN 2\n",
      "DANIEL P. MOYNIHAN 1\n",
      "QUENTIN N. BURDICK 2\n",
      "HOWARD M. METZENBAUM 2\n",
      "JOHN H. CHAFEE 2\n",
      "LLOYD BENTSEN 2\n",
      "ORRIN G. HATCH 6\n",
      "ROBERT T. STAFFORD 1\n",
      "HENRY M. JACKSON 1\n",
      "ROBERT C. BYRD 5\n",
      "WILLIAM PROXMIRE 1\n",
      "MALCOLM WALLOP 2\n",
      "HOWELL HEFLIN 2\n",
      "TED STEVENS 5\n",
      "DAVID PRYOR 1\n",
      "EARL HIGGERSON 1\n",
      "JOSEPH R. BIDEN JR. 5\n",
      "SAM NUNN 2\n",
      "JAMES A. MCCLURE 1\n",
      "ROGER W. JEPSEN 1\n",
      "GARRY DE YOUNG 1\n",
      "JAMES R. MAHER 1\n",
      "NANCY LANDON KASSEBAUM 2\n",
      "WILLIAM S. COHEN 2\n",
      "CARL LEVIN 5\n",
      "JEFFREY M. MILLER 1\n",
      "THAD COCHRAN 6\n",
      "MAX BAUCUS 5\n",
      "GORDON J. HUMPHREY 1\n",
      "BILL BRADLEY 2\n",
      "JASPER C. GOULD 1\n",
      "JULIUS LEVIN 1\n",
      "PETE V. DOMENICI 4\n",
      "JESSE HELMS 3\n",
      "STROM THURMOND 3\n",
      "LARRY PRESSLER 4\n",
      "JEREMIAH DENTON 1\n",
      "FRANK H. MURKOWSKI 3\n",
      "DALE BUMPERS 2\n",
      "ALAN CRANSTON 1\n",
      "HENRY JOHN OLSHAW 1\n",
      "CHRISTOPHER J. DODD 5\n",
      "PAULA HAWKINS 1\n",
      "MACK MATTINGLY 1\n",
      "DANIEL K. INOUYE 5\n",
      "STEVE SYMMS 1\n",
      "ALAN J. DIXON 1\n",
      "OMARI MUSA 1\n",
      "DAN QUAYLE 1\n",
      "CHARLES E. GRASSLEY 3\n",
      "BOB DOLE 2\n",
      "WENDELL H. FORD 2\n",
      "HARRIETT WOODS 1\n",
      "JOHN GLENN 2\n",
      "DON NICKLES 3\n",
      "BOB PACKWOOD 2\n",
      "ARLEN SPECTER 4\n",
      "ERNEST FRITZ HOLLINGS 1\n",
      "JAMES ABDNOR 1\n",
      "JERRY LEVY 6\n",
      "ANTHONY N. DORIA 1\n",
      "SLADE GORTON 4\n",
      "ROBERT W. KASTEN JR. 1\n",
      "PETE WILSON 1\n",
      "SPARK MATSUNAGA 1\n",
      "GEORGE J. MITCHELL 1\n",
      "DAVE DURENBERGER 1\n",
      "CHIC HECHT 1\n",
      "FRANK R. LAUTENBERG 4\n",
      "JEFF BINGAMAN 4\n",
      "ROBERT R. MCMILLAN 1\n",
      "JOHN HEINZ 1\n",
      "JIM SASSER 2\n",
      "KHALIL-ULLAH AL-MUHAYMIN 1\n",
      "PATRICIA GROGAN 2\n",
      "KEN SCHOOLLAND 1\n",
      "PAUL SIMON 1\n",
      "TOM HARKIN 4\n",
      "MITCH MCCONNELL 5\n",
      "JOHN F. KERRY 4\n",
      "RUDY BOSCHWITZ 2\n",
      "JOHN A. DURKIN 1\n",
      "MARK O. HATFIELD 1\n",
      "CLAIBORNE PELL 1\n",
      "ALBERT GORE JR. 1\n",
      "PHIL GRAMM 2\n",
      "JOHN MCCAIN 5\n",
      "ED FINKELSTEIN 1\n",
      "BOB GRAHAM 2\n",
      "WYCHE FOWLER, JR. 1\n",
      "PAUL COVERDELL 2\n",
      "DAN COATS 2\n",
      "JOHN B. BREAUX 2\n",
      "BARBARA A. MIKULSKI 3\n",
      "ALAN L. KEYES 1\n",
      "HARRY REID 4\n",
      "ALFONSE D'AMATO 5\n",
      "ROBERT ABRAMS 1\n",
      "BOBBY YATES EMORY 1\n",
      "TERRY SANFORD 1\n",
      "THOMAS A. DASCHLE 1\n",
      "PATRICK J. LEAHY 5\n",
      "DIANNE FEINSTEIN 5\n",
      "PAUL MEEUWENBERG 1\n",
      "JOSEPH I. LIEBERMAN 3\n",
      "CONNIE MACK 2\n",
      "DANIEL K. AKAKA 3\n",
      "MARIA M. HUSTACE 1\n",
      "PLATO TRUMAN 1\n",
      "WILLIAM ROUNDTREE 2\n",
      "TRENT LOTT 3\n",
      "RICHARD H. BRYAN 1\n",
      "NORMA SEGAL 1\n",
      "BERNADETTE CASTRO 1\n",
      "KENT CONRAD 3\n",
      "NELSON GONZALEZ 1\n",
      "JAMES M. JEFFORDS 2\n",
      "CHARLES S. ROBB 2\n",
      "LARRY E. CRAIG 2\n",
      "CHAD KOPPIE 1\n",
      "THOMAS A. FISKE 1\n",
      "RICHARD J. PEZZULLO 1\n",
      "HARVEY B. GANTT 1\n",
      "JAMES M. INHOFE 4\n",
      "FRED THOMPSON 1\n",
      "JOHN JAY HOOKER 3\n",
      "PHILIP L. KIENLEN 1\n",
      "JOHN W. WARNER 2\n",
      "JOHN D. ROCKEFELLER IV 3\n",
      "RICHARD C. SHELBY 4\n",
      "BARBARA BOXER 3\n",
      "BEN NIGHTHORSE CAMPBELL 1\n",
      "JOHN HECKMAN 2\n",
      "CAROL MOSELEY-BRAUN 1\n",
      "SAM BROWNBACK 2\n",
      "JEREMIAH W. (JAY) NIXON 1\n",
      "CHRISTOPHER S. BOND 2\n",
      "JUDD GREGG 2\n",
      "CHARLES E. SCHUMER 10\n",
      "WILLIAM P. MCMILLEN 1\n",
      "LAUCH FAIRCLOTH 1\n",
      "BYRON L. DORGAN 2\n",
      "RICHARD T. QUILLIAN 1\n",
      "ERNEST F. HOLLINGS 1\n",
      "GARY R. VAN HORN 2\n",
      "ROBERT F. BENNETT 2\n",
      "PATTY MURRAY 4\n",
      "EUGENE A. HEM 3\n",
      "RUSSELL D. FEINGOLD 2\n",
      "JON KYL 2\n",
      "BRIAN M. REES 1\n",
      "OLYMPIA J. SNOWE 2\n",
      "SPENCER ABRAHAM 1\n",
      "MARK DAYTON 1\n",
      "ROD GRAMS 1\n",
      "JOHN ASHCROFT 1\n",
      "CONRAD BURNS 2\n",
      "BEN NELSON 1\n",
      "HILLARY RODHAM CLINTON 5\n",
      "RICK LAZIO 1\n",
      "MIKE DEWINE 2\n",
      "RICK SANTORUM 2\n",
      "CHARLES F. JOHNSON 1\n",
      "BILL FRIST 1\n",
      "KAY BAILEY HUTCHISON 2\n",
      "HUGH DOUGLAS 1\n",
      "HERB KOHL 2\n",
      "ROBERT R. RAYMOND 1\n",
      "CRAIG THOMAS 2\n",
      "JEFF SESSIONS 3\n",
      "WAYNE ALLARD 1\n",
      "TOM STRICKLAND 1\n",
      "RAYMOND J. CLATWORTHY 1\n",
      "MAX CLELAND 1\n",
      "RICHARD J. DURBIN 4\n",
      "PAT ROBERTS 3\n",
      "MARY L. LANDRIEU 4\n",
      "RAYMOND BROWN 1\n",
      "SUZANNE HAIK TERRELL 1\n",
      "SUSAN M. COLLINS 3\n",
      "PAUL WELLSTONE 1\n",
      "SHAWN O'HARA 4\n",
      "TAMARA A. MILLAY 1\n",
      "CHUCK HAGEL 1\n",
      "KEN BLEVENS 1\n",
      "GREGORY PASON 3\n",
      "GORDON SMITH 1\n",
      "JACK REED 3\n",
      "TIM JOHNSON 2\n",
      "NANCY B. SPANNAUS 1\n",
      "MICHAEL B. ENZI 3\n",
      "SCOTT A. KOHLHAAS 1\n",
      "MIKE CRAPO 3\n",
      "EVAN BAYH 2\n",
      "GEORGE COOK 1\n",
      "STEVEN A. ROSILE 1\n",
      "JIM BUNNING 1\n",
      "SAM HOUSTON MELTON, JR. 1\n",
      "GEORGE V. VOINOVICH 1\n",
      "DAN FITZGERALD 1\n",
      "RON WYDEN 3\n",
      "EFIA NWANGAZA 1\n",
      "TOM DASCHLE 1\n",
      "JOHN THUNE 2\n",
      "MARSHA FEINLAND 2\n",
      "DON J. GRUNDMANN 1\n",
      "TIMOTHY A. KNIBBS 1\n",
      "THOMAS R. CARPER 2\n",
      "BILL NELSON 3\n",
      "LLOYD JEFFREY MALLAN 2\n",
      "DEBBIE STABENOW 3\n",
      "STAN JONES 1\n",
      "DAVID K. SCHUMANN 1\n",
      "JOHN ENSIGN 1\n",
      "J. M. CARTER 2\n",
      "JOHN SPENCER 1\n",
      "JAMES GERMALIC 2\n",
      "SCOTT LANIER JAMESON 1\n",
      "CRIS ERICSON 3\n",
      "CRAIG HILL 1\n",
      "MARIA CANTWELL 3\n",
      "JOHN R. RAESE 3\n",
      "DOUGLAS \"DAYHORSE\" CAMPBELL 1\n",
      "ALLEN BUCKLEY 3\n",
      "SAXBY CHAMBLISS 2\n",
      "JIM MARTIN 1\n",
      "JOHN KENNEDY 2\n",
      "DOUG DERN 2\n",
      "NORM COLEMAN 1\n",
      "DEAN BARKLEY 1\n",
      "BOB KELLEHER 1\n",
      "JOHN E. SUNUNU 1\n",
      "JEANNE SHAHEEN 3\n",
      "DICK ZIMMER 1\n",
      "DARYL MIKELL BROOKS 2\n",
      "DAVID BROWNLOW 1\n",
      "ROBERT G. TINGLE 1\n",
      "LAMAR ALEXANDER 2\n",
      "DAVID GATCHELL 2\n",
      "JOHN CORNYN 3\n",
      "MARK R. WARNER 3\n",
      "GLENDA GAIL PARKER 1\n",
      "JAY WOLFE 1\n",
      "TED GIANOUTSOS 3\n",
      "BLANCHE L. LINCOLN 1\n",
      "BOB KINSEY 1\n",
      "RICHARD BLUMENTHAL 3\n",
      "CHRISTINE O'DONNELL 1\n",
      "CHARLIE CRIST 1\n",
      "JOHNNY ISAKSON 2\n",
      "CAM CAVASSO 2\n",
      "JIM BREWER 1\n",
      "REBECCA SINK-BURRIS 1\n",
      "CHUCK GRASSLEY 2\n",
      "DAVID VITTER 1\n",
      "R. A. \"SKIP\" GALAN 1\n",
      "JOHN CLIFTON 1\n",
      "JOSEPH J. DIOGUARDI 1\n",
      "JAY TOWNSEND 1\n",
      "RICHARD BURR 2\n",
      "STEPHEN P. WALLACE 1\n",
      "JIM DEMINT 1\n",
      "SCOTT N. BRADLEY 1\n",
      "CHRISTOPHER S. MURPHY 1\n",
      "LINDA E. MCMAHON 2\n",
      "BENJAMIN L. CARDIN 1\n",
      "SCOTTY BOMAN 1\n",
      "TIM DAVIS 1\n",
      "AMY KLOBUCHAR 2\n",
      "ROGER F. WICKER 2\n",
      "CLAIRE MCCASKILL 2\n",
      "JONATHAN DINE 2\n",
      "JON TESTER 2\n",
      "BOB KERREY 1\n",
      "ROBERT MENENDEZ 2\n",
      "KIRSTEN E. GILLIBRAND 7\n",
      "COLIA CLARK 1\n",
      "WENDY LONG 4\n",
      "SHERROD BROWN 2\n",
      "SHELDON WHITEHOUSE 2\n",
      "BOB CORKER 1\n",
      "PETE DIAMONDSTONE 2\n",
      "PETER MOSS 1\n",
      "BERNARD SANDERS 1\n",
      "GEORGE F. ALLEN 1\n",
      "JOE MANCHIN III 1\n",
      "JOHN BARRASSO 2\n",
      "MARK BEGICH 1\n",
      "MARK L. PRYOR 1\n",
      "MARK UDALL 1\n",
      "KEVIN WADE 1\n",
      "CHRISTOPHER A. COONS 2\n",
      "RICHARD A. MATKIN 1\n",
      "AL FRANKEN 1\n",
      "SCOTT P. BROWN 1\n",
      "EUGENE MARTIN LAVERGNE 1\n",
      "TOM UDALL 1\n",
      "SEAN HAUGH 2\n",
      "JEFF MERKLEY 2\n",
      "BRAD HUTTO 1\n",
      "LINDSEY GRAHAM 2\n",
      "VICTOR KOCHER 1\n",
      "MARTIN PLEASANT 1\n",
      "RICK TYLER 1\n",
      "BOB HENRY BABER 1\n",
      "JOE MILLER 1\n",
      "LISA MURKOWSKI 1\n",
      "GARY SWING 1\n",
      "JOHN BOOZMAN 1\n",
      "MICHAEL F. BENNET 1\n",
      "BILL HAMMONS 1\n",
      "MARCO RUBIO 1\n",
      "BRIAN SCHATZ 1\n",
      "JOHN CARROLL 1\n",
      "CHARLES ALDRICH 1\n",
      "JERRY MORAN 1\n",
      "RAND PAUL 1\n",
      "\"ROB\" MANESS 1\n",
      "ROY BLUNT 1\n",
      "KELLY AYOTTE 1\n",
      "JOHN HOEVEN 1\n",
      "ROB PORTMAN 1\n",
      "JAMES LANKFORD 1\n",
      "ROBERT T. MURPHY 1\n",
      "MARK T. BEARD 1\n",
      "THOMAS DIXON 2\n",
      "BILL BLEDSOE 2\n",
      "TIM SCOTT 1\n",
      "MIKE LEE 1\n",
      "BILL BARRON 1\n",
      "RON JOHNSON 1\n",
      "CHRISTOPHER S MURPHY 1\n",
      "RICHARD LION 1\n",
      "MAZIE K. HIRONO 1\n",
      "JOE DONNELLY 1\n",
      "ELIZABETH A. WARREN 1\n",
      "DEB FISCHER 1\n",
      "DEAN HELLER 1\n",
      "HANK SCHROEDER 1\n",
      "CHELE CHIAVACCI FARLEY 2\n",
      "HEIDI HEITKAMP 1\n",
      "TED CRUZ 1\n",
      "TIMOTHY M. KAINE 1\n",
      "TAMMY BALDWIN 1\n",
      "DAN SULLIVAN 1\n",
      "MARTHA MCSALLY 1\n",
      "TOM COTTON 1\n",
      "CORY GARDNER 1\n",
      "DAVID A. PERDUE 2\n",
      "JIM RISCH 1\n",
      "RAY J. WRITZ 1\n",
      "JONI ERNST 1\n",
      "RICK STEWART 1\n",
      "BERYL BILLIOT 1\n",
      "EDWARD J. MARKEY 1\n",
      "JOHN JAMES 1\n",
      "MARCIA SQUIER 1\n",
      "TINA SMITH 1\n",
      "MIKE ESPY 1\n",
      "CINDY HYDE-SMITH 1\n",
      "STEVE DAINES 1\n",
      "BEN SASSE 1\n",
      "MADELYN R. HOFFMAN 1\n",
      "THOM TILLIS 1\n",
      "ROBERT MURPHY 1\n",
      "JOAN FARR 1\n",
      "MIKE ROUNDS 1\n",
      "DAVID B. COLLINS 1\n",
      "SHELLEY MOORE CAPITO 1\n",
      "KELLY LOEFFLER 1\n",
      "RAPHAEL WARNOCK 1\n",
      "JON OSSOFF 1\n"
     ]
    }
   ],
   "source": [
    "\n",
    "#creating an array of candiate name and the count of occurances\n",
    "congress_relection = []\n",
    "\n",
    "#checking the number size of the unique array\n",
    "for names in range(len(unique)):\n",
    "    #setting current words to each instance of name\n",
    "    current_word = unique[names]\n",
    "    count = 0\n",
    "    \n",
    "    #looping through not unique data frame, and counting the times int comes up\n",
    "    for all_names in senate_76_20_dfRowsDF['candidate']:\n",
    "        if(current_word ==  all_names and current_word != ''):\n",
    "            #count if name found\n",
    "            count = count + 1\n",
    "    #after the second loop i have current candiate and count\n",
    "    if(current_word != ''):\n",
    "        congress_relection.append([current_word,count])\n",
    "        print(current_word,count)\n",
    "\n",
    "  \n",
    "    "
   ]
  },
  {
   "cell_type": "markdown",
   "id": "98ef2576",
   "metadata": {},
   "source": [
    "Step 4: Now I need to make it into a readable data frame, so that I can look for outliers and average information."
   ]
  },
  {
   "cell_type": "code",
   "execution_count": 57,
   "id": "3aede4f0",
   "metadata": {},
   "outputs": [
    {
     "data": {
      "text/html": [
       "<div>\n",
       "<style scoped>\n",
       "    .dataframe tbody tr th:only-of-type {\n",
       "        vertical-align: middle;\n",
       "    }\n",
       "\n",
       "    .dataframe tbody tr th {\n",
       "        vertical-align: top;\n",
       "    }\n",
       "\n",
       "    .dataframe thead th {\n",
       "        text-align: right;\n",
       "    }\n",
       "</style>\n",
       "<table border=\"1\" class=\"dataframe\">\n",
       "  <thead>\n",
       "    <tr style=\"text-align: right;\">\n",
       "      <th></th>\n",
       "      <th>Candidate</th>\n",
       "      <th>Election_Count</th>\n",
       "    </tr>\n",
       "  </thead>\n",
       "  <tbody>\n",
       "    <tr>\n",
       "      <th>0</th>\n",
       "      <td>JAMES L. BUCKLEY</td>\n",
       "      <td>2</td>\n",
       "    </tr>\n",
       "    <tr>\n",
       "      <th>1</th>\n",
       "      <td>DANIEL PATRICK MOYNIHAN</td>\n",
       "      <td>5</td>\n",
       "    </tr>\n",
       "    <tr>\n",
       "      <th>2</th>\n",
       "      <td>DONALD G. GIES</td>\n",
       "      <td>1</td>\n",
       "    </tr>\n",
       "    <tr>\n",
       "      <th>3</th>\n",
       "      <td>PAUL HELM</td>\n",
       "      <td>1</td>\n",
       "    </tr>\n",
       "    <tr>\n",
       "      <th>4</th>\n",
       "      <td>DAVID WALD</td>\n",
       "      <td>2</td>\n",
       "    </tr>\n",
       "    <tr>\n",
       "      <th>5</th>\n",
       "      <td>ALFONSE M. D'AMATO</td>\n",
       "      <td>5</td>\n",
       "    </tr>\n",
       "    <tr>\n",
       "      <th>6</th>\n",
       "      <td>FRANK KINCES</td>\n",
       "      <td>1</td>\n",
       "    </tr>\n",
       "  </tbody>\n",
       "</table>\n",
       "</div>"
      ],
      "text/plain": [
       "                 Candidate  Election_Count\n",
       "0         JAMES L. BUCKLEY               2\n",
       "1  DANIEL PATRICK MOYNIHAN               5\n",
       "2           DONALD G. GIES               1\n",
       "3                PAUL HELM               1\n",
       "4               DAVID WALD               2\n",
       "5       ALFONSE M. D'AMATO               5\n",
       "6             FRANK KINCES               1"
      ]
     },
     "execution_count": 57,
     "metadata": {},
     "output_type": "execute_result"
    }
   ],
   "source": [
    "\n",
    "# Now the relection data is more readable\n",
    "# We can now see what the aveage relection count is \n",
    "congress_election_df =  pd.DataFrame(congress_relection, columns=[\"Candidate\",\"Election_Count\"])\n",
    "\n",
    "congress_election_df.head(7)\n",
    "    \n",
    "\n",
    "\n"
   ]
  },
  {
   "cell_type": "code",
   "execution_count": 58,
   "id": "0df2fbc7",
   "metadata": {},
   "outputs": [
    {
     "data": {
      "text/plain": [
       "1.7831632653061225"
      ]
     },
     "execution_count": 58,
     "metadata": {},
     "output_type": "execute_result"
    }
   ],
   "source": [
    "# Mean is 2 times, meaning that a person will most likly get releted if firstly elected\n",
    "\n",
    "congress_election_df['Election_Count'].mean()"
   ]
  },
  {
   "cell_type": "markdown",
   "id": "77653ec4",
   "metadata": {},
   "source": [
    "Step 5: Plot them on a graph to look for outliers."
   ]
  },
  {
   "cell_type": "code",
   "execution_count": 59,
   "id": "e52d6068",
   "metadata": {},
   "outputs": [
    {
     "data": {
      "image/png": "[encoded data removed]",
      "text/plain": [
       "<Figure size 720x5760 with 1 Axes>"
      ]
     },
     "metadata": {
      "needs_background": "light"
     },
     "output_type": "display_data"
    }
   ],
   "source": [
    "# Have to say that Charles E. Schumer has it figured out.\n",
    "\n",
    "plt.figure(figsize=(10,80))\n",
    "plt.barh(congress_election_df['Candidate'],congress_election_df[\"Election_Count\" ])\n",
    "plt.show()"
   ]
  },
  {
   "cell_type": "markdown",
   "id": "1dce2a34",
   "metadata": {},
   "source": [
    "Also ploting a box and wiskers to see outliers in more definition. It seems that that election results are all over the place. The more notable outlier is 10 times."
   ]
  },
  {
   "cell_type": "code",
   "execution_count": 60,
   "id": "cebb64f5",
   "metadata": {},
   "outputs": [
    {
     "data": {
      "image/png": "[encoded data removed]",
      "text/plain": [
       "<Figure size 432x288 with 1 Axes>"
      ]
     },
     "metadata": {
      "needs_background": "light"
     },
     "output_type": "display_data"
    }
   ],
   "source": [
    "boxplot = congress_election_df.boxplot(column=['Election_Count'])\n",
    "boxplot.plot()\n",
    "\n",
    "plt.show()"
   ]
  },
  {
   "cell_type": "markdown",
   "id": "cc0bc999",
   "metadata": {},
   "source": [
    "Step 6: Now we need to removed the outliers. I believe 95 percentile should be sufficient to be removed. That way the mean can seem more normal."
   ]
  },
  {
   "cell_type": "code",
   "execution_count": 61,
   "id": "566552a0",
   "metadata": {},
   "outputs": [
    {
     "name": "stdout",
     "output_type": "stream",
     "text": [
      "Below 1.0 and Above 5.0\n"
     ]
    }
   ],
   "source": [
    "\n",
    "#getting the quantile for first q1 and q3 then staying at the margins considered an outlier\n",
    "#The quantile can be adjusted to what I believe is an outlier. \n",
    "#currently I set it to .10 and .95\n",
    "\n",
    "#drop all null values before \n",
    "Above_Q1 = np.quantile(congress_election_df['Election_Count'],0.10)\n",
    "Below_Q3 = np.quantile(congress_election_df['Election_Count'],0.95)\n",
    "\n",
    "#values that were calculated to be in the outliers category\n",
    "print(\"Below {0} and Above {1}\".format(Above_Q1, Below_Q3))\n",
    "congress_election_data_reduced_outliers =  congress_election_df[(congress_election_df['Election_Count'] >= Above_Q1) & (congress_election_df['Election_Count'] <= Below_Q3)].copy()\n",
    "\n",
    "\n",
    "\n"
   ]
  },
  {
   "cell_type": "markdown",
   "id": "7fda9e40",
   "metadata": {},
   "source": [
    "Removing up to 95 quantile leaves the outlier at 5. This seems more mangeable. Its safe to say that the average stands between 1 and 2. "
   ]
  },
  {
   "cell_type": "code",
   "execution_count": 62,
   "id": "26cd2dd1",
   "metadata": {
    "scrolled": false
   },
   "outputs": [
    {
     "data": {
      "image/png": "[encoded data removed]",
      "text/plain": [
       "<Figure size 432x288 with 1 Axes>"
      ]
     },
     "metadata": {
      "needs_background": "light"
     },
     "output_type": "display_data"
    }
   ],
   "source": [
    "boxplot = congress_election_data_reduced_outliers.boxplot(column=['Election_Count'])\n",
    "boxplot.plot()\n",
    "\n",
    "plt.show()"
   ]
  },
  {
   "cell_type": "markdown",
   "id": "8a9dd45f",
   "metadata": {},
   "source": [
    "# Felipe Castillo\n",
    "# Data Preparation\n",
    "# Milestone 4\n",
    "# 2/18/2022\n",
    "\n"
   ]
  },
  {
   "cell_type": "code",
   "execution_count": 18,
   "id": "ef2ff1f9",
   "metadata": {},
   "outputs": [],
   "source": [
    "def wikipedia_representatives():\n",
    "    \n",
    "    #Url\n",
    "    wiki_url = 'https://en.wikipedia.org/wiki/List_of_current_members_of_the_United_States_House_of_Representatives'\n",
    "    \n",
    "    #response can fail, adding a try catch for connectivity\n",
    "    try:\n",
    "        response = requests.get(wiki_url)\n",
    "        #using wikipedia packe to pull table\n",
    "        html = wp.page('List of current members of the United States House of Representatives').html().encode(\"UTF-8\")\n",
    "        \n",
    "        #pull exact table with congress information\n",
    "        df_html = pd.read_html(html)[7]\n",
    "\n",
    "        df_wiki = pd.DataFrame(df_html)\n",
    "        \n",
    "        return df_wiki\n",
    "\n",
    "    except:\n",
    "        print(\"Could note retieve website.\")"
   ]
  },
  {
   "cell_type": "code",
   "execution_count": 19,
   "id": "7c6472b8",
   "metadata": {},
   "outputs": [],
   "source": [
    "\n",
    "#mapping function to wiki_df\n",
    "wiki_df = wikipedia_representatives()"
   ]
  },
  {
   "cell_type": "code",
   "execution_count": 20,
   "id": "a8cea2a1",
   "metadata": {},
   "outputs": [
    {
     "data": {
      "text/html": [
       "<div>\n",
       "<style scoped>\n",
       "    .dataframe tbody tr th:only-of-type {\n",
       "        vertical-align: middle;\n",
       "    }\n",
       "\n",
       "    .dataframe tbody tr th {\n",
       "        vertical-align: top;\n",
       "    }\n",
       "\n",
       "    .dataframe thead th {\n",
       "        text-align: right;\n",
       "    }\n",
       "</style>\n",
       "<table border=\"1\" class=\"dataframe\">\n",
       "  <thead>\n",
       "    <tr style=\"text-align: right;\">\n",
       "      <th></th>\n",
       "      <th>District</th>\n",
       "      <th>Member</th>\n",
       "      <th>Party</th>\n",
       "      <th>Party.1</th>\n",
       "      <th>Prior experience</th>\n",
       "      <th>Education</th>\n",
       "      <th>Assumed office</th>\n",
       "      <th>Residence</th>\n",
       "      <th>Born[2]</th>\n",
       "    </tr>\n",
       "  </thead>\n",
       "  <tbody>\n",
       "    <tr>\n",
       "      <th>0</th>\n",
       "      <td>Alabama 1</td>\n",
       "      <td>Jerry Carl</td>\n",
       "      <td>NaN</td>\n",
       "      <td>Republican</td>\n",
       "      <td>Mobile County Commission</td>\n",
       "      <td>Florida Gateway College</td>\n",
       "      <td>2021</td>\n",
       "      <td>Mobile</td>\n",
       "      <td>(age 63)</td>\n",
       "    </tr>\n",
       "    <tr>\n",
       "      <th>1</th>\n",
       "      <td>Alabama 2</td>\n",
       "      <td>Barry Moore</td>\n",
       "      <td>NaN</td>\n",
       "      <td>Republican</td>\n",
       "      <td>Alabama House of Representatives</td>\n",
       "      <td>Enterprise State Community College (AS)Auburn ...</td>\n",
       "      <td>2021</td>\n",
       "      <td>Enterprise</td>\n",
       "      <td>(age 55)</td>\n",
       "    </tr>\n",
       "    <tr>\n",
       "      <th>2</th>\n",
       "      <td>Alabama 3</td>\n",
       "      <td>Mike Rogers</td>\n",
       "      <td>NaN</td>\n",
       "      <td>Republican</td>\n",
       "      <td>Calhoun County CommissionerAlabama House of Re...</td>\n",
       "      <td>Jacksonville State University (BA, MPA)Birming...</td>\n",
       "      <td>2003</td>\n",
       "      <td>Anniston[3]</td>\n",
       "      <td>(age 63)</td>\n",
       "    </tr>\n",
       "    <tr>\n",
       "      <th>3</th>\n",
       "      <td>Alabama 4</td>\n",
       "      <td>Robert Aderholt</td>\n",
       "      <td>NaN</td>\n",
       "      <td>Republican</td>\n",
       "      <td>Haleyville Municipal Judge</td>\n",
       "      <td>University of North AlabamaBirminghamâSouthe...</td>\n",
       "      <td>1997</td>\n",
       "      <td>Haleyville</td>\n",
       "      <td>(age 56)</td>\n",
       "    </tr>\n",
       "    <tr>\n",
       "      <th>4</th>\n",
       "      <td>Alabama 5</td>\n",
       "      <td>Mo Brooks</td>\n",
       "      <td>NaN</td>\n",
       "      <td>Republican</td>\n",
       "      <td>Alabama House of RepresentativesMadison County...</td>\n",
       "      <td>Duke University (BA)University of Alabama (JD)</td>\n",
       "      <td>2011</td>\n",
       "      <td>Huntsville</td>\n",
       "      <td>(age 67)</td>\n",
       "    </tr>\n",
       "    <tr>\n",
       "      <th>5</th>\n",
       "      <td>Alabama 6</td>\n",
       "      <td>Gary Palmer</td>\n",
       "      <td>NaN</td>\n",
       "      <td>Republican</td>\n",
       "      <td>Policy analyst</td>\n",
       "      <td>University of Alabama (BS)</td>\n",
       "      <td>2015</td>\n",
       "      <td>Hoover</td>\n",
       "      <td>(age 67)</td>\n",
       "    </tr>\n",
       "    <tr>\n",
       "      <th>6</th>\n",
       "      <td>Alabama 7</td>\n",
       "      <td>Terri Sewell</td>\n",
       "      <td>NaN</td>\n",
       "      <td>Democratic</td>\n",
       "      <td>Attorney</td>\n",
       "      <td>Princeton University (BA)St Hilda's College, O...</td>\n",
       "      <td>2011</td>\n",
       "      <td>Birmingham</td>\n",
       "      <td>(age 57)</td>\n",
       "    </tr>\n",
       "    <tr>\n",
       "      <th>7</th>\n",
       "      <td>Alaska at-large</td>\n",
       "      <td>Don Young</td>\n",
       "      <td>NaN</td>\n",
       "      <td>Republican</td>\n",
       "      <td>Ship captainMayor of Fort YukonAlaska SenateAl...</td>\n",
       "      <td>Yuba CollegeCalifornia State University, Chico...</td>\n",
       "      <td>1973 (special)</td>\n",
       "      <td>Fort Yukon</td>\n",
       "      <td>(age 88)</td>\n",
       "    </tr>\n",
       "    <tr>\n",
       "      <th>8</th>\n",
       "      <td>Arizona 1</td>\n",
       "      <td>Tom O'Halleran</td>\n",
       "      <td>NaN</td>\n",
       "      <td>Democratic</td>\n",
       "      <td>Arizona Senate</td>\n",
       "      <td>Lewis UniversityDePaul University</td>\n",
       "      <td>2017</td>\n",
       "      <td>Sedona</td>\n",
       "      <td>(age 76)</td>\n",
       "    </tr>\n",
       "    <tr>\n",
       "      <th>9</th>\n",
       "      <td>Arizona 2</td>\n",
       "      <td>Ann Kirkpatrick</td>\n",
       "      <td>NaN</td>\n",
       "      <td>Democratic</td>\n",
       "      <td>U.S. HouseArizona House of Representatives</td>\n",
       "      <td>University of Arizona (BA, JD)</td>\n",
       "      <td>2019</td>\n",
       "      <td>Tucson</td>\n",
       "      <td>(age 71)</td>\n",
       "    </tr>\n",
       "    <tr>\n",
       "      <th>10</th>\n",
       "      <td>Arizona 3</td>\n",
       "      <td>RaÃºl Grijalva</td>\n",
       "      <td>NaN</td>\n",
       "      <td>Democratic</td>\n",
       "      <td>Pima County Board of Supervisors</td>\n",
       "      <td>University of Arizona (BA)</td>\n",
       "      <td>2003</td>\n",
       "      <td>Tucson</td>\n",
       "      <td>(age 74)</td>\n",
       "    </tr>\n",
       "    <tr>\n",
       "      <th>11</th>\n",
       "      <td>Arizona 4</td>\n",
       "      <td>Paul Gosar</td>\n",
       "      <td>NaN</td>\n",
       "      <td>Republican</td>\n",
       "      <td>President of the Northern Arizona Dental Society</td>\n",
       "      <td>Creighton University (BS, DDS)</td>\n",
       "      <td>2011</td>\n",
       "      <td>Prescott</td>\n",
       "      <td>(age 63)</td>\n",
       "    </tr>\n",
       "    <tr>\n",
       "      <th>12</th>\n",
       "      <td>Arizona 5</td>\n",
       "      <td>Andy Biggs</td>\n",
       "      <td>NaN</td>\n",
       "      <td>Republican</td>\n",
       "      <td>Arizona Senate</td>\n",
       "      <td>Brigham Young University (BA)University of Ari...</td>\n",
       "      <td>2017</td>\n",
       "      <td>Gilbert</td>\n",
       "      <td>(age 63)</td>\n",
       "    </tr>\n",
       "    <tr>\n",
       "      <th>13</th>\n",
       "      <td>Arizona 6</td>\n",
       "      <td>David Schweikert</td>\n",
       "      <td>NaN</td>\n",
       "      <td>Republican</td>\n",
       "      <td>Arizona House of RepresentativesArizona Board ...</td>\n",
       "      <td>Arizona State University, Tempe (BS, MBA)</td>\n",
       "      <td>2011</td>\n",
       "      <td>Fountain Hills[4]</td>\n",
       "      <td>(age 59)</td>\n",
       "    </tr>\n",
       "    <tr>\n",
       "      <th>14</th>\n",
       "      <td>Arizona 7</td>\n",
       "      <td>Ruben Gallego</td>\n",
       "      <td>NaN</td>\n",
       "      <td>Democratic</td>\n",
       "      <td>Arizona House of Representatives</td>\n",
       "      <td>Harvard University (BA)</td>\n",
       "      <td>2015</td>\n",
       "      <td>Phoenix</td>\n",
       "      <td>(age 42)</td>\n",
       "    </tr>\n",
       "    <tr>\n",
       "      <th>15</th>\n",
       "      <td>Arizona 8</td>\n",
       "      <td>Debbie Lesko</td>\n",
       "      <td>NaN</td>\n",
       "      <td>Republican</td>\n",
       "      <td>Arizona House of RepresentativesArizona Senate...</td>\n",
       "      <td>University of WisconsinâMadison (BA)</td>\n",
       "      <td>2018 (special)</td>\n",
       "      <td>Peoria</td>\n",
       "      <td>(age 63)</td>\n",
       "    </tr>\n",
       "    <tr>\n",
       "      <th>16</th>\n",
       "      <td>Arizona 9</td>\n",
       "      <td>Greg Stanton</td>\n",
       "      <td>NaN</td>\n",
       "      <td>Democratic</td>\n",
       "      <td>Mayor of Phoenix</td>\n",
       "      <td>Marquette University (BA)University of Michiga...</td>\n",
       "      <td>2019</td>\n",
       "      <td>Phoenix</td>\n",
       "      <td>(age 51)</td>\n",
       "    </tr>\n",
       "    <tr>\n",
       "      <th>17</th>\n",
       "      <td>Arkansas 1</td>\n",
       "      <td>Rick Crawford</td>\n",
       "      <td>NaN</td>\n",
       "      <td>Republican</td>\n",
       "      <td>BroadcasterBusinessman</td>\n",
       "      <td>Arkansas State University (BS)</td>\n",
       "      <td>2011</td>\n",
       "      <td>Jonesboro</td>\n",
       "      <td>(age 56)</td>\n",
       "    </tr>\n",
       "    <tr>\n",
       "      <th>18</th>\n",
       "      <td>Arkansas 2</td>\n",
       "      <td>French Hill</td>\n",
       "      <td>NaN</td>\n",
       "      <td>Republican</td>\n",
       "      <td>Businessman</td>\n",
       "      <td>Vanderbilt University (BS)</td>\n",
       "      <td>2015</td>\n",
       "      <td>Little Rock</td>\n",
       "      <td>(age 65)</td>\n",
       "    </tr>\n",
       "    <tr>\n",
       "      <th>19</th>\n",
       "      <td>Arkansas 3</td>\n",
       "      <td>Steve Womack</td>\n",
       "      <td>NaN</td>\n",
       "      <td>Republican</td>\n",
       "      <td>Mayor of Rogers</td>\n",
       "      <td>Arkansas Tech University (BA)</td>\n",
       "      <td>2011</td>\n",
       "      <td>Rogers</td>\n",
       "      <td>(age 65)</td>\n",
       "    </tr>\n",
       "  </tbody>\n",
       "</table>\n",
       "</div>"
      ],
      "text/plain": [
       "           District            Member Party     Party.1  \\\n",
       "0         Alabama 1        Jerry Carl   NaN  Republican   \n",
       "1         Alabama 2       Barry Moore   NaN  Republican   \n",
       "2         Alabama 3       Mike Rogers   NaN  Republican   \n",
       "3         Alabama 4   Robert Aderholt   NaN  Republican   \n",
       "4         Alabama 5         Mo Brooks   NaN  Republican   \n",
       "5         Alabama 6       Gary Palmer   NaN  Republican   \n",
       "6         Alabama 7      Terri Sewell   NaN  Democratic   \n",
       "7   Alaska at-large         Don Young   NaN  Republican   \n",
       "8         Arizona 1    Tom O'Halleran   NaN  Democratic   \n",
       "9         Arizona 2   Ann Kirkpatrick   NaN  Democratic   \n",
       "10        Arizona 3    RaÃºl Grijalva   NaN  Democratic   \n",
       "11        Arizona 4        Paul Gosar   NaN  Republican   \n",
       "12        Arizona 5        Andy Biggs   NaN  Republican   \n",
       "13        Arizona 6  David Schweikert   NaN  Republican   \n",
       "14        Arizona 7     Ruben Gallego   NaN  Democratic   \n",
       "15        Arizona 8      Debbie Lesko   NaN  Republican   \n",
       "16        Arizona 9      Greg Stanton   NaN  Democratic   \n",
       "17       Arkansas 1     Rick Crawford   NaN  Republican   \n",
       "18       Arkansas 2       French Hill   NaN  Republican   \n",
       "19       Arkansas 3      Steve Womack   NaN  Republican   \n",
       "\n",
       "                                     Prior experience  \\\n",
       "0                            Mobile County Commission   \n",
       "1                    Alabama House of Representatives   \n",
       "2   Calhoun County CommissionerAlabama House of Re...   \n",
       "3                          Haleyville Municipal Judge   \n",
       "4   Alabama House of RepresentativesMadison County...   \n",
       "5                                      Policy analyst   \n",
       "6                                            Attorney   \n",
       "7   Ship captainMayor of Fort YukonAlaska SenateAl...   \n",
       "8                                      Arizona Senate   \n",
       "9          U.S. HouseArizona House of Representatives   \n",
       "10                   Pima County Board of Supervisors   \n",
       "11   President of the Northern Arizona Dental Society   \n",
       "12                                     Arizona Senate   \n",
       "13  Arizona House of RepresentativesArizona Board ...   \n",
       "14                   Arizona House of Representatives   \n",
       "15  Arizona House of RepresentativesArizona Senate...   \n",
       "16                                   Mayor of Phoenix   \n",
       "17                             BroadcasterBusinessman   \n",
       "18                                        Businessman   \n",
       "19                                    Mayor of Rogers   \n",
       "\n",
       "                                            Education  Assumed office  \\\n",
       "0                             Florida Gateway College            2021   \n",
       "1   Enterprise State Community College (AS)Auburn ...            2021   \n",
       "2   Jacksonville State University (BA, MPA)Birming...            2003   \n",
       "3   University of North AlabamaBirminghamâSouthe...            1997   \n",
       "4      Duke University (BA)University of Alabama (JD)            2011   \n",
       "5                          University of Alabama (BS)            2015   \n",
       "6   Princeton University (BA)St Hilda's College, O...            2011   \n",
       "7   Yuba CollegeCalifornia State University, Chico...  1973 (special)   \n",
       "8                   Lewis UniversityDePaul University            2017   \n",
       "9                      University of Arizona (BA, JD)            2019   \n",
       "10                         University of Arizona (BA)            2003   \n",
       "11                     Creighton University (BS, DDS)            2011   \n",
       "12  Brigham Young University (BA)University of Ari...            2017   \n",
       "13          Arizona State University, Tempe (BS, MBA)            2011   \n",
       "14                            Harvard University (BA)            2015   \n",
       "15             University of WisconsinâMadison (BA)  2018 (special)   \n",
       "16  Marquette University (BA)University of Michiga...            2019   \n",
       "17                     Arkansas State University (BS)            2011   \n",
       "18                         Vanderbilt University (BS)            2015   \n",
       "19                      Arkansas Tech University (BA)            2011   \n",
       "\n",
       "            Residence   Born[2]  \n",
       "0              Mobile  (age 63)  \n",
       "1          Enterprise  (age 55)  \n",
       "2         Anniston[3]  (age 63)  \n",
       "3          Haleyville  (age 56)  \n",
       "4          Huntsville  (age 67)  \n",
       "5              Hoover  (age 67)  \n",
       "6          Birmingham  (age 57)  \n",
       "7          Fort Yukon  (age 88)  \n",
       "8              Sedona  (age 76)  \n",
       "9              Tucson  (age 71)  \n",
       "10             Tucson  (age 74)  \n",
       "11           Prescott  (age 63)  \n",
       "12            Gilbert  (age 63)  \n",
       "13  Fountain Hills[4]  (age 59)  \n",
       "14            Phoenix  (age 42)  \n",
       "15             Peoria  (age 63)  \n",
       "16            Phoenix  (age 51)  \n",
       "17          Jonesboro  (age 56)  \n",
       "18        Little Rock  (age 65)  \n",
       "19             Rogers  (age 65)  "
      ]
     },
     "execution_count": 20,
     "metadata": {},
     "output_type": "execute_result"
    }
   ],
   "source": [
    "#checking null, adjustement names to be made, \n",
    "wiki_df.head(20)"
   ]
  },
  {
   "cell_type": "code",
   "execution_count": 21,
   "id": "607ab923",
   "metadata": {},
   "outputs": [],
   "source": [
    "#Updating some header names \n",
    "#making them easier to call\n",
    "\n",
    "#swapped party1 and poli_party , party will be removed due to null values\n",
    "\n",
    "header_name = ['District','Candidate','Party1','Poli_Party','Experience','Cand_Education','Start_Date','Residence','Age']\n",
    "\n",
    "\n",
    "#Take each name in heards and replace headrs in df \n",
    "wiki_df.columns = [x for x in header_name]\n",
    "\n"
   ]
  },
  {
   "cell_type": "code",
   "execution_count": 22,
   "id": "f5bf976a",
   "metadata": {},
   "outputs": [
    {
     "data": {
      "text/html": [
       "<div>\n",
       "<style scoped>\n",
       "    .dataframe tbody tr th:only-of-type {\n",
       "        vertical-align: middle;\n",
       "    }\n",
       "\n",
       "    .dataframe tbody tr th {\n",
       "        vertical-align: top;\n",
       "    }\n",
       "\n",
       "    .dataframe thead th {\n",
       "        text-align: right;\n",
       "    }\n",
       "</style>\n",
       "<table border=\"1\" class=\"dataframe\">\n",
       "  <thead>\n",
       "    <tr style=\"text-align: right;\">\n",
       "      <th></th>\n",
       "      <th>District</th>\n",
       "      <th>Candidate</th>\n",
       "      <th>Poli_Party</th>\n",
       "      <th>Experience</th>\n",
       "      <th>Cand_Education</th>\n",
       "      <th>Start_Date</th>\n",
       "      <th>Residence</th>\n",
       "      <th>Age</th>\n",
       "    </tr>\n",
       "  </thead>\n",
       "  <tbody>\n",
       "    <tr>\n",
       "      <th>0</th>\n",
       "      <td>Alabama 1</td>\n",
       "      <td>Jerry Carl</td>\n",
       "      <td>Republican</td>\n",
       "      <td>Mobile County Commission</td>\n",
       "      <td>Florida Gateway College</td>\n",
       "      <td>2021</td>\n",
       "      <td>Mobile</td>\n",
       "      <td>(age 63)</td>\n",
       "    </tr>\n",
       "    <tr>\n",
       "      <th>1</th>\n",
       "      <td>Alabama 2</td>\n",
       "      <td>Barry Moore</td>\n",
       "      <td>Republican</td>\n",
       "      <td>Alabama House of Representatives</td>\n",
       "      <td>Enterprise State Community College (AS)Auburn ...</td>\n",
       "      <td>2021</td>\n",
       "      <td>Enterprise</td>\n",
       "      <td>(age 55)</td>\n",
       "    </tr>\n",
       "    <tr>\n",
       "      <th>2</th>\n",
       "      <td>Alabama 3</td>\n",
       "      <td>Mike Rogers</td>\n",
       "      <td>Republican</td>\n",
       "      <td>Calhoun County CommissionerAlabama House of Re...</td>\n",
       "      <td>Jacksonville State University (BA, MPA)Birming...</td>\n",
       "      <td>2003</td>\n",
       "      <td>Anniston[3]</td>\n",
       "      <td>(age 63)</td>\n",
       "    </tr>\n",
       "    <tr>\n",
       "      <th>3</th>\n",
       "      <td>Alabama 4</td>\n",
       "      <td>Robert Aderholt</td>\n",
       "      <td>Republican</td>\n",
       "      <td>Haleyville Municipal Judge</td>\n",
       "      <td>University of North AlabamaBirminghamâSouthe...</td>\n",
       "      <td>1997</td>\n",
       "      <td>Haleyville</td>\n",
       "      <td>(age 56)</td>\n",
       "    </tr>\n",
       "    <tr>\n",
       "      <th>4</th>\n",
       "      <td>Alabama 5</td>\n",
       "      <td>Mo Brooks</td>\n",
       "      <td>Republican</td>\n",
       "      <td>Alabama House of RepresentativesMadison County...</td>\n",
       "      <td>Duke University (BA)University of Alabama (JD)</td>\n",
       "      <td>2011</td>\n",
       "      <td>Huntsville</td>\n",
       "      <td>(age 67)</td>\n",
       "    </tr>\n",
       "  </tbody>\n",
       "</table>\n",
       "</div>"
      ],
      "text/plain": [
       "    District        Candidate  Poli_Party  \\\n",
       "0  Alabama 1       Jerry Carl  Republican   \n",
       "1  Alabama 2      Barry Moore  Republican   \n",
       "2  Alabama 3      Mike Rogers  Republican   \n",
       "3  Alabama 4  Robert Aderholt  Republican   \n",
       "4  Alabama 5        Mo Brooks  Republican   \n",
       "\n",
       "                                          Experience  \\\n",
       "0                           Mobile County Commission   \n",
       "1                   Alabama House of Representatives   \n",
       "2  Calhoun County CommissionerAlabama House of Re...   \n",
       "3                         Haleyville Municipal Judge   \n",
       "4  Alabama House of RepresentativesMadison County...   \n",
       "\n",
       "                                      Cand_Education Start_Date    Residence  \\\n",
       "0                            Florida Gateway College       2021       Mobile   \n",
       "1  Enterprise State Community College (AS)Auburn ...       2021   Enterprise   \n",
       "2  Jacksonville State University (BA, MPA)Birming...       2003  Anniston[3]   \n",
       "3  University of North AlabamaBirminghamâSouthe...       1997   Haleyville   \n",
       "4     Duke University (BA)University of Alabama (JD)       2011   Huntsville   \n",
       "\n",
       "        Age  \n",
       "0  (age 63)  \n",
       "1  (age 55)  \n",
       "2  (age 63)  \n",
       "3  (age 56)  \n",
       "4  (age 67)  "
      ]
     },
     "execution_count": 22,
     "metadata": {},
     "output_type": "execute_result"
    }
   ],
   "source": [
    "# Removing Null Feild party one\n",
    "# All Values in the data set where null\n",
    "\n",
    "#droping null values for beetter reablity \n",
    "\n",
    "wiki_df.drop(columns=['Party1'],axis=1, inplace=True)\n",
    "\n",
    "\n",
    "wiki_df.head()\n"
   ]
  },
  {
   "cell_type": "code",
   "execution_count": 23,
   "id": "8d8810bb",
   "metadata": {},
   "outputs": [],
   "source": [
    "# Age is saved as (age 56) in data feild taking \n",
    "\n",
    "#setting empty arry for age values\n",
    "filter_ages = []\n",
    "#taking all age\n",
    "for age in wiki_df['Age']:\n",
    "    #step -------- taking regex and cutting out age and ()\n",
    "    n=re.findall('[0-9]+',age)\n",
    "    #Returned allo values \n",
    "    for number in n:\n",
    "        filter_ages.append(number)"
   ]
  },
  {
   "cell_type": "code",
   "execution_count": 24,
   "id": "0deb0fa5",
   "metadata": {},
   "outputs": [
    {
     "name": "stdout",
     "output_type": "stream",
     "text": [
      "['63', '55', '56', '67', '57', '88', '76', '71', '74', '59', '42', '51', '65', '54', '61', '58', '77', '70', '35', '69', '81', '75', '41', '45', '79', '52', '44', '68', '85', '47', '49', '53', '80', '83', '48', '64', '66', '43', '60', '33', '37', '73', '78', '39', '34', '72', '50', '62', '38', '84', '40', '82', '46', '32', '26', '86']\n"
     ]
    }
   ],
   "source": [
    "unique_age = []\n",
    "for age in filter_ages:\n",
    "    if age not in unique_age and age.isnumeric():\n",
    "        unique_age.append(age)\n",
    "print(unique_age)"
   ]
  },
  {
   "cell_type": "code",
   "execution_count": 25,
   "id": "89e01981",
   "metadata": {},
   "outputs": [
    {
     "name": "stdout",
     "output_type": "stream",
     "text": [
      "{'63': 15, '55': 14, '56': 14, '67': 13, '57': 14, '88': 1, '76': 5, '71': 12, '74': 13, '59': 14, '42': 6, '51': 9, '65': 13, '54': 5, '61': 13, '58': 18, '77': 5, '70': 9, '35': 3, '69': 10, '81': 3, '75': 7, '41': 8, '45': 12, '79': 3, '52': 10, '44': 5, '68': 16, '85': 2, '47': 6, '49': 6, '53': 8, '80': 4, '83': 1, '48': 12, '64': 9, '66': 12, '43': 11, '60': 17, '33': 2, '37': 8, '73': 8, '78': 2, '39': 5, '34': 5, '72': 6, '50': 11, '62': 10, '38': 5, '84': 1, '40': 2, '82': 1, '46': 6, '32': 1, '26': 1, '86': 1}\n"
     ]
    }
   ],
   "source": [
    "# find words with their count\n",
    "\n",
    "\n",
    "#setting dic to empty \n",
    "agedic = {}\n",
    "# Getting unique day values\n",
    "for age in unique_age:\n",
    "    #setting a current age values\n",
    "    current_age = age\n",
    "    count = 0\n",
    "    #if an occurance of the unique value add counter\n",
    "    for age_can in filter_ages:\n",
    "        if(current_age ==  age_can):\n",
    "            count = count + 1\n",
    "            agedic[age] = count\n",
    "#storing values in dictionary now I can map the data\n",
    "        \n",
    "print(agedic)"
   ]
  },
  {
   "cell_type": "code",
   "execution_count": 26,
   "id": "8e1f110a",
   "metadata": {},
   "outputs": [],
   "source": [
    "#Argument takes in dictionary and returns a list of tuples in order. \n",
    "#the data and futrue graphs will be more readable.\n",
    "sorted_dictionary = sorted(agedic.items(), key=lambda x: x)"
   ]
  },
  {
   "cell_type": "code",
   "execution_count": 27,
   "id": "77da0fb6",
   "metadata": {},
   "outputs": [
    {
     "data": {
      "image/png": "[encoded data removed]",
      "text/plain": [
       "<Figure size 1080x1080 with 1 Axes>"
      ]
     },
     "metadata": {
      "needs_background": "light"
     },
     "output_type": "display_data"
    }
   ],
   "source": [
    "#sorted_dictionary \n",
    "#unpackinging sorted \n",
    "#seems like an amazing task to be 88 and in office\n",
    "#At 23  I was still in school lol!\n",
    "\n",
    "\n",
    "\n",
    "plt.figure(figsize=(15, 15))\n",
    "plt.title(\"Age of congress men \")\n",
    "plt.bar(*zip(*sorted_dictionary))\n",
    "plt.show()\n"
   ]
  },
  {
   "cell_type": "code",
   "execution_count": 28,
   "id": "55a08403",
   "metadata": {},
   "outputs": [],
   "source": [
    "# State dictionary copied from git hub on states \n",
    "#will be used to refactor state intailies as a way to keep a counter\n",
    "states = {\n",
    "    'AK': 'Alaska',\n",
    "    'AL': 'Alabama',\n",
    "    'AR': 'Arkansas',\n",
    "    'AZ': 'Arizona',\n",
    "    'CA': 'California',\n",
    "    'CO': 'Colorado',\n",
    "    'CT': 'Connecticut',\n",
    "    'DC': 'District of Columbia',\n",
    "    'DE': 'Delaware',\n",
    "    'FL': 'Florida',\n",
    "    'GA': 'Georgia',\n",
    "    'HI': 'Hawaii',\n",
    "    'IA': 'Iowa',\n",
    "    'ID': 'Idaho',\n",
    "    'IL': 'Illinois',\n",
    "    'IN': 'Indiana',\n",
    "    'KS': 'Kansas',\n",
    "    'KY': 'Kentucky',\n",
    "    'LA': 'Louisiana',\n",
    "    'MA': 'Massachusetts',\n",
    "    'MD': 'Maryland',\n",
    "    'ME': 'Maine',\n",
    "    'MI': 'Michigan',\n",
    "    'MN': 'Minnesota',\n",
    "    'MO': 'Missouri',\n",
    "    'MS': 'Mississippi',\n",
    "    'MT': 'Montana',\n",
    "    'NC': 'North Carolina',\n",
    "    'ND': 'North Dakota',\n",
    "    'NE': 'Nebraska',\n",
    "    'NH': 'New Hampshire',\n",
    "    'NJ': 'New Jersey',\n",
    "    'NM': 'New Mexico',\n",
    "    'NV': 'Nevada',\n",
    "    'NY': 'New York',\n",
    "    'OH': 'Ohio',\n",
    "    'OK': 'Oklahoma',\n",
    "    'OR': 'Oregon',\n",
    "    'PA': 'Pennsylvania',\n",
    "    'RI': 'Rhode Island',\n",
    "    'SC': 'South Carolina',\n",
    "    'SD': 'South Dakota',\n",
    "    'TN': 'Tennessee',\n",
    "    'TX': 'Texas',\n",
    "    'UT': 'Utah',\n",
    "    'VA': 'Virginia',\n",
    "    'VT': 'Vermont',\n",
    "    'WA': 'Washington',\n",
    "    'WI': 'Wisconsin',\n",
    "    'WV': 'West Virginia',\n",
    "    'WY': 'Wyoming'\n",
    "}"
   ]
  },
  {
   "cell_type": "code",
   "execution_count": 29,
   "id": "38d8e0e1",
   "metadata": {},
   "outputs": [
    {
     "name": "stdout",
     "output_type": "stream",
     "text": [
      "364\n"
     ]
    }
   ],
   "source": [
    "\n",
    "state_list = []\n",
    "for district in wiki_df['District']:\n",
    "    # Looking at the first word in the var value example alabama 1 will only look at alabama excluding anything after the space \n",
    "    state =re.findall('[^\\s]+',district)\n",
    "    \n",
    "    #checking state is in state dictionary \n",
    "    if (state[0] in states.values()):\n",
    "        \n",
    "        #looking through each item in dictionary \n",
    "        for key, value in states.items():\n",
    "            #checking that state is in dictinary\n",
    "            if state[0] == value:\n",
    "    \n",
    "                #adding to list\n",
    "                state_list.append(key)\n",
    "            \n",
    "# The list returned contains each district that is inserted by a state value \n",
    "#each value after that is considered to be wrong\n",
    "                \n",
    "print(len(state_list))\n",
    "    "
   ]
  },
  {
   "cell_type": "code",
   "execution_count": 30,
   "id": "5755fbd9",
   "metadata": {},
   "outputs": [
    {
     "data": {
      "text/plain": [
       "71"
      ]
     },
     "execution_count": 30,
     "metadata": {},
     "output_type": "execute_result"
    }
   ],
   "source": [
    "# There are 71 values that are no in state number format\n",
    "int(wiki_df.shape[0]-len(state_list))  "
   ]
  },
  {
   "cell_type": "markdown",
   "id": "5855b8b6",
   "metadata": {},
   "source": [
    "# Felipe Castillo\n",
    "# Data Preparation\n",
    "# Milestone 5\n",
    "# 03/04/2022"
   ]
  },
  {
   "cell_type": "code",
   "execution_count": 384,
   "id": "26e13f26",
   "metadata": {},
   "outputs": [],
   "source": [
    "import sqlite3 as db\n",
    "import sqlalchemy as sqla"
   ]
  },
  {
   "cell_type": "code",
   "execution_count": 730,
   "id": "6df6648d",
   "metadata": {},
   "outputs": [],
   "source": [
    "#wiki_df.head(4)"
   ]
  },
  {
   "cell_type": "code",
   "execution_count": 731,
   "id": "e3b34c3f",
   "metadata": {
    "scrolled": true
   },
   "outputs": [],
   "source": [
    "#senate_76_20_dfRowsDF.head(4)"
   ]
  },
  {
   "cell_type": "code",
   "execution_count": 732,
   "id": "97c7a710",
   "metadata": {
    "scrolled": true
   },
   "outputs": [],
   "source": [
    "#df_congress_api.head(5)"
   ]
  },
  {
   "cell_type": "code",
   "execution_count": 388,
   "id": "25213306",
   "metadata": {},
   "outputs": [
    {
     "data": {
      "text/plain": [
       "Index(['candidate_name', 'state', 'total_pac_money', 'total_individual',\n",
       "       'total_contributions', 'begin_cash', 'end_cash', 'total_refunds',\n",
       "       'debts_owed', 'date'],\n",
       "      dtype='object')"
      ]
     },
     "execution_count": 388,
     "metadata": {},
     "output_type": "execute_result"
    }
   ],
   "source": [
    "df_congress_api.columns"
   ]
  },
  {
   "cell_type": "code",
   "execution_count": 389,
   "id": "2833562f",
   "metadata": {},
   "outputs": [],
   "source": [
    "#connceting to sqlite\n",
    "#mydata.sqlite\n",
    "#making a data base \n",
    "con = sqlite3.connect(\"House_Representatives.db\")"
   ]
  },
  {
   "cell_type": "code",
   "execution_count": 390,
   "id": "9cc72467",
   "metadata": {},
   "outputs": [],
   "source": [
    "con.commit()"
   ]
  },
  {
   "cell_type": "code",
   "execution_count": 392,
   "id": "bcebaf0b",
   "metadata": {},
   "outputs": [],
   "source": [
    "#making congress api table\n",
    "df_congress_api.to_sql(name='congress_api', con=con)"
   ]
  },
  {
   "cell_type": "code",
   "execution_count": 214,
   "id": "50af846b",
   "metadata": {},
   "outputs": [],
   "source": [
    "#making sentate csv table \n",
    "senate_76_20_dfRowsDF.to_sql(name='senate_csv', con=con)"
   ]
  },
  {
   "cell_type": "code",
   "execution_count": 215,
   "id": "4d1d5ad9",
   "metadata": {},
   "outputs": [],
   "source": [
    "#making house rep wiki table\n",
    "wiki_df.to_sql(name='House_Rep_Wiki', con=con)"
   ]
  },
  {
   "cell_type": "code",
   "execution_count": 195,
   "id": "c39f5c88",
   "metadata": {},
   "outputs": [
    {
     "data": {
      "text/plain": [
       "<sqlite3.Cursor at 0x1b5ce5d0d50>"
      ]
     },
     "execution_count": 195,
     "metadata": {},
     "output_type": "execute_result"
    }
   ],
   "source": [
    "#con.execute(query)"
   ]
  },
  {
   "cell_type": "code",
   "execution_count": 216,
   "id": "4a5ca68f",
   "metadata": {},
   "outputs": [],
   "source": [
    "conn = sqlite3.connect('House_Representatives.db')"
   ]
  },
  {
   "cell_type": "code",
   "execution_count": 217,
   "id": "faa62c6c",
   "metadata": {},
   "outputs": [],
   "source": [
    "#establishing cursor for data base\n",
    "cursor = conn.cursor()"
   ]
  },
  {
   "cell_type": "code",
   "execution_count": 230,
   "id": "d70052ce",
   "metadata": {},
   "outputs": [
    {
     "data": {
      "text/plain": [
       "<sqlite3.Cursor at 0x1b5ce5d6ea0>"
      ]
     },
     "execution_count": 230,
     "metadata": {},
     "output_type": "execute_result"
    }
   ],
   "source": [
    "cursor.execute(\"SELECT name FROM sqlite_master WHERE type='table';\")"
   ]
  },
  {
   "cell_type": "code",
   "execution_count": 231,
   "id": "d6999c27",
   "metadata": {},
   "outputs": [
    {
     "name": "stdout",
     "output_type": "stream",
     "text": [
      "[('congress_api',), ('senate_csv',), ('House_Rep_Wiki',)]\n"
     ]
    }
   ],
   "source": [
    "#two tables inside db\n",
    "# making sure all tables are create \n",
    "print(cursor.fetchall())"
   ]
  },
  {
   "cell_type": "code",
   "execution_count": 480,
   "id": "b8aa6cfb",
   "metadata": {},
   "outputs": [
    {
     "name": "stdout",
     "output_type": "stream",
     "text": [
      "\n",
      "---------DATA ROWS For API Data Set-----------:\n"
     ]
    }
   ],
   "source": [
    "#priting api table make sure it works \n",
    "print('\\n---------DATA ROWS For API Data Set-----------:')\n",
    "data=cursor.execute('''SELECT * from congress_api''')\n",
    "#for i in data:\n",
    "    #print(i)"
   ]
  },
  {
   "cell_type": "code",
   "execution_count": 232,
   "id": "a77e0a2d",
   "metadata": {
    "scrolled": false
   },
   "outputs": [],
   "source": [
    "\n",
    "#print senate data table\n",
    "print('\\n---------DATA ROWS For CSV  Data Set-----------:')\n",
    "data=cursor.execute('''SELECT * from senate_csv''')\n",
    "#for i in data:\n",
    " #   print(i)"
   ]
  },
  {
   "cell_type": "code",
   "execution_count": 479,
   "id": "b3005d47",
   "metadata": {},
   "outputs": [
    {
     "name": "stdout",
     "output_type": "stream",
     "text": [
      "\n",
      "---------DATA ROWS For Website  Data Set-----------:\n"
     ]
    }
   ],
   "source": [
    "#printing wiki table \n",
    "print('\\n---------DATA ROWS For Website  Data Set-----------:')\n",
    "data=cursor.execute('''SELECT * from House_Rep_Wiki''')\n",
    "#for i in data:\n",
    "    #print(i)"
   ]
  },
  {
   "cell_type": "markdown",
   "id": "a598b852",
   "metadata": {},
   "source": [
    "First graph will include data from three different data sets. The graph will take the amount of congress men mentioned in each data source. Mentioned and none mentioned will be accounted for and distributed in a pie chart. This is important to show the different people across data sets."
   ]
  },
  {
   "cell_type": "markdown",
   "id": "c9f35952",
   "metadata": {},
   "source": [
    "Step 1: Getting data from all 3 tables"
   ]
  },
  {
   "cell_type": "code",
   "execution_count": 297,
   "id": "30bcb1c5",
   "metadata": {},
   "outputs": [],
   "source": [
    "#combinding all tables into one larger table\n",
    "data_combind=cursor.execute('''select candidate_name,state,total_pac_money from congress_api union all select candidate,state,state_fips from senate_csv union all select Candidate,Poli_Party, Age from House_Rep_Wiki''')"
   ]
  },
  {
   "cell_type": "markdown",
   "id": "798029fd",
   "metadata": {},
   "source": [
    "Step 2: storing only names "
   ]
  },
  {
   "cell_type": "code",
   "execution_count": 309,
   "id": "1b8ca737",
   "metadata": {
    "scrolled": false
   },
   "outputs": [],
   "source": [
    "#storing names\n",
    "names_combind_array = []\n",
    "\n",
    "for i in data_combind:\n",
    "    #checking that there is no numeric values in data \n",
    "    if(str(i[0]).isnumeric() == False):\n",
    "        #only allowing names to pass\n",
    "        names_combind_array.append(str(i[0]))\n",
    "        \n",
    "#print(names_combind_array)"
   ]
  },
  {
   "cell_type": "markdown",
   "id": "490717d3",
   "metadata": {},
   "source": [
    "Step 3: Making sure names are only accounted once, if felipe then I can insert another Felipe"
   ]
  },
  {
   "cell_type": "code",
   "execution_count": 299,
   "id": "739a6b12",
   "metadata": {},
   "outputs": [],
   "source": [
    "#making a unique reference name\n",
    "unique_names = []\n",
    "\n",
    "for name in names_combind_array:\n",
    "    #if the uniques column doesn have names\n",
    "    if name not in unique_names:\n",
    "        #append names not in unique table\n",
    "        unique_names.append(name)\n",
    "#print(unique_names)"
   ]
  },
  {
   "cell_type": "markdown",
   "id": "4f9d32fe",
   "metadata": {},
   "source": [
    "Step 4: Adding a count for names the appear more then once."
   ]
  },
  {
   "cell_type": "code",
   "execution_count": 310,
   "id": "4c8c04de",
   "metadata": {},
   "outputs": [],
   "source": [
    "# find the names in the 3 data sources\n",
    "# this is important to see if the candiate is mentioned in all data set\n",
    "#this will be accomplish with contain\n",
    "\n",
    "#setting dic to empty \n",
    "namedic = {}\n",
    "\n",
    "# Getting uique day values\n",
    "for name in unique_names:\n",
    "    \n",
    "    #setting a current age values\n",
    "    current_name = name\n",
    "    count = 0\n",
    "    #if an occurance of the unique value add counter\n",
    "    for j in names_combind_array:\n",
    "        #Checking to is if unique value contains pointed values\n",
    "        #adding counter to time metioned\n",
    "        if(j in current_name):\n",
    "            count = count + 1\n",
    "    # Making sure there are no null values\n",
    "    if(name != ''):\n",
    "        namedic[name] = count\n",
    "        \n",
    "    \n",
    "        \n",
    "#print(namedic)\n",
    "        "
   ]
  },
  {
   "cell_type": "markdown",
   "id": "19e4043f",
   "metadata": {},
   "source": [
    "Step 5: Checking if the values in dictionary contains names and if value is greater then one. This mean the name was reapted in a different data sources."
   ]
  },
  {
   "cell_type": "code",
   "execution_count": 301,
   "id": "10c566e7",
   "metadata": {},
   "outputs": [
    {
     "name": "stdout",
     "output_type": "stream",
     "text": [
      "{'Repeated': 189, 'Not Repeated': 776}\n"
     ]
    }
   ],
   "source": [
    "\n",
    "#stroing repeated and not repeated balues\n",
    "names_dataset_dic ={}\n",
    "\n",
    "#iterating key and value of the names counter \n",
    "for key, value in namedic.items():\n",
    "    #if the person is mention more then 1 time it means they are share names in data sets\n",
    "    if int(value) > 1:\n",
    "        #setting a counter inside of dictionary\n",
    "        #if the value is greater then one the counter of repated increase by one\n",
    "        names_dataset_dic[\"Repeated\"] =  names_dataset_dic.get(\"Repeated\", 0) + 1\n",
    "    else:\n",
    "        #the value is not repeated the value increase by one \n",
    "         names_dataset_dic[\"Not Repeated\"] =  names_dataset_dic.get(\"Not Repeated\", 0) + 1\n",
    "        \n",
    "print(names_dataset_dic)       \n"
   ]
  },
  {
   "cell_type": "markdown",
   "id": "b519ca18",
   "metadata": {},
   "source": [
    "Step 6: Plot dictionary into pie char"
   ]
  },
  {
   "cell_type": "code",
   "execution_count": 302,
   "id": "5ee5d090",
   "metadata": {},
   "outputs": [
    {
     "data": {
      "image/png": "[encoded data removed]",
      "text/plain": [
       "<Figure size 720x720 with 1 Axes>"
      ]
     },
     "metadata": {},
     "output_type": "display_data"
    }
   ],
   "source": [
    "# This means all data sets mention the congress men by name\n",
    "# This also means that a percntage have been both sentors and house of represnetatives\n",
    "labels = names_dataset_dic.keys()\n",
    "\n",
    "#setting plot figure size\n",
    "fig = plt.figure(figsize=(10,10))\n",
    "ax = fig.add_axes((0,0,.5,1))\n",
    "#setting name\n",
    "plt.title(\"Percentage of Congress Men In All Data Sets\")\n",
    "#unpacking values in pie\n",
    "ax.pie(names_dataset_dic.values(),  labels=labels, autopct='%1.1f%%',\n",
    "        shadow=True, startangle=90)\n",
    "ax.axis('equal')  \n",
    "plt.show()"
   ]
  },
  {
   "cell_type": "markdown",
   "id": "a03c7c4c",
   "metadata": {},
   "source": [
    "Second table will contain two different data source. This table will see if the data is objective or if it is fair to all parties. If its only democratic information, an assessment can be made for republican."
   ]
  },
  {
   "cell_type": "markdown",
   "id": "6929326f",
   "metadata": {},
   "source": [
    "Step 1: Taking data from senate csv and house wiki"
   ]
  },
  {
   "cell_type": "code",
   "execution_count": 723,
   "id": "7fc22058",
   "metadata": {},
   "outputs": [],
   "source": [
    "\n",
    "# checking two tables that mention political parties\n",
    "#seeing if the data is objective or if its leaning towards one side over the other\n",
    "data_combind=cursor.execute('''select candidate,political_parties,state_fips from senate_csv  union all select Candidate,Poli_Party, Age from House_Rep_Wiki''')"
   ]
  },
  {
   "cell_type": "code",
   "execution_count": 729,
   "id": "22b0a23a",
   "metadata": {},
   "outputs": [],
   "source": [
    "#arrange names to understand them better\n",
    "#currently some names are in reverse state \n",
    "#for personal use none graph purposes \n",
    "# being used to see the names in first name, last name bases\n",
    "#example Felipe Castillo, instead of Castillo ,Felipe \n",
    "\n",
    "\n",
    "namespartiesList = []\n",
    "\n",
    "print(\"----Personal Use-------\")\n",
    "for obj in data_combind:\n",
    "    current_name = obj[0]\n",
    "    print(\"______\",current_name)\n",
    "    \n",
    "    first_name = ''\n",
    "    last_name = ''\n",
    "    for name in data_combind:\n",
    "        if \",\" in name[0]:\n",
    "            temp_f_name = name[0].split(',')[1]\n",
    "            last_name = name[0].split(',')[0]\n",
    "            if (' '  in temp_f_name) == True :\n",
    "                first_name = temp_f_name.split(' ')[1]\n",
    "            \n",
    "            else:\n",
    "                first_name = temp_f_name\n",
    "            \n",
    "            \n",
    "            namespartiesList.append(first_name +\" \"+last_name)\n",
    "            \n",
    "#print(namespartiesList)      \n",
    "        \n",
    "        \n",
    "                "
   ]
  },
  {
   "cell_type": "markdown",
   "id": "c3fd7cea",
   "metadata": {},
   "source": [
    "Step 2: Check  and store the ammount of occurences per party. In this case we care about main parties democrat and repblican."
   ]
  },
  {
   "cell_type": "code",
   "execution_count": 727,
   "id": "13f255e0",
   "metadata": {},
   "outputs": [],
   "source": [
    "\n",
    "#stored rublicans\n",
    "party_aff_r = []\n",
    "#store democrats\n",
    "party_aff_d = []\n",
    "\n",
    "#Two tables are combind in one\n",
    "#iterating throught tables one is lower case and the other is upper case\n",
    "for obj in data_combind:\n",
    "    print(obj[1])\n",
    "    #checking if data is this or that\n",
    "    if(obj[1] == 'Republican' or obj[1] == 'REPUBLICAN' ):\n",
    "        #print('----r----' , obj[0])\n",
    "        #appending as r\n",
    "        party_aff_r.append('R')\n",
    "        \n",
    "    #checking if data is this or that\n",
    "    if(obj[1] == 'Democratic'or obj[1] == 'DEMOCRAT'):\n",
    "        #print('----d---',obj[0])\n",
    "        #appending d\n",
    "        party_aff_d.append('D')\n"
   ]
  },
  {
   "cell_type": "markdown",
   "id": "e4da2590",
   "metadata": {},
   "source": [
    "Step: 3 combinded occurence into one array by count."
   ]
  },
  {
   "cell_type": "code",
   "execution_count": 725,
   "id": "303d7930",
   "metadata": {},
   "outputs": [],
   "source": [
    "#both arrays will be combind into one \n",
    "poli_compare_list = []\n",
    "#append the aount of r in party aff r\n",
    "poli_compare_list.append(len(party_aff_r))\n",
    "#append the aount of d in party aff d\n",
    "poli_compare_list.append(len(party_aff_d))\n"
   ]
  },
  {
   "cell_type": "markdown",
   "id": "79ac7abd",
   "metadata": {},
   "source": [
    "Step: 4 plot bar graph."
   ]
  },
  {
   "cell_type": "code",
   "execution_count": 728,
   "id": "8d622eb7",
   "metadata": {},
   "outputs": [
    {
     "data": {
      "text/plain": [
       "<BarContainer object of 2 artists>"
      ]
     },
     "execution_count": 728,
     "metadata": {},
     "output_type": "execute_result"
    },
    {
     "data": {
      "image/png": "[encoded data removed]",
      "text/plain": [
       "<Figure size 432x288 with 1 Axes>"
      ]
     },
     "metadata": {
      "needs_background": "light"
     },
     "output_type": "display_data"
    }
   ],
   "source": [
    "#setting labels for bar graph\n",
    "labels = ['R','D']\n",
    "plt.title(\"Poltical Parties\")\n",
    "plt.xlabel(\"Poltical Affliation\")\n",
    "plt.ylabel(\"Number of Candiates\")\n",
    "\n",
    "#pushing labels and combined array\n",
    "plt.bar(labels, poli_compare_list)\n",
    "\n",
    "#looks very close but there is more republicans data "
   ]
  },
  {
   "cell_type": "markdown",
   "id": "d2d1ab58",
   "metadata": {},
   "source": [
    "Table 3 only looks at congress api table to get a better understanding of political contributions."
   ]
  },
  {
   "cell_type": "markdown",
   "id": "e040f9a4",
   "metadata": {},
   "source": [
    "Step 1: Getting and store total_contributions"
   ]
  },
  {
   "cell_type": "code",
   "execution_count": 742,
   "id": "24b727ca",
   "metadata": {},
   "outputs": [],
   "source": [
    "candidate_finance = []\n",
    "\n",
    "#taking api information total contributions\n",
    "data=cursor.execute('''SELECT candidate_name,total_contributions from congress_api''')\n",
    "for i in data:\n",
    "    #appending into and array\n",
    "    candidate_finance.append(i[1])\n",
    "    "
   ]
  },
  {
   "cell_type": "markdown",
   "id": "2ace3ef1",
   "metadata": {},
   "source": [
    "Step 2: Converting it into a np array for better handling"
   ]
  },
  {
   "cell_type": "code",
   "execution_count": 318,
   "id": "b9e0f938",
   "metadata": {},
   "outputs": [],
   "source": [
    "#converting it into a np array \n",
    "cand_finance = np.array(candidate_finance)"
   ]
  },
  {
   "cell_type": "markdown",
   "id": "bf448fe1",
   "metadata": {},
   "source": [
    "Step 3: Plot Histogram"
   ]
  },
  {
   "cell_type": "code",
   "execution_count": 324,
   "id": "bb7e28e1",
   "metadata": {
    "scrolled": true
   },
   "outputs": [
    {
     "data": {
      "image/png": "[encoded data removed]",
      "text/plain": [
       "<Figure size 432x288 with 1 Axes>"
      ]
     },
     "metadata": {
      "needs_background": "light"
     },
     "output_type": "display_data"
    }
   ],
   "source": [
    "#Made a historgram of financal cntribution for congress men \n",
    "#has an obvious outlier\n",
    "plt.title(\"Finance Contribution\")\n",
    "plt.hist(cand_finance, bins=40)  \n",
    "plt.ylabel('frequency')\n",
    "plt.xlabel('Money');"
   ]
  },
  {
   "cell_type": "markdown",
   "id": "5947d3bf",
   "metadata": {},
   "source": [
    "The fourth table will show the total amount contribution made to each state."
   ]
  },
  {
   "cell_type": "markdown",
   "id": "83a1697f",
   "metadata": {},
   "source": [
    "Step 1: Getting congress api table."
   ]
  },
  {
   "cell_type": "code",
   "execution_count": 734,
   "id": "a70d5c14",
   "metadata": {},
   "outputs": [],
   "source": [
    "#Seleting total contributions\n",
    "data=cursor.execute('''SELECT state,total_contributions from congress_api''')\n"
   ]
  },
  {
   "cell_type": "markdown",
   "id": "573b9c7c",
   "metadata": {},
   "source": [
    "Step 2: Storing state and contributions to its own list."
   ]
  },
  {
   "cell_type": "code",
   "execution_count": 735,
   "id": "13acbaa4",
   "metadata": {},
   "outputs": [],
   "source": [
    "# unpacking data into two separte list\n",
    "#x contians state, y contains total_contributions\n",
    "x,y = zip(*data)\n",
    "\n",
    "stateList = list(x)\n",
    "finList =  list(y)\n"
   ]
  },
  {
   "cell_type": "markdown",
   "id": "d02ed197",
   "metadata": {},
   "source": [
    "Step: 3 Add all of the state contributions instance to one state. Example if there are 5 sentors from tx it will take their contributions and total it all to tx."
   ]
  },
  {
   "cell_type": "code",
   "execution_count": 443,
   "id": "407fd6d8",
   "metadata": {},
   "outputs": [
    {
     "name": "stdout",
     "output_type": "stream",
     "text": [
      "{'KY': 89495385.83, 'LA': 17301008.0, 'TX': 47223913.21, 'AR': 27159344.0, 'KS': 6463693.0, 'MS': 6618097.0, 'NC': 66657740.760000005, 'CA': 38912034.97, 'CO': 39721376.89, 'VA': 48977819.85, 'MA': 53322423.220000006, 'TN': 20157641.04, 'MI': 84138015.13, 'SC': 124339631.64, 'AK': 13987695.0, 'MD': 15134285.36, 'WV': 7664254.0, 'OH': 73378921.46, 'WI': 7942978.05, 'UT': 8470978.41, 'NV': 48347559.0, 'MO': 45947810.0, 'NY': 48134133.0, 'IA': 38766710.519999996, 'FL': 71356708.71000001, 'PA': 69992346.17, 'IL': 52062810.94, 'WA': 22264900.0, 'AZ': 106036647.24, 'MT': 37945745.09, 'NE': 5965810.0, 'CT': 26768720.0, 'NJ': 12677880.0, 'MN': 30415006.310000002, 'ND': 32871365.41, 'NM': 4672290.0, None: 274759008.0, 'SD': 24563752.0, 'GA': 152847864.96, 'NH': 2825880.0, 'IN': 17925880.869999997, 'AL': 3532664.0, 'OR': 10594701.84, 'WY': 5391614.77, 'ME': 25685278.84}\n"
     ]
    }
   ],
   "source": [
    "\n",
    "#will contain total fincail information for sate\n",
    "state_fin_dic ={}\n",
    "\n",
    "\n",
    "#unpacking into state and finances \n",
    "for state,finances in data:\n",
    "    #will store total finances by state\n",
    "    temp_finances = 0\n",
    "    #for each state it will look to see if state has a finacial record\n",
    "    for i in range(len(stateList)):\n",
    "        #if the same state has record \n",
    "        if(stateList[i] == state):\n",
    "            #add the last occurence of finances + the current one\n",
    "            temp_finances = temp_finances + float(finList[i])\n",
    "    #store total by state in dictionary\n",
    "    state_fin_dic[state] = temp_finances\n",
    "print(state_fin_dic)\n",
    "        \n",
    "        \n",
    "        \n"
   ]
  },
  {
   "cell_type": "markdown",
   "id": "bd3b012d",
   "metadata": {},
   "source": [
    "Step 4: Plot line graph"
   ]
  },
  {
   "cell_type": "code",
   "execution_count": 477,
   "id": "55825554",
   "metadata": {},
   "outputs": [
    {
     "data": {
      "text/plain": [
       "[<matplotlib.lines.Line2D at 0x1b5d6be25e0>]"
      ]
     },
     "execution_count": 477,
     "metadata": {},
     "output_type": "execute_result"
    },
    {
     "data": {
      "image/png": "[encoded data removed]",
      "text/plain": [
       "<Figure size 432x288 with 1 Axes>"
      ]
     },
     "metadata": {
      "needs_background": "light"
     },
     "output_type": "display_data"
    }
   ],
   "source": [
    "#setting a line graph to see total contributions comaprision \n",
    "plt.title(\"State Total Contribuation Anaylsis\")\n",
    "plt.ylabel(\"Money\")\n",
    "plt.xlabel(\"States\")\n",
    "plt.plot(list(state_fin_dic.values()))\n"
   ]
  },
  {
   "cell_type": "markdown",
   "id": "15e5e27d",
   "metadata": {},
   "source": [
    "Table 5 takes in one table and checks if there is an anomoly in years and total votes."
   ]
  },
  {
   "cell_type": "markdown",
   "id": "5d707728",
   "metadata": {},
   "source": [
    "Step 1: Take year and votes from sentate table"
   ]
  },
  {
   "cell_type": "code",
   "execution_count": 740,
   "id": "126ff229",
   "metadata": {},
   "outputs": [],
   "source": [
    "#seeing if there is an anomoly for years and candidate votes\n",
    "#perhapes some years peopple vote more then others \n",
    "data=cursor.execute('''select year,candidatevotes from senate_csv ''')"
   ]
  },
  {
   "cell_type": "markdown",
   "id": "ca844607",
   "metadata": {},
   "source": [
    "Step 2: Unpack and plot scatter plot "
   ]
  },
  {
   "cell_type": "code",
   "execution_count": 741,
   "id": "02df4b87",
   "metadata": {},
   "outputs": [
    {
     "data": {
      "text/plain": [
       "<matplotlib.collections.PathCollection at 0x1b5d57394c0>"
      ]
     },
     "execution_count": 741,
     "metadata": {},
     "output_type": "execute_result"
    },
    {
     "data": {
      "image/png": "[encoded data removed]",
      "text/plain": [
       "<Figure size 432x288 with 1 Axes>"
      ]
     },
     "metadata": {
      "needs_background": "light"
     },
     "output_type": "display_data"
    }
   ],
   "source": [
    "#unpacking year, votes \n",
    "x,y = zip(*data)\n",
    "plt.title(\"Amount of Votes by Year\")\n",
    "plt.xlabel(\"Years\")\n",
    "plt.ylabel(\"Votes\")\n",
    "plt.scatter(x, y)\n",
    "\n"
   ]
  },
  {
   "cell_type": "markdown",
   "id": "37f55d2c",
   "metadata": {},
   "source": [
    "# Summary"
   ]
  },
  {
   "cell_type": "markdown",
   "id": "6337fc19",
   "metadata": {},
   "source": [
    "Coming into this class, I didn’t know much about data wrangling. As a software engineer, I am responsible for data manipulation and knowing how to handle small amounts of data. However, I have never had to dig through all the data as I did at school. At the start, it was a little over whelming not knowing which graph to use or which package was best for handling issues. \n",
    "To complete my project, I had to take what I learned each week and apply it back to my milestone. The data showed that Congress gets a lot of money in contributions. Most of my questions I had were answered. There are some congress men that have been in office for longer than I have been alive. Overall, what made this project easier is that I am passionate about politics.\n",
    "\n",
    "In this class I learned to handle large amounts of data. I also learned to make sense out of the data.  I never worked with SQLite even though I work with SQL server. It was so different! I never imagined that I could run SQL without having to set up a server and the IDE. SQLite became one of my favorite methods to use SQL. I also was introduced to beautiful soup. Although, it’s not my favorite, I know how to use it. \n",
    "\n",
    "\n",
    "Honestly, the ethical implications frighten me more now. How would anyone know if I manipulated the data to my own will? When you work with data, you have power to shape it to tell a story. More than ever it’s important to be honest and to be careful when working with data. When working with a large amount of data, it is easy to lose yourself and increase the chances of errors. During this class, I read a lot about ethical issues. It doesn’t seem like a lot of companies follow them. I know that I will follow the ethics provided to me.\n",
    "\n",
    "\n",
    "Overall, I have had a blast in this class. No, I didn’t like the long homework hours just like an athlete doesn’t like training. Now, I feel like I can actually do a lot! In fact, I have been using some of the stuff I am learning in school at work. The class students were smart, and I learned a lot. I ended up coding more in this class which I am grateful. Some say school is a waste of time. Now, you can learn the same technology on Udemy for pennies on the dollar. In this case, I don’t feel like I wasted my time. It was well worth it, and I recommend it to anyone that is serious about data science.\n"
   ]
  }
 ],
 "metadata": {
  "kernelspec": {
   "display_name": "Python 3",
   "language": "python",
   "name": "python3"
  },
  "language_info": {
   "codemirror_mode": {
    "name": "ipython",
    "version": 3
   },
   "file_extension": ".py",
   "mimetype": "text/x-python",
   "name": "python",
   "nbconvert_exporter": "python",
   "pygments_lexer": "ipython3",
   "version": "3.8.8"
  }
 },
 "nbformat": 4,
 "nbformat_minor": 5
}
