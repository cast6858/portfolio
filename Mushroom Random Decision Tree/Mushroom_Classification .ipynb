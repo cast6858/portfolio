{
 "cells": [
  {
   "cell_type": "markdown",
   "id": "518a5e3b",
   "metadata": {},
   "source": [
    "# Felipe Castillo\n",
    "# Mushroom Classification\n",
    "# Data Mining\n",
    "# 04/30/2022"
   ]
  },
  {
   "cell_type": "code",
   "execution_count": 1,
   "id": "2102af98",
   "metadata": {},
   "outputs": [],
   "source": [
    "import os\n",
    "import sys\n",
    "import pandas as pd\n",
    "import numpy as np\n",
    "import seaborn as sns\n",
    "import pydotplus\n",
    "from IPython.display import Image\n",
    "from sklearn import tree\n",
    "from sklearn.linear_model import LinearRegression\n",
    "from sklearn.feature_selection import VarianceThreshold,SelectKBest,chi2,f_classif\n",
    "from sklearn.model_selection import train_test_split\n",
    "from sklearn.metrics import r2_score ,accuracy_score,mean_squared_error\n",
    "from sklearn.decomposition import PCA\n",
    "from sklearn.preprocessing import MinMaxScaler , StandardScaler\n",
    "from sklearn.model_selection import train_test_split\n",
    "from sklearn.tree import DecisionTreeClassifier\n",
    "from sklearn.metrics import confusion_matrix\n",
    "#Change path to week one folder for DSC-550\n",
    "#Current directory in documents\n",
    "os.chdir('C:\\DataScience_DSC_550\\Week7\\Mushroom')\n"
   ]
  },
  {
   "cell_type": "code",
   "execution_count": 128,
   "id": "fae20a55",
   "metadata": {},
   "outputs": [],
   "source": [
    "#!{sys.executable} -m pip install graphviz"
   ]
  },
  {
   "cell_type": "markdown",
   "id": "f7139a3c",
   "metadata": {},
   "source": [
    "# 1. Import the data as a data frame and ensure it is loaded correctly."
   ]
  },
  {
   "cell_type": "code",
   "execution_count": 3,
   "id": "d222b830",
   "metadata": {},
   "outputs": [],
   "source": [
    "#Loading Data\n",
    "mushroom_df = pd.read_csv(\"mushrooms.csv\")"
   ]
  },
  {
   "cell_type": "code",
   "execution_count": 4,
   "id": "167849af",
   "metadata": {},
   "outputs": [
    {
     "data": {
      "text/html": [
       "<div>\n",
       "<style scoped>\n",
       "    .dataframe tbody tr th:only-of-type {\n",
       "        vertical-align: middle;\n",
       "    }\n",
       "\n",
       "    .dataframe tbody tr th {\n",
       "        vertical-align: top;\n",
       "    }\n",
       "\n",
       "    .dataframe thead th {\n",
       "        text-align: right;\n",
       "    }\n",
       "</style>\n",
       "<table border=\"1\" class=\"dataframe\">\n",
       "  <thead>\n",
       "    <tr style=\"text-align: right;\">\n",
       "      <th></th>\n",
       "      <th>class</th>\n",
       "      <th>cap-shape</th>\n",
       "      <th>cap-surface</th>\n",
       "      <th>cap-color</th>\n",
       "      <th>bruises</th>\n",
       "      <th>odor</th>\n",
       "      <th>gill-attachment</th>\n",
       "      <th>gill-spacing</th>\n",
       "      <th>gill-size</th>\n",
       "      <th>gill-color</th>\n",
       "      <th>...</th>\n",
       "      <th>stalk-surface-below-ring</th>\n",
       "      <th>stalk-color-above-ring</th>\n",
       "      <th>stalk-color-below-ring</th>\n",
       "      <th>veil-type</th>\n",
       "      <th>veil-color</th>\n",
       "      <th>ring-number</th>\n",
       "      <th>ring-type</th>\n",
       "      <th>spore-print-color</th>\n",
       "      <th>population</th>\n",
       "      <th>habitat</th>\n",
       "    </tr>\n",
       "  </thead>\n",
       "  <tbody>\n",
       "    <tr>\n",
       "      <th>0</th>\n",
       "      <td>p</td>\n",
       "      <td>x</td>\n",
       "      <td>s</td>\n",
       "      <td>n</td>\n",
       "      <td>t</td>\n",
       "      <td>p</td>\n",
       "      <td>f</td>\n",
       "      <td>c</td>\n",
       "      <td>n</td>\n",
       "      <td>k</td>\n",
       "      <td>...</td>\n",
       "      <td>s</td>\n",
       "      <td>w</td>\n",
       "      <td>w</td>\n",
       "      <td>p</td>\n",
       "      <td>w</td>\n",
       "      <td>o</td>\n",
       "      <td>p</td>\n",
       "      <td>k</td>\n",
       "      <td>s</td>\n",
       "      <td>u</td>\n",
       "    </tr>\n",
       "    <tr>\n",
       "      <th>1</th>\n",
       "      <td>e</td>\n",
       "      <td>x</td>\n",
       "      <td>s</td>\n",
       "      <td>y</td>\n",
       "      <td>t</td>\n",
       "      <td>a</td>\n",
       "      <td>f</td>\n",
       "      <td>c</td>\n",
       "      <td>b</td>\n",
       "      <td>k</td>\n",
       "      <td>...</td>\n",
       "      <td>s</td>\n",
       "      <td>w</td>\n",
       "      <td>w</td>\n",
       "      <td>p</td>\n",
       "      <td>w</td>\n",
       "      <td>o</td>\n",
       "      <td>p</td>\n",
       "      <td>n</td>\n",
       "      <td>n</td>\n",
       "      <td>g</td>\n",
       "    </tr>\n",
       "    <tr>\n",
       "      <th>2</th>\n",
       "      <td>e</td>\n",
       "      <td>b</td>\n",
       "      <td>s</td>\n",
       "      <td>w</td>\n",
       "      <td>t</td>\n",
       "      <td>l</td>\n",
       "      <td>f</td>\n",
       "      <td>c</td>\n",
       "      <td>b</td>\n",
       "      <td>n</td>\n",
       "      <td>...</td>\n",
       "      <td>s</td>\n",
       "      <td>w</td>\n",
       "      <td>w</td>\n",
       "      <td>p</td>\n",
       "      <td>w</td>\n",
       "      <td>o</td>\n",
       "      <td>p</td>\n",
       "      <td>n</td>\n",
       "      <td>n</td>\n",
       "      <td>m</td>\n",
       "    </tr>\n",
       "    <tr>\n",
       "      <th>3</th>\n",
       "      <td>p</td>\n",
       "      <td>x</td>\n",
       "      <td>y</td>\n",
       "      <td>w</td>\n",
       "      <td>t</td>\n",
       "      <td>p</td>\n",
       "      <td>f</td>\n",
       "      <td>c</td>\n",
       "      <td>n</td>\n",
       "      <td>n</td>\n",
       "      <td>...</td>\n",
       "      <td>s</td>\n",
       "      <td>w</td>\n",
       "      <td>w</td>\n",
       "      <td>p</td>\n",
       "      <td>w</td>\n",
       "      <td>o</td>\n",
       "      <td>p</td>\n",
       "      <td>k</td>\n",
       "      <td>s</td>\n",
       "      <td>u</td>\n",
       "    </tr>\n",
       "    <tr>\n",
       "      <th>4</th>\n",
       "      <td>e</td>\n",
       "      <td>x</td>\n",
       "      <td>s</td>\n",
       "      <td>g</td>\n",
       "      <td>f</td>\n",
       "      <td>n</td>\n",
       "      <td>f</td>\n",
       "      <td>w</td>\n",
       "      <td>b</td>\n",
       "      <td>k</td>\n",
       "      <td>...</td>\n",
       "      <td>s</td>\n",
       "      <td>w</td>\n",
       "      <td>w</td>\n",
       "      <td>p</td>\n",
       "      <td>w</td>\n",
       "      <td>o</td>\n",
       "      <td>e</td>\n",
       "      <td>n</td>\n",
       "      <td>a</td>\n",
       "      <td>g</td>\n",
       "    </tr>\n",
       "  </tbody>\n",
       "</table>\n",
       "<p>5 rows × 23 columns</p>\n",
       "</div>"
      ],
      "text/plain": [
       "  class cap-shape cap-surface cap-color bruises odor gill-attachment  \\\n",
       "0     p         x           s         n       t    p               f   \n",
       "1     e         x           s         y       t    a               f   \n",
       "2     e         b           s         w       t    l               f   \n",
       "3     p         x           y         w       t    p               f   \n",
       "4     e         x           s         g       f    n               f   \n",
       "\n",
       "  gill-spacing gill-size gill-color  ... stalk-surface-below-ring  \\\n",
       "0            c         n          k  ...                        s   \n",
       "1            c         b          k  ...                        s   \n",
       "2            c         b          n  ...                        s   \n",
       "3            c         n          n  ...                        s   \n",
       "4            w         b          k  ...                        s   \n",
       "\n",
       "  stalk-color-above-ring stalk-color-below-ring veil-type veil-color  \\\n",
       "0                      w                      w         p          w   \n",
       "1                      w                      w         p          w   \n",
       "2                      w                      w         p          w   \n",
       "3                      w                      w         p          w   \n",
       "4                      w                      w         p          w   \n",
       "\n",
       "  ring-number ring-type spore-print-color population habitat  \n",
       "0           o         p                 k          s       u  \n",
       "1           o         p                 n          n       g  \n",
       "2           o         p                 n          n       m  \n",
       "3           o         p                 k          s       u  \n",
       "4           o         e                 n          a       g  \n",
       "\n",
       "[5 rows x 23 columns]"
      ]
     },
     "execution_count": 4,
     "metadata": {},
     "output_type": "execute_result"
    }
   ],
   "source": [
    "#Loading data\n",
    "mushroom_df.head()"
   ]
  },
  {
   "cell_type": "code",
   "execution_count": 5,
   "id": "7ae23cb5",
   "metadata": {},
   "outputs": [
    {
     "data": {
      "text/plain": [
       "class                       0\n",
       "cap-shape                   0\n",
       "cap-surface                 0\n",
       "cap-color                   0\n",
       "bruises                     0\n",
       "odor                        0\n",
       "gill-attachment             0\n",
       "gill-spacing                0\n",
       "gill-size                   0\n",
       "gill-color                  0\n",
       "stalk-shape                 0\n",
       "stalk-root                  0\n",
       "stalk-surface-above-ring    0\n",
       "stalk-surface-below-ring    0\n",
       "stalk-color-above-ring      0\n",
       "stalk-color-below-ring      0\n",
       "veil-type                   0\n",
       "veil-color                  0\n",
       "ring-number                 0\n",
       "ring-type                   0\n",
       "spore-print-color           0\n",
       "population                  0\n",
       "habitat                     0\n",
       "dtype: int64"
      ]
     },
     "execution_count": 5,
     "metadata": {},
     "output_type": "execute_result"
    }
   ],
   "source": [
    "#Making sure there are no null values.\n",
    "mushroom_df.isnull().sum()"
   ]
  },
  {
   "cell_type": "markdown",
   "id": "85f310d0",
   "metadata": {},
   "source": [
    "# 2.Convert the categorical features (all of them) to dummy variables."
   ]
  },
  {
   "cell_type": "code",
   "execution_count": 6,
   "id": "a68e2479",
   "metadata": {},
   "outputs": [],
   "source": [
    "#Divide class and define it as target\n",
    "mushroom_target_df = pd.get_dummies(mushroom_df['class'])\n",
    "\n",
    "#Droping class and setting the rest as features\n",
    "mushroom_features_df = pd.get_dummies(mushroom_df.drop([\"class\"],axis=1))"
   ]
  },
  {
   "cell_type": "markdown",
   "id": "cf8ac274",
   "metadata": {},
   "source": [
    "# 3.Split the data into a training and test set."
   ]
  },
  {
   "cell_type": "code",
   "execution_count": 7,
   "id": "676bc0ae",
   "metadata": {},
   "outputs": [],
   "source": [
    "#Splitting data 80 / 20 \n",
    "features_test , features_train, target_test, target_train = train_test_split(mushroom_features_df,mushroom_target_df,test_size = 0.20)"
   ]
  },
  {
   "cell_type": "markdown",
   "id": "ca98b6f0",
   "metadata": {},
   "source": [
    "# 4.Fit a decision tree classifier on the training set."
   ]
  },
  {
   "cell_type": "code",
   "execution_count": 8,
   "id": "729c1a06",
   "metadata": {},
   "outputs": [],
   "source": [
    "#Instantiating DecisionTreeClassifier\n",
    "decisiontree = DecisionTreeClassifier(random_state=0)"
   ]
  },
  {
   "cell_type": "code",
   "execution_count": 9,
   "id": "0095b577",
   "metadata": {},
   "outputs": [],
   "source": [
    "#Fitting model with trainning set\n",
    "model = decisiontree.fit(features_train,target_train)"
   ]
  },
  {
   "cell_type": "code",
   "execution_count": 10,
   "id": "49fe77e3",
   "metadata": {},
   "outputs": [],
   "source": [
    "#Predicting model with features test set\n",
    "target_predicted = model.predict(features_test)"
   ]
  },
  {
   "cell_type": "markdown",
   "id": "aa970083",
   "metadata": {},
   "source": [
    "# 5. Report the accuracy and create a confusion matrix for the model prediction on the test set."
   ]
  },
  {
   "cell_type": "code",
   "execution_count": 11,
   "id": "7b646f9f",
   "metadata": {},
   "outputs": [
    {
     "data": {
      "text/plain": [
       "0.9995383905216187"
      ]
     },
     "execution_count": 11,
     "metadata": {},
     "output_type": "execute_result"
    }
   ],
   "source": [
    "#Finding Accuracy score\n",
    "accuracy_score(target_test,target_predicted)"
   ]
  },
  {
   "cell_type": "code",
   "execution_count": 12,
   "id": "3cddecfe",
   "metadata": {},
   "outputs": [
    {
     "name": "stdout",
     "output_type": "stream",
     "text": [
      "[[3380    0]\n",
      " [   3 3116]]\n"
     ]
    }
   ],
   "source": [
    "#Making a confusion matrix\n",
    "#Reformatting data set with numpy\n",
    "results = confusion_matrix(np.asarray(target_test).argmax(axis=1), np.asarray(target_predicted).argmax(axis=1))\n",
    "print(results)"
   ]
  },
  {
   "cell_type": "code",
   "execution_count": 13,
   "id": "7cdf81c0",
   "metadata": {},
   "outputs": [
    {
     "data": {
      "text/plain": [
       "<AxesSubplot:>"
      ]
     },
     "execution_count": 13,
     "metadata": {},
     "output_type": "execute_result"
    },
    {
     "data": {
      "image/png": "[encoded data removed]",
      "text/plain": [
       "<Figure size 432x288 with 2 Axes>"
      ]
     },
     "metadata": {
      "needs_background": "light"
     },
     "output_type": "display_data"
    }
   ],
   "source": [
    "#Outputting confusion matrix heatmap \n",
    "sns.heatmap(results, annot=True)"
   ]
  },
  {
   "cell_type": "markdown",
   "id": "1e7d0e58",
   "metadata": {},
   "source": [
    "# 6. Create a visualization of the decision tree."
   ]
  },
  {
   "cell_type": "code",
   "execution_count": 14,
   "id": "d6be2c8f",
   "metadata": {},
   "outputs": [],
   "source": [
    "#Setting dot data\n",
    "dot_data = tree.export_graphviz(decisiontree,\n",
    "                               out_file=None,\n",
    "                               feature_names=mushroom_features_df.columns)"
   ]
  },
  {
   "cell_type": "code",
   "execution_count": 15,
   "id": "a8cc0e63",
   "metadata": {},
   "outputs": [],
   "source": [
    "#Setting pydotplus graph from with dot data\n",
    "graph = pydotplus.graph_from_dot_data(dot_data)"
   ]
  },
  {
   "cell_type": "code",
   "execution_count": 26,
   "id": "f7a5d788",
   "metadata": {},
   "outputs": [],
   "source": [
    "#---------Warning this part of the code should not be run if computer is able to find Graphviz/bin------\n",
    "#---------Do not run if envorinment varaibles with Graphviz are working correctly-----------------\n",
    "\n",
    "#If the computer is unable to run, steps need to be take to insure this runs correctly\n",
    "#1. Make sure Graphviz is download https://graphviz.org/download/\n",
    "#2. Include in envorinment varaibles, which should land in Program Files (x86) directory \n",
    "#3. Download graphviz \"!{sys.executable} -m pip install graphviz\",import sys to run\n",
    "#4 If still unable to locate directory, set path to graphviz location.\n",
    "\n",
    "\n",
    "#C:\\Program Files (x86)\\Graphviz\\bin\n",
    "#Had a hard time finding path of installed graphviz after envorinment varaibles set, force find path.\n",
    "os.environ[\"PATH\"] += os.pathsep + 'C:\\Program Files (x86)\\Graphviz/bin/'"
   ]
  },
  {
   "cell_type": "code",
   "execution_count": 27,
   "id": "d8601bbb",
   "metadata": {},
   "outputs": [
    {
     "data": {
      "image/png": "[encoded data removed]",
      "text/plain": [
       "<IPython.core.display.Image object>"
      ]
     },
     "execution_count": 27,
     "metadata": {},
     "output_type": "execute_result"
    }
   ],
   "source": [
    "#Invokeing Image Function with graph png\n",
    "Image(graph.create_png())"
   ]
  },
  {
   "cell_type": "markdown",
   "id": "f752546b",
   "metadata": {},
   "source": [
    "# 7.Use a χ2-statistic selector to pick the five best features for this data (see section 10.4 of the Machine Learning with Python Cookbook)."
   ]
  },
  {
   "cell_type": "code",
   "execution_count": 28,
   "id": "f7473f62",
   "metadata": {},
   "outputs": [],
   "source": [
    "#Setting chi2 selector to chi2 best of 5\n",
    "chi2_selector = SelectKBest(chi2, k=5)\n",
    "\n",
    "#Fit transform on chi2 selector\n",
    "features_best = chi2_selector.fit_transform(mushroom_features_df, mushroom_target_df)"
   ]
  },
  {
   "cell_type": "markdown",
   "id": "fb7af24d",
   "metadata": {},
   "source": [
    "# 8.Which five features were selected in step 7? Hint: Use the get_support function."
   ]
  },
  {
   "cell_type": "code",
   "execution_count": 19,
   "id": "5764b065",
   "metadata": {},
   "outputs": [
    {
     "name": "stdout",
     "output_type": "stream",
     "text": [
      "Original 117\n",
      "Features best: 5\n"
     ]
    }
   ],
   "source": [
    "#Original features 117\n",
    "print(\"Original\", mushroom_features_df.shape[1])\n",
    "\n",
    "#Best Features 5\n",
    "print(\"Features best:\" , features_best.shape[1])"
   ]
  },
  {
   "cell_type": "code",
   "execution_count": 20,
   "id": "954bfd04",
   "metadata": {},
   "outputs": [
    {
     "name": "stdout",
     "output_type": "stream",
     "text": [
      "[24 27 37 57 61]\n"
     ]
    }
   ],
   "source": [
    "print(chi2_selector.get_support(indices=True))"
   ]
  },
  {
   "cell_type": "code",
   "execution_count": 21,
   "id": "c17f935e",
   "metadata": {},
   "outputs": [
    {
     "data": {
      "text/plain": [
       "['odor_f',\n",
       " 'odor_n',\n",
       " 'gill-color_b',\n",
       " 'stalk-surface-above-ring_k',\n",
       " 'stalk-surface-below-ring_k']"
      ]
     },
     "execution_count": 21,
     "metadata": {},
     "output_type": "execute_result"
    }
   ],
   "source": [
    "#Getting actaul column names of best five\n",
    "mushroom_features_df.columns[chi2_selector.get_support(indices= True)].tolist()"
   ]
  },
  {
   "cell_type": "markdown",
   "id": "dc7995e1",
   "metadata": {},
   "source": [
    "# 9. Repeat steps 4 and 5 with the five best features selected in step 7."
   ]
  },
  {
   "cell_type": "code",
   "execution_count": 22,
   "id": "ddc52218",
   "metadata": {},
   "outputs": [],
   "source": [
    "#Retrain with best 5 features setting 80/20 \n",
    "features_test , features_train, target_test, target_train = train_test_split(features_best,mushroom_target_df,test_size = 0.20)"
   ]
  },
  {
   "cell_type": "code",
   "execution_count": 23,
   "id": "fddeaac3",
   "metadata": {},
   "outputs": [],
   "source": [
    "#Instantiating DecisionTreeClassifier\n",
    "decisiontree = DecisionTreeClassifier(random_state=0)\n",
    "\n",
    "#Setting model to best five features\n",
    "model = decisiontree.fit(features_train,target_train)"
   ]
  },
  {
   "cell_type": "code",
   "execution_count": 24,
   "id": "a53dd1c5",
   "metadata": {},
   "outputs": [],
   "source": [
    "#Getting predictive model\n",
    "target_predicted = model.predict(features_test)"
   ]
  },
  {
   "cell_type": "code",
   "execution_count": 25,
   "id": "c42a47a2",
   "metadata": {},
   "outputs": [
    {
     "data": {
      "text/plain": [
       "0.929835359286044"
      ]
     },
     "execution_count": 25,
     "metadata": {},
     "output_type": "execute_result"
    }
   ],
   "source": [
    "#Getting accuracy\n",
    "accuracy_score(target_test,target_predicted)"
   ]
  },
  {
   "cell_type": "markdown",
   "id": "89b7819a",
   "metadata": {},
   "source": [
    "# 10. Summarize your findings."
   ]
  },
  {
   "cell_type": "markdown",
   "id": "ed255b5d",
   "metadata": {},
   "source": [
    "Overall, the accuracy score went down. This can be due to less features that available. However even though the accuracy is lower, it might be possible to trust this model more than the last one. According to the chi2 feature, it takes the best of 5. What’s interesting is before any changes the model had a score of 99 percent now it has a score of 92 percent. Either way the accuracy is still pretty high.The decision graph used the odor_n as its first node. From there the first decision can go to ways true or false. The chi2 returned the 5 highest variances which were 'odor_f','odor_n','gill-color_b','stalk-surface-above-ring_k','stalk-surface-below-ring_k'."
   ]
  }
 ],
 "metadata": {
  "kernelspec": {
   "display_name": "Python 3",
   "language": "python",
   "name": "python3"
  },
  "language_info": {
   "codemirror_mode": {
    "name": "ipython",
    "version": 3
   },
   "file_extension": ".py",
   "mimetype": "text/x-python",
   "name": "python",
   "nbconvert_exporter": "python",
   "pygments_lexer": "ipython3",
   "version": "3.8.8"
  }
 },
 "nbformat": 4,
 "nbformat_minor": 5
}
