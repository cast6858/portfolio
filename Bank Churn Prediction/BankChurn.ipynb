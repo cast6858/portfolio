{
 "cells": [
  {
   "cell_type": "markdown",
   "id": "9cf906a3",
   "metadata": {},
   "source": [
    "# Felipe Castillo\n",
    "# Mile Stone 1\n",
    "# Data Mining\n",
    "# 04/20/2022"
   ]
  },
  {
   "cell_type": "markdown",
   "id": "4107dc83",
   "metadata": {},
   "source": [
    "  In this project, we will work with the database Bank Turnover Dataset. This data set can be found and downloaded here: https://www.kaggle.com/datasets/barelydedicated/bank-customer-churn-modeling. Banks rely on the consumer to keep the money in the bank. With higher turnovers, the bank’s loaning power decreases. Coming to our hypothesis, is it possible to get a good idea of potential churns, and with that minimal information, could we reduce churns? In all reality, the money the consumer puts in the bank isn’t always there. For example, if you have a million dollars in the bank and ask to withdraw that amount in cash in one day, the bank will most likely not be able to give you that sum of money. Why is that? It is because the banks loan the money and charge interest on that money. \n",
    "\n",
    "The problem with churn is that it can limit the bank’s overall lending power. The money must come from somewhere. For the bank to be able to make money, it needs money. This is a problem because the bank could lose money in the long run. Depending on the level of churn there are ramifications when there is less money in the bank. This will likely cause higher interest rates on loans. Even the smallest levels of churn could pose a problem. For example, if Elon Musk took his money out of the bank, it would have a larger impact than if a lot of people who had money in the bank took out their money. With that same logic, a small group of people could potentially make most of the money in the bank. With that said, it is imperative to understand churn to either stop it or be able to prepare for it. \n",
    "\n",
    "The first step in this graphical analysis is to figure out the percentage of churn in the bank. From that base, we need to know who those people are. For this purpose, we need to identify everyone by nationality, gender, age, and score. All this information will help answer one question: who are these people? Secondly, we need a correlation matrix to identify if there is a relation between values. For example, do gender differences matter when it comes to people leaving the bank? Is there a correlation between bank churns and the values that need to be investigated? The values that are in the data set will need to be investigated further.\n",
    "\n",
    "There are a few predictive models that come to mind. First, we have a logistic regression model due to the binary option of 0 or 1. This will also help us test our hypothesis on if we could help prevent churn. The other model is survival analysis which also has that binary aspect. By binary I mean 1 they did leave or 0 they didn’t leave. Overall, the main objective is to predict bank churn.\n",
    "\n",
    "\n",
    "\n"
   ]
  },
  {
   "cell_type": "code",
   "execution_count": 1,
   "id": "a8706e14",
   "metadata": {},
   "outputs": [],
   "source": [
    "import pandas as pd\n",
    "import os\n",
    "import numpy as np\n",
    "import seaborn as sns\n",
    "import matplotlib.pyplot as plt\n",
    "from sklearn.linear_model import LinearRegression, Ridge , LogisticRegression\n",
    "from sklearn.metrics import r2_score ,accuracy_score,mean_squared_error,recall_score,f1_score\n",
    "from sklearn.model_selection import train_test_split\n",
    "from sklearn.metrics import precision_score\n",
    "from sklearn.preprocessing import StandardScaler\n",
    "from sklearn.metrics import mean_squared_error,confusion_matrix,roc_curve,roc_auc_score\n",
    "from sklearn.decomposition import PCA\n",
    "import random\n",
    "from sklearn.metrics import r2_score\n",
    "from math import sqrt\n",
    "\n",
    "from sklearn.metrics import mean_squared_error\n",
    "#Change path to week one folder for DSC-550\n",
    "#Current directory in documents\n",
    "os.chdir('C:\\DataScience_DSC_550\\Week6')\n"
   ]
  },
  {
   "cell_type": "code",
   "execution_count": 3,
   "id": "f60f55b1",
   "metadata": {},
   "outputs": [],
   "source": [
    "bank_turn_overDF = pd.read_csv(\"data_turn.csv\")"
   ]
  },
  {
   "cell_type": "code",
   "execution_count": 4,
   "id": "48704568",
   "metadata": {},
   "outputs": [
    {
     "data": {
      "text/html": [
       "<div>\n",
       "<style scoped>\n",
       "    .dataframe tbody tr th:only-of-type {\n",
       "        vertical-align: middle;\n",
       "    }\n",
       "\n",
       "    .dataframe tbody tr th {\n",
       "        vertical-align: top;\n",
       "    }\n",
       "\n",
       "    .dataframe thead th {\n",
       "        text-align: right;\n",
       "    }\n",
       "</style>\n",
       "<table border=\"1\" class=\"dataframe\">\n",
       "  <thead>\n",
       "    <tr style=\"text-align: right;\">\n",
       "      <th></th>\n",
       "      <th>Row</th>\n",
       "      <th>Id</th>\n",
       "      <th>Surname</th>\n",
       "      <th>Score</th>\n",
       "      <th>Nationality</th>\n",
       "      <th>Gender</th>\n",
       "      <th>Age</th>\n",
       "      <th>Tenure</th>\n",
       "      <th>Balance</th>\n",
       "      <th>Products</th>\n",
       "      <th>Card</th>\n",
       "      <th>Active</th>\n",
       "      <th>Salary</th>\n",
       "      <th>Exited</th>\n",
       "    </tr>\n",
       "  </thead>\n",
       "  <tbody>\n",
       "    <tr>\n",
       "      <th>0</th>\n",
       "      <td>1</td>\n",
       "      <td>15634602</td>\n",
       "      <td>Hargrave</td>\n",
       "      <td>619</td>\n",
       "      <td>France</td>\n",
       "      <td>Female</td>\n",
       "      <td>42</td>\n",
       "      <td>2</td>\n",
       "      <td>0.00</td>\n",
       "      <td>1</td>\n",
       "      <td>1</td>\n",
       "      <td>1</td>\n",
       "      <td>101348.88</td>\n",
       "      <td>1</td>\n",
       "    </tr>\n",
       "    <tr>\n",
       "      <th>1</th>\n",
       "      <td>2</td>\n",
       "      <td>15647311</td>\n",
       "      <td>Hill</td>\n",
       "      <td>608</td>\n",
       "      <td>Spain</td>\n",
       "      <td>Female</td>\n",
       "      <td>41</td>\n",
       "      <td>1</td>\n",
       "      <td>83807.86</td>\n",
       "      <td>1</td>\n",
       "      <td>0</td>\n",
       "      <td>1</td>\n",
       "      <td>112542.58</td>\n",
       "      <td>0</td>\n",
       "    </tr>\n",
       "    <tr>\n",
       "      <th>2</th>\n",
       "      <td>3</td>\n",
       "      <td>15619304</td>\n",
       "      <td>Onio</td>\n",
       "      <td>502</td>\n",
       "      <td>France</td>\n",
       "      <td>Female</td>\n",
       "      <td>42</td>\n",
       "      <td>8</td>\n",
       "      <td>159660.80</td>\n",
       "      <td>3</td>\n",
       "      <td>1</td>\n",
       "      <td>0</td>\n",
       "      <td>113931.57</td>\n",
       "      <td>1</td>\n",
       "    </tr>\n",
       "    <tr>\n",
       "      <th>3</th>\n",
       "      <td>4</td>\n",
       "      <td>15701354</td>\n",
       "      <td>Boni</td>\n",
       "      <td>699</td>\n",
       "      <td>France</td>\n",
       "      <td>Female</td>\n",
       "      <td>39</td>\n",
       "      <td>1</td>\n",
       "      <td>0.00</td>\n",
       "      <td>2</td>\n",
       "      <td>0</td>\n",
       "      <td>0</td>\n",
       "      <td>93826.63</td>\n",
       "      <td>0</td>\n",
       "    </tr>\n",
       "    <tr>\n",
       "      <th>4</th>\n",
       "      <td>5</td>\n",
       "      <td>15737888</td>\n",
       "      <td>Mitchell</td>\n",
       "      <td>850</td>\n",
       "      <td>Spain</td>\n",
       "      <td>Female</td>\n",
       "      <td>43</td>\n",
       "      <td>2</td>\n",
       "      <td>125510.82</td>\n",
       "      <td>1</td>\n",
       "      <td>1</td>\n",
       "      <td>1</td>\n",
       "      <td>79084.10</td>\n",
       "      <td>0</td>\n",
       "    </tr>\n",
       "  </tbody>\n",
       "</table>\n",
       "</div>"
      ],
      "text/plain": [
       "   Row        Id   Surname  Score Nationality  Gender  Age  Tenure    Balance  \\\n",
       "0    1  15634602  Hargrave    619      France  Female   42       2       0.00   \n",
       "1    2  15647311      Hill    608       Spain  Female   41       1   83807.86   \n",
       "2    3  15619304      Onio    502      France  Female   42       8  159660.80   \n",
       "3    4  15701354      Boni    699      France  Female   39       1       0.00   \n",
       "4    5  15737888  Mitchell    850       Spain  Female   43       2  125510.82   \n",
       "\n",
       "   Products  Card  Active     Salary  Exited  \n",
       "0         1     1       1  101348.88       1  \n",
       "1         1     0       1  112542.58       0  \n",
       "2         3     1       0  113931.57       1  \n",
       "3         2     0       0   93826.63       0  \n",
       "4         1     1       1   79084.10       0  "
      ]
     },
     "execution_count": 4,
     "metadata": {},
     "output_type": "execute_result"
    }
   ],
   "source": [
    "bank_turn_overDF.head()"
   ]
  },
  {
   "cell_type": "code",
   "execution_count": 5,
   "id": "c3f0b9d5",
   "metadata": {},
   "outputs": [
    {
     "data": {
      "text/plain": [
       "(10000, 14)"
      ]
     },
     "execution_count": 5,
     "metadata": {},
     "output_type": "execute_result"
    }
   ],
   "source": [
    "bank_turn_overDF.shape"
   ]
  },
  {
   "cell_type": "code",
   "execution_count": 6,
   "id": "1408f316",
   "metadata": {},
   "outputs": [
    {
     "data": {
      "text/plain": [
       "array(['Row', 'Id', 'Surname', 'Score', 'Nationality', 'Gender', 'Age',\n",
       "       'Tenure', 'Balance', 'Products', 'Card', 'Active', 'Salary',\n",
       "       'Exited'], dtype=object)"
      ]
     },
     "execution_count": 6,
     "metadata": {},
     "output_type": "execute_result"
    }
   ],
   "source": [
    "bank_turn_overDF.columns.values"
   ]
  },
  {
   "cell_type": "code",
   "execution_count": 7,
   "id": "c0021fde",
   "metadata": {},
   "outputs": [
    {
     "data": {
      "text/plain": [
       "Exited\n",
       "0    7963\n",
       "1    2037\n",
       "Name: Exited, dtype: int64"
      ]
     },
     "execution_count": 7,
     "metadata": {},
     "output_type": "execute_result"
    }
   ],
   "source": [
    "#VGS_df.groupby('Genre')['Name'].count()\n",
    "# exited 1 == churn\n",
    "bank_turn_overDF.groupby('Exited')['Exited'].count()"
   ]
  },
  {
   "cell_type": "markdown",
   "id": "b5585163",
   "metadata": {},
   "source": [
    "# Pie Chart"
   ]
  },
  {
   "cell_type": "code",
   "execution_count": 8,
   "id": "17391e11",
   "metadata": {},
   "outputs": [
    {
     "data": {
      "image/png": "[encoded data removed]",
      "text/plain": [
       "<Figure size 504x288 with 1 Axes>"
      ]
     },
     "metadata": {},
     "output_type": "display_data"
    }
   ],
   "source": [
    "# 0 == current has not left the bank\n",
    "# 1 == left the bank\n",
    "labels = ['Current','Churn']\n",
    "\n",
    "\n",
    "#setting plot figure size\n",
    "fig = plt.figure(figsize=(7,4))\n",
    "#setting ax to figure shape \n",
    "ax = fig.add_axes((0,0,.5,1))\n",
    "#setting tiltle name\n",
    "plt.title(\"Percentage Of Consumers That Left or Stayed\")\n",
    "#unpacking values in pie\n",
    "#getting the exact values for exits\n",
    "ax.pie( bank_turn_overDF.groupby('Exited')['Exited'].count(),labels=labels, autopct='%1.1f%%',\n",
    "        shadow=True, startangle=90)\n",
    "ax.axis('equal')  \n",
    "plt.show()"
   ]
  },
  {
   "cell_type": "markdown",
   "id": "bb91b9be",
   "metadata": {},
   "source": [
    "This graph indicates that 20.4% of the people ended up leaving the bank. There was 79.6 percent of the people that have continued to stay with the bank. Overall, the attrition rate doesn’t seem to be too extreme. Essentially, we must look to see why 20% of those people are quitting. "
   ]
  },
  {
   "cell_type": "markdown",
   "id": "8c7709c1",
   "metadata": {},
   "source": [
    "# Bar Graph"
   ]
  },
  {
   "cell_type": "markdown",
   "id": "64145050",
   "metadata": {},
   "source": [
    "Each person must be classified by their individual traits. This will help us limit the scope of those people that are leaving the bank."
   ]
  },
  {
   "cell_type": "code",
   "execution_count": 9,
   "id": "8c965ee6",
   "metadata": {},
   "outputs": [],
   "source": [
    "#young adults(ages 18-35 years; n = 97), \n",
    "#middle-aged adults (ages 36-55 years, n = 197), \n",
    "#and older adults (aged older than 55 years, n = 49).\n",
    "#https://pubmed.ncbi.nlm.nih.gov/11815703/   \n",
    "\n",
    "#Taking the Age value and returning the group it stands in\n",
    "# the age group is taken from the government article, to define age groups\n",
    "\n",
    "def age_classification(age):\n",
    "    #initializing value to none \n",
    "    age_value = None\n",
    "    #taking age and returning value \n",
    "    #using artilce to base classification age\n",
    "    if(age >= 18 and age <=35):\n",
    "        age_value = 'young_adults'\n",
    "    elif(age>=36 and age<=55):\n",
    "        age_value = 'middle_aged_adults'\n",
    "    elif(age> 55):\n",
    "        age_value = 'older_adult'\n",
    "    else:\n",
    "        age_value = None\n",
    "    return age_value\n",
    "    \n",
    "        \n",
    "        "
   ]
  },
  {
   "cell_type": "code",
   "execution_count": 10,
   "id": "75bb4d2a",
   "metadata": {},
   "outputs": [],
   "source": [
    "#https://www.experian.com/blogs/ask-experian/credit-education/score-basics/what-is-a-good-credit-score/\n",
    "\n",
    "#scores resembles our credit structure\n",
    "#assumption is that these score are similar to our scores\n",
    "def score_classificaiton(score):\n",
    "    score_value = None\n",
    "    #taking score and returning value \n",
    "    #using article to base classification score on us experian score\n",
    "    if(score <= 579):\n",
    "        score_value = 'Poor'\n",
    "    elif(score>= 580 and score <=669):\n",
    "        score_value = 'Fair'\n",
    "    elif(score>=670 and score <= 739):\n",
    "        score_value = 'Good'\n",
    "    elif(score>=740 and score <=799):\n",
    "        score_value = 'Very_Good'\n",
    "    elif(score > 800):\n",
    "        score_value = 'Exceptional'\n",
    "    else:\n",
    "        score_value = None\n",
    "    return score_value"
   ]
  },
  {
   "cell_type": "code",
   "execution_count": 11,
   "id": "c2f6c11d",
   "metadata": {},
   "outputs": [
    {
     "name": "stdout",
     "output_type": "stream",
     "text": [
      "Lowest Score 350\n",
      "Middle Score 652.0\n",
      "Highest score 850 \n"
     ]
    }
   ],
   "source": [
    "#this score is well within our fico score\n",
    "#My assumption is this score is similar to credit score\n",
    "#To prove this assumption, I am taking the min , median, and max\n",
    "\n",
    "min_score = bank_turn_overDF['Score'].min()\n",
    "mid_score = bank_turn_overDF['Score'].median()\n",
    "max_score = bank_turn_overDF['Score'].max()\n",
    "\n",
    "print(\"Lowest Score {}\\nMiddle Score {}\\nHighest score {} \".format(min_score,mid_score, max_score))\n"
   ]
  },
  {
   "cell_type": "code",
   "execution_count": 12,
   "id": "c68038bb",
   "metadata": {},
   "outputs": [],
   "source": [
    "#copying original data frame\n",
    "bank_GeneralCustomerInfo_df = bank_turn_overDF.copy()\n",
    "\n",
    "#Getting age group , applying age_classification function\n",
    "#New column Age_Group\n",
    "bank_GeneralCustomerInfo_df['Age_Group'] = bank_GeneralCustomerInfo_df['Age'].apply(age_classification)\n",
    "\n",
    "#Getting score group , applying score_classification function\n",
    "#New column Score_Group\n",
    "bank_GeneralCustomerInfo_df['Score_Group'] = bank_GeneralCustomerInfo_df['Score'].apply(score_classificaiton)"
   ]
  },
  {
   "cell_type": "code",
   "execution_count": 13,
   "id": "e5d7ddce",
   "metadata": {
    "scrolled": true
   },
   "outputs": [
    {
     "data": {
      "text/html": [
       "<div>\n",
       "<style scoped>\n",
       "    .dataframe tbody tr th:only-of-type {\n",
       "        vertical-align: middle;\n",
       "    }\n",
       "\n",
       "    .dataframe tbody tr th {\n",
       "        vertical-align: top;\n",
       "    }\n",
       "\n",
       "    .dataframe thead th {\n",
       "        text-align: right;\n",
       "    }\n",
       "</style>\n",
       "<table border=\"1\" class=\"dataframe\">\n",
       "  <thead>\n",
       "    <tr style=\"text-align: right;\">\n",
       "      <th></th>\n",
       "      <th>Row</th>\n",
       "      <th>Id</th>\n",
       "      <th>Surname</th>\n",
       "      <th>Score</th>\n",
       "      <th>Nationality</th>\n",
       "      <th>Gender</th>\n",
       "      <th>Age</th>\n",
       "      <th>Tenure</th>\n",
       "      <th>Balance</th>\n",
       "      <th>Products</th>\n",
       "      <th>Card</th>\n",
       "      <th>Active</th>\n",
       "      <th>Salary</th>\n",
       "      <th>Exited</th>\n",
       "      <th>Age_Group</th>\n",
       "      <th>Score_Group</th>\n",
       "    </tr>\n",
       "  </thead>\n",
       "  <tbody>\n",
       "    <tr>\n",
       "      <th>0</th>\n",
       "      <td>1</td>\n",
       "      <td>15634602</td>\n",
       "      <td>Hargrave</td>\n",
       "      <td>619</td>\n",
       "      <td>France</td>\n",
       "      <td>Female</td>\n",
       "      <td>42</td>\n",
       "      <td>2</td>\n",
       "      <td>0.00</td>\n",
       "      <td>1</td>\n",
       "      <td>1</td>\n",
       "      <td>1</td>\n",
       "      <td>101348.88</td>\n",
       "      <td>1</td>\n",
       "      <td>middle_aged_adults</td>\n",
       "      <td>Fair</td>\n",
       "    </tr>\n",
       "    <tr>\n",
       "      <th>1</th>\n",
       "      <td>2</td>\n",
       "      <td>15647311</td>\n",
       "      <td>Hill</td>\n",
       "      <td>608</td>\n",
       "      <td>Spain</td>\n",
       "      <td>Female</td>\n",
       "      <td>41</td>\n",
       "      <td>1</td>\n",
       "      <td>83807.86</td>\n",
       "      <td>1</td>\n",
       "      <td>0</td>\n",
       "      <td>1</td>\n",
       "      <td>112542.58</td>\n",
       "      <td>0</td>\n",
       "      <td>middle_aged_adults</td>\n",
       "      <td>Fair</td>\n",
       "    </tr>\n",
       "    <tr>\n",
       "      <th>2</th>\n",
       "      <td>3</td>\n",
       "      <td>15619304</td>\n",
       "      <td>Onio</td>\n",
       "      <td>502</td>\n",
       "      <td>France</td>\n",
       "      <td>Female</td>\n",
       "      <td>42</td>\n",
       "      <td>8</td>\n",
       "      <td>159660.80</td>\n",
       "      <td>3</td>\n",
       "      <td>1</td>\n",
       "      <td>0</td>\n",
       "      <td>113931.57</td>\n",
       "      <td>1</td>\n",
       "      <td>middle_aged_adults</td>\n",
       "      <td>Poor</td>\n",
       "    </tr>\n",
       "  </tbody>\n",
       "</table>\n",
       "</div>"
      ],
      "text/plain": [
       "   Row        Id   Surname  Score Nationality  Gender  Age  Tenure    Balance  \\\n",
       "0    1  15634602  Hargrave    619      France  Female   42       2       0.00   \n",
       "1    2  15647311      Hill    608       Spain  Female   41       1   83807.86   \n",
       "2    3  15619304      Onio    502      France  Female   42       8  159660.80   \n",
       "\n",
       "   Products  Card  Active     Salary  Exited           Age_Group Score_Group  \n",
       "0         1     1       1  101348.88       1  middle_aged_adults        Fair  \n",
       "1         1     0       1  112542.58       0  middle_aged_adults        Fair  \n",
       "2         3     1       0  113931.57       1  middle_aged_adults        Poor  "
      ]
     },
     "execution_count": 13,
     "metadata": {},
     "output_type": "execute_result"
    }
   ],
   "source": [
    "bank_GeneralCustomerInfo_df.head(3)"
   ]
  },
  {
   "cell_type": "code",
   "execution_count": 14,
   "id": "cd2adb4a",
   "metadata": {},
   "outputs": [],
   "source": [
    "#Removing  mutiple columns, these columns dont provide useful information and have to be removed.\n",
    "#only personal individual information will be displayed.\n",
    "bank_GeneralCustomerInfo_df = bank_GeneralCustomerInfo_df.drop(['Row', 'Id', 'Surname',  \n",
    "       'Tenure', 'Balance', 'Products', 'Card', 'Salary',\n",
    "       'Exited','Age','Score','Active'], axis=1).copy()"
   ]
  },
  {
   "cell_type": "code",
   "execution_count": 15,
   "id": "2f0d588e",
   "metadata": {},
   "outputs": [
    {
     "data": {
      "text/html": [
       "<div>\n",
       "<style scoped>\n",
       "    .dataframe tbody tr th:only-of-type {\n",
       "        vertical-align: middle;\n",
       "    }\n",
       "\n",
       "    .dataframe tbody tr th {\n",
       "        vertical-align: top;\n",
       "    }\n",
       "\n",
       "    .dataframe thead th {\n",
       "        text-align: right;\n",
       "    }\n",
       "</style>\n",
       "<table border=\"1\" class=\"dataframe\">\n",
       "  <thead>\n",
       "    <tr style=\"text-align: right;\">\n",
       "      <th></th>\n",
       "      <th>Nationality</th>\n",
       "      <th>Gender</th>\n",
       "      <th>Age_Group</th>\n",
       "      <th>Score_Group</th>\n",
       "    </tr>\n",
       "  </thead>\n",
       "  <tbody>\n",
       "    <tr>\n",
       "      <th>0</th>\n",
       "      <td>France</td>\n",
       "      <td>Female</td>\n",
       "      <td>middle_aged_adults</td>\n",
       "      <td>Fair</td>\n",
       "    </tr>\n",
       "    <tr>\n",
       "      <th>1</th>\n",
       "      <td>Spain</td>\n",
       "      <td>Female</td>\n",
       "      <td>middle_aged_adults</td>\n",
       "      <td>Fair</td>\n",
       "    </tr>\n",
       "    <tr>\n",
       "      <th>2</th>\n",
       "      <td>France</td>\n",
       "      <td>Female</td>\n",
       "      <td>middle_aged_adults</td>\n",
       "      <td>Poor</td>\n",
       "    </tr>\n",
       "  </tbody>\n",
       "</table>\n",
       "</div>"
      ],
      "text/plain": [
       "  Nationality  Gender           Age_Group Score_Group\n",
       "0      France  Female  middle_aged_adults        Fair\n",
       "1       Spain  Female  middle_aged_adults        Fair\n",
       "2      France  Female  middle_aged_adults        Poor"
      ]
     },
     "execution_count": 15,
     "metadata": {},
     "output_type": "execute_result"
    }
   ],
   "source": [
    "bank_GeneralCustomerInfo_df.head(3)"
   ]
  },
  {
   "cell_type": "code",
   "execution_count": 16,
   "id": "8e07c48d",
   "metadata": {},
   "outputs": [
    {
     "data": {
      "image/png": "[encoded data removed]",
      "text/plain": [
       "<Figure size 864x864 with 4 Axes>"
      ]
     },
     "metadata": {
      "needs_background": "light"
     },
     "output_type": "display_data"
    }
   ],
   "source": [
    "#Setting figure size\n",
    "fig = plt.figure(figsize=(12,12))\n",
    "#initializing count to 1\n",
    "count = 1\n",
    "#taking each column in bank_GeneralCustomerInfo_df\n",
    "#Should consist of 4 \n",
    "for i in bank_GeneralCustomerInfo_df.columns.values:\n",
    "    #4 plots will show the subplot will be set to 2 and 2\n",
    "    ax = plt.subplot(2,2,count)\n",
    "    #Setting value by comparision of bank turn over('Exited')\n",
    "    pd.crosstab(bank_GeneralCustomerInfo_df[i],bank_turn_overDF['Exited']).plot(kind='bar',ax=ax)\n",
    "    plt.tight_layout(pad=3.0)\n",
    "    \n",
    "    #Setting title to instance of first columns\n",
    "    plt.title(\"Churn by \"+ i)\n",
    "    plt.xlabel(i)\n",
    "    plt.ylabel(\"Count\")\n",
    "    \n",
    "    #counter increment for new plot\n",
    "    count = count + 1"
   ]
  },
  {
   "cell_type": "markdown",
   "id": "bd685bb5",
   "metadata": {},
   "source": [
    "The graph could be thought of as one big graph. There does seem to be more women leaving the bank than men. It also looks like they are more men that are staying at the bank than women. As a base of nationality, Germany and France have similar exit rates versus Spain which has a lower rate. It also seems like middle-aged adults between 36 and 55 are disproportionately leaving the bank versus young adults and older adults. Fair and poor credit scores have the highest exit rates from the bank."
   ]
  },
  {
   "cell_type": "code",
   "execution_count": 17,
   "id": "607b9c09",
   "metadata": {},
   "outputs": [
    {
     "data": {
      "text/plain": [
       "Gender\n",
       "Female    4543\n",
       "Male      5457\n",
       "Name: Gender, dtype: int64"
      ]
     },
     "execution_count": 17,
     "metadata": {},
     "output_type": "execute_result"
    }
   ],
   "source": [
    "#Seeing the difference size in gender\n",
    "#There are more males then females, this can explain the previous graph on why there are more men that stay in the bank.\n",
    "bank_GeneralCustomerInfo_df.groupby('Gender')['Gender'].count()"
   ]
  },
  {
   "cell_type": "markdown",
   "id": "c9fd6c5c",
   "metadata": {},
   "source": [
    "# Correlation Coefficient Matrix"
   ]
  },
  {
   "cell_type": "code",
   "execution_count": 18,
   "id": "45cbf24f",
   "metadata": {},
   "outputs": [],
   "source": [
    "#Setting a martix to original values\n",
    "#Removeing Row number and Id , would provided information for correlation graph\n",
    "bank_t_over = bank_turn_overDF.drop(['Row', 'Id'], axis=1).copy()\n",
    "\n",
    "corrMatrix = bank_t_over.corr()"
   ]
  },
  {
   "cell_type": "code",
   "execution_count": 19,
   "id": "f8d3e628",
   "metadata": {
    "scrolled": true
   },
   "outputs": [
    {
     "data": {
      "image/png": "[encoded data removed]",
      "text/plain": [
       "<Figure size 720x576 with 2 Axes>"
      ]
     },
     "metadata": {
      "needs_background": "light"
     },
     "output_type": "display_data"
    }
   ],
   "source": [
    "#All values of corrMatrix will be passed in matrix graph\n",
    "fig, ax = plt.subplots(figsize=(10,8)) \n",
    "sns.heatmap(corrMatrix, annot= True,  linewidths=.5, ax=ax)\n",
    "plt.title(\"Correlation Coefficient Matrix Bank Consumer Churns\")\n",
    "plt.show()"
   ]
  },
  {
   "cell_type": "markdown",
   "id": "074ffc64",
   "metadata": {},
   "source": [
    "There are three values that have a positive correlation to people that have exited. The first is age with a 29 percent positive correlation. Balance and salary both have the same correlation at 12 percent. This shows that the age and the amount of money factor into whether the person will leave or not."
   ]
  },
  {
   "cell_type": "markdown",
   "id": "56f9f52c",
   "metadata": {},
   "source": [
    "# Histogram"
   ]
  },
  {
   "cell_type": "code",
   "execution_count": 20,
   "id": "5badd7e8",
   "metadata": {},
   "outputs": [
    {
     "data": {
      "image/png": "[encoded data removed]",
      "text/plain": [
       "<Figure size 432x288 with 1 Axes>"
      ]
     },
     "metadata": {
      "needs_background": "light"
     },
     "output_type": "display_data"
    },
    {
     "data": {
      "image/png": "[encoded data removed]",
      "text/plain": [
       "<Figure size 432x288 with 1 Axes>"
      ]
     },
     "metadata": {
      "needs_background": "light"
     },
     "output_type": "display_data"
    },
    {
     "data": {
      "image/png": "[encoded data removed]",
      "text/plain": [
       "<Figure size 432x288 with 1 Axes>"
      ]
     },
     "metadata": {
      "needs_background": "light"
     },
     "output_type": "display_data"
    }
   ],
   "source": [
    "#heat map had values that had some correlation with exited\n",
    "#this means the values should be looked into more\n",
    "#Plot the graphs that have correlation with exits\n",
    "#only values with any correlation will be graphed, there should be 3\n",
    "for i in enumerate(bank_t_over):\n",
    "    if(i[1] == 'Age' or i[1] == 'Salary' or i[1] == 'Balance'):\n",
    "        plt.title(\"Histogram of \" +i[1])\n",
    "        plt.hist(bank_t_over[i[1]])\n",
    "        plt.xlabel(i[1])\n",
    "        plt.ylabel(\"frequency\")\n",
    "   \n",
    "        plt.show()"
   ]
  },
  {
   "cell_type": "markdown",
   "id": "5a4ac29e",
   "metadata": {},
   "source": [
    "The greatest number of people leaving are between the ages of 30 and 40 years. With most of the balances being between 0 and 50,000 dollars. It levels off around 150,000 and 200,000 dollars. Overall, these traits are the ones with a positive correlation. The salary that people make is all over the board meaning they are not normal distributions.\n"
   ]
  },
  {
   "cell_type": "markdown",
   "id": "9dfd9e67",
   "metadata": {},
   "source": [
    "# Conclusion"
   ]
  },
  {
   "cell_type": "markdown",
   "id": "1a256f94",
   "metadata": {},
   "source": [
    "The overall bank churn is around 20.4%. This means that 79.6% of the consumers stay with the bank. Also, there are more men at the bank than women. However, there are more women leaving the bank than men. In other words, there are fewer women at the bank, and a large number leaving the bank. Perhaps there are some gender factors that should be investigated. On an age factor, more middle-aged people are leaving the bank than other age groups. The score values indicate that those people with a fair credit score are more likely to churn. Exceptional credit scores have very few people that end up exiting. A data entry that would make this picture complete would be interest rates. Perhaps the score gives them perks. There are 3 values that have a correlation with bank churn which are age, balance, and salary. Age has the highest factor. The average age to churn is between the ages of 30 and 40. The overall average balance is between 0 and 23/30 thousand. The salaries for churn are all over the board. Overall, this begins to cover some answers to the first few questions. With that said, it arises more questions."
   ]
  },
  {
   "cell_type": "markdown",
   "id": "d4e40c4b",
   "metadata": {},
   "source": [
    "# Felipe Castillo\n",
    "# Mile Stone 2\n",
    "# Data Mining\n",
    "# 05/04/2022"
   ]
  },
  {
   "cell_type": "code",
   "execution_count": 1,
   "id": "8efa3f5b",
   "metadata": {},
   "outputs": [],
   "source": [
    "import pandas as pd\n",
    "import os\n",
    "import numpy as np\n",
    "import seaborn as sns\n",
    "import matplotlib.pyplot as plt\n",
    "from sklearn.linear_model import LinearRegression, Ridge , LogisticRegression\n",
    "from sklearn.metrics import r2_score ,accuracy_score,mean_squared_error,recall_score,f1_score\n",
    "from sklearn.model_selection import train_test_split\n",
    "from sklearn.metrics import precision_score\n",
    "from sklearn.preprocessing import StandardScaler\n",
    "from sklearn.metrics import mean_squared_error,confusion_matrix,roc_curve,roc_auc_score\n",
    "from sklearn.decomposition import PCA\n",
    "import random\n",
    "from sklearn.metrics import r2_score\n",
    "from math import sqrt\n",
    "\n",
    "from sklearn.metrics import mean_squared_error\n",
    "#Change path to week one folder for DSC-550\n",
    "#Current directory in documents\n",
    "os.chdir('C:\\DataScience_DSC_550\\Week6')"
   ]
  },
  {
   "cell_type": "markdown",
   "id": "a5b1f60b",
   "metadata": {},
   "source": [
    "The graphical analysis gave me some insight in the values we need to increase the accuracy of our model. With that said, there might be an error with milestone 1 assumption that the surname held no significance. However, now I am realizing the surname could be useful in order to get a better understanding of bank churn. What gave me this idea was the other day when I had my sister deposit money in my  bank. It hit me, what if churn can also be related to family dynamics? For example, my whole family has banked with Banc First for over 10 years, my wife took my last name although its not her surname, how would the bank be able to tell the difference? Because the name is Castillo, it should be counted as surname.  The assumption is that if there are more then one name with the same surname, they might be related. Therefore, we need to justify surname before we drop this column.However, we can’t concluded that they are indeed related. There might be people with the same surname that are not related. But if there are doubles in the data set, its worth keep.\n"
   ]
  },
  {
   "cell_type": "code",
   "execution_count": 2,
   "id": "4f234414",
   "metadata": {},
   "outputs": [],
   "source": [
    "bank_turn_overDF = pd.read_csv(\"data_turn.csv\")"
   ]
  },
  {
   "cell_type": "code",
   "execution_count": 3,
   "id": "748860b4",
   "metadata": {
    "scrolled": true
   },
   "outputs": [
    {
     "data": {
      "text/html": [
       "<div>\n",
       "<style scoped>\n",
       "    .dataframe tbody tr th:only-of-type {\n",
       "        vertical-align: middle;\n",
       "    }\n",
       "\n",
       "    .dataframe tbody tr th {\n",
       "        vertical-align: top;\n",
       "    }\n",
       "\n",
       "    .dataframe thead th {\n",
       "        text-align: right;\n",
       "    }\n",
       "</style>\n",
       "<table border=\"1\" class=\"dataframe\">\n",
       "  <thead>\n",
       "    <tr style=\"text-align: right;\">\n",
       "      <th></th>\n",
       "      <th>Row</th>\n",
       "      <th>Id</th>\n",
       "      <th>Surname</th>\n",
       "      <th>Score</th>\n",
       "      <th>Nationality</th>\n",
       "      <th>Gender</th>\n",
       "      <th>Age</th>\n",
       "      <th>Tenure</th>\n",
       "      <th>Balance</th>\n",
       "      <th>Products</th>\n",
       "      <th>Card</th>\n",
       "      <th>Active</th>\n",
       "      <th>Salary</th>\n",
       "      <th>Exited</th>\n",
       "    </tr>\n",
       "  </thead>\n",
       "  <tbody>\n",
       "    <tr>\n",
       "      <th>0</th>\n",
       "      <td>1</td>\n",
       "      <td>15634602</td>\n",
       "      <td>Hargrave</td>\n",
       "      <td>619</td>\n",
       "      <td>France</td>\n",
       "      <td>Female</td>\n",
       "      <td>42</td>\n",
       "      <td>2</td>\n",
       "      <td>0.00</td>\n",
       "      <td>1</td>\n",
       "      <td>1</td>\n",
       "      <td>1</td>\n",
       "      <td>101348.88</td>\n",
       "      <td>1</td>\n",
       "    </tr>\n",
       "    <tr>\n",
       "      <th>1</th>\n",
       "      <td>2</td>\n",
       "      <td>15647311</td>\n",
       "      <td>Hill</td>\n",
       "      <td>608</td>\n",
       "      <td>Spain</td>\n",
       "      <td>Female</td>\n",
       "      <td>41</td>\n",
       "      <td>1</td>\n",
       "      <td>83807.86</td>\n",
       "      <td>1</td>\n",
       "      <td>0</td>\n",
       "      <td>1</td>\n",
       "      <td>112542.58</td>\n",
       "      <td>0</td>\n",
       "    </tr>\n",
       "  </tbody>\n",
       "</table>\n",
       "</div>"
      ],
      "text/plain": [
       "   Row        Id   Surname  Score Nationality  Gender  Age  Tenure   Balance  \\\n",
       "0    1  15634602  Hargrave    619      France  Female   42       2      0.00   \n",
       "1    2  15647311      Hill    608       Spain  Female   41       1  83807.86   \n",
       "\n",
       "   Products  Card  Active     Salary  Exited  \n",
       "0         1     1       1  101348.88       1  \n",
       "1         1     0       1  112542.58       0  "
      ]
     },
     "execution_count": 3,
     "metadata": {},
     "output_type": "execute_result"
    }
   ],
   "source": [
    "bank_turn_overDF.head(2)"
   ]
  },
  {
   "cell_type": "markdown",
   "id": "d8d16d26",
   "metadata": {},
   "source": [
    "According to our graphical analysis. There were a few features like products that had a negative correlation with exits. With that said, its not enough to convince that the negative features should be removed. The individual feature could be useless on its own, but the overall pictures might tell something different. For example, do people age matter when getting products? The assumption is probably so, I know at age 30 I was able to have way more then I did at age 23. In this case age does have a correlation with bank churn. \n",
    "\n"
   ]
  },
  {
   "cell_type": "code",
   "execution_count": 4,
   "id": "96773faf",
   "metadata": {},
   "outputs": [],
   "source": [
    "#Setting a martix to original values\n",
    "#Removeing Row number and Id , would provided information for correlation graph\n",
    "bank_t_over = bank_turn_overDF.drop(['Row', 'Id'], axis=1).copy()\n"
   ]
  },
  {
   "cell_type": "markdown",
   "id": "2b87baee",
   "metadata": {},
   "source": [
    "Dropping Id and Row because it holds no value for our model. Row indicates the number of records we have which doesn’t give any meaning to our overall hypothesis. The order of the bank row doesn’t matter in the case.  The Id also needs to be dropped. It doesn’t hold any useful information that could help our model. It doesn’t matter what the person ID is because it doesn’t hold any meaning to who the person is. For example, salary explains the level of money he brings in. It can also be true that the person can be classified as low earner or a higher earner. The id has no numerical or categorical usefulness."
   ]
  },
  {
   "cell_type": "code",
   "execution_count": 5,
   "id": "1944df0c",
   "metadata": {},
   "outputs": [
    {
     "data": {
      "text/html": [
       "<div>\n",
       "<style scoped>\n",
       "    .dataframe tbody tr th:only-of-type {\n",
       "        vertical-align: middle;\n",
       "    }\n",
       "\n",
       "    .dataframe tbody tr th {\n",
       "        vertical-align: top;\n",
       "    }\n",
       "\n",
       "    .dataframe thead th {\n",
       "        text-align: right;\n",
       "    }\n",
       "</style>\n",
       "<table border=\"1\" class=\"dataframe\">\n",
       "  <thead>\n",
       "    <tr style=\"text-align: right;\">\n",
       "      <th></th>\n",
       "      <th>Surname</th>\n",
       "      <th>Score</th>\n",
       "      <th>Nationality</th>\n",
       "      <th>Gender</th>\n",
       "      <th>Age</th>\n",
       "      <th>Tenure</th>\n",
       "      <th>Balance</th>\n",
       "      <th>Products</th>\n",
       "      <th>Card</th>\n",
       "      <th>Active</th>\n",
       "      <th>Salary</th>\n",
       "      <th>Exited</th>\n",
       "    </tr>\n",
       "  </thead>\n",
       "  <tbody>\n",
       "    <tr>\n",
       "      <th>0</th>\n",
       "      <td>Hargrave</td>\n",
       "      <td>619</td>\n",
       "      <td>France</td>\n",
       "      <td>Female</td>\n",
       "      <td>42</td>\n",
       "      <td>2</td>\n",
       "      <td>0.00</td>\n",
       "      <td>1</td>\n",
       "      <td>1</td>\n",
       "      <td>1</td>\n",
       "      <td>101348.88</td>\n",
       "      <td>1</td>\n",
       "    </tr>\n",
       "    <tr>\n",
       "      <th>1</th>\n",
       "      <td>Hill</td>\n",
       "      <td>608</td>\n",
       "      <td>Spain</td>\n",
       "      <td>Female</td>\n",
       "      <td>41</td>\n",
       "      <td>1</td>\n",
       "      <td>83807.86</td>\n",
       "      <td>1</td>\n",
       "      <td>0</td>\n",
       "      <td>1</td>\n",
       "      <td>112542.58</td>\n",
       "      <td>0</td>\n",
       "    </tr>\n",
       "    <tr>\n",
       "      <th>2</th>\n",
       "      <td>Onio</td>\n",
       "      <td>502</td>\n",
       "      <td>France</td>\n",
       "      <td>Female</td>\n",
       "      <td>42</td>\n",
       "      <td>8</td>\n",
       "      <td>159660.80</td>\n",
       "      <td>3</td>\n",
       "      <td>1</td>\n",
       "      <td>0</td>\n",
       "      <td>113931.57</td>\n",
       "      <td>1</td>\n",
       "    </tr>\n",
       "  </tbody>\n",
       "</table>\n",
       "</div>"
      ],
      "text/plain": [
       "    Surname  Score Nationality  Gender  Age  Tenure    Balance  Products  \\\n",
       "0  Hargrave    619      France  Female   42       2       0.00         1   \n",
       "1      Hill    608       Spain  Female   41       1   83807.86         1   \n",
       "2      Onio    502      France  Female   42       8  159660.80         3   \n",
       "\n",
       "   Card  Active     Salary  Exited  \n",
       "0     1       1  101348.88       1  \n",
       "1     0       1  112542.58       0  \n",
       "2     1       0  113931.57       1  "
      ]
     },
     "execution_count": 5,
     "metadata": {},
     "output_type": "execute_result"
    }
   ],
   "source": [
    "bank_t_over.head(3)"
   ]
  },
  {
   "cell_type": "code",
   "execution_count": 6,
   "id": "7b4638f4",
   "metadata": {},
   "outputs": [
    {
     "name": "stdout",
     "output_type": "stream",
     "text": [
      "Duplicate Rows except first occurrence based on all columns are :\n",
      "89     Osborne\n",
      "94       Capon\n",
      "102       Hung\n",
      "114    Fanucci\n",
      "122    Cameron\n",
      "Name: Surname, dtype: object\n"
     ]
    }
   ],
   "source": [
    "#Checking for duplicates,\n",
    "#The truth is that there seems to be some significance, in the name,\n",
    "#How ever there are duplicates, now i need to see if the number is significant\n",
    "\n",
    "bank_t_over_dups = bank_t_over[bank_t_over['Surname'].duplicated()].copy()\n",
    "print(\"Duplicate Rows except first occurrence based on all columns are :\")\n",
    "print(bank_t_over_dups.head(5).Surname)"
   ]
  },
  {
   "cell_type": "code",
   "execution_count": 7,
   "id": "a04898b6",
   "metadata": {},
   "outputs": [
    {
     "name": "stdout",
     "output_type": "stream",
     "text": [
      "['Hargrave', 'Hill', 'Onio', 'Boni', 'Mitchell', 'Chu', 'Bartlett', 'Obinna', 'He', 'H?', 'Bearce', 'Andrews', 'Kay', 'Chin', 'Scott', 'Goforth', 'Romeo', 'Henderson', 'Muldrow', 'Hao', 'McDonald', 'Dellucci', 'Gerasimov', 'Mosman', 'Yen', 'Maclean', 'Young', 'Nebechi', 'McWilliams', 'Lucciano', 'Azikiwe', 'Odinakachukwu', 'Sanderson', 'Maggard', 'Clements', 'Lombardo', 'Watson', 'Lorenzo', 'Armstrong', 'Cameron', 'Hsiao', 'Clarke', 'Osborne', 'Lavine', 'Bianchi', 'Tyler', 'Martin', 'Okagbue', 'Yin', 'Buccho', 'Chidiebele', 'Trevisani', \"O'Brien\", 'Parkhill', 'Yoo', 'Phillipps', 'Tsao', 'Endrizzi', \"T'ien\", 'Velazquez', 'Hunter', 'Clark', 'Jeffrey', 'Pirozzi', 'Jackson', 'Hammond', 'Brownless', 'Chibugo', 'Glauert', 'Pisano', 'Konovalova', 'McKee', 'Palermo', 'Ballard', 'Wallace', 'Cavenagh', 'Hu', 'Read', 'Bushell', 'Postle', 'Buley', 'Leonard', 'Mills', 'Onyeorulu', 'Beit', 'Ndukaku', 'Gant', 'Rowley', 'Sharpe', 'Heap', 'Ritchie', 'Cole', 'Capon', 'Fiorentini', 'Graham', 'Yuille', 'Allard', 'Fanucci', 'Fu', 'Hung', 'Bradley', 'Dunbabin', 'Mauldon', 'Stiger', 'Parsons', 'Walkom', \"T'ang\", 'Eremenko', 'Rowntree', 'Thorpe', 'Chiemela', 'Ko', 'Welch', 'Duncan', 'Chidozie', 'Wu', 'Culbreth', 'Kennedy', 'Calabresi', 'Zetticci', 'Fuller', 'MacDonald', 'Piccio', 'Fernie', 'Kaodilinakachukwu', 'Cocci', 'Alekseeva', 'Chinweike', 'Arthur', 'Li', 'Ma', 'Chia', 'Vasin', 'Groves', 'Tien', 'Forwood', 'Greeves', 'Taylor', 'Madukwe', 'Bennelong', 'Olisanugo', 'Chukwufumnanya', 'Harris', 'Morgan', 'Alexeeva', 'Metcalfe', 'Humphries', 'Milne', 'Chou', 'Clayton', 'Chigolum', 'Wilkinson', 'Wei', 'Treacy', 'Taverner', 'Sherman', 'Taubman', 'Robinson', 'Pinto', 'Wood', 'Hawkins', 'Sun', 'Yost', 'Ting', 'Rowe', 'Ho', 'Okechukwu', 'Campbell', 'Ashbolt', 'Rozier', 'Hsia', 'Ogbonnaya', 'Chang', \"T'ao\", 'Ford', 'Marshall', 'Tsai', 'Onwumelu', 'Golovanov', 'Potts', 'Crawford', 'Aleshire', 'Moran', 'Samsonova', 'Jenkins', 'Volkov', 'Chiemezie', 'Jude', 'Onuora', 'Ginikanwa', 'Ku', 'Collins', 'Hackett', 'Dike', 'Trevisano', 'Tan', 'Glassman', 'Miller', 'Kornilova', 'Marchesi', 'Millar', 'Shih', 'Hay', 'Yang', 'McIntyre', 'Stevenson', 'Poole', 'Bagley', \"Ch'ien\", 'Cattaneo', \"O'Sullivan\", 'Lucas', 'Ringrose', 'Freeman', 'Sergeyev', 'Fiore', 'Smith', 'Dumetochukwu', 'Pacheco', 'Synnot', 'Johnston', 'Stevens', 'Grant', 'Barnes', 'McIntosh', 'Madison', 'Ifesinachi', 'Glazkov', 'Dimauro', 'Wieck', 'Liao', 'Hughes', 'Morrison', 'Matveyeva', 'Cheatham', 'Yao', 'Kirkland', 'Rose', 'Jess', 'Ifeajuna', 'Morton', 'Rossi', 'Reppert', 'Kang', \"Ch'iu\", 'Wallis', 'Fielding', 'Dulhunty', 'Bevington', 'Boyle', 'Newton', 'Bowman', 'Dubinina', 'Toscani', 'Chiazagomekpere', 'Allen', \"K'ung\", 'Wilsmore', 'Hargreaves', 'Huang', 'Wallwork', 'Davidson', \"O'Donnell\", 'Nnachetam', 'Ahmed', 'Booth', 'Chuang', 'Shao', 'Johnson', 'French', 'Efremov', 'Hartley', 'Calabrese', 'Chiu', 'Brennan', 'Onwuatuegwu', 'Hewitt', 'Balashov', 'Doyle', 'Pokrovskii', 'Russo', 'Skinner', 'Robertson', 'Atkinson', 'McEncroe', 'Pearson', 'Gordon', \"Ts'ai\", 'Lung', 'Yuan', 'Pardey', 'Tai', 'Mazzanti', 'L?', 'Beach', 'Hsieh', 'Faulkner', 'Knowles', 'Day', 'Hsueh', 'Nwabugwu', 'Kerr', 'Marrero', 'White', 'Brown', 'Russell', 'Seleznyov', 'Yusupova', 'Foley', 'Ikedinachukwu', 'Power', 'Amos', 'Reed', 'Simmons', 'Ricci', 'West', 'Chen', 'Madukaego', 'Ibrahimova', 'Nolan', 'Blair', 'Monaldo', 'Sutherland', 'Briggs', 'Gregory', 'Angelo', 'Gardiner', 'Distefano', 'Farrell', 'Milano', 'Boyd', 'Onyemaechi', 'Black', 'Oliver', 'Greco', 'Whitehead', 'Ikemefuna', 'Onyeoruru', 'Cunningham', 'Demidov', 'Celis', 'Cheng', 'Knight', 'Morin', 'Outhwaite', 'Tung', 'Pai', 'Carpenter', 'Fennell', 'Fontaine', 'Pratt', 'Franklin', 'McKenzie', 'Pino', 'Fisk', 'Chiang', 'Moseley', 'Hsiung', 'Heath', 'De Salis', 'Richardson', 'Fitch', 'Estes', 'Lattimore', 'Chung', 'Utz', 'Nwachinemelu', 'Kuznetsova', 'Pisani', 'Manna', 'Collier', 'Carr', 'Hs?', 'Findlay', 'Chukwuemeka', 'Genovese', 'Swift', 'Ugoji', 'Parkinson', 'Ross', 'Oleary', 'Turnbull', 'Uspensky', 'Cook', 'Newbold', 'Uchechukwu', \"Ch'en\", 'Hilton', 'Sal', 'Eluemuno', 'Titus', 'Lettiere', 'Templeman', 'Chibuzo', 'Evans', 'Enyinnaya', 'Brookes', 'Padovano', 'Hare', 'Muir', 'Elewechi', 'Ankudinov', 'Nwokike', 'Atkins', 'Burns', 'Obiuto', 'George', 'Lewis', 'Dalrymple', 'Carslaw', 'Kirby', 'Houghton', 'Westerberg', 'Hale', 'Kryukova', 'Sopuluchukwu', 'Barry', 'Selezneva', 'Chizuoke', 'Lueck', 'Udinese', 'Udobata', 'Outlaw', 'Lo', 'King', 'Forbes', 'Macleod', 'Gibbs', 'Isayev', 'Belstead', 'Vassiliev', 'Schneider', 'Knipe', 'Macartney', 'Watts', 'Humphreys', 'Chesnokova', 'Kung', 'Lu', 'Nkemakolam', 'Walton', 'Baldwin', 'Mai', 'Ferreira', 'Ukaegbunam', 'De Luca', 'Davide', 'Kodilinyechukwu', 'Little', 'Paterson', 'Han', 'Ijendu', 'Reichard', 'Price', 'Bruce', 'Sumrall', 'Lazarev', 'Wentworth-Shields', 'Mackenzie', 'Pendergrass', 'Billson', 'Teng', 'Moretti', 'Jordan', \"Ts'ao\", \"Ch'ang\", 'Obialo', 'Gray', 'Lin', 'Hopkins', 'Dobson', 'McKay', 'Revell', 'Rickards', 'Begum', 'Onyinyechukwuka', 'Zuyev', 'Nwankwo', 'Okwuadigbo', 'Chan', 'Buchi', 'Lombardi', 'Uchenna', 'Coffman', 'Alexandrova', 'Fallaci', 'Hudson', 'Stout', 'Burke', 'Chadwick', 'Lawrence', 'Bellucci', 'Harper', 'Moss', 'Avdeyeva', 'Lynton', 'Gether', 'Larionova', 'Loggia', 'Steinhoff', 'Guerra', 'Craig', 'Lazareva', 'Alderete', 'Rahman', 'McMillan', 'Pickering', 'Mirams', 'Douglas', 'Jideofor', 'Bell', 'Mairinger', 'Pagnotto', 'Feng', 'Donaldson', 'Chambers', 'Marcelo', 'Ejimofor', 'Dale', 'Pokrovsky', 'Stonebraker', 'Liang', 'Anderson', 'Christian', 'Mao', 'Sagese', 'Fleming', 'Grubb', 'Napolitani', 'Anenechi', 'Chandler', 'Howells', 'Akeroyd', 'Uwaezuoke', 'Loyau', 'Small', 'Bledsoe', 'Kao', 'Wickens', 'Wertheim', 'Jarvis', \"P'an\", 'Repina', 'Pugliesi', 'Blakey', 'Nucci', 'Higinbotham', 'Achebe', 'Dobie', 'Maccallum', 'Watkins', 'Mitchel', 'Ferdinand', 'Otitodilinna', 'Mamelu', 'Beneventi', 'Perrodin', 'Chinagorom', 'Napolitano', 'Edgar', 'Walker', 'Steele', 'Elkins', 'Toscano', 'Savage', 'Mordvinova', 'Kent', 'Cooper', 'Mazzi', 'Fisher', 'Summers', 'Brady', 'Nicholls', 'Golubov', 'Oldham', 'Kambinachi', 'Chinwemma', 'Olsen', 'Jen', 'Preston', 'Ozioma', 'Cody', 'Ponomarev', 'Milani', 'Tang', 'Romani', 'Davis', 'Onyemauchechukwu', 'Gell', 'Chiwetelu', 'Kirillova', 'Shaw', 'Okwudilichukwu', 'Onuoha', 'Muecke', 'Azubuike', 'Nnonso', 'Ashley', \"Ts'ui\", 'Kenenna', 'Beluchi', 'Williamson', 'Bobrov', 'Pitts', 'Standish', 'Cartwright', 'Johnstone', 'Nikitina', 'McElroy', 'Shen', 'Archer', 'Otutodilinna', 'Denisov', 'Owens', \"P'eng\", 'Verco', 'Bergamaschi', 'Outtrim', 'Hou', 'Galkin', 'Echezonachukwu', 'Munro', 'Ball', 'Virgo', 'Tao', 'Perez', 'Fraser', 'Alley', 'Hooper', 'Rice', 'Cox', 'Ikenna', 'Alexander', 'Piazza', 'Ni', 'Harker', 'Chiabuotu', 'Kuo', 'Gallagher', 'Zhirov', 'Lloyd', 'Palmer', \"Ch'eng\", 'Avent', 'Trentini', 'Koehler', 'Okoli', 'Nwokezuike', 'Artemiev', 'Esposito', 'Abbie', 'Averyanov', 'Unaipon', 'Clamp', 'Lim', 'Wan', 'Pettit', 'Baresi', 'Newbery', 'Iheanacho', 'Landry', 'McGregor', 'Pirogov', 'Oguejiofor', 'Ugochukwu', 'Rohu', 'Cary', \"O'Loghlen\", 'Quinn', 'Page', 'Stanley', 'Bednall', 'She', 'May', 'Seabrook', 'Herrera', 'Kincaid', 'Sleeman', 'Artemieva', 'Barwell', 'Wright', 'Moore', 'Sung', 'Mello', 'Mistry', 'Chukwukadibia', 'Zikoranachidimma', 'Oluchukwu', 'Rivera', 'Niu', 'Bennett', 'Wollstonecraft', 'Thomsen', 'Chinwendu', 'James', 'Lamb', 'Olejuru', 'Chiawuotu', 'Yeates', 'Thurgood', 'Knupp', 'Baryshnikov', 'Shephard', 'Avdeeva', 'Hsu', 'Buchanan', 'Yeh', 'Palazzi', 'Y?an', 'Schofield', 'Wall', 'Blackburn', 'Wickham', 'Bird', 'Brizendine', \"Ch'in\", 'Yusupov', 'Jibunoh', 'Wilder', 'Nepean', 'McNess', 'Coles', 'Benson', 'Gilbert', 'Wilhelm', 'Sinclair', 'Buckner', 'Padovesi', 'Palerma', 'Pan', 'Kenniff', 'Spencer', 'Lees', 'David', 'Hsing', 'Ginn', 'Sozonov', 'Manfrin', 'Artamonova', 'Hansen', 'Larsen', 'Owen', 'Murphy', 'Ekechukwu', 'Ayers', 'Sanders', 'Eberechukwu', 'Bardin', 'Talbot', 'Goold', 'Zikoranaudodimma', 'Garner', 'Naylor', 'Fulton', 'McCaffrey', 'Zuev', 'Fabro', 'Chatfield', 'Volkova', 'Abramovich', 'Chien', 'Timms', 'Williford', 'Hamilton', 'Su', 'Akobundu', 'Chukwuebuka', 'Lampungmeiua', 'Kline', 'Riggs', 'Davison', 'Ingram', 'Dilke', 'Gibson', 'Iadanza', 'Hebert', 'Jamieson', 'Chiganu', 'Burgess', 'Woods', 'Bluett', 'Chapman', 'Andrejew', 'Spyer', 'Philip', 'Perry', 'Fokine', 'Mackay', 'Maslova', 'McLean', 'Thompson', 'Tisdall', 'Onochie', 'Mironova', 'Ndubueze', 'Stephenson', 'Golubev', 'Mullan', 'Glover', 'Northey', 'Howarde', 'Colman', 'Butcher', 'Wilkie', 'Bray', 'Ann', 'Souter', 'Medvedeva', 'Onwudiwe', 'Ferrari', 'Hazon', 'Hardy', 'Dickson', 'Holden', 'Doherty', 'Samuel', 'Malloy', 'Fitts', 'Yefimova', 'Abramov', 'Demuth', 'Lawless', 'Brooks', 'Ignatyeva', 'Balmain', 'Ecuyer', 'Li Fonti', 'Despeissis', 'Williams', 'Hancock', 'Wilkins', 'Longo', 'Mancini', 'Winter-Irving', 'Stewart', 'Murray', 'Rischbieth', 'Otutodilichukwu', 'Thomas', 'Whitworth', 'Trentino', 'McMasters', 'Alekseyeva', 'Baranova', 'Yobachi', 'Sorokina', 'Ervin', 'Vance', 'Noble', 'Milanesi', 'Parkin', 'Cremonesi', 'Docherty', 'Ugonna', 'Bevan', \"O'Neill\", 'Pham', 'Osinachi', 'Muravyov', 'Igwebuike', 'Zack', 'Chidiegwu', 'Lucchesi', 'Yudin', 'Wade', 'Septimus', 'Hargraves', 'Sidorov', 'Bunton', 'Conti', 'Sims', 'Carter', 'Dumetolisa', 'Peng', 'Drake-Brockman', 'Tretiakov', 'Lai', 'Justice', 'Osonduagwuike', 'Ewing', 'Tsou', 'Ubanwa', 'Kapustin', 'Nnamutaezinwa', 'Ferri', 'Amechi', 'Kirk', 'Griffin', 'Longstaff', 'McWilliam', 'Coffee', 'Creswell', 'Dodds', 'Ewen', 'Boniwell', 'Vasilieva', 'Kwemto', 'Bocharova', 'Morres', 'Vogel', \"T'an\", 'Wisdom', 'Shahan', 'Bryant', 'Hayward', 'Liu', 'Greece', 'Norman', 'Chukwudi', 'Fedorov', 'Reid', 'Wofford', 'Stephens', 'Frolov', 'Fields', 'Suffolk', 'Judd', 'Degtyarev', 'Kinlaw', 'Omeokachie', 'Gorbunova', 'Tikhonov', 'Campa', 'Donoghue', 'Tuan', 'Baxter', 'Rogers', 'Byrne', 'Aitken', 'Macintyre', 'Simpson', 'Praed', 'Laurens', 'Bykov', 'Vorobyova', 'Pirogova', 'Sturt', 'Panicucci', 'Siciliani', 'Lucchese', 'Swaim', 'Quinones', 'Ludowici', 'Larson', 'Landman', 'K?', 'Alexeyeva', 'Chukwualuka', 'McCall', 'Okeke', 'Iloabuchi', 'Nebechukwu', 'Diribe', 'Macgroarty', 'Artemova', 'Kelly', 'Reilly', 'Ojiofor', 'Shelton', 'Lange', 'Hovell', 'Espinosa', 'Barbour', 'Ozerova', 'Ulyanova', 'Steiner', 'Akabueze', 'Aleksandrova', 'Griffiths', 'McNeil', 'Bruno', 'Okorie', 'Moen', 'McGuigan', 'Fancher', 'Matthews', 'Kaeppel', 'Yudina', 'Jamison', 'Hardiman', 'Woodard', 'Chienezie', 'Chineze', 'Buckland', 'Flannery', 'Payne', 'Vincent', 'Pearce', 'Riley', 'Honore', 'Macarthur', 'Gould', 'Medvedev', 'Sholes', 'Rolon', 'Bligh', 'Lamble', 'Jose', 'Howard', 'Onwuamaeze', \"D'Albertis\", 'Nwachukwu', 'Simpkinson', 'Conway', 'Maslow', 'Swadling', 'Gallo', 'Onyemachukwu', 'Samoylova', 'Leak', 'Frost', 'Warner', 'Ifeatu', 'Fan', 'Whiddon', 'Onyekachukwu', 'Ermakova', 'Marino', 'Onyemere', 'Everingham', 'Huie', 'Crowther', 'Skelton', 'Giordano', 'Bateson', 'Elizabeth', 'Serrano', 'Willis', 'Mashman', 'Tu', 'Romano', 'Goliwe', 'Chiemeka', 'Kellway', 'Sopuluchi', 'Spitzer', 'Potter', 'Kovalyova', 'Miah', 'Builder', 'Baddeley', 'Todd', 'Obiajulu', 'Farmer', 'Ignatieff', 'Okonkwo', 'Dore', 'Bazarova', 'Burn', 'Andreyev', 'Nock', 'Kelley', 'Wilson', 'McFarland', 'Cisneros', 'Borchgrevink', 'Rozhkova', 'Veltri', 'Golibe', 'Udinesi', 'Curtis', 'Hayden', 'Green', 'Gough', 'Bates', 'Kharlamov', 'Ferguson', 'Le Grand', 'Valdez', 'Godfrey', 'Robson', 'Yevdokimova', 'Colombo', 'Akubundu', 'Francis', 'Rhodes', 'Y?', 'Burgmann', 'Macvitie', 'Townsend', 'Pope', 'Jensen', 'Thomson', 'Chiazagomekpele', 'Ozuluonye', 'Fang', 'Horton', 'Schiavone', 'Fiorentino', 'Butusov', 'Wang', 'Alexeieva', 'Vinogradova', 'Bage', 'Naquin', 'Schroeder', 'Swearingen', 'Kozlova', 'Nekrasov', 'Olague', 'Holt', 'Davila', 'Giles', \"O'Meara\", 'Chukwuraenye', 'Tipton', 'Morey', 'Afamefuna', 'Ibbott', 'Law', 'Chinedum', 'Kruglov', 'Stone', 'Wiley', 'Chiagoziem', 'Chukwukere', 'Lee', 'Theus', 'Jennings', 'Parker', 'Patterson', 'Ofodile', 'Nash', 'Brenan', 'Obidimkpa', 'Terry', 'Spring', 'Mahmood', 'Amaechi', 'Foxall', 'Bentley', 'Baird', 'Henry', 'Rocher', 'Komar', 'Loewenthal', 'Aliyeva', 'Montes', 'Tyndall', 'Bailey', 'Onyekaozulu', 'Christmas', 'Genovesi', 'Ellis', 'Onuchukwu', 'Quaife', 'Holder', 'Lahti', 'Perkins', 'Hayes', 'Rizzo', 'Krylov', 'Matthias', 'Mason', 'Smeaton', 'Gotch', \"O'Toole\", 'Ledford', 'Alaniz', 'Saunders', 'Streeter', 'Barclay', 'Otitodilichukwu', 'Wheare', 'Soto', 'Bogle', 'Grimmett', 'Webb', 'Nwokeocha', 'Olisaemeka', 'Yobanna', 'Trevisan', 'Knox', 'Moyes', 'Beavers', 'Tretiakova', 'Aikenhead', 'Cran', 'Golubova', 'McElyea', 'Rosas', 'Phillips', 'Morris', 'Pavlova', 'Yamamoto', 'Zaitsev', 'Cawker', 'Froggatt', 'Gorbunov', 'Mikkelsen', 'Kovalyov', 'Mbanefo', 'Enderby', 'Lira', 'Castiglione', 'Yuryeva', 'Dean', 'Vasiliev', 'Fedorova', 'Samson', 'Fenton', 'Mackey', 'Payton', 'Cowger', 'Banks', 'Fantin', 'Wong', 'Roberts', 'Lo Duca', 'Ashton', 'Melton', 'Zakharov', 'Patrick', 'DeRose', 'Vavilov', 'Browne', 'Collingridge de Tourcey', 'Korovin', 'Hammonds', 'Ward', 'Gallop', 'Gartrell', 'Oluchi', 'Barlow', 'Burgin', 'Nnaife', 'Okwudiliolisa', 'Parkes', 'Kapustina', 'Greathouse', 'Beers', 'Tretyakova', 'Costa', 'Ibezimako', 'Lumholtz', 'Mouzon', 'Ibeabuchi', 'Garnsey', 'Wildman', 'Anenechukwu', 'Plant', 'Babbage', 'Norton', 'Bogolyubov', 'Gibbons', 'Gregson', 'Speth', 'Boag', 'Grave', 'Streeten', 'Fox', 'Artemyeva', 'Gardner', 'Uwakwe', 'Bellew', 'Krichauff', 'Becker', 'Ainsworth', 'Biryukov', 'Redding', 'Inman', 'Hanson', 'Fischer', 'Chinweuba', 'Henning', 'Ogochukwu', 'Narelle', 'Bergman', 'Harrison', 'Goodman', 'Ugochukwutubelum', 'Uvarova', 'Innes', 'Craigie', 'Onyekachi', 'Pethard', 'Obielumani', 'Emery', 'Dufresne', 'Vial', 'Pruneda', 'Neumann', 'Yobachukwu', 'Hess', 'Anayolisa', 'Zhou', 'Bustard', 'Ngozichukwuka', 'Lane', 'Davy', 'Barrera', 'Hall', 'Lysaght', 'Kelechi', 'Chikezie', 'Dreyer', 'Short', 'Hunt', 'Kibby', 'Ramos', 'Keeley', 'Farrar', 'Greenhalgh', 'Odili', 'Kolesnikov', 'Rutherford', 'Mendes', 'Bronner', 'Meany', 'Le Gallienne', 'Wheeler', 'Christie', 'Favors', 'Vida', 'Wayn', 'Nuttall', 'McEwan', 'Holman', 'Bazhenov', 'Kemp', 'Ebelegbulam', 'Tseng', 'Yermakov', 'Chukwunonso', 'Dawson', 'Ifeanyichukwu', 'Musgrove', 'Boulger', 'Gow', 'Robe', 'Bibi', 'Arcuri', 'Muriel', 'MacDevitt', 'Chijindum', 'Nott', 'Lei', 'Sheets', 'Tokaryev', 'Unwin', 'Frater', 'Vanmeter', 'Rearick', 'Glenny', 'Marks', 'Trout', 'Morley', 'Somadina', 'Chieloka', 'Chioke', 'Kovalev', 'Baranov', 'Bidencope', 'De Bernales', 'Cashin', 'Seppelt', \"O'Connor\", 'McGuirk', 'Ruth', 'Aksenov', 'Meng', 'Nwoye', 'Aksyonova', 'Hammer', 'Abbott', 'Davydova', 'Nkemjika', 'Mario', 'Long', 'Nelson', 'Thornton', 'Warlow-Davies', 'Champion', 'William', 'Ozoemena', 'Archambault', 'Udegbulam', 'Greene', 'Blinova', 'De Garis', 'Holmwood', 'Chidubem', 'Randall', 'Leach', 'Light', 'Holloway', 'Nwebube', 'Chibueze', 'Lanford', 'Anthony', 'Myers', 'Davey', 'Chikere', 'Hs?eh', 'Witt', 'Kazantseva', 'Bowhay', 'Beyer', 'Fries', 'Connely', 'Connolly', 'Fomin', 'Chamberlain', 'Barber', 'Zimmer', 'Brazenor', 'Caldwell', 'Yirawala', 'Tokareva', 'Castella', 'Du Cane', 'Woronoff', 'Onodugoadiegbemma', 'Darling', 'Ponomaryov', 'Prokhorova', 'Blacklock', 'Sazonova', 'Henty', 'Azuka', 'Brock', 'Bulgakov', 'Lord', 'Uspenskaya', 'Powell', 'McChesney', 'Yuriev', 'Lablanc', 'Dodd', 'Dillon', 'Hoelscher', 'Udokamma', 'Sinnett', 'Chimaijem', 'Porter', 'Younger', 'Nwagugheuzo', 'Drake', 'Hanna', 'Loftus', 'Chidalu', 'Iredale', 'Padilla', 'Ibragimova', 'Nakayama', 'Gardener', 'Aksenova', 'Kudryashova', 'Hart', 'Kruglova', 'Shaffer', 'Laurie', 'Whitfield', 'Rioux', 'Matveyev', 'Nkemdirim', 'Brim', 'Soubeiran', 'Helena', 'Macdonald', 'Chiekwugo', 'Weller', 'Bess', 'Randell', 'Randolph', 'Hurst', 'Montalvo', 'Kosisochukwu', 'Vigano', 'Windradyne', 'Curnow', 'De Neeve', 'Ebelechukwu', 'Keating', 'Shearston', 'Arnold', 'Chao', 'Zhdanova', 'Fetherstonhaugh', 'Severson', 'Speight', 'Greenwalt', 'Grover', 'Muse', 'Marsden', 'Dennis', 'Nixon', 'Rivers', 'Sochima', 'Heydon', 'Holland', 'Debellis', 'Kibble', 'Lori', 'Enemuo', 'Nebeolisa', 'Chikwado', 'Yates', 'Watt', 'Lavrov', 'Korovina', 'Manning', 'Ingrassia', 'Langdon', 'Goddard', 'Zubareva', 'Newsom', 'Shoobridge', 'Fyodorova', 'Solomon', 'Layh', 'John', 'Slattery', 'Daniels', 'Chiemenam', 'Wanliss', 'Eames', 'Kenyon', 'Parry', 'Arnott', 'Steere', 'Dickinson', 'Evseyev', 'Ulyanov', 'Kazakova', 'Hannaford', 'Mahon', 'Miles', 'Voss', 'Colebatch', 'Chikelu', 'Allan', 'Yefremova', 'Garran', 'Nkemdilim', 'Rubensohn', 'Iqbal', 'Dyer', 'Lyons', 'Namatjira', 'Leibius', 'Coppin', 'Gerasimova', 'Humffray', 'Degtyaryov', 'Cawthorne', 'Khan', 'Iroawuchi', 'Bottrill', 'Jones', 'Sanford', 'Chimaobim', 'Jowers', 'Kirsova', 'Cockrum', 'Greaves', 'Reeves', 'Nnamdi', 'Charlton', 'Marsh', 'Pottinger', 'Buckley', 'Folliero', 'Jessop', 'Hodge', 'Ignatiev', 'Mansom', 'Komarova', 'Yu', 'Sutton', 'Hyde', 'Smalley', 'Barton', 'Horrocks', 'Frye', 'Mellor', 'Meredith', 'Chinomso', 'Chimaoke', 'Winters', 'Hawthorn', 'Hawdon', 'Joslin', 'Bidwill', 'Tate', 'Neal', 'Fulks', 'Siciliano', 'Ositadimma', 'Kazantsev', 'Dolgorukova', 'Singh', 'Shipton', 'Rivas', 'Hoolan', 'Pepper', 'Abramowitz', 'Abazu', 'Harriman', 'Frankland', 'Kwemtochukwu', 'To Rot', 'Lear', 'Winter', 'Hughes-Jones', 'Estrada', 'Heard', 'Efremova', 'Morphett', 'Lenhardt', 'McMorran', 'Phelan', 'Hotchin', 'Aksyonov', 'McGarry', 'Akhtar', 'McDaniels', 'Tennant', 'Donaghy', 'Tobenna', 'Vicars', 'Vessels', 'Heller', 'Dunn', 'Vasilyeva', 'Mollison', 'Aiken', 'Brabyn', 'Traeger', 'Ekwueme', 'Chinwenma', 'Estep', 'Mishina', 'Lavrentiev', 'Kilgour', 'Sheppard', 'Nnanna', 'Norris', 'Chidiebere', 'Okwukwe', 'Elliott', 'Walsh', 'Mahomed', 'Bogdanov', 'Moysey', 'Angel', 'Toosey', 'Hassall', 'Poninski', 'Bonham', 'Bold', 'Izmailov', 'Valentin', 'McIver', 'Fishbourne', 'Chukwueloka', 'Real', 'Odell', 'Enticknap', 'Mann', 'Adams', 'Hirst', 'Horan', 'Cumbrae-Stewart', 'Kinney', 'Nina', 'Mort', 'Martinez', 'Vasilyev', 'Lacross', 'Maughan', 'Tochukwu', 'Slate', 'Chiebuka', 'Berry', 'Boylan', 'Warren', 'Liston', 'Mazure', 'Rudduck', 'Darwin', 'Tomlinson', 'Coates', 'Hickey', 'Stobie', 'Drakeford', 'Bermudez', 'Wyatt', 'Blackwood', 'Storey', 'Glasgow', 'Crotty', 'Hysell', 'Compton', 'See', 'Threatt', 'Davies', 'Matlock', 'Chiedozie', 'Adamson', 'Mishin', 'Bull', 'Serra', 'Summerville', 'Astorga', 'Blesing', 'Nevzorova', 'Sheehan', 'McElhone', 'Chigbogu', 'Tilley', 'McCartney', 'Badgery', 'Zarate', 'Congreve', 'Hayslett', 'Loving', 'Ugonnatubelum', 'Corbett', 'Eiland', 'Labrador', 'Dettmann', 'Hope', 'Ives', 'Brierly', 'Rapuokwu', 'Senior', 'Garmon', 'Biryukova', 'Hutcheon', 'Bateman', 'Haugh', 'Micklem', 'Kegley', 'Valenzuela', 'Fomina', 'Dixon', 'Belov', 'Cross', 'Cullen', 'Rudd', 'Gidney', 'Dalton', 'Hartzler', 'Lambert', 'Game', 'Haynes', 'Jimenez', 'Pharr', 'Jerger', 'Ramsden', 'Jowett', 'Venables', 'Monnier', 'Gadsden', 'Oster', 'Chizoba', 'Peyser', 'Seleznev', 'Alleyne', 'Zikoranachukwudimma', 'Ejikemeifeuwa', 'Rickard', 'Andreev', 'Shand', 'Stehle', 'Belonwu', 'Baker', 'Garcia', 'Field', 'Jefferies', 'Lockyer', 'Torreggiani', 'Richards', 'Herbert', 'Andreyeva', 'Bowen', 'Fowler', 'Lockett', 'Phelps', 'Frederick', 'Carlson', 'Mbadiwe', 'Sabbatini', 'Ewers', 'Hannam', 'Mofflin', 'Ifeanacho', 'Maitland', 'Pollard', 'Brigstocke', 'Gboliwe', 'Seleznyova', 'Joseph', 'Salier', 'Evdokimov', 'Ponomaryova', 'Grosse', 'Belbin', 'Titheradge', 'Hobbs', 'Beggs', 'Luffman', 'Evseev', 'Hagins', 'Kirwan', 'Milligan', 'Royster', 'Gouger', 'Ignatyev', 'Munz', 'Paling', 'Clancy', 'Rios', 'Onyemauchechi', 'Nkemakonam', 'Kirillov', 'Stiles', 'Gaffney', 'Tsui', 'Armit', 'Ramsbotham', 'Scannell', 'Edman', 'Shaver', 'Coupp', 'Bezrukova', 'Cohn', 'Lay', 'Schmidt', 'Hussey', 'Macfarlan', 'Szabados', 'McKelvey', 'McConnell', 'Iheatu', 'Winifred', 'Holmes', 'Riddle', 'McClemans', 'Basedow', 'Nwora', 'Howey', 'Kramer', 'Reynolds', 'Herrin', 'Newland', 'Demaine', 'Harewood', 'Bischof', 'Uren', 'Ruggiero', 'Wilding', 'Yashina', 'Yevseyev', 'Maslov', 'Sullivan', 'Allsop', 'Castles', 'Colbert', 'Chimezie', 'Daluchi', 'Sheffield', 'Dyson', 'Onwuka', 'Flores', 'Nicoll', 'Waters', 'Raynor', 'Eberegbulam', 'Micco', 'Avdeev', 'Bremer', 'Gadsdon', 'Hicks', 'Logan', 'Weber', 'Schnaars', 'Algarin', 'Metcalf', 'Lupton', 'Ibeamaka', 'Rueda', 'Madueke', 'Torres', 'Chukwubuikem', 'Semmens', 'Bogdanova', 'Corser', 'McCardle', 'Radcliffe-Brown', 'Chukwumaobim', 'Cardus', 'Whitehouse', 'McCulloch', 'Koo', 'Woolnough', 'Vinogradov', 'Snider', 'Isayeva', 'Moreno', 'Gill', 'Vaguine', 'Toomey', 'Bonwick', 'Middleton', 'Vale', 'Arkwookerum', 'Lujan', 'Gannon', 'Romero', 'Onwuamaegbu', 'Peacock', 'Barese', 'Nnaemeka', 'Efimov', 'Maynard', 'Zotova', 'Hannah', 'Cartagena', 'Victor', 'Krawczyk', 'Abel', 'Cavill', 'Renwick', 'Linton', 'Langlands', 'Sykes', 'Kryukov', 'Donnelly', 'Boucaut', 'Silva', 'Iweobiegbunam', 'Zito', 'Edmondstone', 'Georg', 'Michelides', 'Chidimma', 'Edmund la Touche', 'Belousov', 'McCane', 'Parry-Okeden', 'Aldrich', 'Shillito', 'Ikechukwu', 'Kauffmann', 'Bock', 'Brewer', 'Yermakova', 'Jacka', 'Sharp', 'Atherton', 'Cookson', 'Hort', 'Zaytseva', 'Diehl', 'Mead', 'Nicholson', 'Huddart', 'Swain', 'Brient', 'Tucker', 'Izmailova', 'Hutchinson', 'Okwuoma', 'Amadi', 'Percy', 'Floyd', 'Melendez', 'Kovaleva', 'Chukwuma', 'Gilroy', 'Hearn', 'Swanson', 'Benjamin', 'Ryrie', 'Montemayor', 'Izuchukwu', 'Herring', 'Duffy', 'Chiefo', 'Fyodorov', 'Palmerston', 'Polyakov', 'Connor', 'Chester', 'Denisova', 'Clogstoun', 'Kalinina', 'Bennet', 'Hallahan', 'Louis', 'Trouette', 'Cribb', 'Fletcher', 'Corson', 'Hinton', 'Bromby', 'Nweke', 'Batty', 'Agafonova', 'Chidumaga', 'Birk', 'Childs', 'Obioma', 'Stetson', 'Waring', 'Thao', 'Armfield', 'Panina', 'Martel', 'Buddicom', 'Walters', 'Muravyova', 'Keen', 'Liebe', 'Rogova', 'Raff', 'Kanayochukwu', 'Guerin', 'Dominguez', 'Pugh', 'Sawtell', 'Kharitonova', 'Muramats', 'Sokolov', 'Gay', 'Maurer', 'Grieve', 'Lowell', 'Philipp', 'Dynon', 'Bishop', 'Rene', 'Daigle', 'Joshua', 'Cochran', 'Bibb', 'Corran', 'Lovely', 'Plascencia', 'Zotov', 'Lynch', 'McCarthy', 'Nnabuife', 'Tinline', 'Esomchi', 'Retana', \"O'Loughlin\", 'Gorman', 'Finch', 'Reyes', 'Downie', 'Yegorov', 'Cantrell', 'Glennon', 'Yancy', 'Cruz', 'Bukowski', 'Chikwendu', 'Kharlamova', 'Diaz', 'Ross-Watt', 'Shubin', 'Sadler', 'Whittaker', 'Gratwick', 'Bovee', 'Frolova', 'Bradshaw', 'Clunie', 'Cover', 'Hodgson', 'Harvey', 'Chase', 'Aparicio', 'Udegbunam', 'Alexandrov', 'Campos', 'McKinnon', 'Burt', 'Feetham', 'Coburn', 'Yegorova', 'Corones', 'Morrice', 'Barrett', 'Tardent', 'Castillo', 'Lindsay', 'Macnamara', 'Aksakova', 'Farnsworth', 'Koch', 'Fleetwood-Smith', 'Chinonyelum', 'Montague', 'Yewen', 'Kalinin', 'Woodward', 'Iweobiegbulam', 'Burton', 'Schwartz', 'Sargent', 'Kepley', 'Lassetter', 'Iloerika', 'Michel', 'Goodwin', 'Rapuluolisa', 'Osorio', 'Barnett', 'Pike', 'Gearheart', 'Egobudike', 'Ahern', 'Anayochukwu', 'Nevels', 'Winn', 'Lopez', 'Steen', 'Pipes', 'Windsor', 'Wark', 'Allnutt', 'Pedder', 'Chialuka', 'Selwyn', 'Koger', 'Kendall', 'Elliot', 'Gratton', 'Carandini', 'Barker', 'Korff', 'Kiernan', 'Mathews', 'Macrossan', 'Illingworth', 'Menhennitt', 'Shoebridge', 'Eva', 'Howe', 'Belisario', 'Pomeroy', 'Schaffer', 'Gonzalez', 'Temple', 'Ridley', 'Slye', 'Takasuka', 'Bruche', 'Ryan', 'Abramova', 'Purdy', 'Higgins', 'Reye', 'Willoughby', 'Mayne', 'Paramor', 'Daly', 'Gorshkov', 'McClinton', 'Holbrook', 'Solomina', 'Faulk', 'Forster', 'Chamberlin', 'Buttenshaw', 'Nazarova', 'Merrett', 'Elder', 'Gunson', 'Gleeson', 'Lang', 'Eve', 'Stradford', 'Brownlow', 'Fyans', 'Creel', 'Nicolay', 'Somerville', 'Pauley', 'Goering', 'Maduabuchim', 'Linger', 'Kenechukwu', 'Learmonth', 'Fitzgerald', 'Duggan', 'Krischock', 'Binder', 'Zubarev', 'Coleman', 'Molineux', 'Duigan', 'Jobson', 'Perreault', 'Algeranoff', 'Galloway', 'Arrington', 'Kamdibe', 'Cousens', 'Hawks', 'Thynne', 'Greenwood', 'Ogle', 'Wolfe', 'Dilibe', 'Austin', 'Santiago', 'Afanasyeva', 'Priestley', 'Salmond', 'Goloubev', 'Dipietro', 'Niehaus', 'Barclay-Harvey', 'Hartung', 'Sternberg', 'Shepherd', 'Marcum', 'North', 'Whitelegge', 'Rooke', 'Horsley', 'Eskridge', 'Claiborne', 'Ibrahimov', 'Enriquez', 'Gilleland', 'Fullwood', 'Doyne', 'Rawling', 'Ankudinova', 'Balsillie', 'Worsnop', 'Buda', 'Broadhurst', 'Garrett', 'Edwards', 'Logue', 'Rechner', 'Batt', 'Trujillo', 'Ash', 'Kumm', 'Carey', 'Farber', 'Edments', 'Lindon', 'Pitcher', 'Kable', 'Kulikova', 'Navarrete', 'Huguley', 'Massie', 'Onwubiko', 'Obiora', 'Slater', 'Menkens', 'Beatham', 'Dowse', 'Griffen', 'Uvarov', 'Hussain', 'Grigoryeva', 'Gunter', 'Collee', 'Ibekwe', 'Hairston', 'Abdulov', 'Perkin', 'Bond', 'Stirling', 'Rutledge', 'Mullah', 'Candler', 'Hollis', 'Lionel', 'Serena', 'Cummins', 'Zhdanov', 'Peck', 'Gerald', 'Nebeuwa', 'Maruff', 'Knepper', 'Hand', 'Chidi', 'Maxwell', 'Berkeley', 'Kaur', 'Mountgarrett', 'Wreford', 'Bolton', 'Corrie', 'Lambie', 'Streeton', 'Pennington', 'Ansell', 'Stokes', 'Ampt', 'Wynn', 'Wagner', 'Argyle', 'Locke', 'Bullen', 'Munson', 'Cooke', 'Hawes', 'Swanton', 'Shipp', 'Jonathan', 'Hernandez', 'Highland', 'Peel', 'Herz', 'Salas', 'Laney', 'Messersmith', 'Etheridge', 'Jolly', 'Botts', 'Fink', 'Morehead', 'Balashova', 'Lowe', 'Ponce', 'Zuyeva', 'Chukwujamuike', 'Flynn', 'Klein', 'Shcherbakov', 'Sokolova', 'Mosley', 'Everett', 'Rouse', 'Burrows', 'Artyomova', 'Yermolayeva', 'Le Hunte', 'Blake', 'Sparks', 'Northern', 'Jack', 'Secombe', 'Ugorji', 'Bancks', 'Fairley', 'Boothby', 'Chukwuhaenye', 'Lock', 'Ramsey', 'Eipper', 'Fernandez', 'Yermolayev', 'Kolesnikova', 'Sharwood', 'Bufkin', 'Neitenstein', 'Sandover', 'Sergeyeva', 'Bales', 'Romilly', 'Lawson', 'Bracewell', 'Torkelson', 'Hightower', 'Levan', 'Loginov', 'Lafleur', 'Miranda', 'Simon', 'Golubeva', 'Stange', 'Milliner', 'Swinton', 'Sukhorukova', 'Combes', 'Carruthers', \"O'Loghlin\", 'Troupe', 'Deleon', 'Downer', 'Bochsa', 'Czajkowski', 'Pankhurst', 'Birdseye', 'Moon', 'Chuter', 'Nielson', 'Ajuluchukwu', 'Board', 'Leckie', 'Cayley', 'Kuykendall', 'Ukaegbulam', 'Onwuemelie', 'Clendinnen', 'Mactier', 'Lipton', 'Levy', 'Amies', 'Aliyev', 'Langler', 'Pye', 'Asher', 'Major', 'Halpern', 'Nyhan', 'Birdsall', 'Mackie', 'Vinogradoff', 'Pokrovskaya', 'Moroney', 'Spence', 'Cherkasova', 'Crocker', 'Polyakova', 'Cantamessa', 'Teakle', 'Challis', 'Dodgshun', 'Blackall', 'Schoenheimer', 'Bromley', 'Shubina', 'Kinder', 'Shepherdson', 'Burson', 'Hopwood', 'Lindeman', 'McKinley', 'Sanchez', 'Muomelu', 'McVey', 'McKissick', 'Horsfall', 'Clapp', 'MacDonnell', 'Ermakov', 'Peppin', 'Fontenot', 'Howarth', 'Gentry', 'Sunderland', 'Knorr', 'Chimaraoke', 'Frederickson', 'Pickworth', 'McGill', 'Sarratt', 'Leworthy', 'Rivero', 'Hornung', 'Barnet', 'Dennys', 'Salter', 'Lazar', 'Onyenachiya', 'McCawley', 'Teague', 'Nekrasova', 'Carroll', 'Landor', 'Wardell', 'Ali', 'Somayina', 'Ruiz', 'Waterhouse', 'Jara', \"O'Callaghan\", 'Pease', 'Lavrentyev', 'Hobson', 'Lappin', 'Travis', 'Jefferson', 'Begley', 'Levien', 'Erskine', 'Monds', 'Castro', 'Voronova', 'Dietz', 'Voronoff', 'Trevascus', 'Durant', 'Chigozie', 'Ardis', 'Butler', 'Pettry', 'Elmore', 'Voronkov', 'Garland', 'Ndubuagha', 'Duke', 'Bradbury', 'Bayley', 'Cremin', 'Gilchrist', 'Fitzpatrick', 'Pagan', 'Hendrick', 'Harding', 'Burfitt', 'Nieves', 'Bruny', 'Felix', 'Rippey', 'Converse', 'Bogolyubova', 'Remington', 'Levi', 'Bennetts', 'Vachon', 'Upjohn', 'Marcus', 'Alvares', 'McDavid', 'Brothers', 'Molle', 'Galgano', 'Raymond', 'Brodney', 'Afanasyev', 'Meagher', 'McGuffog', 'Sargood', 'Harrington', 'Lorenzen', 'Vidler', 'Allingham', 'Stelzer', 'Rubin', 'Harrell', 'Welsh', 'Sousa', 'Obijiaku', 'Mullen', 'Howell', 'Clifton', 'Rees', 'Onwughara', 'Geoghegan', 'Ilyina', 'Quezada', 'Tobeolisa', 'Akudinobi', 'Flemming', 'Azarov', 'Chill', 'Dumolo', 'Wetherspoon', 'Hampton', 'Ireland', 'Hibbins', 'Lea', 'Singleton', 'Sauve', 'Eidson', 'Melvin', 'Dawkins', 'Rita', 'Woolacott', 'Service', 'Dancy', 'Hankinson', 'Afamefula', 'Sherrod', 'Barling', 'Hobler', 'Bair', 'Drury', 'Beale', 'McMinn', 'Hajek', 'Mays', 'Swayne', 'Fennescey', 'Colon', 'Lederer', 'Cecil', 'Manners', 'Wynne', 'Disher', 'Yocum', 'Lowrie', 'Lavarack', 'Gomes', 'Gibney', 'Foran', 'Wyckoff', 'Soares', 'Kenechi', 'Becher', 'Runyon', 'Dobbs', 'Foveaux', 'Currey', 'Nicholas', 'Foster', 'Edmondson', 'Ah Mouy', 'Blue', 'Sievier', 'Watterston', 'Butters', 'Weaver', 'Earl', 'Begg', 'McNaughtan', 'Reagan', 'Bancroft', 'Band', 'Sandefur', 'Cone', 'Liardet', 'Wilkes', 'Patel', 'Howell-Price', 'Rowland', 'Barnard', 'Pendred', 'Samaniego', 'Burgos', 'Spinelli', 'Peavy', 'Lindell', 'Sorenson', 'Cockett', 'Galkina', 'Spears', 'Hardacre', 'Wakelin', 'Shah', 'Combs', 'Mayrhofer', 'Yefremov', 'Kosovich', 'Taplin', 'Yefimov', 'Hales', 'Copeland', 'Rishel', 'Larkin', 'Eddy', 'Sells', 'Bezrukov', 'St Clair', 'Lockington', 'Weston', 'Groom', 'Cambage', 'Burdekin', 'Franz', 'Morant', 'Loton', 'Sani', 'Von Doussa', 'Miracle', 'Burtch', 'McLachlan', 'Wenz', 'Kisch', 'Newman', 'Ndubuisi', 'Plummer', 'Ershova', 'Brookman', 'McBurney', 'Mickey', 'Olszewski', 'Chijioke', 'Bellasis', 'De Mestre', 'Mundy', 'Donahue', 'Verjus', 'Spaull', 'Voronina', 'Crumbley', 'Birch', 'Custance', 'Marshall-Hall', 'More', 'Bazile', 'Wardle', 'Lilly', 'Medland', 'Denman', 'Ratten', 'Abron', 'Belcher', 'Abernathy', 'Pape', 'Earle', 'Coombes', 'Hopman', 'Trejo', 'Macknight', 'Glossop', 'Chalmers', 'Picot', 'Neumayer', 'Yip', 'Ingle', 'Coffey', 'Istomin', 'Fernando', 'McClaran', 'Townsley', 'Mueller', 'Madukaife', 'Abdullah', 'Caraway', 'Loane', 'Geach', 'Charteris', 'Descoteaux', 'Crump', 'Diggs', 'Carvosso', 'Furneaux', 'Nickson', 'Highett', 'Rendall', 'Allardyce', 'Weatherford', 'Chong', 'Alvarez', 'Pritchard', 'Rawlings', 'Truscott', 'Willmore', 'Godson', 'Bitter', 'Forlonge', 'Reyna', 'Tran', 'Otoole', 'Kane', 'Isaacs', 'Timperley', 'Christopher', 'Lawley', 'Whitson', 'Wimble', 'Fermin', 'Fadden', 'Zox', 'Landseer', 'Jenks', 'Crace', 'Packham', 'Emenike', 'Nero', 'Haddon', 'Slone', 'Dann', 'Hooker', 'Kistler', 'Leason', 'Bruner', 'Rubeo', 'Claypool', 'Walpole', 'Steigrad', 'Hixson', 'Laura', 'Hendley', 'Birnie', 'Montgomery', 'Gamble', 'Chifo', 'Michael', 'Quesada', 'Wunder', 'Burlingame', 'Kesteven', 'Abrego', 'Parrott', 'Zinachukwudi', 'Keane', 'McCollum', 'Gambrell', 'Rieke', 'Cawood', 'Yelverton', 'Mault', 'Frewin', 'Royston', 'Wearing', 'Suttor', 'Catchpole', 'Siddons', 'Arbour', 'Hingston', 'Sacco', 'Robb', 'Ochoa', 'Richmond', 'Nworie', 'Wentcher', 'Hayes-Williams', 'Cairns', 'Schatz', 'Stanton', 'Ramirez', 'Bryan', 'Mullawirraburka', 'Chubb', 'Huggins', 'Cowen', 'Kaleski', 'Sugden', 'Beck', 'Beam', 'Haworth', 'Guidry', 'Maher', 'Rapuluchukwu', 'Cyril', 'Laidley', 'McNeill', 'Kentish', 'Persse', 'Chukwujekwu', 'Ham', 'Paten', 'Esquivel', 'Sidorova', 'Santana', 'Mironov', 'Ruse', 'Palfreyman', 'Webster', 'Cardell', 'Lennox', 'Meldrum', 'Vidal', 'Veale', 'Kershaw', 'Vanzetti', 'Boone', 'Nagy', 'Lehr', 'Upchurch', 'Woodhouse', 'Toth', 'Ingamells', 'Overby', 'Chifley', 'Rodriguez', 'Kingsley', 'Gosnell', 'Gearhart', 'Seccombe', 'Rounsevell', 'Stoneman', 'Moody', 'Keldie', 'Defalco', 'Tillman', 'Beede', 'Sadlier', 'Bozeman', 'Shelby', 'Marian', 'Fane', 'Caffyn', 'Dahlenburg', 'Olson', 'Andersen', 'Mackinlay', 'Norriss', 'Mott', 'Fokina', 'Boan', 'Topp', 'Burgoyne', 'Gebhart', 'Tudawali', 'Maconochie', 'Plumb', 'Benford', 'Cobb', 'Macadam', 'Tychonoff', 'Urban', 'Lascelles', 'Mack', 'Sneddon', 'Hopetoun', 'Faria', 'Marquez', 'Barnhill', 'Ogg', 'Wells', 'Calzada', 'Gresswell', 'Aguirre', 'Morales', 'Moffitt', 'Weigel', 'Ohearn', 'Munroe', 'Trumbull', 'Crist', \"O'Kane\", 'Lorimer', 'McDowell', 'Root', 'Saad', 'Corby', 'Dwyer', 'Flannagan', 'Sturdee', 'Hull', 'Vagin', 'Mach', 'MacPherson', 'Parks', 'Edith', 'Lajoie', 'Torode', 'Salinas', 'Cleveland', 'Kashiwagi', 'Aldridge', 'Burbidge']\n"
     ]
    }
   ],
   "source": [
    "# find words with their count\n",
    "unique = []\n",
    "#looking at all surname name\n",
    "for i in bank_t_over['Surname']:\n",
    "    #if the name is not in the array then it will be placed\n",
    "    if i not in unique:\n",
    "        unique.append(i)\n",
    "print(unique)"
   ]
  },
  {
   "cell_type": "code",
   "execution_count": 8,
   "id": "8c5d9581",
   "metadata": {},
   "outputs": [
    {
     "name": "stdout",
     "output_type": "stream",
     "text": [
      "Hill 17\n",
      "Onio 8\n",
      "Boni 14\n",
      "Mitchell 20\n",
      "Chu 22\n",
      "Bartlett 4\n",
      "He 18\n",
      "H? 19\n",
      "Andrews 6\n",
      "Kay 5\n",
      "Chin 16\n",
      "Scott 29\n",
      "Henderson 16\n",
      "Hao 12\n",
      "McDonald 19\n",
      "Dellucci 13\n",
      "Yen 14\n",
      "Maclean 24\n",
      "Young 20\n",
      "Nebechi 6\n",
      "Lucciano 11\n",
      "Azikiwe 5\n",
      "Odinakachukwu 4\n",
      "Sanderson 4\n",
      "Clements 9\n",
      "Lombardo 15\n",
      "Watson 20\n",
      "Lorenzo 12\n",
      "Cameron 19\n",
      "Hsiao 8\n",
      "Clarke 4\n",
      "Osborne 6\n",
      "Bianchi 10\n",
      "Tyler 4\n",
      "Martin 29\n",
      "Okagbue 3\n",
      "Yin 11\n",
      "Buccho 14\n",
      "Chidiebele 3\n",
      "Trevisani 20\n",
      "O'Brien 4\n",
      "Parkhill 4\n",
      "Tsao 17\n",
      "Endrizzi 17\n",
      "T'ien 18\n",
      "Hunter 13\n",
      "Clark 16\n",
      "Pirozzi 14\n",
      "Jackson 9\n",
      "Hammond 3\n",
      "Chibugo 5\n",
      "Pisano 16\n",
      "Konovalova 4\n",
      "Palermo 12\n",
      "Ballard 3\n",
      "Wallace 19\n",
      "Hu 12\n",
      "Read 3\n",
      "Leonard 5\n",
      "Mills 7\n",
      "Onyeorulu 5\n",
      "Ndukaku 3\n",
      "Rowley 7\n",
      "Sharpe 3\n",
      "Ritchie 11\n",
      "Cole 4\n",
      "Capon 14\n",
      "Fiorentini 14\n",
      "Graham 20\n",
      "Fanucci 23\n",
      "Fu 16\n",
      "Hung 15\n",
      "Bradley 8\n",
      "Parsons 6\n",
      "T'ang 13\n",
      "Thorpe 6\n",
      "Chiemela 5\n",
      "Ko 19\n",
      "Welch 5\n",
      "Duncan 19\n",
      "Chidozie 5\n",
      "Wu 16\n",
      "Kennedy 20\n",
      "Calabresi 16\n",
      "Zetticci 11\n",
      "Fuller 7\n",
      "MacDonald 13\n",
      "Piccio 13\n",
      "Kaodilinakachukwu 4\n",
      "Cocci 17\n",
      "Alekseeva 4\n",
      "Chinweike 3\n",
      "Li 12\n",
      "Ma 23\n",
      "Chia 14\n",
      "Tien 18\n",
      "Taylor 15\n",
      "Madukwe 6\n",
      "Olisanugo 6\n",
      "Chukwufumnanya 5\n",
      "Harris 5\n",
      "Morgan 4\n",
      "Alexeeva 6\n",
      "Humphries 5\n",
      "Milne 13\n",
      "Chou 10\n",
      "Clayton 3\n",
      "Chigolum 4\n",
      "Wilkinson 4\n",
      "Wei 19\n",
      "Robinson 12\n",
      "Pinto 14\n",
      "Wood 15\n",
      "Hawkins 7\n",
      "Sun 21\n",
      "Ting 12\n",
      "Rowe 8\n",
      "Ho 11\n",
      "Okechukwu 7\n",
      "Campbell 13\n",
      "Hsia 18\n",
      "Ogbonnaya 5\n",
      "Chang 14\n",
      "T'ao 13\n",
      "Ford 6\n",
      "Marshall 15\n",
      "Tsai 7\n",
      "Onwumelu 7\n",
      "Crawford 19\n",
      "Moran 7\n",
      "Samsonova 3\n",
      "Jenkins 4\n",
      "Chiemezie 4\n",
      "Onuora 3\n",
      "Ginikanwa 8\n",
      "Ku 16\n",
      "Collins 5\n",
      "Dike 3\n",
      "Trevisano 16\n",
      "Tan 14\n",
      "Miller 20\n",
      "Kornilova 3\n",
      "Marchesi 9\n",
      "Millar 13\n",
      "Shih 25\n",
      "Hay 8\n",
      "Yang 13\n",
      "McIntyre 17\n",
      "Stevenson 16\n",
      "Poole 4\n",
      "Ch'ien 13\n",
      "Cattaneo 15\n",
      "O'Sullivan 3\n",
      "Lucas 8\n",
      "Freeman 8\n",
      "Sergeyev 3\n",
      "Smith 32\n",
      "Dumetochukwu 4\n",
      "Johnston 17\n",
      "Stevens 6\n",
      "Grant 17\n",
      "Barnes 6\n",
      "McIntosh 10\n",
      "Liao 12\n",
      "Hughes 20\n",
      "Morrison 12\n",
      "Matveyeva 5\n",
      "Yao 16\n",
      "Rose 7\n",
      "Ifeajuna 3\n",
      "Rossi 14\n",
      "Kang 14\n",
      "Ch'iu 16\n",
      "Wallis 3\n",
      "Boyle 17\n",
      "Dubinina 3\n",
      "Toscani 13\n",
      "Chiazagomekpere 7\n",
      "Allen 6\n",
      "K'ung 12\n",
      "Hargreaves 7\n",
      "Huang 12\n",
      "Davidson 17\n",
      "O'Donnell 5\n",
      "Nnachetam 7\n",
      "Ahmed 4\n",
      "Booth 6\n",
      "Chuang 14\n",
      "Shao 12\n",
      "Johnson 22\n",
      "French 4\n",
      "Efremov 3\n",
      "Hartley 3\n",
      "Calabrese 13\n",
      "Chiu 17\n",
      "Brennan 6\n",
      "Onwuatuegwu 3\n",
      "Balashov 6\n",
      "Doyle 6\n",
      "Russo 7\n",
      "Skinner 4\n",
      "Robertson 16\n",
      "Atkinson 6\n",
      "Pearson 3\n",
      "Gordon 19\n",
      "Ts'ai 15\n",
      "Lung 19\n",
      "Yuan 13\n",
      "Tai 12\n",
      "Mazzanti 15\n",
      "L? 14\n",
      "Hsieh 16\n",
      "Knowles 4\n",
      "Day 4\n",
      "Hsueh 14\n",
      "Nwabugwu 7\n",
      "Kerr 20\n",
      "White 23\n",
      "Brown 26\n",
      "Russell 12\n",
      "Seleznyov 4\n",
      "Yusupova 3\n",
      "Ikedinachukwu 3\n",
      "Power 9\n",
      "Reed 5\n",
      "Simmons 14\n",
      "Ricci 9\n",
      "West 6\n",
      "Chen 8\n",
      "Madukaego 4\n",
      "Ibrahimova 3\n",
      "Blair 3\n",
      "Monaldo 8\n",
      "Sutherland 14\n",
      "Briggs 6\n",
      "Gregory 6\n",
      "Angelo 11\n",
      "Gardiner 5\n",
      "Farrell 3\n",
      "Milano 8\n",
      "Boyd 3\n",
      "Black 15\n",
      "Oliver 5\n",
      "Greco 17\n",
      "Whitehead 4\n",
      "Ikemefuna 4\n",
      "Onyeoruru 3\n",
      "Cunningham 10\n",
      "Cheng 13\n",
      "Knight 8\n",
      "Tung 10\n",
      "Pai 19\n",
      "Carpenter 10\n",
      "Franklin 7\n",
      "McKenzie 16\n",
      "Chiang 14\n",
      "Hsiung 15\n",
      "Heath 5\n",
      "De Salis 3\n",
      "Chung 17\n",
      "Nwachinemelu 4\n",
      "Pisani 13\n",
      "Manna 17\n",
      "Collier 5\n",
      "Carr 5\n",
      "Hs? 15\n",
      "Findlay 17\n",
      "Chukwuemeka 11\n",
      "Genovese 25\n",
      "Swift 4\n",
      "Ugoji 3\n",
      "Ross 18\n",
      "Turnbull 5\n",
      "Uspensky 6\n",
      "Cook 5\n",
      "Uchechukwu 3\n",
      "Ch'en 10\n",
      "Sal 14\n",
      "Eluemuno 7\n",
      "Lettiere 12\n",
      "Chibuzo 4\n",
      "Evans 10\n",
      "Enyinnaya 6\n",
      "Brookes 8\n",
      "Padovano 11\n",
      "Muir 12\n",
      "Atkins 7\n",
      "Burns 18\n",
      "Obiuto 6\n",
      "George 3\n",
      "Lewis 5\n",
      "Carslaw 3\n",
      "Kirby 3\n",
      "Houghton 4\n",
      "Hale 5\n",
      "Sopuluchukwu 3\n",
      "Barry 7\n",
      "Chizuoke 5\n",
      "Udinese 11\n",
      "Udobata 4\n",
      "Lo 20\n",
      "King 18\n",
      "Forbes 16\n",
      "Macleod 13\n",
      "Gibbs 3\n",
      "Schneider 3\n",
      "Watts 5\n",
      "Chesnokova 3\n",
      "Kung 16\n",
      "Lu 22\n",
      "Nkemakolam 5\n",
      "Walton 8\n",
      "Baldwin 3\n",
      "Mai 21\n",
      "Ukaegbunam 4\n",
      "De Luca 10\n",
      "Davide 11\n",
      "Kodilinyechukwu 7\n",
      "Little 3\n",
      "Paterson 11\n",
      "Han 11\n",
      "Ijendu 6\n",
      "Price 5\n",
      "Bruce 7\n",
      "Lazarev 5\n",
      "Mackenzie 9\n",
      "Teng 15\n",
      "Moretti 9\n",
      "Ts'ao 12\n",
      "Ch'ang 17\n",
      "Obialo 7\n",
      "Gray 13\n",
      "Lin 18\n",
      "McKay 19\n",
      "Onyinyechukwuka 3\n",
      "Nwankwo 9\n",
      "Okwuadigbo 5\n",
      "Chan 7\n",
      "Lombardi 11\n",
      "Uchenna 3\n",
      "Alexandrova 3\n",
      "Fallaci 11\n",
      "Hudson 8\n",
      "Burke 7\n",
      "Lawrence 7\n",
      "Bellucci 12\n",
      "Moss 13\n",
      "Larionova 3\n",
      "Loggia 12\n",
      "Craig 11\n",
      "Lazareva 3\n",
      "Rahman 4\n",
      "McMillan 14\n",
      "Pickering 6\n",
      "Douglas 15\n",
      "Jideofor 5\n",
      "Bell 11\n",
      "Pagnotto 11\n",
      "Feng 17\n",
      "Donaldson 12\n",
      "Chambers 8\n",
      "Marcelo 10\n",
      "Ejimofor 4\n",
      "Dale 7\n",
      "Pokrovsky 3\n",
      "Liang 14\n",
      "Anderson 19\n",
      "Christian 3\n",
      "Mao 18\n",
      "Sagese 9\n",
      "Fleming 18\n",
      "Napolitani 13\n",
      "Anenechi 3\n",
      "Chandler 4\n",
      "Howells 8\n",
      "Uwaezuoke 4\n",
      "Kao 20\n",
      "Jarvis 3\n",
      "P'an 8\n",
      "Repina 3\n",
      "Pugliesi 5\n",
      "Nucci 8\n",
      "Achebe 3\n",
      "Watkins 5\n",
      "Otitodilinna 3\n",
      "Mamelu 3\n",
      "Beneventi 12\n",
      "Chinagorom 3\n",
      "Napolitano 9\n",
      "Walker 28\n",
      "Steele 6\n",
      "Toscano 11\n",
      "Savage 5\n",
      "Mordvinova 4\n",
      "Kent 7\n",
      "Cooper 3\n",
      "Mazzi 13\n",
      "Summers 5\n",
      "Brady 4\n",
      "Nicholls 8\n",
      "Kambinachi 5\n",
      "Chinwemma 3\n",
      "Jen 12\n",
      "Preston 3\n",
      "Ozioma 4\n",
      "Ponomarev 3\n",
      "Milani 11\n",
      "Tang 17\n",
      "Romani 10\n",
      "Davis 11\n",
      "Onyemauchechukwu 8\n",
      "Shaw 17\n",
      "Okwudilichukwu 6\n",
      "Onuoha 3\n",
      "Azubuike 9\n",
      "Nnonso 7\n",
      "Ts'ui 19\n",
      "Kenenna 4\n",
      "Williamson 14\n",
      "Cartwright 8\n",
      "Johnstone 16\n",
      "Nikitina 4\n",
      "Shen 20\n",
      "Archer 5\n",
      "Otutodilinna 6\n",
      "Denisov 3\n",
      "Owens 6\n",
      "P'eng 17\n",
      "Bergamaschi 19\n",
      "Hou 10\n",
      "Galkin 3\n",
      "Echezonachukwu 4\n",
      "Munro 11\n",
      "Ball 8\n",
      "Tao 11\n",
      "Perez 3\n",
      "Fraser 14\n",
      "Hooper 3\n",
      "Rice 4\n",
      "Cox 9\n",
      "Ikenna 5\n",
      "Alexander 13\n",
      "Piazza 7\n",
      "Ni 10\n",
      "Chiabuotu 3\n",
      "Kuo 10\n",
      "Gallagher 4\n",
      "Zhirov 3\n",
      "Lloyd 5\n",
      "Palmer 8\n",
      "Ch'eng 13\n",
      "Trentini 7\n",
      "Okoli 3\n",
      "Artemiev 3\n",
      "Esposito 13\n",
      "Wan 17\n",
      "Baresi 7\n",
      "McGregor 21\n",
      "Oguejiofor 3\n",
      "Ugochukwu 6\n",
      "Quinn 4\n",
      "Page 8\n",
      "Stanley 6\n",
      "Bednall 3\n",
      "She 13\n",
      "May 4\n",
      "Herrera 3\n",
      "Artemieva 3\n",
      "Wright 24\n",
      "Moore 22\n",
      "Sung 18\n",
      "Mistry 3\n",
      "Chukwukadibia 5\n",
      "Zikoranachidimma 6\n",
      "Oluchukwu 7\n",
      "Niu 13\n",
      "Bennett 4\n",
      "Chinwendu 6\n",
      "James 4\n",
      "Lamb 5\n",
      "Olejuru 3\n",
      "Chiawuotu 5\n",
      "Avdeeva 3\n",
      "Hsu 11\n",
      "Yeh 25\n",
      "Y?an 13\n",
      "Schofield 4\n",
      "Wall 9\n",
      "Blackburn 6\n",
      "Bird 4\n",
      "Ch'in 13\n",
      "Jibunoh 4\n",
      "Nepean 3\n",
      "Coles 6\n",
      "Benson 8\n",
      "Gilbert 5\n",
      "Sinclair 15\n",
      "Padovesi 12\n",
      "Palerma 20\n",
      "Pan 19\n",
      "Spencer 3\n",
      "Lees 4\n",
      "Hsing 17\n",
      "Manfrin 17\n",
      "Hansen 4\n",
      "Owen 5\n",
      "Murphy 11\n",
      "Ayers 4\n",
      "Sanders 7\n",
      "Talbot 4\n",
      "Naylor 3\n",
      "Volkova 7\n",
      "Abramovich 5\n",
      "Chien 12\n",
      "Hamilton 15\n",
      "Su 16\n",
      "Akobundu 7\n",
      "Chukwuebuka 4\n",
      "Davison 7\n",
      "Ingram 4\n",
      "Gibson 17\n",
      "Iadanza 9\n",
      "Jamieson 20\n",
      "Chiganu 6\n",
      "Burgess 5\n",
      "Woods 10\n",
      "Chapman 5\n",
      "Andrejew 3\n",
      "Perry 5\n",
      "Mackay 7\n",
      "Maslova 4\n",
      "McLean 7\n",
      "Thompson 21\n",
      "Onochie 4\n",
      "Mironova 4\n",
      "Ndubueze 5\n",
      "Stephenson 9\n",
      "Golubev 5\n",
      "Glover 6\n",
      "Butcher 4\n",
      "Bray 5\n",
      "Medvedeva 4\n",
      "Ferrari 9\n",
      "Hardy 6\n",
      "Dickson 7\n",
      "Holden 5\n",
      "Doherty 9\n",
      "Yefimova 4\n",
      "Brooks 5\n",
      "Ignatyeva 3\n",
      "Li Fonti 11\n",
      "Williams 12\n",
      "Hancock 7\n",
      "Longo 11\n",
      "Mancini 11\n",
      "Stewart 12\n",
      "Murray 15\n",
      "Otutodilichukwu 5\n",
      "Thomas 8\n",
      "Trentino 12\n",
      "Alekseyeva 3\n",
      "Yobachi 5\n",
      "Sorokina 3\n",
      "Noble 4\n",
      "Milanesi 12\n",
      "Parkin 5\n",
      "Cremonesi 12\n",
      "Docherty 8\n",
      "Ugonna 3\n",
      "Bevan 6\n",
      "Osinachi 5\n",
      "Igwebuike 3\n",
      "Chidiegwu 4\n",
      "Lucchesi 12\n",
      "Yudin 4\n",
      "Wade 6\n",
      "Sidorov 3\n",
      "Conti 9\n",
      "Sims 5\n",
      "Carter 7\n",
      "Peng 7\n",
      "Lai 13\n",
      "Osonduagwuike 6\n",
      "Tsou 10\n",
      "Ubanwa 3\n",
      "Nnamutaezinwa 5\n",
      "Ferri 16\n",
      "Amechi 4\n",
      "Griffin 5\n",
      "Vasilieva 3\n",
      "Kwemto 4\n",
      "T'an 5\n",
      "Bryant 7\n",
      "Hayward 5\n",
      "Liu 12\n",
      "Greece 9\n",
      "Norman 6\n",
      "Chukwudi 8\n",
      "Fedorov 4\n",
      "Reid 8\n",
      "Stephens 3\n",
      "Frolov 4\n",
      "Degtyarev 3\n",
      "Omeokachie 4\n",
      "Gorbunova 3\n",
      "Tuan 19\n",
      "Baxter 4\n",
      "Rogers 4\n",
      "Byrne 5\n",
      "Aitken 8\n",
      "Simpson 12\n",
      "Vorobyova 4\n",
      "Pirogova 3\n",
      "Panicucci 7\n",
      "Siciliani 6\n",
      "Lucchese 10\n",
      "K? 11\n",
      "Alexeyeva 5\n",
      "Chukwualuka 5\n",
      "Okeke 6\n",
      "Nebechukwu 7\n",
      "Diribe 3\n",
      "Kelly 12\n",
      "Reilly 7\n",
      "Ojiofor 5\n",
      "Ozerova 5\n",
      "Ulyanova 3\n",
      "Akabueze 8\n",
      "Aleksandrova 3\n",
      "Bruno 12\n",
      "Matthews 6\n",
      "Yudina 4\n",
      "Chienezie 6\n",
      "Chineze 4\n",
      "Payne 3\n",
      "Vincent 8\n",
      "Riley 4\n",
      "Gould 5\n",
      "Howard 3\n",
      "Onwuamaeze 6\n",
      "Nwachukwu 5\n",
      "Conway 5\n",
      "Maslow 3\n",
      "Gallo 11\n",
      "Onyemachukwu 5\n",
      "Warner 6\n",
      "Ifeatu 8\n",
      "Fan 14\n",
      "Onyekachukwu 4\n",
      "Marino 11\n",
      "Onyemere 7\n",
      "Giordano 11\n",
      "Willis 4\n",
      "Tu 18\n",
      "Romano 8\n",
      "Goliwe 6\n",
      "Sopuluchi 3\n",
      "Potter 4\n",
      "Miah 3\n",
      "Todd 6\n",
      "Obiajulu 7\n",
      "Farmer 3\n",
      "Ignatieff 3\n",
      "Okonkwo 6\n",
      "Wilson 23\n",
      "Golibe 4\n",
      "Udinesi 9\n",
      "Curtis 4\n",
      "Green 8\n",
      "Bates 6\n",
      "Ferguson 11\n",
      "Godfrey 4\n",
      "Robson 5\n",
      "Colombo 8\n",
      "Francis 5\n",
      "Rhodes 3\n",
      "Y? 13\n",
      "Townsend 6\n",
      "Pope 5\n",
      "Thomson 15\n",
      "Chiazagomekpele 3\n",
      "Ozuluonye 3\n",
      "Fang 20\n",
      "Horton 4\n",
      "Schiavone 4\n",
      "Fiorentino 13\n",
      "Butusov 5\n",
      "Wang 22\n",
      "Alexeieva 3\n",
      "Vinogradova 3\n",
      "Kozlova 3\n",
      "Holt 4\n",
      "Giles 6\n",
      "Law 5\n",
      "Chinedum 7\n",
      "Kruglov 3\n",
      "Stone 3\n",
      "Chiagoziem 3\n",
      "Chukwukere 4\n",
      "Lee 4\n",
      "Jennings 4\n",
      "Patterson 5\n",
      "Ofodile 4\n",
      "Nash 3\n",
      "Obidimkpa 5\n",
      "Terry 3\n",
      "Mahmood 3\n",
      "Amaechi 6\n",
      "Bentley 5\n",
      "Henry 4\n",
      "Bailey 10\n",
      "Onyekaozulu 6\n",
      "Genovesi 12\n",
      "Ellis 6\n",
      "Onuchukwu 5\n",
      "Perkins 3\n",
      "Hayes 4\n",
      "Rizzo 8\n",
      "Mason 6\n",
      "Saunders 8\n",
      "Otitodilichukwu 3\n",
      "Soto 3\n",
      "Webb 7\n",
      "Olisaemeka 10\n",
      "Yobanna 7\n",
      "Trevisan 6\n",
      "Tretiakova 5\n",
      "Phillips 5\n",
      "Pavlova 3\n",
      "Gorbunov 5\n",
      "Castiglione 12\n",
      "Yuryeva 4\n",
      "Dean 4\n",
      "Vasiliev 4\n",
      "Fedorova 4\n",
      "Banks 4\n",
      "Wong 6\n",
      "Roberts 7\n",
      "Lo Duca 13\n",
      "Ashton 3\n",
      "Zakharov 4\n",
      "DeRose 8\n",
      "Browne 6\n",
      "Korovin 4\n",
      "Ward 5\n",
      "Oluchi 3\n",
      "Nnaife 7\n",
      "Okwudiliolisa 5\n",
      "Parkes 7\n",
      "Tretyakova 3\n",
      "Costa 8\n",
      "Ibezimako 5\n",
      "Anenechukwu 5\n",
      "Norton 5\n",
      "Gibbons 6\n",
      "Grave 3\n",
      "Gardner 3\n",
      "Uwakwe 3\n",
      "Becker 3\n",
      "Biryukov 3\n",
      "Hanson 7\n",
      "Chinweuba 4\n",
      "Ogochukwu 4\n",
      "Harrison 4\n",
      "Ugochukwutubelum 3\n",
      "Uvarova 3\n",
      "Onyekachi 5\n",
      "Yobachukwu 5\n",
      "Anayolisa 6\n",
      "Ngozichukwuka 5\n",
      "Lane 7\n",
      "Hall 5\n",
      "Kelechi 3\n",
      "Chikezie 4\n",
      "Hunt 8\n",
      "Ramos 3\n",
      "Christie 11\n",
      "Bazhenov 3\n",
      "Kemp 4\n",
      "Ebelegbulam 3\n",
      "Tseng 9\n",
      "Yermakov 3\n",
      "Dawson 5\n",
      "Ifeanyichukwu 3\n",
      "Bibi 3\n",
      "Arcuri 12\n",
      "Chijindum 3\n",
      "Lei 12\n",
      "Morley 4\n",
      "Somadina 6\n",
      "Chieloka 3\n",
      "Kovalev 3\n",
      "Aksenov 7\n",
      "Meng 14\n",
      "Abbott 4\n",
      "Nkemjika 5\n",
      "Long 7\n",
      "Nelson 4\n",
      "Thornton 4\n",
      "Udegbulam 5\n",
      "Blinova 3\n",
      "Chidubem 7\n",
      "Holloway 6\n",
      "Nwebube 6\n",
      "Chibueze 6\n",
      "Myers 6\n",
      "Davey 4\n",
      "Hs?eh 7\n",
      "Kazantseva 3\n",
      "Connolly 3\n",
      "Fomin 5\n",
      "Chamberlain 4\n",
      "Barber 4\n",
      "Caldwell 5\n",
      "Woronoff 6\n",
      "Azuka 5\n",
      "Bulgakov 3\n",
      "Lord 5\n",
      "Uspenskaya 5\n",
      "Powell 5\n",
      "Yuriev 3\n",
      "Udokamma 4\n",
      "Chimaijem 4\n",
      "Porter 5\n",
      "Gardener 3\n",
      "Hart 3\n",
      "Kruglova 3\n",
      "Nkemdirim 4\n",
      "Macdonald 4\n",
      "Chiekwugo 5\n",
      "Hurst 3\n",
      "Ebelechukwu 3\n",
      "Arnold 5\n",
      "Chao 12\n",
      "Zhdanova 4\n",
      "Marsden 5\n",
      "Dennis 4\n",
      "Nixon 6\n",
      "Sochima 3\n",
      "Lori 11\n",
      "Enemuo 3\n",
      "Chikwado 3\n",
      "Yates 3\n",
      "Watt 10\n",
      "Korovina 4\n",
      "Manning 4\n",
      "Goddard 6\n",
      "John 5\n",
      "Daniels 4\n",
      "Chiemenam 12\n",
      "Parry 7\n",
      "Dickinson 4\n",
      "Kazakova 4\n",
      "Chikelu 4\n",
      "Allan 15\n",
      "Yefremova 4\n",
      "Nkemdilim 4\n",
      "Iqbal 4\n",
      "Dyer 5\n",
      "Degtyaryov 3\n",
      "Khan 3\n",
      "Iroawuchi 6\n",
      "Jones 10\n",
      "Chimaobim 3\n",
      "Nnamdi 5\n",
      "Charlton 4\n",
      "Marsh 4\n",
      "Buckley 7\n",
      "Folliero 11\n",
      "Ignatiev 3\n",
      "Komarova 3\n",
      "Yu 10\n",
      "Hyde 6\n",
      "Mellor 5\n",
      "Chinomso 7\n",
      "Siciliano 6\n",
      "Ositadimma 3\n",
      "Dolgorukova 4\n",
      "Singh 4\n",
      "Akhtar 5\n",
      "Tobenna 4\n",
      "Dunn 5\n",
      "Vasilyeva 6\n",
      "Chinwenma 3\n",
      "Mishina 3\n",
      "Lavrentiev 4\n",
      "Sheppard 4\n",
      "Nnanna 5\n",
      "Norris 5\n",
      "Chidiebere 4\n",
      "Okwukwe 4\n",
      "Walsh 3\n",
      "Chukwueloka 4\n",
      "Adams 10\n",
      "Vasilyev 4\n",
      "Tochukwu 4\n",
      "Berry 6\n",
      "Warren 5\n",
      "Tomlinson 6\n",
      "Coates 7\n",
      "Wyatt 4\n",
      "Storey 6\n",
      "Davies 5\n",
      "Chiedozie 5\n",
      "Bull 3\n",
      "Nevzorova 3\n",
      "McElhone 3\n",
      "Hope 4\n",
      "Rapuokwu 4\n",
      "Belov 3\n",
      "Cross 6\n",
      "Lambert 4\n",
      "Chizoba 4\n",
      "Baker 6\n",
      "Garcia 4\n",
      "Herbert 3\n",
      "Andreyeva 3\n",
      "Bowen 3\n",
      "Fowler 5\n",
      "Sabbatini 10\n",
      "Ifeanacho 4\n",
      "Evdokimov 3\n",
      "Evseev 3\n",
      "Onyemauchechi 3\n",
      "Nkemakonam 4\n",
      "Tsui 13\n",
      "Holmes 3\n",
      "Nwora 3\n",
      "Reynolds 4\n",
      "Yashina 4\n",
      "Yevseyev 3\n",
      "Maslov 3\n",
      "Sullivan 5\n",
      "Chimezie 4\n",
      "Waters 4\n",
      "Eberegbulam 3\n",
      "Madueke 3\n",
      "Chukwubuikem 4\n",
      "Chukwumaobim 3\n",
      "Isayeva 3\n",
      "Gill 4\n",
      "Middleton 3\n",
      "Barese 8\n",
      "Nnaemeka 3\n",
      "Donnelly 4\n",
      "Iweobiegbunam 6\n",
      "Zito 6\n",
      "Chidimma 5\n",
      "Ikechukwu 4\n",
      "Yermakova 4\n",
      "Zaytseva 3\n",
      "Nicholson 5\n",
      "Tucker 4\n",
      "Hutchinson 4\n",
      "Okwuoma 3\n",
      "Amadi 4\n",
      "Kovaleva 3\n",
      "Duffy 3\n",
      "Chidumaga 4\n",
      "Obioma 3\n",
      "Muravyova 4\n",
      "Rogova 3\n",
      "Kanayochukwu 3\n",
      "Pugh 3\n",
      "Bishop 4\n",
      "Lynch 3\n",
      "McCarthy 3\n",
      "Esomchi 3\n",
      "Finch 4\n",
      "Chikwendu 3\n",
      "Shubin 3\n",
      "Frolova 3\n",
      "Bradshaw 4\n",
      "Harvey 4\n",
      "Udegbunam 4\n",
      "Barrett 3\n",
      "Chinonyelum 3\n",
      "Woodward 3\n",
      "Burton 3\n",
      "Iloerika 7\n",
      "Barnett 3\n",
      "Egobudike 4\n",
      "Anayochukwu 3\n",
      "Chialuka 4\n",
      "Barker 3\n",
      "Howe 5\n",
      "Higgins 4\n",
      "Gorshkov 4\n",
      "Forster 3\n",
      "Zubarev 3\n",
      "Austin 4\n",
      "North 5\n",
      "Edwards 4\n",
      "Hussain 3\n",
      "Grigoryeva 3\n",
      "Ibekwe 4\n",
      "Hollis 3\n",
      "Chidi 3\n",
      "Bolton 3\n",
      "Chukwujamuike 3\n",
      "Flynn 3\n",
      "Burrows 3\n",
      "Artyomova 4\n",
      "Blake 3\n",
      "Ugorji 4\n",
      "Chukwuhaenye 4\n",
      "Sergeyeva 3\n",
      "Ajuluchukwu 5\n",
      "Cherkasova 3\n",
      "Howarth 3\n",
      "Chimaraoke 4\n",
      "Chigozie 5\n",
      "Butler 5\n",
      "Ndubuagha 3\n",
      "Harding 3\n",
      "Obijiaku 3\n",
      "Howell 3\n",
      "Onwughara 3\n",
      "Becher 3\n",
      "Foster 3\n"
     ]
    }
   ],
   "source": [
    "#creating an array of surname and the count of occurances\n",
    "surname_array = []\n",
    "\n",
    "#checking the number size of the unique array\n",
    "for names in range(len(unique)):\n",
    "    #setting current words to each instance of name\n",
    "    current_word = unique[names]\n",
    "    count = 0\n",
    "    \n",
    "    #looping through  data frame, and counting the times int comes up\n",
    "    for all_names in bank_t_over['Surname']:\n",
    "        if(current_word ==  all_names and current_word != ''):\n",
    "            #count if name found\n",
    "            count = count + 1\n",
    "    #before the second loop i have surname account and count\n",
    "    if(current_word != '' and count > 2):\n",
    "        surname_array.append([current_word,count])\n",
    "        print(current_word,count)\n",
    "\n",
    "  "
   ]
  },
  {
   "cell_type": "markdown",
   "id": "185ea858",
   "metadata": {},
   "source": [
    "Surname does have some significance. It could be family names and have some relationship with churn. With that said, there needs to be caution with assuming that there is a family dynamic. It could be that a lot of people have the same name in the area or its just common. However, there are surname with up to 20 occurrences. The level of occurrences can’t be ignored. We will keep surname as one of our features."
   ]
  },
  {
   "cell_type": "markdown",
   "id": "75983da8",
   "metadata": {},
   "source": [
    "According to our graphical analysis. There were a few features like products that had a negative correlation with exits. With that said, its not enough to convince me that the negative features should be removed. The individual feature could be useless on its own, but the overall pictures might tell something different. For example, do people age matter when getting products? The assumption is probably so, I know at age 30 I was able to have way more then I did at age 23. In this case age does have a correlation with bank churn. \n",
    "\n"
   ]
  },
  {
   "cell_type": "code",
   "execution_count": 9,
   "id": "66d1dc09",
   "metadata": {
    "scrolled": true
   },
   "outputs": [
    {
     "data": {
      "text/plain": [
       "Surname        0\n",
       "Score          0\n",
       "Nationality    0\n",
       "Gender         0\n",
       "Age            0\n",
       "Tenure         0\n",
       "Balance        0\n",
       "Products       0\n",
       "Card           0\n",
       "Active         0\n",
       "Salary         0\n",
       "Exited         0\n",
       "dtype: int64"
      ]
     },
     "execution_count": 9,
     "metadata": {},
     "output_type": "execute_result"
    }
   ],
   "source": [
    "bank_t_over.isnull().sum()"
   ]
  },
  {
   "cell_type": "code",
   "execution_count": 10,
   "id": "fd63b047",
   "metadata": {},
   "outputs": [],
   "source": [
    "#young adults(ages 18-35 years; n = 97), \n",
    "#middle-aged adults (ages 36-55 years, n = 197), \n",
    "#older adults (aged older than 55 years, n = 49).\n",
    "#https://pubmed.ncbi.nlm.nih.gov/11815703/   \n",
    "\n",
    "#Taking the Age value and returning the group it stands in\n",
    "# the age group is taken from the government article, to define age groups\n",
    "\n",
    "def age_classification(age):\n",
    "    #initializing value to none \n",
    "    age_value = None\n",
    "    #taking age and returning value \n",
    "    #using artilce to base classification age\n",
    "    if(age >= 18 and age <=35):\n",
    "        age_value = 'young_adults'\n",
    "    elif(age>=36 and age<=55):\n",
    "        age_value = 'middle_aged_adults'\n",
    "    elif(age> 55):\n",
    "        age_value = 'older_adult'\n",
    "    else:\n",
    "        age_value = None\n",
    "    return age_value\n",
    "    \n",
    "        "
   ]
  },
  {
   "cell_type": "code",
   "execution_count": 11,
   "id": "3590b620",
   "metadata": {},
   "outputs": [],
   "source": [
    "#https://www.experian.com/blogs/ask-experian/credit-education/score-basics/what-is-a-good-credit-score/\n",
    "\n",
    "#scores resembles our credit structure\n",
    "#assumption is that these score are similar to our scores\n",
    "def score_classificaiton(score):\n",
    "    score_value = None\n",
    "    #taking score and returning value \n",
    "    #using article to base classification score on us experian score\n",
    "    if(score <= 579):\n",
    "        score_value = 'Poor'\n",
    "    elif(score>= 580 and score <=669):\n",
    "        score_value = 'Fair'\n",
    "    elif(score>=670 and score <= 739):\n",
    "        score_value = 'Good'\n",
    "    elif(score>=740 and score <=799):\n",
    "        score_value = 'Very_Good'\n",
    "    elif(score > 800):\n",
    "        score_value = 'Exceptional'\n",
    "    else:\n",
    "        score_value = None\n",
    "    return score_value"
   ]
  },
  {
   "cell_type": "code",
   "execution_count": 12,
   "id": "045f9716",
   "metadata": {},
   "outputs": [],
   "source": [
    "#Using the histogram to set a bases for balance\n",
    "#Values could be recalibrated to different amounts.\n",
    "#Amounts set to thirds\n",
    "\n",
    "def balance_classification(amount):\n",
    "    balance_value = None\n",
    "    \n",
    "    if( amount <=75000):\n",
    "        balance_value = 'low_amount'\n",
    "    elif(amount>=75000 and amount <=150000):\n",
    "        balance_value = 'middle_amount'\n",
    "    elif(amount> 150000):\n",
    "        age_value = 'high_amount'\n",
    "    else:\n",
    "         balance_value= None\n",
    "    return  balance_value"
   ]
  },
  {
   "cell_type": "code",
   "execution_count": 13,
   "id": "00297870",
   "metadata": {},
   "outputs": [],
   "source": [
    "#https://www.investopedia.com/financial-edge/0912/which-income-class-are-you.aspx\n",
    "#$25,471.00\t$84,372.00\t$187,094.00 example for maryland\n",
    "\n",
    "#seems like salary average are close to the united states\n",
    "#assumption is that salaries are similar, using a base line from investopedia\n",
    "def salary_classification(salary):\n",
    "    #initializing value to none \n",
    "    salary_value = None\n",
    "    #taking salary and returning value \n",
    "    #using artilce to base classification salary\n",
    "    if( salary <=25000):\n",
    "        salary_value = 'low_income'\n",
    "    elif(salary >25000 and salary<=84000):\n",
    "        salary_value = 'middle_income'\n",
    "    elif(salary > 84000):\n",
    "        salary_value= 'high_income'\n",
    "    else:\n",
    "        salary_value = None\n",
    "    return salary_value"
   ]
  },
  {
   "cell_type": "code",
   "execution_count": 14,
   "id": "8dc174e6",
   "metadata": {},
   "outputs": [],
   "source": [
    "\n",
    "#Getting age group , applying age_classification function\n",
    "#New column Age_Group\n",
    "bank_t_over['Age_Group'] = bank_t_over['Age'].apply(age_classification)\n",
    "\n",
    "#Getting score group , applying score_classification function\n",
    "#New column Score_Group\n",
    "bank_t_over['Score_Group'] = bank_t_over['Score'].apply(score_classificaiton)\n",
    "\n",
    "#coorelation factors\n",
    "#These features had a coorelation with exits\n",
    "#Getting balance group , applying balance_classification function\n",
    "#Getting salary group , applying salary_classification function\n",
    "bank_t_over['Balance_Group'] = bank_t_over['Balance'].apply(balance_classification)\n",
    "bank_t_over['Salary_Group'] = bank_t_over['Salary'].apply(salary_classification)\n",
    "\n",
    "\n"
   ]
  },
  {
   "cell_type": "code",
   "execution_count": 15,
   "id": "e33401c7",
   "metadata": {},
   "outputs": [
    {
     "data": {
      "text/plain": [
       "(10000, 16)"
      ]
     },
     "execution_count": 15,
     "metadata": {},
     "output_type": "execute_result"
    }
   ],
   "source": [
    "bank_t_over.shape"
   ]
  },
  {
   "cell_type": "markdown",
   "id": "52bd2b0f",
   "metadata": {},
   "source": [
    "At the moment the computer only knows that there is a difference between numerical values. For example, it knows that having 100 thousand in the bank is more then 0 in the bank. However the computer doesn’t know whether the salary is low, middle, or high. Therefore, we need to tell the model that there is a difference between these classified values. Originally, I did this for age and credit score. Now I am doing it with account balance and salary, which have correlated values. "
   ]
  },
  {
   "cell_type": "code",
   "execution_count": 16,
   "id": "ff6e7c69",
   "metadata": {},
   "outputs": [],
   "source": [
    "#Using pd get dummy to convert to dummy values\n",
    "#Now that I have the values reclassified, I am going to encode it. This will allow our model to work effectively. \n",
    "\n",
    "bank_t_over = pd.get_dummies(bank_t_over)"
   ]
  },
  {
   "cell_type": "code",
   "execution_count": 17,
   "id": "c51cdffb",
   "metadata": {
    "scrolled": false
   },
   "outputs": [
    {
     "data": {
      "text/html": [
       "<div>\n",
       "<style scoped>\n",
       "    .dataframe tbody tr th:only-of-type {\n",
       "        vertical-align: middle;\n",
       "    }\n",
       "\n",
       "    .dataframe tbody tr th {\n",
       "        vertical-align: top;\n",
       "    }\n",
       "\n",
       "    .dataframe thead th {\n",
       "        text-align: right;\n",
       "    }\n",
       "</style>\n",
       "<table border=\"1\" class=\"dataframe\">\n",
       "  <thead>\n",
       "    <tr style=\"text-align: right;\">\n",
       "      <th></th>\n",
       "      <th>Score</th>\n",
       "      <th>Age</th>\n",
       "      <th>Tenure</th>\n",
       "      <th>Balance</th>\n",
       "      <th>Products</th>\n",
       "      <th>Card</th>\n",
       "      <th>Active</th>\n",
       "      <th>Salary</th>\n",
       "      <th>Exited</th>\n",
       "      <th>Surname_Abazu</th>\n",
       "      <th>...</th>\n",
       "      <th>Score_Group_Exceptional</th>\n",
       "      <th>Score_Group_Fair</th>\n",
       "      <th>Score_Group_Good</th>\n",
       "      <th>Score_Group_Poor</th>\n",
       "      <th>Score_Group_Very_Good</th>\n",
       "      <th>Balance_Group_low_amount</th>\n",
       "      <th>Balance_Group_middle_amount</th>\n",
       "      <th>Salary_Group_high_income</th>\n",
       "      <th>Salary_Group_low_income</th>\n",
       "      <th>Salary_Group_middle_income</th>\n",
       "    </tr>\n",
       "  </thead>\n",
       "  <tbody>\n",
       "    <tr>\n",
       "      <th>0</th>\n",
       "      <td>619</td>\n",
       "      <td>42</td>\n",
       "      <td>2</td>\n",
       "      <td>0.00</td>\n",
       "      <td>1</td>\n",
       "      <td>1</td>\n",
       "      <td>1</td>\n",
       "      <td>101348.88</td>\n",
       "      <td>1</td>\n",
       "      <td>0</td>\n",
       "      <td>...</td>\n",
       "      <td>0</td>\n",
       "      <td>1</td>\n",
       "      <td>0</td>\n",
       "      <td>0</td>\n",
       "      <td>0</td>\n",
       "      <td>1</td>\n",
       "      <td>0</td>\n",
       "      <td>1</td>\n",
       "      <td>0</td>\n",
       "      <td>0</td>\n",
       "    </tr>\n",
       "    <tr>\n",
       "      <th>1</th>\n",
       "      <td>608</td>\n",
       "      <td>41</td>\n",
       "      <td>1</td>\n",
       "      <td>83807.86</td>\n",
       "      <td>1</td>\n",
       "      <td>0</td>\n",
       "      <td>1</td>\n",
       "      <td>112542.58</td>\n",
       "      <td>0</td>\n",
       "      <td>0</td>\n",
       "      <td>...</td>\n",
       "      <td>0</td>\n",
       "      <td>1</td>\n",
       "      <td>0</td>\n",
       "      <td>0</td>\n",
       "      <td>0</td>\n",
       "      <td>0</td>\n",
       "      <td>1</td>\n",
       "      <td>1</td>\n",
       "      <td>0</td>\n",
       "      <td>0</td>\n",
       "    </tr>\n",
       "    <tr>\n",
       "      <th>2</th>\n",
       "      <td>502</td>\n",
       "      <td>42</td>\n",
       "      <td>8</td>\n",
       "      <td>159660.80</td>\n",
       "      <td>3</td>\n",
       "      <td>1</td>\n",
       "      <td>0</td>\n",
       "      <td>113931.57</td>\n",
       "      <td>1</td>\n",
       "      <td>0</td>\n",
       "      <td>...</td>\n",
       "      <td>0</td>\n",
       "      <td>0</td>\n",
       "      <td>0</td>\n",
       "      <td>1</td>\n",
       "      <td>0</td>\n",
       "      <td>0</td>\n",
       "      <td>0</td>\n",
       "      <td>1</td>\n",
       "      <td>0</td>\n",
       "      <td>0</td>\n",
       "    </tr>\n",
       "    <tr>\n",
       "      <th>3</th>\n",
       "      <td>699</td>\n",
       "      <td>39</td>\n",
       "      <td>1</td>\n",
       "      <td>0.00</td>\n",
       "      <td>2</td>\n",
       "      <td>0</td>\n",
       "      <td>0</td>\n",
       "      <td>93826.63</td>\n",
       "      <td>0</td>\n",
       "      <td>0</td>\n",
       "      <td>...</td>\n",
       "      <td>0</td>\n",
       "      <td>0</td>\n",
       "      <td>1</td>\n",
       "      <td>0</td>\n",
       "      <td>0</td>\n",
       "      <td>1</td>\n",
       "      <td>0</td>\n",
       "      <td>1</td>\n",
       "      <td>0</td>\n",
       "      <td>0</td>\n",
       "    </tr>\n",
       "  </tbody>\n",
       "</table>\n",
       "<p>4 rows × 2959 columns</p>\n",
       "</div>"
      ],
      "text/plain": [
       "   Score  Age  Tenure    Balance  Products  Card  Active     Salary  Exited  \\\n",
       "0    619   42       2       0.00         1     1       1  101348.88       1   \n",
       "1    608   41       1   83807.86         1     0       1  112542.58       0   \n",
       "2    502   42       8  159660.80         3     1       0  113931.57       1   \n",
       "3    699   39       1       0.00         2     0       0   93826.63       0   \n",
       "\n",
       "   Surname_Abazu  ...  Score_Group_Exceptional  Score_Group_Fair  \\\n",
       "0              0  ...                        0                 1   \n",
       "1              0  ...                        0                 1   \n",
       "2              0  ...                        0                 0   \n",
       "3              0  ...                        0                 0   \n",
       "\n",
       "   Score_Group_Good  Score_Group_Poor  Score_Group_Very_Good  \\\n",
       "0                 0                 0                      0   \n",
       "1                 0                 0                      0   \n",
       "2                 0                 1                      0   \n",
       "3                 1                 0                      0   \n",
       "\n",
       "   Balance_Group_low_amount  Balance_Group_middle_amount  \\\n",
       "0                         1                            0   \n",
       "1                         0                            1   \n",
       "2                         0                            0   \n",
       "3                         1                            0   \n",
       "\n",
       "   Salary_Group_high_income  Salary_Group_low_income  \\\n",
       "0                         1                        0   \n",
       "1                         1                        0   \n",
       "2                         1                        0   \n",
       "3                         1                        0   \n",
       "\n",
       "   Salary_Group_middle_income  \n",
       "0                           0  \n",
       "1                           0  \n",
       "2                           0  \n",
       "3                           0  \n",
       "\n",
       "[4 rows x 2959 columns]"
      ]
     },
     "execution_count": 17,
     "metadata": {},
     "output_type": "execute_result"
    }
   ],
   "source": [
    "bank_t_over.head(4)"
   ]
  },
  {
   "cell_type": "code",
   "execution_count": 18,
   "id": "b77540e2",
   "metadata": {},
   "outputs": [
    {
     "data": {
      "text/plain": [
       "(10000, 2959)"
      ]
     },
     "execution_count": 18,
     "metadata": {},
     "output_type": "execute_result"
    }
   ],
   "source": [
    "bank_t_over.shape"
   ]
  },
  {
   "cell_type": "markdown",
   "id": "1bb364b5",
   "metadata": {},
   "source": [
    "When the classification of the new features is complete, we are left with 16 columns. After we encode our classified features, we have 2959 columns. A lot of those columns come from the surname column that are repurposed to fit our hypothesis. However, all the 2000 plus columns might not be needed. Its hard to justify all the columns will have a direct impact to our model. With that said we need to perform reduction to see if our model still yields a good accuracy score. If it does, we can officially reduce our feature. Why is this important? It difficult to deal with that many columns. Think about this would it be easier to work with 50 or 2959."
   ]
  },
  {
   "cell_type": "markdown",
   "id": "8f5fdd8a",
   "metadata": {},
   "source": [
    "# Scaling "
   ]
  },
  {
   "cell_type": "code",
   "execution_count": 19,
   "id": "50f05bce",
   "metadata": {},
   "outputs": [],
   "source": [
    "#splitting exited as main target, this shows if person has left the bank\n",
    "#splitting all other columns to features \n",
    "target = bank_t_over[['Exited']]\n",
    "features = bank_t_over.drop([\"Exited\"], axis=1)\n"
   ]
  },
  {
   "cell_type": "code",
   "execution_count": 20,
   "id": "e5b2769b",
   "metadata": {},
   "outputs": [],
   "source": [
    "#standarizing data\n",
    "scaler = StandardScaler()\n",
    "\n",
    "#scaling features\n",
    "features_scaled = scaler.fit_transform(features)"
   ]
  },
  {
   "cell_type": "markdown",
   "id": "97ae5444",
   "metadata": {},
   "source": [
    "# PCA Logistic Regression"
   ]
  },
  {
   "cell_type": "code",
   "execution_count": 21,
   "id": "296c7572",
   "metadata": {},
   "outputs": [
    {
     "data": {
      "text/plain": [
       "(10000, 50)"
      ]
     },
     "execution_count": 21,
     "metadata": {},
     "output_type": "execute_result"
    }
   ],
   "source": [
    "#instantiating PCA\n",
    "pca = PCA(n_components= 50)\n",
    "\n",
    "#Setting to a lower amount of components\n",
    "#Original scaled 2959\n",
    "features_pca = pca.fit_transform(features_scaled)\n",
    "features_pca.shape"
   ]
  },
  {
   "cell_type": "code",
   "execution_count": 22,
   "id": "7460f01a",
   "metadata": {},
   "outputs": [],
   "source": [
    "#instantiating logistic regression class, raising iter value to 1000\n",
    "logReg = LogisticRegression(solver='lbfgs', max_iter=1000)"
   ]
  },
  {
   "cell_type": "code",
   "execution_count": 23,
   "id": "2b7b5be1",
   "metadata": {},
   "outputs": [],
   "source": [
    "features_train, features_test, target_train,target_test = train_test_split(features_pca ,target, test_size=.20)"
   ]
  },
  {
   "cell_type": "code",
   "execution_count": 24,
   "id": "df4e9f07",
   "metadata": {},
   "outputs": [
    {
     "data": {
      "text/html": [
       "<style>#sk-container-id-1 {color: black;background-color: white;}#sk-container-id-1 pre{padding: 0;}#sk-container-id-1 div.sk-toggleable {background-color: white;}#sk-container-id-1 label.sk-toggleable__label {cursor: pointer;display: block;width: 100%;margin-bottom: 0;padding: 0.3em;box-sizing: border-box;text-align: center;}#sk-container-id-1 label.sk-toggleable__label-arrow:before {content: \"▸\";float: left;margin-right: 0.25em;color: #696969;}#sk-container-id-1 label.sk-toggleable__label-arrow:hover:before {color: black;}#sk-container-id-1 div.sk-estimator:hover label.sk-toggleable__label-arrow:before {color: black;}#sk-container-id-1 div.sk-toggleable__content {max-height: 0;max-width: 0;overflow: hidden;text-align: left;background-color: #f0f8ff;}#sk-container-id-1 div.sk-toggleable__content pre {margin: 0.2em;color: black;border-radius: 0.25em;background-color: #f0f8ff;}#sk-container-id-1 input.sk-toggleable__control:checked~div.sk-toggleable__content {max-height: 200px;max-width: 100%;overflow: auto;}#sk-container-id-1 input.sk-toggleable__control:checked~label.sk-toggleable__label-arrow:before {content: \"▾\";}#sk-container-id-1 div.sk-estimator input.sk-toggleable__control:checked~label.sk-toggleable__label {background-color: #d4ebff;}#sk-container-id-1 div.sk-label input.sk-toggleable__control:checked~label.sk-toggleable__label {background-color: #d4ebff;}#sk-container-id-1 input.sk-hidden--visually {border: 0;clip: rect(1px 1px 1px 1px);clip: rect(1px, 1px, 1px, 1px);height: 1px;margin: -1px;overflow: hidden;padding: 0;position: absolute;width: 1px;}#sk-container-id-1 div.sk-estimator {font-family: monospace;background-color: #f0f8ff;border: 1px dotted black;border-radius: 0.25em;box-sizing: border-box;margin-bottom: 0.5em;}#sk-container-id-1 div.sk-estimator:hover {background-color: #d4ebff;}#sk-container-id-1 div.sk-parallel-item::after {content: \"\";width: 100%;border-bottom: 1px solid gray;flex-grow: 1;}#sk-container-id-1 div.sk-label:hover label.sk-toggleable__label {background-color: #d4ebff;}#sk-container-id-1 div.sk-serial::before {content: \"\";position: absolute;border-left: 1px solid gray;box-sizing: border-box;top: 0;bottom: 0;left: 50%;z-index: 0;}#sk-container-id-1 div.sk-serial {display: flex;flex-direction: column;align-items: center;background-color: white;padding-right: 0.2em;padding-left: 0.2em;position: relative;}#sk-container-id-1 div.sk-item {position: relative;z-index: 1;}#sk-container-id-1 div.sk-parallel {display: flex;align-items: stretch;justify-content: center;background-color: white;position: relative;}#sk-container-id-1 div.sk-item::before, #sk-container-id-1 div.sk-parallel-item::before {content: \"\";position: absolute;border-left: 1px solid gray;box-sizing: border-box;top: 0;bottom: 0;left: 50%;z-index: -1;}#sk-container-id-1 div.sk-parallel-item {display: flex;flex-direction: column;z-index: 1;position: relative;background-color: white;}#sk-container-id-1 div.sk-parallel-item:first-child::after {align-self: flex-end;width: 50%;}#sk-container-id-1 div.sk-parallel-item:last-child::after {align-self: flex-start;width: 50%;}#sk-container-id-1 div.sk-parallel-item:only-child::after {width: 0;}#sk-container-id-1 div.sk-dashed-wrapped {border: 1px dashed gray;margin: 0 0.4em 0.5em 0.4em;box-sizing: border-box;padding-bottom: 0.4em;background-color: white;}#sk-container-id-1 div.sk-label label {font-family: monospace;font-weight: bold;display: inline-block;line-height: 1.2em;}#sk-container-id-1 div.sk-label-container {text-align: center;}#sk-container-id-1 div.sk-container {/* jupyter's `normalize.less` sets `[hidden] { display: none; }` but bootstrap.min.css set `[hidden] { display: none !important; }` so we also need the `!important` here to be able to override the default hidden behavior on the sphinx rendered scikit-learn.org. See: https://github.com/scikit-learn/scikit-learn/issues/21755 */display: inline-block !important;position: relative;}#sk-container-id-1 div.sk-text-repr-fallback {display: none;}</style><div id=\"sk-container-id-1\" class=\"sk-top-container\"><div class=\"sk-text-repr-fallback\"><pre>LogisticRegression(max_iter=1000)</pre><b>In a Jupyter environment, please rerun this cell to show the HTML representation or trust the notebook. <br />On GitHub, the HTML representation is unable to render, please try loading this page with nbviewer.org.</b></div><div class=\"sk-container\" hidden><div class=\"sk-item\"><div class=\"sk-estimator sk-toggleable\"><input class=\"sk-toggleable__control sk-hidden--visually\" id=\"sk-estimator-id-1\" type=\"checkbox\" checked><label for=\"sk-estimator-id-1\" class=\"sk-toggleable__label sk-toggleable__label-arrow\">LogisticRegression</label><div class=\"sk-toggleable__content\"><pre>LogisticRegression(max_iter=1000)</pre></div></div></div></div></div>"
      ],
      "text/plain": [
       "LogisticRegression(max_iter=1000)"
      ]
     },
     "execution_count": 24,
     "metadata": {},
     "output_type": "execute_result"
    }
   ],
   "source": [
    "logReg.fit(features_train, np.ravel(target_train))"
   ]
  },
  {
   "cell_type": "code",
   "execution_count": 25,
   "id": "c0c0db7e",
   "metadata": {},
   "outputs": [],
   "source": [
    "predicted = logReg.predict(features_test)"
   ]
  },
  {
   "cell_type": "code",
   "execution_count": 26,
   "id": "ace00e3a",
   "metadata": {},
   "outputs": [
    {
     "data": {
      "text/plain": [
       "0.803"
      ]
     },
     "execution_count": 26,
     "metadata": {},
     "output_type": "execute_result"
    }
   ],
   "source": [
    "accuracy_score(target_test,predicted)"
   ]
  },
  {
   "cell_type": "markdown",
   "id": "e16ce1e2",
   "metadata": {},
   "source": [
    "The accuracy is sufficient enough to be to use as our main logistic regression model. The model needs to be investigated more, but the reduction was successful."
   ]
  },
  {
   "cell_type": "markdown",
   "id": "44d682c8",
   "metadata": {},
   "source": [
    "I took a few steps to get the data ready for modeling. First, I droped the Id and Row columns. Both features did not have any value towards our model. Both of those features were dropped. There was a complication with justifying that we should drop surname. If you would have asked me last week, I would have undoubtfully dropped it. This week the data was investigated, and it can give insight to family ties, therefore I kept surname. I could not justify dropping other values and decided to keep them. I think these extra features could add to our model. I added 4 extra features based off already existing features. These classifications should improve our model by including a bases for those features.\n",
    "\n",
    "\n",
    "\n"
   ]
  },
  {
   "cell_type": "markdown",
   "id": "d7b396fb",
   "metadata": {},
   "source": [
    "# Felipe Castillo\n",
    "# Mile Stone 3\n",
    "# Data Mining\n",
    "# 05/18/2022"
   ]
  },
  {
   "cell_type": "code",
   "execution_count": 1,
   "id": "f83baa0c",
   "metadata": {},
   "outputs": [],
   "source": [
    "import pandas as pd\n",
    "import os\n",
    "import numpy as np\n",
    "import seaborn as sns\n",
    "import matplotlib.pyplot as plt\n",
    "from sklearn.linear_model import LinearRegression, Ridge , LogisticRegression\n",
    "from sklearn.metrics import r2_score ,accuracy_score,mean_squared_error,recall_score,f1_score\n",
    "from sklearn.model_selection import train_test_split\n",
    "from sklearn.metrics import precision_score\n",
    "from sklearn.preprocessing import StandardScaler\n",
    "from sklearn.ensemble import RandomForestClassifier\n",
    "from sklearn.metrics import mean_squared_error,confusion_matrix,roc_curve,roc_auc_score\n",
    "from sklearn.decomposition import PCA\n",
    "import random\n",
    "from sklearn.metrics import r2_score\n",
    "from math import sqrt\n",
    "\n",
    "from sklearn.metrics import mean_squared_error\n",
    "#Change path to week one folder for DSC-550\n",
    "#Current directory in documents\n",
    "os.chdir('C:\\DataScience_DSC_550\\Week6')\n",
    "\n"
   ]
  },
  {
   "cell_type": "code",
   "execution_count": 2,
   "id": "28745e5d",
   "metadata": {},
   "outputs": [],
   "source": [
    "bank_turn_overDF = pd.read_csv(\"data_turn.csv\")"
   ]
  },
  {
   "cell_type": "code",
   "execution_count": 3,
   "id": "36707025",
   "metadata": {},
   "outputs": [],
   "source": [
    "#Setting a martix to original values\n",
    "#Removeing Row number and Id , would provided information for correlation graph\n",
    "bank_t_over = bank_turn_overDF.drop(['Row', 'Id'], axis=1).copy()"
   ]
  },
  {
   "cell_type": "code",
   "execution_count": 4,
   "id": "46b53d35",
   "metadata": {},
   "outputs": [
    {
     "data": {
      "text/html": [
       "<div>\n",
       "<style scoped>\n",
       "    .dataframe tbody tr th:only-of-type {\n",
       "        vertical-align: middle;\n",
       "    }\n",
       "\n",
       "    .dataframe tbody tr th {\n",
       "        vertical-align: top;\n",
       "    }\n",
       "\n",
       "    .dataframe thead th {\n",
       "        text-align: right;\n",
       "    }\n",
       "</style>\n",
       "<table border=\"1\" class=\"dataframe\">\n",
       "  <thead>\n",
       "    <tr style=\"text-align: right;\">\n",
       "      <th></th>\n",
       "      <th>Surname</th>\n",
       "      <th>Score</th>\n",
       "      <th>Nationality</th>\n",
       "      <th>Gender</th>\n",
       "      <th>Age</th>\n",
       "      <th>Tenure</th>\n",
       "      <th>Balance</th>\n",
       "      <th>Products</th>\n",
       "      <th>Card</th>\n",
       "      <th>Active</th>\n",
       "      <th>Salary</th>\n",
       "      <th>Exited</th>\n",
       "    </tr>\n",
       "  </thead>\n",
       "  <tbody>\n",
       "    <tr>\n",
       "      <th>0</th>\n",
       "      <td>Hargrave</td>\n",
       "      <td>619</td>\n",
       "      <td>France</td>\n",
       "      <td>Female</td>\n",
       "      <td>42</td>\n",
       "      <td>2</td>\n",
       "      <td>0.0</td>\n",
       "      <td>1</td>\n",
       "      <td>1</td>\n",
       "      <td>1</td>\n",
       "      <td>101348.88</td>\n",
       "      <td>1</td>\n",
       "    </tr>\n",
       "  </tbody>\n",
       "</table>\n",
       "</div>"
      ],
      "text/plain": [
       "    Surname  Score Nationality  Gender  Age  Tenure  Balance  Products  Card  \\\n",
       "0  Hargrave    619      France  Female   42       2      0.0         1     1   \n",
       "\n",
       "   Active     Salary  Exited  \n",
       "0       1  101348.88       1  "
      ]
     },
     "execution_count": 4,
     "metadata": {},
     "output_type": "execute_result"
    }
   ],
   "source": [
    "bank_t_over.head(1)"
   ]
  },
  {
   "cell_type": "code",
   "execution_count": 5,
   "id": "c2f2a020",
   "metadata": {},
   "outputs": [
    {
     "data": {
      "text/plain": [
       "(10000, 12)"
      ]
     },
     "execution_count": 5,
     "metadata": {},
     "output_type": "execute_result"
    }
   ],
   "source": [
    "bank_t_over.shape"
   ]
  },
  {
   "cell_type": "markdown",
   "id": "08afd122",
   "metadata": {},
   "source": [
    "In milestone 2 we came up with a format to classify some of our features. This should help the overall performance of our model."
   ]
  },
  {
   "cell_type": "code",
   "execution_count": 6,
   "id": "31f78219",
   "metadata": {},
   "outputs": [],
   "source": [
    "#young adults(ages 18-35 years; n = 97), \n",
    "#middle-aged adults (ages 36-55 years, n = 197), \n",
    "#older adults (aged older than 55 years, n = 49).\n",
    "#https://pubmed.ncbi.nlm.nih.gov/11815703/   \n",
    "\n",
    "#Taking the Age value and returning the group it stands in\n",
    "# the age group is taken from the government article, to define age groups\n",
    "\n",
    "def age_classification(age):\n",
    "    #initializing value to none \n",
    "    age_value = None\n",
    "    #taking age and returning value \n",
    "    #using artilce to base classification age\n",
    "    if(age >= 18 and age <=35):\n",
    "        age_value = 'young_adults'\n",
    "    elif(age>=36 and age<=55):\n",
    "        age_value = 'middle_aged_adults'\n",
    "    elif(age> 55):\n",
    "        age_value = 'older_adult'\n",
    "    else:\n",
    "        age_value = None\n",
    "    return age_value\n",
    "    "
   ]
  },
  {
   "cell_type": "code",
   "execution_count": 7,
   "id": "ed7e3236",
   "metadata": {},
   "outputs": [],
   "source": [
    "#https://www.experian.com/blogs/ask-experian/credit-education/score-basics/what-is-a-good-credit-score/\n",
    "\n",
    "#scores resembles our credit structure\n",
    "#assumption is that these score are similar to our scores\n",
    "def score_classificaiton(score):\n",
    "    score_value = None\n",
    "    #taking score and returning value \n",
    "    #using article to base classification score on us experian score\n",
    "    if(score <= 579):\n",
    "        score_value = 'Poor'\n",
    "    elif(score>= 580 and score <=669):\n",
    "        score_value = 'Fair'\n",
    "    elif(score>=670 and score <= 739):\n",
    "        score_value = 'Good'\n",
    "    elif(score>=740 and score <=799):\n",
    "        score_value = 'Very_Good'\n",
    "    elif(score > 800):\n",
    "        score_value = 'Exceptional'\n",
    "    else:\n",
    "        score_value = None\n",
    "    return score_value"
   ]
  },
  {
   "cell_type": "code",
   "execution_count": 8,
   "id": "1fe04e2a",
   "metadata": {},
   "outputs": [],
   "source": [
    "#Using the histogram to set a bases for balance\n",
    "#Values could be recalibrated to different amounts.\n",
    "#Amounts set to thirds\n",
    "\n",
    "def balance_classification(amount):\n",
    "    balance_value = None\n",
    "    \n",
    "    if( amount <=75000):\n",
    "        balance_value = 'low_amount'\n",
    "    elif(amount>=75000 and amount <=150000):\n",
    "        balance_value = 'middle_amount'\n",
    "    elif(amount> 150000):\n",
    "        age_value = 'high_amount'\n",
    "    else:\n",
    "         balance_value= None\n",
    "    return  balance_value"
   ]
  },
  {
   "cell_type": "code",
   "execution_count": 9,
   "id": "a0e6f344",
   "metadata": {},
   "outputs": [],
   "source": [
    "#https://www.investopedia.com/financial-edge/0912/which-income-class-are-you.aspx\n",
    "#$25,471.00\t$84,372.00\t$187,094.00 example for maryland\n",
    "\n",
    "#seems like salary average are close to the united states\n",
    "#assumption is that salaries are similar, using a base line from investopedia\n",
    "def salary_classification(salary):\n",
    "    #initializing value to none \n",
    "    salary_value = None\n",
    "    #taking salary and returning value \n",
    "    #using artilce to base classification salary\n",
    "    if( salary <=25000):\n",
    "        salary_value = 'low_income'\n",
    "    elif(salary >25000 and salary<=84000):\n",
    "        salary_value = 'middle_income'\n",
    "    elif(salary > 84000):\n",
    "        salary_value= 'high_income'\n",
    "    else:\n",
    "        salary_value = None\n",
    "    return salary_value"
   ]
  },
  {
   "cell_type": "code",
   "execution_count": 10,
   "id": "64175f30",
   "metadata": {},
   "outputs": [],
   "source": [
    "\n",
    "#Getting age group , applying age_classification function\n",
    "#New column Age_Group\n",
    "bank_t_over['Age_Group'] = bank_t_over['Age'].apply(age_classification)\n",
    "\n",
    "#Getting score group , applying score_classification function\n",
    "#New column Score_Group\n",
    "bank_t_over['Score_Group'] = bank_t_over['Score'].apply(score_classificaiton)\n",
    "\n",
    "#coorelation factors\n",
    "#These features had a coorelation with exits\n",
    "#Getting balance group , applying balance_classification function\n",
    "#Getting salary group , applying salary_classification function\n",
    "bank_t_over['Balance_Group'] = bank_t_over['Balance'].apply(balance_classification)\n",
    "bank_t_over['Salary_Group'] = bank_t_over['Salary'].apply(salary_classification)\n",
    "\n",
    "\n"
   ]
  },
  {
   "cell_type": "code",
   "execution_count": 11,
   "id": "e1248778",
   "metadata": {},
   "outputs": [],
   "source": [
    "#Encoding Our Data Set\n",
    "bank_t_over = pd.get_dummies(bank_t_over)"
   ]
  },
  {
   "cell_type": "code",
   "execution_count": 12,
   "id": "1bb245f6",
   "metadata": {},
   "outputs": [
    {
     "data": {
      "text/html": [
       "<div>\n",
       "<style scoped>\n",
       "    .dataframe tbody tr th:only-of-type {\n",
       "        vertical-align: middle;\n",
       "    }\n",
       "\n",
       "    .dataframe tbody tr th {\n",
       "        vertical-align: top;\n",
       "    }\n",
       "\n",
       "    .dataframe thead th {\n",
       "        text-align: right;\n",
       "    }\n",
       "</style>\n",
       "<table border=\"1\" class=\"dataframe\">\n",
       "  <thead>\n",
       "    <tr style=\"text-align: right;\">\n",
       "      <th></th>\n",
       "      <th>Score</th>\n",
       "      <th>Age</th>\n",
       "      <th>Tenure</th>\n",
       "      <th>Balance</th>\n",
       "      <th>Products</th>\n",
       "      <th>Card</th>\n",
       "      <th>Active</th>\n",
       "      <th>Salary</th>\n",
       "      <th>Exited</th>\n",
       "      <th>Surname_Abazu</th>\n",
       "      <th>...</th>\n",
       "      <th>Score_Group_Exceptional</th>\n",
       "      <th>Score_Group_Fair</th>\n",
       "      <th>Score_Group_Good</th>\n",
       "      <th>Score_Group_Poor</th>\n",
       "      <th>Score_Group_Very_Good</th>\n",
       "      <th>Balance_Group_low_amount</th>\n",
       "      <th>Balance_Group_middle_amount</th>\n",
       "      <th>Salary_Group_high_income</th>\n",
       "      <th>Salary_Group_low_income</th>\n",
       "      <th>Salary_Group_middle_income</th>\n",
       "    </tr>\n",
       "  </thead>\n",
       "  <tbody>\n",
       "    <tr>\n",
       "      <th>0</th>\n",
       "      <td>619</td>\n",
       "      <td>42</td>\n",
       "      <td>2</td>\n",
       "      <td>0.00</td>\n",
       "      <td>1</td>\n",
       "      <td>1</td>\n",
       "      <td>1</td>\n",
       "      <td>101348.88</td>\n",
       "      <td>1</td>\n",
       "      <td>0</td>\n",
       "      <td>...</td>\n",
       "      <td>0</td>\n",
       "      <td>1</td>\n",
       "      <td>0</td>\n",
       "      <td>0</td>\n",
       "      <td>0</td>\n",
       "      <td>1</td>\n",
       "      <td>0</td>\n",
       "      <td>1</td>\n",
       "      <td>0</td>\n",
       "      <td>0</td>\n",
       "    </tr>\n",
       "    <tr>\n",
       "      <th>1</th>\n",
       "      <td>608</td>\n",
       "      <td>41</td>\n",
       "      <td>1</td>\n",
       "      <td>83807.86</td>\n",
       "      <td>1</td>\n",
       "      <td>0</td>\n",
       "      <td>1</td>\n",
       "      <td>112542.58</td>\n",
       "      <td>0</td>\n",
       "      <td>0</td>\n",
       "      <td>...</td>\n",
       "      <td>0</td>\n",
       "      <td>1</td>\n",
       "      <td>0</td>\n",
       "      <td>0</td>\n",
       "      <td>0</td>\n",
       "      <td>0</td>\n",
       "      <td>1</td>\n",
       "      <td>1</td>\n",
       "      <td>0</td>\n",
       "      <td>0</td>\n",
       "    </tr>\n",
       "    <tr>\n",
       "      <th>2</th>\n",
       "      <td>502</td>\n",
       "      <td>42</td>\n",
       "      <td>8</td>\n",
       "      <td>159660.80</td>\n",
       "      <td>3</td>\n",
       "      <td>1</td>\n",
       "      <td>0</td>\n",
       "      <td>113931.57</td>\n",
       "      <td>1</td>\n",
       "      <td>0</td>\n",
       "      <td>...</td>\n",
       "      <td>0</td>\n",
       "      <td>0</td>\n",
       "      <td>0</td>\n",
       "      <td>1</td>\n",
       "      <td>0</td>\n",
       "      <td>0</td>\n",
       "      <td>0</td>\n",
       "      <td>1</td>\n",
       "      <td>0</td>\n",
       "      <td>0</td>\n",
       "    </tr>\n",
       "  </tbody>\n",
       "</table>\n",
       "<p>3 rows × 2959 columns</p>\n",
       "</div>"
      ],
      "text/plain": [
       "   Score  Age  Tenure    Balance  Products  Card  Active     Salary  Exited  \\\n",
       "0    619   42       2       0.00         1     1       1  101348.88       1   \n",
       "1    608   41       1   83807.86         1     0       1  112542.58       0   \n",
       "2    502   42       8  159660.80         3     1       0  113931.57       1   \n",
       "\n",
       "   Surname_Abazu  ...  Score_Group_Exceptional  Score_Group_Fair  \\\n",
       "0              0  ...                        0                 1   \n",
       "1              0  ...                        0                 1   \n",
       "2              0  ...                        0                 0   \n",
       "\n",
       "   Score_Group_Good  Score_Group_Poor  Score_Group_Very_Good  \\\n",
       "0                 0                 0                      0   \n",
       "1                 0                 0                      0   \n",
       "2                 0                 1                      0   \n",
       "\n",
       "   Balance_Group_low_amount  Balance_Group_middle_amount  \\\n",
       "0                         1                            0   \n",
       "1                         0                            1   \n",
       "2                         0                            0   \n",
       "\n",
       "   Salary_Group_high_income  Salary_Group_low_income  \\\n",
       "0                         1                        0   \n",
       "1                         1                        0   \n",
       "2                         1                        0   \n",
       "\n",
       "   Salary_Group_middle_income  \n",
       "0                           0  \n",
       "1                           0  \n",
       "2                           0  \n",
       "\n",
       "[3 rows x 2959 columns]"
      ]
     },
     "execution_count": 12,
     "metadata": {},
     "output_type": "execute_result"
    }
   ],
   "source": [
    "bank_t_over.head(3)"
   ]
  },
  {
   "cell_type": "code",
   "execution_count": 13,
   "id": "2eb16545",
   "metadata": {},
   "outputs": [],
   "source": [
    "#splitting exited as main target, this shows if person has left the bank\n",
    "#splitting all other columns to features \n",
    "target = bank_t_over[['Exited']]\n",
    "features = bank_t_over.drop([\"Exited\"], axis=1)\n",
    "\n"
   ]
  },
  {
   "cell_type": "markdown",
   "id": "39e14707",
   "metadata": {},
   "source": [
    "The reason for choosing logistic regression is due to the classification issue that we are investigating. Our data has binary-based outcomes. For example, we are looking to see if we can predict whether someone will leave the bank. The outcome is either a yes or no, which can be interrupted as a 0 or 1. In other words we need to see the direct relationship between the dependent variable and our independent variable. We want to see if those relationship will cause churn. So, we need a model to determine the probability of a yes or no answer. That being did the person leave the bank."
   ]
  },
  {
   "cell_type": "markdown",
   "id": "8dbc397f",
   "metadata": {},
   "source": [
    "# Logistic Regression"
   ]
  },
  {
   "cell_type": "code",
   "execution_count": 18,
   "id": "57cf8845",
   "metadata": {},
   "outputs": [],
   "source": [
    "#We need to make sure that all our data points are comparable. If there are to many differences with overwhelming ranges this will affect our model. Therefore, if we standardized, it should give use a base line."
   ]
  },
  {
   "cell_type": "code",
   "execution_count": 14,
   "id": "852709d1",
   "metadata": {},
   "outputs": [],
   "source": [
    "#standarizing data\n",
    "scaler = StandardScaler()"
   ]
  },
  {
   "cell_type": "code",
   "execution_count": 15,
   "id": "4fc72118",
   "metadata": {},
   "outputs": [],
   "source": [
    "#scaling features\n",
    "features_scaled = scaler.fit_transform(features)"
   ]
  },
  {
   "cell_type": "code",
   "execution_count": 17,
   "id": "d557a591",
   "metadata": {},
   "outputs": [],
   "source": [
    "#During our devolvement in milestone 2. I used PCA on the data to see if it was possible to reduce without effecting our overall accuracy. We concluded that our model will yield a solid accuracy score even if reduce to 50 components.  "
   ]
  },
  {
   "cell_type": "code",
   "execution_count": 16,
   "id": "2e800068",
   "metadata": {},
   "outputs": [],
   "source": [
    "#instantiating PCA\n",
    "pca = PCA(n_components= 50)\n",
    "\n",
    "#Setting to a lower amount of components\n",
    "#Original scaled 2959\n",
    "features_pca = pca.fit_transform(features)"
   ]
  },
  {
   "cell_type": "code",
   "execution_count": 17,
   "id": "42a3102e",
   "metadata": {},
   "outputs": [],
   "source": [
    "sfeatures_train, sfeatures_test, starget_train,starget_test = train_test_split(features_pca ,target, test_size=.20)"
   ]
  },
  {
   "cell_type": "code",
   "execution_count": 18,
   "id": "d5fe5ca4",
   "metadata": {},
   "outputs": [],
   "source": [
    "#instantiating logistic regression class, raising iter value to 1000\n",
    "logReg_Scaled = LogisticRegression(solver='lbfgs', max_iter=1000)"
   ]
  },
  {
   "cell_type": "code",
   "execution_count": 19,
   "id": "4f0e7a89",
   "metadata": {},
   "outputs": [
    {
     "data": {
      "text/html": [
       "<style>#sk-container-id-1 {color: black;background-color: white;}#sk-container-id-1 pre{padding: 0;}#sk-container-id-1 div.sk-toggleable {background-color: white;}#sk-container-id-1 label.sk-toggleable__label {cursor: pointer;display: block;width: 100%;margin-bottom: 0;padding: 0.3em;box-sizing: border-box;text-align: center;}#sk-container-id-1 label.sk-toggleable__label-arrow:before {content: \"▸\";float: left;margin-right: 0.25em;color: #696969;}#sk-container-id-1 label.sk-toggleable__label-arrow:hover:before {color: black;}#sk-container-id-1 div.sk-estimator:hover label.sk-toggleable__label-arrow:before {color: black;}#sk-container-id-1 div.sk-toggleable__content {max-height: 0;max-width: 0;overflow: hidden;text-align: left;background-color: #f0f8ff;}#sk-container-id-1 div.sk-toggleable__content pre {margin: 0.2em;color: black;border-radius: 0.25em;background-color: #f0f8ff;}#sk-container-id-1 input.sk-toggleable__control:checked~div.sk-toggleable__content {max-height: 200px;max-width: 100%;overflow: auto;}#sk-container-id-1 input.sk-toggleable__control:checked~label.sk-toggleable__label-arrow:before {content: \"▾\";}#sk-container-id-1 div.sk-estimator input.sk-toggleable__control:checked~label.sk-toggleable__label {background-color: #d4ebff;}#sk-container-id-1 div.sk-label input.sk-toggleable__control:checked~label.sk-toggleable__label {background-color: #d4ebff;}#sk-container-id-1 input.sk-hidden--visually {border: 0;clip: rect(1px 1px 1px 1px);clip: rect(1px, 1px, 1px, 1px);height: 1px;margin: -1px;overflow: hidden;padding: 0;position: absolute;width: 1px;}#sk-container-id-1 div.sk-estimator {font-family: monospace;background-color: #f0f8ff;border: 1px dotted black;border-radius: 0.25em;box-sizing: border-box;margin-bottom: 0.5em;}#sk-container-id-1 div.sk-estimator:hover {background-color: #d4ebff;}#sk-container-id-1 div.sk-parallel-item::after {content: \"\";width: 100%;border-bottom: 1px solid gray;flex-grow: 1;}#sk-container-id-1 div.sk-label:hover label.sk-toggleable__label {background-color: #d4ebff;}#sk-container-id-1 div.sk-serial::before {content: \"\";position: absolute;border-left: 1px solid gray;box-sizing: border-box;top: 0;bottom: 0;left: 50%;z-index: 0;}#sk-container-id-1 div.sk-serial {display: flex;flex-direction: column;align-items: center;background-color: white;padding-right: 0.2em;padding-left: 0.2em;position: relative;}#sk-container-id-1 div.sk-item {position: relative;z-index: 1;}#sk-container-id-1 div.sk-parallel {display: flex;align-items: stretch;justify-content: center;background-color: white;position: relative;}#sk-container-id-1 div.sk-item::before, #sk-container-id-1 div.sk-parallel-item::before {content: \"\";position: absolute;border-left: 1px solid gray;box-sizing: border-box;top: 0;bottom: 0;left: 50%;z-index: -1;}#sk-container-id-1 div.sk-parallel-item {display: flex;flex-direction: column;z-index: 1;position: relative;background-color: white;}#sk-container-id-1 div.sk-parallel-item:first-child::after {align-self: flex-end;width: 50%;}#sk-container-id-1 div.sk-parallel-item:last-child::after {align-self: flex-start;width: 50%;}#sk-container-id-1 div.sk-parallel-item:only-child::after {width: 0;}#sk-container-id-1 div.sk-dashed-wrapped {border: 1px dashed gray;margin: 0 0.4em 0.5em 0.4em;box-sizing: border-box;padding-bottom: 0.4em;background-color: white;}#sk-container-id-1 div.sk-label label {font-family: monospace;font-weight: bold;display: inline-block;line-height: 1.2em;}#sk-container-id-1 div.sk-label-container {text-align: center;}#sk-container-id-1 div.sk-container {/* jupyter's `normalize.less` sets `[hidden] { display: none; }` but bootstrap.min.css set `[hidden] { display: none !important; }` so we also need the `!important` here to be able to override the default hidden behavior on the sphinx rendered scikit-learn.org. See: https://github.com/scikit-learn/scikit-learn/issues/21755 */display: inline-block !important;position: relative;}#sk-container-id-1 div.sk-text-repr-fallback {display: none;}</style><div id=\"sk-container-id-1\" class=\"sk-top-container\"><div class=\"sk-text-repr-fallback\"><pre>LogisticRegression(max_iter=1000)</pre><b>In a Jupyter environment, please rerun this cell to show the HTML representation or trust the notebook. <br />On GitHub, the HTML representation is unable to render, please try loading this page with nbviewer.org.</b></div><div class=\"sk-container\" hidden><div class=\"sk-item\"><div class=\"sk-estimator sk-toggleable\"><input class=\"sk-toggleable__control sk-hidden--visually\" id=\"sk-estimator-id-1\" type=\"checkbox\" checked><label for=\"sk-estimator-id-1\" class=\"sk-toggleable__label sk-toggleable__label-arrow\">LogisticRegression</label><div class=\"sk-toggleable__content\"><pre>LogisticRegression(max_iter=1000)</pre></div></div></div></div></div>"
      ],
      "text/plain": [
       "LogisticRegression(max_iter=1000)"
      ]
     },
     "execution_count": 19,
     "metadata": {},
     "output_type": "execute_result"
    }
   ],
   "source": [
    "#Fitting values\n",
    "logReg_Scaled.fit(sfeatures_train, np.ravel(starget_train))"
   ]
  },
  {
   "cell_type": "code",
   "execution_count": 20,
   "id": "7131aff9",
   "metadata": {},
   "outputs": [],
   "source": [
    "spredicted = logReg_Scaled.predict(sfeatures_test)"
   ]
  },
  {
   "cell_type": "code",
   "execution_count": 21,
   "id": "cdc7df5b",
   "metadata": {},
   "outputs": [
    {
     "data": {
      "text/plain": [
       "0.656"
      ]
     },
     "execution_count": 21,
     "metadata": {},
     "output_type": "execute_result"
    }
   ],
   "source": [
    "accuracy_score(starget_test,spredicted)"
   ]
  },
  {
   "cell_type": "code",
   "execution_count": 22,
   "id": "bd311a9a",
   "metadata": {},
   "outputs": [
    {
     "data": {
      "text/plain": [
       "0.7263427109974424"
      ]
     },
     "execution_count": 22,
     "metadata": {},
     "output_type": "execute_result"
    }
   ],
   "source": [
    "#Get recall_score\n",
    "scaled_recall =recall_score(starget_test,spredicted)\n",
    "scaled_recall"
   ]
  },
  {
   "cell_type": "code",
   "execution_count": 23,
   "id": "fd503423",
   "metadata": {},
   "outputs": [
    {
     "data": {
      "text/plain": [
       "0.3283236994219653"
      ]
     },
     "execution_count": 23,
     "metadata": {},
     "output_type": "execute_result"
    }
   ],
   "source": [
    "#Get precision_score\n",
    "scaled_precision = precision_score(starget_test,spredicted)\n",
    "scaled_precision"
   ]
  },
  {
   "cell_type": "code",
   "execution_count": 24,
   "id": "ce4b5722",
   "metadata": {},
   "outputs": [
    {
     "data": {
      "text/plain": [
       "0.45222929936305734"
      ]
     },
     "execution_count": 24,
     "metadata": {},
     "output_type": "execute_result"
    }
   ],
   "source": [
    "#Get f1_score\n",
    "scaled_f1 = f1_score(starget_test,spredicted)\n",
    "scaled_f1"
   ]
  },
  {
   "cell_type": "markdown",
   "id": "36c1935a",
   "metadata": {},
   "source": [
    "# RandomForestClassifier"
   ]
  },
  {
   "cell_type": "code",
   "execution_count": 25,
   "id": "5af05998",
   "metadata": {},
   "outputs": [],
   "source": [
    "#Comparing the performance of our model to another model. Random forest is also a classification model. We will see how our logistic model compares to random forest model.\n",
    "RandFor =  RandomForestClassifier(n_estimators=100)"
   ]
  },
  {
   "cell_type": "code",
   "execution_count": 26,
   "id": "d84780f1",
   "metadata": {},
   "outputs": [
    {
     "data": {
      "text/html": [
       "<style>#sk-container-id-2 {color: black;background-color: white;}#sk-container-id-2 pre{padding: 0;}#sk-container-id-2 div.sk-toggleable {background-color: white;}#sk-container-id-2 label.sk-toggleable__label {cursor: pointer;display: block;width: 100%;margin-bottom: 0;padding: 0.3em;box-sizing: border-box;text-align: center;}#sk-container-id-2 label.sk-toggleable__label-arrow:before {content: \"▸\";float: left;margin-right: 0.25em;color: #696969;}#sk-container-id-2 label.sk-toggleable__label-arrow:hover:before {color: black;}#sk-container-id-2 div.sk-estimator:hover label.sk-toggleable__label-arrow:before {color: black;}#sk-container-id-2 div.sk-toggleable__content {max-height: 0;max-width: 0;overflow: hidden;text-align: left;background-color: #f0f8ff;}#sk-container-id-2 div.sk-toggleable__content pre {margin: 0.2em;color: black;border-radius: 0.25em;background-color: #f0f8ff;}#sk-container-id-2 input.sk-toggleable__control:checked~div.sk-toggleable__content {max-height: 200px;max-width: 100%;overflow: auto;}#sk-container-id-2 input.sk-toggleable__control:checked~label.sk-toggleable__label-arrow:before {content: \"▾\";}#sk-container-id-2 div.sk-estimator input.sk-toggleable__control:checked~label.sk-toggleable__label {background-color: #d4ebff;}#sk-container-id-2 div.sk-label input.sk-toggleable__control:checked~label.sk-toggleable__label {background-color: #d4ebff;}#sk-container-id-2 input.sk-hidden--visually {border: 0;clip: rect(1px 1px 1px 1px);clip: rect(1px, 1px, 1px, 1px);height: 1px;margin: -1px;overflow: hidden;padding: 0;position: absolute;width: 1px;}#sk-container-id-2 div.sk-estimator {font-family: monospace;background-color: #f0f8ff;border: 1px dotted black;border-radius: 0.25em;box-sizing: border-box;margin-bottom: 0.5em;}#sk-container-id-2 div.sk-estimator:hover {background-color: #d4ebff;}#sk-container-id-2 div.sk-parallel-item::after {content: \"\";width: 100%;border-bottom: 1px solid gray;flex-grow: 1;}#sk-container-id-2 div.sk-label:hover label.sk-toggleable__label {background-color: #d4ebff;}#sk-container-id-2 div.sk-serial::before {content: \"\";position: absolute;border-left: 1px solid gray;box-sizing: border-box;top: 0;bottom: 0;left: 50%;z-index: 0;}#sk-container-id-2 div.sk-serial {display: flex;flex-direction: column;align-items: center;background-color: white;padding-right: 0.2em;padding-left: 0.2em;position: relative;}#sk-container-id-2 div.sk-item {position: relative;z-index: 1;}#sk-container-id-2 div.sk-parallel {display: flex;align-items: stretch;justify-content: center;background-color: white;position: relative;}#sk-container-id-2 div.sk-item::before, #sk-container-id-2 div.sk-parallel-item::before {content: \"\";position: absolute;border-left: 1px solid gray;box-sizing: border-box;top: 0;bottom: 0;left: 50%;z-index: -1;}#sk-container-id-2 div.sk-parallel-item {display: flex;flex-direction: column;z-index: 1;position: relative;background-color: white;}#sk-container-id-2 div.sk-parallel-item:first-child::after {align-self: flex-end;width: 50%;}#sk-container-id-2 div.sk-parallel-item:last-child::after {align-self: flex-start;width: 50%;}#sk-container-id-2 div.sk-parallel-item:only-child::after {width: 0;}#sk-container-id-2 div.sk-dashed-wrapped {border: 1px dashed gray;margin: 0 0.4em 0.5em 0.4em;box-sizing: border-box;padding-bottom: 0.4em;background-color: white;}#sk-container-id-2 div.sk-label label {font-family: monospace;font-weight: bold;display: inline-block;line-height: 1.2em;}#sk-container-id-2 div.sk-label-container {text-align: center;}#sk-container-id-2 div.sk-container {/* jupyter's `normalize.less` sets `[hidden] { display: none; }` but bootstrap.min.css set `[hidden] { display: none !important; }` so we also need the `!important` here to be able to override the default hidden behavior on the sphinx rendered scikit-learn.org. See: https://github.com/scikit-learn/scikit-learn/issues/21755 */display: inline-block !important;position: relative;}#sk-container-id-2 div.sk-text-repr-fallback {display: none;}</style><div id=\"sk-container-id-2\" class=\"sk-top-container\"><div class=\"sk-text-repr-fallback\"><pre>RandomForestClassifier()</pre><b>In a Jupyter environment, please rerun this cell to show the HTML representation or trust the notebook. <br />On GitHub, the HTML representation is unable to render, please try loading this page with nbviewer.org.</b></div><div class=\"sk-container\" hidden><div class=\"sk-item\"><div class=\"sk-estimator sk-toggleable\"><input class=\"sk-toggleable__control sk-hidden--visually\" id=\"sk-estimator-id-2\" type=\"checkbox\" checked><label for=\"sk-estimator-id-2\" class=\"sk-toggleable__label sk-toggleable__label-arrow\">RandomForestClassifier</label><div class=\"sk-toggleable__content\"><pre>RandomForestClassifier()</pre></div></div></div></div></div>"
      ],
      "text/plain": [
       "RandomForestClassifier()"
      ]
     },
     "execution_count": 26,
     "metadata": {},
     "output_type": "execute_result"
    }
   ],
   "source": [
    "#-----Takes around 10 mintues to run without pca \n",
    "RandFor.fit(sfeatures_train, np.ravel(starget_train))"
   ]
  },
  {
   "cell_type": "code",
   "execution_count": 29,
   "id": "0f2ff743",
   "metadata": {},
   "outputs": [],
   "source": [
    "#Running PCA for this model helped reduce our process time by 9 minutes. So far the model still yeilds a good accuaracy score."
   ]
  },
  {
   "cell_type": "code",
   "execution_count": 27,
   "id": "48d63beb",
   "metadata": {},
   "outputs": [],
   "source": [
    "rpredicted = RandFor.predict(sfeatures_test)"
   ]
  },
  {
   "cell_type": "code",
   "execution_count": 28,
   "id": "bd6dfb16",
   "metadata": {},
   "outputs": [
    {
     "data": {
      "text/plain": [
       "0.855"
      ]
     },
     "execution_count": 28,
     "metadata": {},
     "output_type": "execute_result"
    }
   ],
   "source": [
    "accuracy_score(starget_test,rpredicted)"
   ]
  },
  {
   "cell_type": "code",
   "execution_count": 29,
   "id": "6933a25d",
   "metadata": {},
   "outputs": [
    {
     "data": {
      "text/plain": [
       "0.38107416879795397"
      ]
     },
     "execution_count": 29,
     "metadata": {},
     "output_type": "execute_result"
    }
   ],
   "source": [
    "r_recall =recall_score(starget_test,rpredicted)\n",
    "r_recall"
   ]
  },
  {
   "cell_type": "code",
   "execution_count": 38,
   "id": "078fed45",
   "metadata": {},
   "outputs": [
    {
     "data": {
      "text/plain": [
       "0.3283236994219653"
      ]
     },
     "execution_count": 38,
     "metadata": {},
     "output_type": "execute_result"
    }
   ],
   "source": [
    "#Get precision_score\n",
    "r_precision = precision_score(starget_test,spredicted)\n",
    "r_precision"
   ]
  },
  {
   "cell_type": "code",
   "execution_count": 31,
   "id": "be57f8de",
   "metadata": {},
   "outputs": [
    {
     "data": {
      "text/plain": [
       "0.5068027210884354"
      ]
     },
     "execution_count": 31,
     "metadata": {},
     "output_type": "execute_result"
    }
   ],
   "source": [
    "#Get f1_score\n",
    "r_f1 = f1_score(starget_test,rpredicted)\n",
    "r_f1"
   ]
  },
  {
   "cell_type": "markdown",
   "id": "e54923e8",
   "metadata": {},
   "source": [
    "# Cross Validation"
   ]
  },
  {
   "cell_type": "code",
   "execution_count": 35,
   "id": "5acb7573",
   "metadata": {},
   "outputs": [],
   "source": [
    "#Comparing confusion matrix to compare the true values with the predicted values for each model.  "
   ]
  },
  {
   "cell_type": "code",
   "execution_count": 32,
   "id": "e3dfbaf9",
   "metadata": {},
   "outputs": [
    {
     "name": "stdout",
     "output_type": "stream",
     "text": [
      "[[1028  581]\n",
      " [ 107  284]]\n"
     ]
    }
   ],
   "source": [
    "#logestic Confusion Matrix\n",
    "results = confusion_matrix(starget_test,spredicted)\n",
    "print(results)"
   ]
  },
  {
   "cell_type": "code",
   "execution_count": 33,
   "id": "4a9b1b03",
   "metadata": {},
   "outputs": [
    {
     "name": "stdout",
     "output_type": "stream",
     "text": [
      "[[1561   48]\n",
      " [ 242  149]]\n"
     ]
    }
   ],
   "source": [
    "#Random Forest Confusion Matrix\n",
    "results = confusion_matrix(starget_test,rpredicted)\n",
    "print(results)"
   ]
  },
  {
   "cell_type": "markdown",
   "id": "4a092174",
   "metadata": {},
   "source": [
    "The confusion matrix shows that most values are close. "
   ]
  },
  {
   "cell_type": "markdown",
   "id": "4107a467",
   "metadata": {},
   "source": [
    "# ROC Curve"
   ]
  },
  {
   "cell_type": "code",
   "execution_count": 34,
   "id": "9a05bc7d",
   "metadata": {},
   "outputs": [],
   "source": [
    "#Setting a random line for our graph prediction\n",
    "#Setting as a base line to for other model comparison \n",
    "r_probs = [0 for i in range(len(starget_test))]\n",
    "\n",
    "#Setting logestic regression by predicting probabilty that the target will be 0 or 1\n",
    "rl_probs_scaled = logReg_Scaled.predict_proba(sfeatures_test)\n",
    "\n",
    "##Setting random forest by predicting probabilty that the target will be 0 or 1\n",
    "rf_probs = RandFor.predict_proba(sfeatures_test)"
   ]
  },
  {
   "cell_type": "code",
   "execution_count": 35,
   "id": "dc7ed486",
   "metadata": {},
   "outputs": [],
   "source": [
    "# Getting Postive\n",
    "rf_probs = rf_probs[:,1]\n",
    "\n",
    "#Getting Postive\n",
    "rl_probs_scaled = rl_probs_scaled[:,1]"
   ]
  },
  {
   "cell_type": "code",
   "execution_count": 36,
   "id": "d3ad607d",
   "metadata": {},
   "outputs": [],
   "source": [
    "#Getting the FPR,TPR and threshold values for each model\n",
    "\n",
    "#Random prediction line will yeild a straight line.\n",
    "r_fpr , r_tpr , _ = roc_curve(starget_test,r_probs)\n",
    "\n",
    "#Random forest FRP , TRP\n",
    "rf_fpr , rf_tpr , _ = roc_curve(starget_test,rf_probs)\n",
    "\n",
    "#Logestic Regression FRP , TRP\n",
    "srl_fpr , srl_tpr , _ = roc_curve(starget_test,rl_probs_scaled)\n"
   ]
  },
  {
   "cell_type": "code",
   "execution_count": 37,
   "id": "a607ea31",
   "metadata": {},
   "outputs": [
    {
     "data": {
      "text/plain": [
       "<matplotlib.legend.Legend at 0x1edfaa1afd0>"
      ]
     },
     "execution_count": 37,
     "metadata": {},
     "output_type": "execute_result"
    },
    {
     "data": {
      "image/png": "[encoded data removed]",
      "text/plain": [
       "<Figure size 432x288 with 1 Axes>"
      ]
     },
     "metadata": {
      "needs_background": "light"
     },
     "output_type": "display_data"
    }
   ],
   "source": [
    "#plotting roc curve\n",
    "plt.plot(r_fpr,r_tpr, label= \"Random Predictioin\")\n",
    "plt.plot(rf_fpr , rf_tpr, label=\"Random Forrest\")\n",
    "plt.plot(srl_fpr , srl_tpr, label=\"Logistic Regression\")\n",
    "\n",
    "\n",
    "plt.title(\"Roc Plot\")\n",
    "plt.xlabel(\"False Positive Rate\")\n",
    "plt.ylabel(\"True Positive Rate\")\n",
    "plt.legend()"
   ]
  },
  {
   "cell_type": "markdown",
   "id": "c0686a94",
   "metadata": {},
   "source": [
    "# Conclusion"
   ]
  },
  {
   "cell_type": "markdown",
   "id": "6f5357ea",
   "metadata": {},
   "source": [
    "The  logistic regression model accuracy were 77% with a recall score of .085, a precision score of .40, and a f1 score of .14. The random forest classifier had an accuracy score of 85%. It has a recall score of .37, a precision score .40, and a f1 score of .51. On average the random forest had a higher accuracy score than the logistic regression. What’s interesting is the recall, precision, and f1 score. Recall, F1, and precision measures a model’s accuracy when making predictions. Precision measures how precise and accurate we predicted positive and how many of them are actually positive. While recall calculates how man actual positive our model captures as True positive. F1 takes both precision and recall and a balance of both. Random forest has better f1 then logistic regression. The logistic regression has a low score and brings suspect to the model accuracy.  The Roc plot shows that the random forest classifier is the better model. The way it works is it takes the true positive compared to the false positive. If you follow the line, where it intersects it should give you an idea of true positive to false positive rate. An example is if you follow the 60 percent line, this means that it predicted correct 60 percent of the time, and 20 percent of the time it will get it incorrect. The curve is closer to one for random forest classifier. \n",
    "\n",
    "After re-running the code a few times. I was looking for consistency in the performance. However logistic regression was not consistent and would be all over the place in accuracy. Random Forrest was consistent holding around 80% accuracy.\n",
    "\n",
    "\n",
    "\n",
    "\n",
    "Overall, random forest is the better model."
   ]
  }
 ],
 "metadata": {
  "kernelspec": {
   "display_name": "Python 3",
   "language": "python",
   "name": "python3"
  },
  "language_info": {
   "codemirror_mode": {
    "name": "ipython",
    "version": 3
   },
   "file_extension": ".py",
   "mimetype": "text/x-python",
   "name": "python",
   "nbconvert_exporter": "python",
   "pygments_lexer": "ipython3",
   "version": "3.8.8"
  }
 },
 "nbformat": 4,
 "nbformat_minor": 5
}
