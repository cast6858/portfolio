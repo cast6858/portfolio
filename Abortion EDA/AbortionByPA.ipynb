{
 "cells": [
  {
   "cell_type": "markdown",
   "id": "be3a3320",
   "metadata": {},
   "source": [
    "# Abortion \n",
    "# Felipe Castillo \n",
    "# 10/03/2021\n",
    "# EDA"
   ]
  },
  {
   "cell_type": "code",
   "execution_count": 162,
   "id": "b1a3c9d8",
   "metadata": {},
   "outputs": [],
   "source": [
    "import os\n",
    "os.chdir(r'C:\\Users\\cast6\\OneDrive\\Desktop\\Abortion')\n",
    "import pandas as pd\n",
    "import numpy as np\n",
    "import PoliticalAff\n",
    "\n",
    "import matplotlib.pyplot as plt\n",
    "\n",
    "from statistics import stdev"
   ]
  },
  {
   "cell_type": "markdown",
   "id": "47ed81f3",
   "metadata": {},
   "source": [
    "# Questions\n",
    "1.Are abortions divided by political afflicaiton? \n",
    "2.What age groups are more likley to get one?\n",
    "3.Does the availablity increase the chances?\n",
    "4.Are abortions on a rise?\n"
   ]
  },
  {
   "cell_type": "markdown",
   "id": "a119aa91",
   "metadata": {},
   "source": [
    "# Approach\n",
    "\n",
    "Political affliation will be based on electrol votes of a state. For example a state like California would be considered blue while a state like Oklahoma will be consider red.\n",
    "\n",
    "5 variables that will be looked at.\n",
    "1.Total Abortion\n",
    "2.Political Affliation\n",
    "3.Abortion Year\n",
    "4.Female Age\n",
    "5.Clinics Avaliable\n",
    "\n",
    "\n"
   ]
  },
  {
   "cell_type": "code",
   "execution_count": 7,
   "id": "eeba764f",
   "metadata": {},
   "outputs": [],
   "source": [
    "#First Getting the total abortions invoked with the most recent data\n",
    "\n",
    "\n",
    "abortion_state = pd.read_csv(\"NationalAndStatePregnancy_PublicUse.csv\")\n"
   ]
  },
  {
   "cell_type": "code",
   "execution_count": 8,
   "id": "7db4403c",
   "metadata": {},
   "outputs": [
    {
     "data": {
      "text/plain": [
       "Index(['state', 'year', 'pregnancyratelt15', 'pregnancyrate1517',\n",
       "       'pregnancyrate1819', 'pregnancyrate1519', 'pregnancyratelt20',\n",
       "       'pregnancyrate2024', 'pregnancyrate2529', 'pregnancyrate3034',\n",
       "       ...\n",
       "       'abortionstotal', 'birthstotal', 'pregnancyratetotal', 'birthratetotal',\n",
       "       'abortionratetotal', 'abortionratiototal', 'miscarriagestotal',\n",
       "       'pregnanciestotal', 'notes', 'versiondate'],\n",
       "      dtype='object', length=103)"
      ]
     },
     "execution_count": 8,
     "metadata": {},
     "output_type": "execute_result"
    }
   ],
   "source": [
    "abortion_state.columns"
   ]
  },
  {
   "cell_type": "code",
   "execution_count": 9,
   "id": "43dc5d9f",
   "metadata": {},
   "outputs": [],
   "source": [
    "#abortion_total.sort_index()"
   ]
  },
  {
   "cell_type": "code",
   "execution_count": 10,
   "id": "cd68d9f7",
   "metadata": {},
   "outputs": [],
   "source": [
    "#Getting the most recent year\n",
    "\n",
    "year07_abortionDf =  abortion_state[abortion_state.year == 2017]\n",
    "\n"
   ]
  },
  {
   "cell_type": "code",
   "execution_count": 11,
   "id": "02f9645f",
   "metadata": {},
   "outputs": [
    {
     "data": {
      "text/plain": [
       "52"
      ]
     },
     "execution_count": 11,
     "metadata": {},
     "output_type": "execute_result"
    }
   ],
   "source": [
    "year07_abortionDf.state.count()"
   ]
  },
  {
   "cell_type": "code",
   "execution_count": 12,
   "id": "dfdd4e82",
   "metadata": {},
   "outputs": [],
   "source": [
    "#Making a data frame with total abortion numbers\n",
    "\n",
    "state_total_df = pd.DataFrame({'state':year07_abortionDf.state,\n",
    "                              'TotalAbortions':year07_abortionDf.abortionstotal})\n",
    "\n",
    "\n",
    "\n"
   ]
  },
  {
   "cell_type": "code",
   "execution_count": 13,
   "id": "cf1b8359",
   "metadata": {},
   "outputs": [
    {
     "data": {
      "text/html": [
       "<div>\n",
       "<style scoped>\n",
       "    .dataframe tbody tr th:only-of-type {\n",
       "        vertical-align: middle;\n",
       "    }\n",
       "\n",
       "    .dataframe tbody tr th {\n",
       "        vertical-align: top;\n",
       "    }\n",
       "\n",
       "    .dataframe thead th {\n",
       "        text-align: right;\n",
       "    }\n",
       "</style>\n",
       "<table border=\"1\" class=\"dataframe\">\n",
       "  <thead>\n",
       "    <tr style=\"text-align: right;\">\n",
       "      <th></th>\n",
       "      <th>state</th>\n",
       "      <th>TotalAbortions</th>\n",
       "    </tr>\n",
       "  </thead>\n",
       "  <tbody>\n",
       "    <tr>\n",
       "      <th>16</th>\n",
       "      <td>AL</td>\n",
       "      <td>7660</td>\n",
       "    </tr>\n",
       "    <tr>\n",
       "      <th>33</th>\n",
       "      <td>AK</td>\n",
       "      <td>1420</td>\n",
       "    </tr>\n",
       "    <tr>\n",
       "      <th>50</th>\n",
       "      <td>AZ</td>\n",
       "      <td>13270</td>\n",
       "    </tr>\n",
       "    <tr>\n",
       "      <th>67</th>\n",
       "      <td>AR</td>\n",
       "      <td>3710</td>\n",
       "    </tr>\n",
       "    <tr>\n",
       "      <th>84</th>\n",
       "      <td>CA</td>\n",
       "      <td>131380</td>\n",
       "    </tr>\n",
       "  </tbody>\n",
       "</table>\n",
       "</div>"
      ],
      "text/plain": [
       "   state  TotalAbortions\n",
       "16    AL            7660\n",
       "33    AK            1420\n",
       "50    AZ           13270\n",
       "67    AR            3710\n",
       "84    CA          131380"
      ]
     },
     "execution_count": 13,
     "metadata": {},
     "output_type": "execute_result"
    }
   ],
   "source": [
    "state_total_df.head()"
   ]
  },
  {
   "cell_type": "code",
   "execution_count": 14,
   "id": "b404bb10",
   "metadata": {},
   "outputs": [],
   "source": [
    "#removing united states skew data an irrelivant to state mean\n",
    "state_total_df.drop(state_total_df.index[state_total_df['state'] == 'US'], inplace = True)"
   ]
  },
  {
   "cell_type": "code",
   "execution_count": 15,
   "id": "58888633",
   "metadata": {},
   "outputs": [
    {
     "name": "stdout",
     "output_type": "stream",
     "text": [
      "    state  TotalAbortions\n",
      "16     AL            7660\n",
      "33     AK            1420\n",
      "50     AZ           13270\n",
      "67     AR            3710\n",
      "84     CA          131380\n",
      "101    CO           11100\n",
      "118    CT           11950\n",
      "135    DE            2770\n",
      "152    DC            3930\n",
      "169    FL           68640\n",
      "186    GA           32520\n",
      "203    HI            3220\n",
      "220    ID            1790\n",
      "237    IL           37770\n",
      "254    IN           10270\n",
      "271    IA            3650\n",
      "288    KS            3520\n",
      "305    KY            4780\n",
      "322    LA            9280\n",
      "339    ME            2050\n",
      "356    MD           26940\n",
      "373    MA           18880\n",
      "390    MI           26130\n",
      "407    MN           10100\n",
      "424    MS            4930\n",
      "441    MO            9690\n",
      "458    MT            1510\n",
      "475    NE            2250\n",
      "492    NV            9620\n",
      "509    NH            2330\n",
      "526    NJ           47010\n",
      "543    NM            3830\n",
      "560    NY          103060\n",
      "577    NC           25060\n",
      "594    ND             970\n",
      "611    OH           20560\n",
      "628    OK            4780\n",
      "645    OR            8950\n",
      "662    PA           33910\n",
      "679    RI            3280\n",
      "696    SC           11380\n",
      "713    SD             750\n",
      "730    TN           11060\n",
      "747    TX           56340\n",
      "809    UT            3020\n",
      "826    VT            1140\n",
      "843    VA           20290\n",
      "860    WA           17760\n",
      "877    WV            2380\n",
      "894    WI            7540\n",
      "911    WY             720\n"
     ]
    }
   ],
   "source": [
    "print(state_total_df)\n"
   ]
  },
  {
   "cell_type": "code",
   "execution_count": 16,
   "id": "cb6438b2",
   "metadata": {
    "scrolled": false
   },
   "outputs": [
    {
     "data": {
      "image/png": "[encoded data removed]",
      "text/plain": [
       "<Figure size 432x288 with 1 Axes>"
      ]
     },
     "metadata": {
      "needs_background": "light"
     },
     "output_type": "display_data"
    }
   ],
   "source": [
    "\n",
    "\n",
    "plt.hist(state_total_df.TotalAbortions,bins = 12  );\n"
   ]
  },
  {
   "cell_type": "code",
   "execution_count": 17,
   "id": "d3b91b78",
   "metadata": {},
   "outputs": [],
   "source": [
    "#tail leans to the right, showing that most abortions are between 0 - 20k."
   ]
  },
  {
   "cell_type": "code",
   "execution_count": 18,
   "id": "1484694d",
   "metadata": {},
   "outputs": [
    {
     "name": "stdout",
     "output_type": "stream",
     "text": [
      "Mean 16879.41176470588\n",
      "Median 8950.0\n",
      "Mode 0    4780\n",
      "dtype: int64\n",
      "SD 25377.996249646243\n"
     ]
    }
   ],
   "source": [
    "#Getting the most recent year\n",
    "\n",
    "\n",
    "\n",
    "#Getting the mean of abboritions performed \n",
    "mean = state_total_df.TotalAbortions.mean()\n",
    "\n",
    "median = state_total_df.TotalAbortions.median()\n",
    "mode = state_total_df.TotalAbortions.mode()\n",
    "\n",
    "standardDev = stdev(state_total_df.TotalAbortions)\n",
    "\n",
    "\n",
    "print(\"Mean\" ,mean)\n",
    "print(\"Median\", median)\n",
    "print(\"Mode\" ,mode)\n",
    "print(\"SD\" ,standardDev)\n"
   ]
  },
  {
   "cell_type": "code",
   "execution_count": 19,
   "id": "4ffe293c",
   "metadata": {},
   "outputs": [],
   "source": [
    "#Getting Political Standing of every state.\n",
    "#Defining what political affliation is by state\n",
    "\n",
    "political_aff_state_df = pd.read_csv(\"Popular vote backend.csv\")"
   ]
  },
  {
   "cell_type": "code",
   "execution_count": 20,
   "id": "34135fbe",
   "metadata": {},
   "outputs": [],
   "source": [
    "#Theses values are not us states and need to be removed \n",
    "states_remove = ['Veterans Health','Republic of Palau','Puerto Rico','Northern Mariana Islands','Marshall Islands','Long Term Care','Indian Health Svc','Federated States of Micronesia','Bureau of Prisons','American Samoa','Dept of Defense','Guam','United States','Virgin Islands']"
   ]
  },
  {
   "cell_type": "code",
   "execution_count": 21,
   "id": "cb064028",
   "metadata": {},
   "outputs": [
    {
     "data": {
      "text/html": [
       "<div>\n",
       "<style scoped>\n",
       "    .dataframe tbody tr th:only-of-type {\n",
       "        vertical-align: middle;\n",
       "    }\n",
       "\n",
       "    .dataframe tbody tr th {\n",
       "        vertical-align: top;\n",
       "    }\n",
       "\n",
       "    .dataframe thead th {\n",
       "        text-align: right;\n",
       "    }\n",
       "</style>\n",
       "<table border=\"1\" class=\"dataframe\">\n",
       "  <thead>\n",
       "    <tr style=\"text-align: right;\">\n",
       "      <th></th>\n",
       "      <th>state</th>\n",
       "      <th>called</th>\n",
       "      <th>final</th>\n",
       "      <th>dem_votes</th>\n",
       "      <th>rep_votes</th>\n",
       "      <th>other_votes</th>\n",
       "      <th>dem_percent</th>\n",
       "      <th>rep_percent</th>\n",
       "      <th>other_percent</th>\n",
       "      <th>dem_this_margin</th>\n",
       "      <th>...</th>\n",
       "      <th>stateid</th>\n",
       "      <th>EV</th>\n",
       "      <th>X</th>\n",
       "      <th>Y</th>\n",
       "      <th>State_num</th>\n",
       "      <th>Center_X</th>\n",
       "      <th>Center_Y</th>\n",
       "      <th>Unnamed: 19</th>\n",
       "      <th>2016 Margin</th>\n",
       "      <th>Total 2016 Votes</th>\n",
       "    </tr>\n",
       "  </thead>\n",
       "  <tbody>\n",
       "    <tr>\n",
       "      <th>0</th>\n",
       "      <td>U.S. Total</td>\n",
       "      <td>D</td>\n",
       "      <td>Yes</td>\n",
       "      <td>81,282,916</td>\n",
       "      <td>74,223,369</td>\n",
       "      <td>2,891,441</td>\n",
       "      <td>51.30%</td>\n",
       "      <td>46.90%</td>\n",
       "      <td>1.80%</td>\n",
       "      <td>4.50%</td>\n",
       "      <td>...</td>\n",
       "      <td>NaN</td>\n",
       "      <td>NaN</td>\n",
       "      <td>NaN</td>\n",
       "      <td>NaN</td>\n",
       "      <td>NaN</td>\n",
       "      <td>NaN</td>\n",
       "      <td>NaN</td>\n",
       "      <td>NaN</td>\n",
       "      <td>0.020995</td>\n",
       "      <td>136,639,848</td>\n",
       "    </tr>\n",
       "    <tr>\n",
       "      <th>1</th>\n",
       "      <td>15 Key Battlegrounds</td>\n",
       "      <td>NaN</td>\n",
       "      <td>NaN</td>\n",
       "      <td>31,908,248</td>\n",
       "      <td>33,002,287</td>\n",
       "      <td>950,354</td>\n",
       "      <td>48.40%</td>\n",
       "      <td>50.10%</td>\n",
       "      <td>1.40%</td>\n",
       "      <td>-1.70%</td>\n",
       "      <td>...</td>\n",
       "      <td>NaN</td>\n",
       "      <td>NaN</td>\n",
       "      <td>NaN</td>\n",
       "      <td>NaN</td>\n",
       "      <td>NaN</td>\n",
       "      <td>NaN</td>\n",
       "      <td>NaN</td>\n",
       "      <td>NaN</td>\n",
       "      <td>-0.036220</td>\n",
       "      <td>56,209,173</td>\n",
       "    </tr>\n",
       "    <tr>\n",
       "      <th>2</th>\n",
       "      <td>Non-Battlegrounds</td>\n",
       "      <td>NaN</td>\n",
       "      <td>NaN</td>\n",
       "      <td>49,374,668</td>\n",
       "      <td>41,221,082</td>\n",
       "      <td>1,941,087</td>\n",
       "      <td>53.40%</td>\n",
       "      <td>44.50%</td>\n",
       "      <td>2.10%</td>\n",
       "      <td>8.80%</td>\n",
       "      <td>...</td>\n",
       "      <td>NaN</td>\n",
       "      <td>NaN</td>\n",
       "      <td>NaN</td>\n",
       "      <td>NaN</td>\n",
       "      <td>NaN</td>\n",
       "      <td>NaN</td>\n",
       "      <td>NaN</td>\n",
       "      <td>NaN</td>\n",
       "      <td>0.060978</td>\n",
       "      <td>80,430,331</td>\n",
       "    </tr>\n",
       "    <tr>\n",
       "      <th>3</th>\n",
       "      <td>15 Key Battlegrounds</td>\n",
       "      <td>NaN</td>\n",
       "      <td>NaN</td>\n",
       "      <td>NaN</td>\n",
       "      <td>NaN</td>\n",
       "      <td>NaN</td>\n",
       "      <td>NaN</td>\n",
       "      <td>NaN</td>\n",
       "      <td>NaN</td>\n",
       "      <td>NaN</td>\n",
       "      <td>...</td>\n",
       "      <td>NaN</td>\n",
       "      <td>NaN</td>\n",
       "      <td>NaN</td>\n",
       "      <td>NaN</td>\n",
       "      <td>NaN</td>\n",
       "      <td>NaN</td>\n",
       "      <td>NaN</td>\n",
       "      <td>NaN</td>\n",
       "      <td>NaN</td>\n",
       "      <td>NaN</td>\n",
       "    </tr>\n",
       "    <tr>\n",
       "      <th>4</th>\n",
       "      <td>Arizona</td>\n",
       "      <td>D</td>\n",
       "      <td>Yes</td>\n",
       "      <td>1,672,143</td>\n",
       "      <td>1,661,686</td>\n",
       "      <td>53,497</td>\n",
       "      <td>49.40%</td>\n",
       "      <td>49.10%</td>\n",
       "      <td>1.60%</td>\n",
       "      <td>0.30%</td>\n",
       "      <td>...</td>\n",
       "      <td>AZ</td>\n",
       "      <td>11.0</td>\n",
       "      <td>2.0</td>\n",
       "      <td>2.0</td>\n",
       "      <td>4.0</td>\n",
       "      <td>205.0</td>\n",
       "      <td>374.0</td>\n",
       "      <td>NaN</td>\n",
       "      <td>-0.035456</td>\n",
       "      <td>2,573,165</td>\n",
       "    </tr>\n",
       "  </tbody>\n",
       "</table>\n",
       "<p>5 rows × 22 columns</p>\n",
       "</div>"
      ],
      "text/plain": [
       "                  state called final   dem_votes   rep_votes other_votes  \\\n",
       "0            U.S. Total      D   Yes  81,282,916  74,223,369   2,891,441   \n",
       "1  15 Key Battlegrounds    NaN   NaN  31,908,248  33,002,287     950,354   \n",
       "2     Non-Battlegrounds    NaN   NaN  49,374,668  41,221,082   1,941,087   \n",
       "3  15 Key Battlegrounds    NaN   NaN         NaN         NaN         NaN   \n",
       "4               Arizona      D   Yes   1,672,143   1,661,686      53,497   \n",
       "\n",
       "  dem_percent rep_percent other_percent dem_this_margin  ... stateid    EV  \\\n",
       "0      51.30%      46.90%         1.80%           4.50%  ...     NaN   NaN   \n",
       "1      48.40%      50.10%         1.40%          -1.70%  ...     NaN   NaN   \n",
       "2      53.40%      44.50%         2.10%           8.80%  ...     NaN   NaN   \n",
       "3         NaN         NaN           NaN             NaN  ...     NaN   NaN   \n",
       "4      49.40%      49.10%         1.60%           0.30%  ...      AZ  11.0   \n",
       "\n",
       "     X    Y  State_num  Center_X  Center_Y  Unnamed: 19  2016 Margin  \\\n",
       "0  NaN  NaN        NaN       NaN       NaN          NaN     0.020995   \n",
       "1  NaN  NaN        NaN       NaN       NaN          NaN    -0.036220   \n",
       "2  NaN  NaN        NaN       NaN       NaN          NaN     0.060978   \n",
       "3  NaN  NaN        NaN       NaN       NaN          NaN          NaN   \n",
       "4  2.0  2.0        4.0     205.0     374.0          NaN    -0.035456   \n",
       "\n",
       "   Total 2016 Votes  \n",
       "0       136,639,848  \n",
       "1        56,209,173  \n",
       "2        80,430,331  \n",
       "3               NaN  \n",
       "4         2,573,165  \n",
       "\n",
       "[5 rows x 22 columns]"
      ]
     },
     "execution_count": 21,
     "metadata": {},
     "output_type": "execute_result"
    }
   ],
   "source": [
    "political_aff_state_df.head()"
   ]
  },
  {
   "cell_type": "code",
   "execution_count": 22,
   "id": "cfc4e7e7",
   "metadata": {},
   "outputs": [
    {
     "data": {
      "text/plain": [
       "0               U.S. Total\n",
       "1     15 Key Battlegrounds\n",
       "2        Non-Battlegrounds\n",
       "3     15 Key Battlegrounds\n",
       "4                  Arizona\n",
       "              ...         \n",
       "56                 Vermont\n",
       "57                Virginia\n",
       "58              Washington\n",
       "59           West Virginia\n",
       "60                 Wyoming\n",
       "Name: state, Length: 61, dtype: object"
      ]
     },
     "execution_count": 22,
     "metadata": {},
     "output_type": "execute_result"
    }
   ],
   "source": [
    "\n",
    "political_aff_state_df.state"
   ]
  },
  {
   "cell_type": "code",
   "execution_count": 23,
   "id": "adf35fba",
   "metadata": {
    "scrolled": true
   },
   "outputs": [
    {
     "data": {
      "text/html": [
       "<div>\n",
       "<style scoped>\n",
       "    .dataframe tbody tr th:only-of-type {\n",
       "        vertical-align: middle;\n",
       "    }\n",
       "\n",
       "    .dataframe tbody tr th {\n",
       "        vertical-align: top;\n",
       "    }\n",
       "\n",
       "    .dataframe thead th {\n",
       "        text-align: right;\n",
       "    }\n",
       "</style>\n",
       "<table border=\"1\" class=\"dataframe\">\n",
       "  <thead>\n",
       "    <tr style=\"text-align: right;\">\n",
       "      <th></th>\n",
       "      <th>state</th>\n",
       "      <th>called</th>\n",
       "      <th>final</th>\n",
       "      <th>dem_votes</th>\n",
       "      <th>rep_votes</th>\n",
       "      <th>other_votes</th>\n",
       "      <th>dem_percent</th>\n",
       "      <th>rep_percent</th>\n",
       "      <th>other_percent</th>\n",
       "      <th>dem_this_margin</th>\n",
       "      <th>...</th>\n",
       "      <th>stateid</th>\n",
       "      <th>EV</th>\n",
       "      <th>X</th>\n",
       "      <th>Y</th>\n",
       "      <th>State_num</th>\n",
       "      <th>Center_X</th>\n",
       "      <th>Center_Y</th>\n",
       "      <th>Unnamed: 19</th>\n",
       "      <th>2016 Margin</th>\n",
       "      <th>Total 2016 Votes</th>\n",
       "    </tr>\n",
       "  </thead>\n",
       "  <tbody>\n",
       "    <tr>\n",
       "      <th>4</th>\n",
       "      <td>Arizona</td>\n",
       "      <td>D</td>\n",
       "      <td>Yes</td>\n",
       "      <td>1,672,143</td>\n",
       "      <td>1,661,686</td>\n",
       "      <td>53,497</td>\n",
       "      <td>49.40%</td>\n",
       "      <td>49.10%</td>\n",
       "      <td>1.60%</td>\n",
       "      <td>0.30%</td>\n",
       "      <td>...</td>\n",
       "      <td>AZ</td>\n",
       "      <td>11.0</td>\n",
       "      <td>2.0</td>\n",
       "      <td>2.0</td>\n",
       "      <td>4.0</td>\n",
       "      <td>205.0</td>\n",
       "      <td>374.0</td>\n",
       "      <td>NaN</td>\n",
       "      <td>-0.035456</td>\n",
       "      <td>2,573,165</td>\n",
       "    </tr>\n",
       "    <tr>\n",
       "      <th>5</th>\n",
       "      <td>Florida</td>\n",
       "      <td>R</td>\n",
       "      <td>Yes</td>\n",
       "      <td>5,297,045</td>\n",
       "      <td>5,668,731</td>\n",
       "      <td>101,680</td>\n",
       "      <td>47.90%</td>\n",
       "      <td>51.20%</td>\n",
       "      <td>0.90%</td>\n",
       "      <td>-3.40%</td>\n",
       "      <td>...</td>\n",
       "      <td>FL</td>\n",
       "      <td>29.0</td>\n",
       "      <td>8.0</td>\n",
       "      <td>0.0</td>\n",
       "      <td>12.0</td>\n",
       "      <td>787.0</td>\n",
       "      <td>520.0</td>\n",
       "      <td>NaN</td>\n",
       "      <td>-0.011986</td>\n",
       "      <td>9,420,039</td>\n",
       "    </tr>\n",
       "    <tr>\n",
       "      <th>6</th>\n",
       "      <td>Georgia</td>\n",
       "      <td>D</td>\n",
       "      <td>Yes</td>\n",
       "      <td>2,473,633</td>\n",
       "      <td>2,461,854</td>\n",
       "      <td>62,229</td>\n",
       "      <td>49.50%</td>\n",
       "      <td>49.30%</td>\n",
       "      <td>1.20%</td>\n",
       "      <td>0.20%</td>\n",
       "      <td>...</td>\n",
       "      <td>GA</td>\n",
       "      <td>16.0</td>\n",
       "      <td>7.0</td>\n",
       "      <td>1.0</td>\n",
       "      <td>13.0</td>\n",
       "      <td>734.0</td>\n",
       "      <td>419.0</td>\n",
       "      <td>NaN</td>\n",
       "      <td>-0.051313</td>\n",
       "      <td>4,092,373</td>\n",
       "    </tr>\n",
       "    <tr>\n",
       "      <th>7</th>\n",
       "      <td>Iowa</td>\n",
       "      <td>R</td>\n",
       "      <td>Yes</td>\n",
       "      <td>759,061</td>\n",
       "      <td>897,672</td>\n",
       "      <td>34,138</td>\n",
       "      <td>44.90%</td>\n",
       "      <td>53.10%</td>\n",
       "      <td>2.00%</td>\n",
       "      <td>-8.20%</td>\n",
       "      <td>...</td>\n",
       "      <td>IA</td>\n",
       "      <td>6.0</td>\n",
       "      <td>5.0</td>\n",
       "      <td>4.0</td>\n",
       "      <td>19.0</td>\n",
       "      <td>536.0</td>\n",
       "      <td>223.0</td>\n",
       "      <td>NaN</td>\n",
       "      <td>-0.094068</td>\n",
       "      <td>1,566,031</td>\n",
       "    </tr>\n",
       "    <tr>\n",
       "      <th>9</th>\n",
       "      <td>Michigan</td>\n",
       "      <td>D</td>\n",
       "      <td>Yes</td>\n",
       "      <td>2,804,040</td>\n",
       "      <td>2,649,852</td>\n",
       "      <td>85,410</td>\n",
       "      <td>50.60%</td>\n",
       "      <td>47.80%</td>\n",
       "      <td>1.50%</td>\n",
       "      <td>2.80%</td>\n",
       "      <td>...</td>\n",
       "      <td>MI</td>\n",
       "      <td>16.0</td>\n",
       "      <td>7.0</td>\n",
       "      <td>5.0</td>\n",
       "      <td>26.0</td>\n",
       "      <td>681.0</td>\n",
       "      <td>190.0</td>\n",
       "      <td>NaN</td>\n",
       "      <td>-0.002230</td>\n",
       "      <td>4,799,284</td>\n",
       "    </tr>\n",
       "  </tbody>\n",
       "</table>\n",
       "<p>5 rows × 22 columns</p>\n",
       "</div>"
      ],
      "text/plain": [
       "      state called final  dem_votes  rep_votes other_votes dem_percent  \\\n",
       "4   Arizona      D   Yes  1,672,143  1,661,686      53,497      49.40%   \n",
       "5   Florida      R   Yes  5,297,045  5,668,731     101,680      47.90%   \n",
       "6   Georgia      D   Yes  2,473,633  2,461,854      62,229      49.50%   \n",
       "7      Iowa      R   Yes    759,061    897,672      34,138      44.90%   \n",
       "9  Michigan      D   Yes  2,804,040  2,649,852      85,410      50.60%   \n",
       "\n",
       "  rep_percent other_percent dem_this_margin  ... stateid    EV    X    Y  \\\n",
       "4      49.10%         1.60%           0.30%  ...      AZ  11.0  2.0  2.0   \n",
       "5      51.20%         0.90%          -3.40%  ...      FL  29.0  8.0  0.0   \n",
       "6      49.30%         1.20%           0.20%  ...      GA  16.0  7.0  1.0   \n",
       "7      53.10%         2.00%          -8.20%  ...      IA   6.0  5.0  4.0   \n",
       "9      47.80%         1.50%           2.80%  ...      MI  16.0  7.0  5.0   \n",
       "\n",
       "   State_num  Center_X  Center_Y  Unnamed: 19  2016 Margin  Total 2016 Votes  \n",
       "4        4.0     205.0     374.0          NaN    -0.035456         2,573,165  \n",
       "5       12.0     787.0     520.0          NaN    -0.011986         9,420,039  \n",
       "6       13.0     734.0     419.0          NaN    -0.051313         4,092,373  \n",
       "7       19.0     536.0     223.0          NaN    -0.094068         1,566,031  \n",
       "9       26.0     681.0     190.0          NaN    -0.002230         4,799,284  \n",
       "\n",
       "[5 rows x 22 columns]"
      ]
     },
     "execution_count": 23,
     "metadata": {},
     "output_type": "execute_result"
    }
   ],
   "source": [
    "myList = [\"U.S. Total\",\"15 Key Battlegrounds\",\"Non-Battlegrounds\",\"Non-Battlegrounds\",\"15 Key Battlegrounds\",\"Maine 1st District\" ,\"Maine 2nd District\",\"Nebraska 1st District\",\"Nebraska 2nd District\",\"Nebraska 3rd District\"]\n",
    "polticalResultsElection_df = political_aff_state_df.loc[~political_aff_state_df.state.isin(myList)]\n",
    "\n",
    "polticalResultsElection_df.head()"
   ]
  },
  {
   "cell_type": "code",
   "execution_count": 24,
   "id": "2abc956e",
   "metadata": {},
   "outputs": [
    {
     "data": {
      "text/html": [
       "<div>\n",
       "<style scoped>\n",
       "    .dataframe tbody tr th:only-of-type {\n",
       "        vertical-align: middle;\n",
       "    }\n",
       "\n",
       "    .dataframe tbody tr th {\n",
       "        vertical-align: top;\n",
       "    }\n",
       "\n",
       "    .dataframe thead th {\n",
       "        text-align: right;\n",
       "    }\n",
       "</style>\n",
       "<table border=\"1\" class=\"dataframe\">\n",
       "  <thead>\n",
       "    <tr style=\"text-align: right;\">\n",
       "      <th></th>\n",
       "      <th>TotalAbortions</th>\n",
       "      <th>state</th>\n",
       "      <th>called</th>\n",
       "      <th>final</th>\n",
       "      <th>dem_votes</th>\n",
       "      <th>rep_votes</th>\n",
       "      <th>other_votes</th>\n",
       "      <th>dem_percent</th>\n",
       "      <th>rep_percent</th>\n",
       "      <th>other_percent</th>\n",
       "      <th>...</th>\n",
       "      <th>vote_change</th>\n",
       "      <th>EV</th>\n",
       "      <th>X</th>\n",
       "      <th>Y</th>\n",
       "      <th>State_num</th>\n",
       "      <th>Center_X</th>\n",
       "      <th>Center_Y</th>\n",
       "      <th>Unnamed: 19</th>\n",
       "      <th>2016 Margin</th>\n",
       "      <th>Total 2016 Votes</th>\n",
       "    </tr>\n",
       "  </thead>\n",
       "  <tbody>\n",
       "    <tr>\n",
       "      <th>VA</th>\n",
       "      <td>20290</td>\n",
       "      <td>Virginia</td>\n",
       "      <td>D</td>\n",
       "      <td>Yes</td>\n",
       "      <td>2,413,568</td>\n",
       "      <td>1,962,430</td>\n",
       "      <td>84,526</td>\n",
       "      <td>54.10%</td>\n",
       "      <td>44.00%</td>\n",
       "      <td>1.90%</td>\n",
       "      <td>...</td>\n",
       "      <td>12.00%</td>\n",
       "      <td>13.0</td>\n",
       "      <td>8.0</td>\n",
       "      <td>3.0</td>\n",
       "      <td>51.0</td>\n",
       "      <td>809.0</td>\n",
       "      <td>299.0</td>\n",
       "      <td>NaN</td>\n",
       "      <td>0.053212</td>\n",
       "      <td>3,982,752</td>\n",
       "    </tr>\n",
       "    <tr>\n",
       "      <th>WA</th>\n",
       "      <td>17760</td>\n",
       "      <td>Washington</td>\n",
       "      <td>D</td>\n",
       "      <td>Yes</td>\n",
       "      <td>2,369,612</td>\n",
       "      <td>1,584,651</td>\n",
       "      <td>133,368</td>\n",
       "      <td>58.00%</td>\n",
       "      <td>38.80%</td>\n",
       "      <td>3.30%</td>\n",
       "      <td>...</td>\n",
       "      <td>21.50%</td>\n",
       "      <td>12.0</td>\n",
       "      <td>1.0</td>\n",
       "      <td>5.0</td>\n",
       "      <td>53.0</td>\n",
       "      <td>128.0</td>\n",
       "      <td>58.0</td>\n",
       "      <td>NaN</td>\n",
       "      <td>0.157060</td>\n",
       "      <td>3,365,644</td>\n",
       "    </tr>\n",
       "    <tr>\n",
       "      <th>WV</th>\n",
       "      <td>2380</td>\n",
       "      <td>West Virginia</td>\n",
       "      <td>R</td>\n",
       "      <td>Yes</td>\n",
       "      <td>235,984</td>\n",
       "      <td>545,382</td>\n",
       "      <td>13,286</td>\n",
       "      <td>29.70%</td>\n",
       "      <td>68.60%</td>\n",
       "      <td>1.70%</td>\n",
       "      <td>...</td>\n",
       "      <td>11.40%</td>\n",
       "      <td>5.0</td>\n",
       "      <td>7.0</td>\n",
       "      <td>3.0</td>\n",
       "      <td>54.0</td>\n",
       "      <td>765.0</td>\n",
       "      <td>284.0</td>\n",
       "      <td>NaN</td>\n",
       "      <td>-0.420727</td>\n",
       "      <td>713,051</td>\n",
       "    </tr>\n",
       "    <tr>\n",
       "      <th>WI</th>\n",
       "      <td>7540</td>\n",
       "      <td>Wisconsin</td>\n",
       "      <td>D</td>\n",
       "      <td>Yes</td>\n",
       "      <td>1,630,866</td>\n",
       "      <td>1,610,184</td>\n",
       "      <td>56,991</td>\n",
       "      <td>49.40%</td>\n",
       "      <td>48.80%</td>\n",
       "      <td>1.70%</td>\n",
       "      <td>...</td>\n",
       "      <td>10.80%</td>\n",
       "      <td>10.0</td>\n",
       "      <td>6.0</td>\n",
       "      <td>6.0</td>\n",
       "      <td>55.0</td>\n",
       "      <td>601.0</td>\n",
       "      <td>169.0</td>\n",
       "      <td>NaN</td>\n",
       "      <td>-0.007643</td>\n",
       "      <td>2,976,150</td>\n",
       "    </tr>\n",
       "    <tr>\n",
       "      <th>WY</th>\n",
       "      <td>720</td>\n",
       "      <td>Wyoming</td>\n",
       "      <td>R</td>\n",
       "      <td>Yes</td>\n",
       "      <td>73,491</td>\n",
       "      <td>193,559</td>\n",
       "      <td>9,715</td>\n",
       "      <td>26.60%</td>\n",
       "      <td>69.90%</td>\n",
       "      <td>3.50%</td>\n",
       "      <td>...</td>\n",
       "      <td>8.20%</td>\n",
       "      <td>3.0</td>\n",
       "      <td>3.0</td>\n",
       "      <td>4.0</td>\n",
       "      <td>56.0</td>\n",
       "      <td>306.0</td>\n",
       "      <td>187.0</td>\n",
       "      <td>NaN</td>\n",
       "      <td>-0.462953</td>\n",
       "      <td>255,849</td>\n",
       "    </tr>\n",
       "  </tbody>\n",
       "</table>\n",
       "<p>5 rows × 22 columns</p>\n",
       "</div>"
      ],
      "text/plain": [
       "    TotalAbortions          state called final  dem_votes  rep_votes  \\\n",
       "VA           20290       Virginia      D   Yes  2,413,568  1,962,430   \n",
       "WA           17760     Washington      D   Yes  2,369,612  1,584,651   \n",
       "WV            2380  West Virginia      R   Yes    235,984    545,382   \n",
       "WI            7540      Wisconsin      D   Yes  1,630,866  1,610,184   \n",
       "WY             720        Wyoming      R   Yes     73,491    193,559   \n",
       "\n",
       "   other_votes dem_percent rep_percent other_percent  ... vote_change    EV  \\\n",
       "VA      84,526      54.10%      44.00%         1.90%  ...      12.00%  13.0   \n",
       "WA     133,368      58.00%      38.80%         3.30%  ...      21.50%  12.0   \n",
       "WV      13,286      29.70%      68.60%         1.70%  ...      11.40%   5.0   \n",
       "WI      56,991      49.40%      48.80%         1.70%  ...      10.80%  10.0   \n",
       "WY       9,715      26.60%      69.90%         3.50%  ...       8.20%   3.0   \n",
       "\n",
       "      X    Y  State_num  Center_X  Center_Y  Unnamed: 19  2016 Margin  \\\n",
       "VA  8.0  3.0       51.0     809.0     299.0          NaN     0.053212   \n",
       "WA  1.0  5.0       53.0     128.0      58.0          NaN     0.157060   \n",
       "WV  7.0  3.0       54.0     765.0     284.0          NaN    -0.420727   \n",
       "WI  6.0  6.0       55.0     601.0     169.0          NaN    -0.007643   \n",
       "WY  3.0  4.0       56.0     306.0     187.0          NaN    -0.462953   \n",
       "\n",
       "    Total 2016 Votes  \n",
       "VA         3,982,752  \n",
       "WA         3,365,644  \n",
       "WV           713,051  \n",
       "WI         2,976,150  \n",
       "WY           255,849  \n",
       "\n",
       "[5 rows x 22 columns]"
      ]
     },
     "execution_count": 24,
     "metadata": {},
     "output_type": "execute_result"
    }
   ],
   "source": [
    "#state_total_df  ---- aboritions total\n",
    "#polticalResultsElection ------- state political stadning\n",
    "#Once removed we will be able to compare Rublican state verse democratic state with total abortion.\n",
    "\n",
    "poli_state_total_merged = pd.concat([state_total_df.set_index(\"state\") ,polticalResultsElection_df.set_index(\"stateid\")] , axis=1, join='inner')\n",
    "\n",
    "\n",
    "poli_state_total_merged.tail()"
   ]
  },
  {
   "cell_type": "code",
   "execution_count": 25,
   "id": "18057f79",
   "metadata": {},
   "outputs": [],
   "source": [
    "#Removing extra columns now needed \n",
    "\n",
    "poli_state_total_merged.drop(['final','dem_votes','rep_votes','other_votes','dem_percent','rep_percent','other_percent','vote_change','EV','X','Y','State_num','Center_X','Center_Y','Unnamed: 19','2016 Margin','Total 2016 Votes','dem_this_margin','margin_shift'] , axis=1, inplace = True)"
   ]
  },
  {
   "cell_type": "code",
   "execution_count": 26,
   "id": "579ba6e4",
   "metadata": {},
   "outputs": [
    {
     "data": {
      "text/html": [
       "<div>\n",
       "<style scoped>\n",
       "    .dataframe tbody tr th:only-of-type {\n",
       "        vertical-align: middle;\n",
       "    }\n",
       "\n",
       "    .dataframe tbody tr th {\n",
       "        vertical-align: top;\n",
       "    }\n",
       "\n",
       "    .dataframe thead th {\n",
       "        text-align: right;\n",
       "    }\n",
       "</style>\n",
       "<table border=\"1\" class=\"dataframe\">\n",
       "  <thead>\n",
       "    <tr style=\"text-align: right;\">\n",
       "      <th></th>\n",
       "      <th>TotalAbortions</th>\n",
       "      <th>state</th>\n",
       "      <th>called</th>\n",
       "    </tr>\n",
       "  </thead>\n",
       "  <tbody>\n",
       "    <tr>\n",
       "      <th>AL</th>\n",
       "      <td>7660</td>\n",
       "      <td>Alabama</td>\n",
       "      <td>R</td>\n",
       "    </tr>\n",
       "    <tr>\n",
       "      <th>AK</th>\n",
       "      <td>1420</td>\n",
       "      <td>Alaska</td>\n",
       "      <td>R</td>\n",
       "    </tr>\n",
       "    <tr>\n",
       "      <th>AZ</th>\n",
       "      <td>13270</td>\n",
       "      <td>Arizona</td>\n",
       "      <td>D</td>\n",
       "    </tr>\n",
       "    <tr>\n",
       "      <th>AR</th>\n",
       "      <td>3710</td>\n",
       "      <td>Arkansas</td>\n",
       "      <td>R</td>\n",
       "    </tr>\n",
       "    <tr>\n",
       "      <th>CA</th>\n",
       "      <td>131380</td>\n",
       "      <td>California</td>\n",
       "      <td>D</td>\n",
       "    </tr>\n",
       "  </tbody>\n",
       "</table>\n",
       "</div>"
      ],
      "text/plain": [
       "    TotalAbortions       state called\n",
       "AL            7660     Alabama      R\n",
       "AK            1420      Alaska      R\n",
       "AZ           13270     Arizona      D\n",
       "AR            3710    Arkansas      R\n",
       "CA          131380  California      D"
      ]
     },
     "execution_count": 26,
     "metadata": {},
     "output_type": "execute_result"
    }
   ],
   "source": [
    "#R is \"Rebublican\"\n",
    "#D is Democrate \n",
    "\n",
    "\n",
    "poli_state_total_merged.head()"
   ]
  },
  {
   "cell_type": "code",
   "execution_count": 27,
   "id": "3f9fb49d",
   "metadata": {},
   "outputs": [
    {
     "name": "stdout",
     "output_type": "stream",
     "text": [
      "    TotalAbortions                 state called\n",
      "AL            7660               Alabama      R\n",
      "AK            1420                Alaska      R\n",
      "AZ           13270               Arizona      D\n",
      "AR            3710              Arkansas      R\n",
      "CA          131380            California      D\n",
      "CO           11100              Colorado      D\n",
      "CT           11950           Connecticut      D\n",
      "DE            2770              Delaware      D\n",
      "DC            3930  District of Columbia      D\n",
      "FL           68640               Florida      R\n",
      "GA           32520               Georgia      D\n",
      "HI            3220                Hawaii      D\n",
      "ID            1790                 Idaho      R\n",
      "IL           37770              Illinois      D\n",
      "IN           10270               Indiana      R\n",
      "IA            3650                  Iowa      R\n",
      "KS            3520                Kansas      R\n",
      "KY            4780              Kentucky      R\n",
      "LA            9280             Louisiana      R\n",
      "ME            2050                 Maine      D\n",
      "MD           26940              Maryland      D\n",
      "MA           18880         Massachusetts      D\n",
      "MI           26130              Michigan      D\n",
      "MN           10100             Minnesota      D\n",
      "MS            4930           Mississippi      R\n",
      "MO            9690              Missouri      R\n",
      "MT            1510               Montana      R\n",
      "NE            2250              Nebraska      R\n",
      "NV            9620                Nevada      D\n",
      "NH            2330         New Hampshire      D\n",
      "NJ           47010            New Jersey      D\n",
      "NM            3830            New Mexico      D\n",
      "NY          103060              New York      D\n",
      "NC           25060        North Carolina      R\n",
      "ND             970          North Dakota      R\n",
      "OH           20560                  Ohio      R\n",
      "OK            4780              Oklahoma      R\n",
      "OR            8950                Oregon      D\n",
      "PA           33910          Pennsylvania      D\n",
      "RI            3280          Rhode Island      D\n",
      "SC           11380        South Carolina      R\n",
      "SD             750          South Dakota      R\n",
      "TN           11060             Tennessee      R\n",
      "TX           56340                 Texas      R\n",
      "UT            3020                  Utah      R\n",
      "VT            1140               Vermont      D\n",
      "VA           20290              Virginia      D\n",
      "WA           17760            Washington      D\n",
      "WV            2380         West Virginia      R\n",
      "WI            7540             Wisconsin      D\n",
      "WY             720               Wyoming      R\n"
     ]
    }
   ],
   "source": [
    "print(poli_state_total_merged)"
   ]
  },
  {
   "cell_type": "code",
   "execution_count": 28,
   "id": "ec31c828",
   "metadata": {},
   "outputs": [
    {
     "data": {
      "text/plain": [
       "Text(0.5, 0, 'Political Party')"
      ]
     },
     "execution_count": 28,
     "metadata": {},
     "output_type": "execute_result"
    },
    {
     "data": {
      "image/png": "[encoded data removed]",
      "text/plain": [
       "<Figure size 432x288 with 1 Axes>"
      ]
     },
     "metadata": {
      "needs_background": "light"
     },
     "output_type": "display_data"
    }
   ],
   "source": [
    "fig, ax = plt.subplots()\n",
    "\n",
    "\n",
    "\n",
    "plt.bar(poli_state_total_merged.called ,poli_state_total_merged.TotalAbortions)\n",
    "plt.title(\"Abortion By Party Standing\")\n",
    "plt.ylabel(\"Abortions Total\")\n",
    "plt.xlabel(\"Political Party\")\n"
   ]
  },
  {
   "cell_type": "code",
   "execution_count": 29,
   "id": "5b077098",
   "metadata": {},
   "outputs": [
    {
     "name": "stdout",
     "output_type": "stream",
     "text": [
      "    TotalAbortions                 state called\n",
      "AZ           13270               Arizona      D\n",
      "CA          131380            California      D\n",
      "CO           11100              Colorado      D\n",
      "CT           11950           Connecticut      D\n",
      "DE            2770              Delaware      D\n",
      "DC            3930  District of Columbia      D\n",
      "GA           32520               Georgia      D\n",
      "HI            3220                Hawaii      D\n",
      "IL           37770              Illinois      D\n",
      "ME            2050                 Maine      D\n",
      "MD           26940              Maryland      D\n",
      "MA           18880         Massachusetts      D\n",
      "MI           26130              Michigan      D\n",
      "MN           10100             Minnesota      D\n",
      "NV            9620                Nevada      D\n",
      "NH            2330         New Hampshire      D\n",
      "NJ           47010            New Jersey      D\n",
      "NM            3830            New Mexico      D\n",
      "NY          103060              New York      D\n",
      "OR            8950                Oregon      D\n",
      "PA           33910          Pennsylvania      D\n",
      "RI            3280          Rhode Island      D\n",
      "VT            1140               Vermont      D\n",
      "VA           20290              Virginia      D\n",
      "WA           17760            Washington      D\n",
      "WI            7540             Wisconsin      D\n"
     ]
    }
   ],
   "source": [
    "#There are alot more demoratic states that are getting abortions. The total number is almost twice as much as republican states.\n",
    "\n",
    "total_democrat_state = poli_state_total_merged[poli_state_total_merged.called == 'D']\n",
    "total_republican_state = poli_state_total_merged[poli_state_total_merged.called == 'R']\n",
    "\n",
    "print(total_democrat_state)\n"
   ]
  },
  {
   "cell_type": "code",
   "execution_count": 30,
   "id": "89116144",
   "metadata": {},
   "outputs": [
    {
     "name": "stdout",
     "output_type": "stream",
     "text": [
      "AL                 Alabama\n",
      "AK                  Alaska\n",
      "AZ                 Arizona\n",
      "AR                Arkansas\n",
      "CA              California\n",
      "CO                Colorado\n",
      "CT             Connecticut\n",
      "DE                Delaware\n",
      "DC    District of Columbia\n",
      "FL                 Florida\n",
      "GA                 Georgia\n",
      "HI                  Hawaii\n",
      "ID                   Idaho\n",
      "IL                Illinois\n",
      "IN                 Indiana\n",
      "IA                    Iowa\n",
      "KS                  Kansas\n",
      "KY                Kentucky\n",
      "LA               Louisiana\n",
      "ME                   Maine\n",
      "MD                Maryland\n",
      "MA           Massachusetts\n",
      "MI                Michigan\n",
      "MN               Minnesota\n",
      "MS             Mississippi\n",
      "MO                Missouri\n",
      "MT                 Montana\n",
      "NE                Nebraska\n",
      "NV                  Nevada\n",
      "NH           New Hampshire\n",
      "NJ              New Jersey\n",
      "NM              New Mexico\n",
      "NY                New York\n",
      "NC          North Carolina\n",
      "ND            North Dakota\n",
      "OH                    Ohio\n",
      "OK                Oklahoma\n",
      "OR                  Oregon\n",
      "PA            Pennsylvania\n",
      "RI            Rhode Island\n",
      "SC          South Carolina\n",
      "SD            South Dakota\n",
      "TN               Tennessee\n",
      "TX                   Texas\n",
      "UT                    Utah\n",
      "VT                 Vermont\n",
      "VA                Virginia\n",
      "WA              Washington\n",
      "WV           West Virginia\n",
      "WI               Wisconsin\n",
      "WY                 Wyoming\n",
      "Name: state, dtype: object\n"
     ]
    }
   ],
   "source": [
    "print(poli_state_total_merged.state)"
   ]
  },
  {
   "cell_type": "code",
   "execution_count": 146,
   "id": "423af0dc",
   "metadata": {},
   "outputs": [
    {
     "data": {
      "text/plain": [
       "<matplotlib.legend.Legend at 0x178dc1ab970>"
      ]
     },
     "execution_count": 146,
     "metadata": {},
     "output_type": "execute_result"
    },
    {
     "data": {
      "image/png": "[encoded data removed]",
      "text/plain": [
       "<Figure size 432x288 with 1 Axes>"
      ]
     },
     "metadata": {
      "needs_background": "light"
     },
     "output_type": "display_data"
    }
   ],
   "source": [
    "fix, ax = plt.subplots()\n",
    "plt.title(\"Poltical Standing Abortions Histogram\")\n",
    "plt.ylabel(\"Frequency\")\n",
    "plt.xlabel(\"Total Aboriton\")\n",
    "ax.hist(total_democrat_state.TotalAbortions, bins=20, histtype=\"step\" , label=\"Democrat\")\n",
    "ax.hist(total_republican_state.TotalAbortions, bins=20, histtype=\"stepfilled\", label=\"Republican\", alpha=0.3, edgecolor=\"w\")\n",
    "ax.legend()\n"
   ]
  },
  {
   "cell_type": "code",
   "execution_count": 32,
   "id": "4975bd11",
   "metadata": {},
   "outputs": [
    {
     "name": "stdout",
     "output_type": "stream",
     "text": [
      "Total Republican: 270120\n",
      "Total Democrat: 590730\n",
      "Total difference: 320610\n"
     ]
    }
   ],
   "source": [
    "print(\"Total Republican:\", sum(total_republican_state.TotalAbortions))\n",
    "print(\"Total Democrat:\" ,sum(total_democrat_state.TotalAbortions) )\n",
    "print(\"Total difference:\" , sum(total_democrat_state.TotalAbortions) - sum(total_republican_state.TotalAbortions))\n",
    "\n"
   ]
  },
  {
   "cell_type": "code",
   "execution_count": 33,
   "id": "f220f2df",
   "metadata": {},
   "outputs": [
    {
     "name": "stdout",
     "output_type": "stream",
     "text": [
      "Republican results: 10804.8 11525.0 30750.584837465347\n",
      "Democrat results: 22720.384615384617 11525.0 30750.584837465347\n"
     ]
    }
   ],
   "source": [
    "totalRMean = total_republican_state.TotalAbortions.mean()\n",
    "totalRMedain = total_democrat_state.TotalAbortions.median()\n",
    "totalRStd = stdev(total_democrat_state.TotalAbortions)\n",
    "\n",
    "\n",
    "\n",
    "totalDMean = total_democrat_state.TotalAbortions.mean()\n",
    "totalDMedain = total_democrat_state.TotalAbortions.median()\n",
    "totalDstd = stdev(total_democrat_state.TotalAbortions)\n",
    "\n",
    "\n",
    "print(\"Republican results:\" , totalRMean, totalRMedain, totalRStd)\n",
    "print(\"Democrat results:\", totalDMean, totalDMedain, totalDstd)\n",
    "\n",
    "\n"
   ]
  },
  {
   "cell_type": "code",
   "execution_count": 34,
   "id": "32392903",
   "metadata": {},
   "outputs": [],
   "source": [
    "clinic_availablity = pd.read_excel(\"numberOfClinics.xlsx\")\n"
   ]
  },
  {
   "cell_type": "code",
   "execution_count": 35,
   "id": "0ba023ec",
   "metadata": {
    "scrolled": true
   },
   "outputs": [
    {
     "data": {
      "text/html": [
       "<div>\n",
       "<style scoped>\n",
       "    .dataframe tbody tr th:only-of-type {\n",
       "        vertical-align: middle;\n",
       "    }\n",
       "\n",
       "    .dataframe tbody tr th {\n",
       "        vertical-align: top;\n",
       "    }\n",
       "\n",
       "    .dataframe thead th {\n",
       "        text-align: right;\n",
       "    }\n",
       "</style>\n",
       "<table border=\"1\" class=\"dataframe\">\n",
       "  <thead>\n",
       "    <tr style=\"text-align: right;\">\n",
       "      <th></th>\n",
       "      <th>State</th>\n",
       "      <th>No. of abortions</th>\n",
       "      <th>% of all U.S. abortions</th>\n",
       "      <th>Change in the no. of abortion clinics, 2014-2017 b</th>\n",
       "      <th>% change in the no. of abortion clinics</th>\n",
       "      <th>Number_Of_Clinics</th>\n",
       "      <th>% of counties without a known abortion provider, 2014</th>\n",
       "    </tr>\n",
       "  </thead>\n",
       "  <tbody>\n",
       "    <tr>\n",
       "      <th>0</th>\n",
       "      <td>Alabama</td>\n",
       "      <td>6110</td>\n",
       "      <td>0.7</td>\n",
       "      <td>0</td>\n",
       "      <td>0</td>\n",
       "      <td>5</td>\n",
       "      <td>91</td>\n",
       "    </tr>\n",
       "    <tr>\n",
       "      <th>1</th>\n",
       "      <td>Alaska</td>\n",
       "      <td>1260</td>\n",
       "      <td>0.1</td>\n",
       "      <td>1</td>\n",
       "      <td>33</td>\n",
       "      <td>4</td>\n",
       "      <td>79</td>\n",
       "    </tr>\n",
       "    <tr>\n",
       "      <th>2</th>\n",
       "      <td>Arizona</td>\n",
       "      <td>12400</td>\n",
       "      <td>1.4</td>\n",
       "      <td>-1</td>\n",
       "      <td>-11</td>\n",
       "      <td>8</td>\n",
       "      <td>80</td>\n",
       "    </tr>\n",
       "    <tr>\n",
       "      <th>3</th>\n",
       "      <td>Arkansas</td>\n",
       "      <td>3200</td>\n",
       "      <td>0.4</td>\n",
       "      <td>0</td>\n",
       "      <td>0</td>\n",
       "      <td>3</td>\n",
       "      <td>97</td>\n",
       "    </tr>\n",
       "    <tr>\n",
       "      <th>4</th>\n",
       "      <td>California</td>\n",
       "      <td>132680</td>\n",
       "      <td>15.4</td>\n",
       "      <td>9</td>\n",
       "      <td>6</td>\n",
       "      <td>161</td>\n",
       "      <td>24</td>\n",
       "    </tr>\n",
       "  </tbody>\n",
       "</table>\n",
       "</div>"
      ],
      "text/plain": [
       "        State  No. of abortions  % of all U.S. abortions  \\\n",
       "0     Alabama              6110                      0.7   \n",
       "1      Alaska              1260                      0.1   \n",
       "2     Arizona             12400                      1.4   \n",
       "3    Arkansas              3200                      0.4   \n",
       "4  California            132680                     15.4   \n",
       "\n",
       "   Change in the no. of abortion clinics, 2014-2017 b  \\\n",
       "0                                                  0    \n",
       "1                                                  1    \n",
       "2                                                 -1    \n",
       "3                                                  0    \n",
       "4                                                  9    \n",
       "\n",
       "   % change in the no. of abortion clinics  Number_Of_Clinics  \\\n",
       "0                                        0                  5   \n",
       "1                                       33                  4   \n",
       "2                                      -11                  8   \n",
       "3                                        0                  3   \n",
       "4                                        6                161   \n",
       "\n",
       "   % of counties without a known abortion provider, 2014  \n",
       "0                                                 91      \n",
       "1                                                 79      \n",
       "2                                                 80      \n",
       "3                                                 97      \n",
       "4                                                 24      "
      ]
     },
     "execution_count": 35,
     "metadata": {},
     "output_type": "execute_result"
    }
   ],
   "source": [
    "clinic_availablity.head()"
   ]
  },
  {
   "cell_type": "code",
   "execution_count": 36,
   "id": "1fdbbf58",
   "metadata": {},
   "outputs": [
    {
     "data": {
      "text/html": [
       "<div>\n",
       "<style scoped>\n",
       "    .dataframe tbody tr th:only-of-type {\n",
       "        vertical-align: middle;\n",
       "    }\n",
       "\n",
       "    .dataframe tbody tr th {\n",
       "        vertical-align: top;\n",
       "    }\n",
       "\n",
       "    .dataframe thead th {\n",
       "        text-align: right;\n",
       "    }\n",
       "</style>\n",
       "<table border=\"1\" class=\"dataframe\">\n",
       "  <thead>\n",
       "    <tr style=\"text-align: right;\">\n",
       "      <th></th>\n",
       "      <th>TotalAbortions</th>\n",
       "      <th>state</th>\n",
       "      <th>called</th>\n",
       "    </tr>\n",
       "  </thead>\n",
       "  <tbody>\n",
       "    <tr>\n",
       "      <th>AL</th>\n",
       "      <td>7660</td>\n",
       "      <td>Alabama</td>\n",
       "      <td>R</td>\n",
       "    </tr>\n",
       "    <tr>\n",
       "      <th>AK</th>\n",
       "      <td>1420</td>\n",
       "      <td>Alaska</td>\n",
       "      <td>R</td>\n",
       "    </tr>\n",
       "    <tr>\n",
       "      <th>AZ</th>\n",
       "      <td>13270</td>\n",
       "      <td>Arizona</td>\n",
       "      <td>D</td>\n",
       "    </tr>\n",
       "    <tr>\n",
       "      <th>AR</th>\n",
       "      <td>3710</td>\n",
       "      <td>Arkansas</td>\n",
       "      <td>R</td>\n",
       "    </tr>\n",
       "    <tr>\n",
       "      <th>CA</th>\n",
       "      <td>131380</td>\n",
       "      <td>California</td>\n",
       "      <td>D</td>\n",
       "    </tr>\n",
       "  </tbody>\n",
       "</table>\n",
       "</div>"
      ],
      "text/plain": [
       "    TotalAbortions       state called\n",
       "AL            7660     Alabama      R\n",
       "AK            1420      Alaska      R\n",
       "AZ           13270     Arizona      D\n",
       "AR            3710    Arkansas      R\n",
       "CA          131380  California      D"
      ]
     },
     "execution_count": 36,
     "metadata": {},
     "output_type": "execute_result"
    }
   ],
   "source": [
    "state_political_stance = poli_state_total_merged.copy()\n",
    "state_political_stance.head()\n",
    "\n"
   ]
  },
  {
   "cell_type": "code",
   "execution_count": 37,
   "id": "fa60971b",
   "metadata": {},
   "outputs": [],
   "source": [
    "clinic_state_total_merged = pd.concat([clinic_availablity.set_index(\"State\") ,state_political_stance.set_index(\"state\")] , axis=1, join='inner')\n"
   ]
  },
  {
   "cell_type": "code",
   "execution_count": 38,
   "id": "a4593a3d",
   "metadata": {},
   "outputs": [
    {
     "data": {
      "text/html": [
       "<div>\n",
       "<style scoped>\n",
       "    .dataframe tbody tr th:only-of-type {\n",
       "        vertical-align: middle;\n",
       "    }\n",
       "\n",
       "    .dataframe tbody tr th {\n",
       "        vertical-align: top;\n",
       "    }\n",
       "\n",
       "    .dataframe thead th {\n",
       "        text-align: right;\n",
       "    }\n",
       "</style>\n",
       "<table border=\"1\" class=\"dataframe\">\n",
       "  <thead>\n",
       "    <tr style=\"text-align: right;\">\n",
       "      <th></th>\n",
       "      <th>No. of abortions</th>\n",
       "      <th>% of all U.S. abortions</th>\n",
       "      <th>Change in the no. of abortion clinics, 2014-2017 b</th>\n",
       "      <th>% change in the no. of abortion clinics</th>\n",
       "      <th>Number_Of_Clinics</th>\n",
       "      <th>% of counties without a known abortion provider, 2014</th>\n",
       "      <th>TotalAbortions</th>\n",
       "      <th>called</th>\n",
       "    </tr>\n",
       "  </thead>\n",
       "  <tbody>\n",
       "    <tr>\n",
       "      <th>Alabama</th>\n",
       "      <td>6110</td>\n",
       "      <td>0.7</td>\n",
       "      <td>0</td>\n",
       "      <td>0</td>\n",
       "      <td>5</td>\n",
       "      <td>91</td>\n",
       "      <td>7660</td>\n",
       "      <td>R</td>\n",
       "    </tr>\n",
       "    <tr>\n",
       "      <th>Alaska</th>\n",
       "      <td>1260</td>\n",
       "      <td>0.1</td>\n",
       "      <td>1</td>\n",
       "      <td>33</td>\n",
       "      <td>4</td>\n",
       "      <td>79</td>\n",
       "      <td>1420</td>\n",
       "      <td>R</td>\n",
       "    </tr>\n",
       "    <tr>\n",
       "      <th>Arizona</th>\n",
       "      <td>12400</td>\n",
       "      <td>1.4</td>\n",
       "      <td>-1</td>\n",
       "      <td>-11</td>\n",
       "      <td>8</td>\n",
       "      <td>80</td>\n",
       "      <td>13270</td>\n",
       "      <td>D</td>\n",
       "    </tr>\n",
       "    <tr>\n",
       "      <th>Arkansas</th>\n",
       "      <td>3200</td>\n",
       "      <td>0.4</td>\n",
       "      <td>0</td>\n",
       "      <td>0</td>\n",
       "      <td>3</td>\n",
       "      <td>97</td>\n",
       "      <td>3710</td>\n",
       "      <td>R</td>\n",
       "    </tr>\n",
       "    <tr>\n",
       "      <th>California</th>\n",
       "      <td>132680</td>\n",
       "      <td>15.4</td>\n",
       "      <td>9</td>\n",
       "      <td>6</td>\n",
       "      <td>161</td>\n",
       "      <td>24</td>\n",
       "      <td>131380</td>\n",
       "      <td>D</td>\n",
       "    </tr>\n",
       "  </tbody>\n",
       "</table>\n",
       "</div>"
      ],
      "text/plain": [
       "            No. of abortions  % of all U.S. abortions  \\\n",
       "Alabama                 6110                      0.7   \n",
       "Alaska                  1260                      0.1   \n",
       "Arizona                12400                      1.4   \n",
       "Arkansas                3200                      0.4   \n",
       "California            132680                     15.4   \n",
       "\n",
       "            Change in the no. of abortion clinics, 2014-2017 b  \\\n",
       "Alabama                                                     0    \n",
       "Alaska                                                      1    \n",
       "Arizona                                                    -1    \n",
       "Arkansas                                                    0    \n",
       "California                                                  9    \n",
       "\n",
       "            % change in the no. of abortion clinics  Number_Of_Clinics  \\\n",
       "Alabama                                           0                  5   \n",
       "Alaska                                           33                  4   \n",
       "Arizona                                         -11                  8   \n",
       "Arkansas                                          0                  3   \n",
       "California                                        6                161   \n",
       "\n",
       "            % of counties without a known abortion provider, 2014  \\\n",
       "Alabama                                                    91       \n",
       "Alaska                                                     79       \n",
       "Arizona                                                    80       \n",
       "Arkansas                                                   97       \n",
       "California                                                 24       \n",
       "\n",
       "            TotalAbortions called  \n",
       "Alabama               7660      R  \n",
       "Alaska                1420      R  \n",
       "Arizona              13270      D  \n",
       "Arkansas              3710      R  \n",
       "California          131380      D  "
      ]
     },
     "execution_count": 38,
     "metadata": {},
     "output_type": "execute_result"
    }
   ],
   "source": [
    "clinic_state_total_merged.head()"
   ]
  },
  {
   "cell_type": "code",
   "execution_count": 39,
   "id": "f593159a",
   "metadata": {},
   "outputs": [],
   "source": [
    "#df.drop(['column_nameA', 'column_nameB'], axis=1, inplace=True)\n",
    "\n",
    "clinic_state_total_merged.drop(['No. of abortions','% of all U.S. abortions','% change in the no. of abortion clinics','% of counties without a known abortion provider, 2014'], axis=1, inplace=True)"
   ]
  },
  {
   "cell_type": "code",
   "execution_count": 40,
   "id": "19e1cbb5",
   "metadata": {},
   "outputs": [
    {
     "data": {
      "text/html": [
       "<div>\n",
       "<style scoped>\n",
       "    .dataframe tbody tr th:only-of-type {\n",
       "        vertical-align: middle;\n",
       "    }\n",
       "\n",
       "    .dataframe tbody tr th {\n",
       "        vertical-align: top;\n",
       "    }\n",
       "\n",
       "    .dataframe thead th {\n",
       "        text-align: right;\n",
       "    }\n",
       "</style>\n",
       "<table border=\"1\" class=\"dataframe\">\n",
       "  <thead>\n",
       "    <tr style=\"text-align: right;\">\n",
       "      <th></th>\n",
       "      <th>Change in the no. of abortion clinics, 2014-2017 b</th>\n",
       "      <th>Number_Of_Clinics</th>\n",
       "      <th>TotalAbortions</th>\n",
       "      <th>called</th>\n",
       "    </tr>\n",
       "  </thead>\n",
       "  <tbody>\n",
       "    <tr>\n",
       "      <th>Alabama</th>\n",
       "      <td>0</td>\n",
       "      <td>5</td>\n",
       "      <td>7660</td>\n",
       "      <td>R</td>\n",
       "    </tr>\n",
       "    <tr>\n",
       "      <th>Alaska</th>\n",
       "      <td>1</td>\n",
       "      <td>4</td>\n",
       "      <td>1420</td>\n",
       "      <td>R</td>\n",
       "    </tr>\n",
       "    <tr>\n",
       "      <th>Arizona</th>\n",
       "      <td>-1</td>\n",
       "      <td>8</td>\n",
       "      <td>13270</td>\n",
       "      <td>D</td>\n",
       "    </tr>\n",
       "    <tr>\n",
       "      <th>Arkansas</th>\n",
       "      <td>0</td>\n",
       "      <td>3</td>\n",
       "      <td>3710</td>\n",
       "      <td>R</td>\n",
       "    </tr>\n",
       "    <tr>\n",
       "      <th>California</th>\n",
       "      <td>9</td>\n",
       "      <td>161</td>\n",
       "      <td>131380</td>\n",
       "      <td>D</td>\n",
       "    </tr>\n",
       "  </tbody>\n",
       "</table>\n",
       "</div>"
      ],
      "text/plain": [
       "            Change in the no. of abortion clinics, 2014-2017 b  \\\n",
       "Alabama                                                     0    \n",
       "Alaska                                                      1    \n",
       "Arizona                                                    -1    \n",
       "Arkansas                                                    0    \n",
       "California                                                  9    \n",
       "\n",
       "            Number_Of_Clinics  TotalAbortions called  \n",
       "Alabama                     5            7660      R  \n",
       "Alaska                      4            1420      R  \n",
       "Arizona                     8           13270      D  \n",
       "Arkansas                    3            3710      R  \n",
       "California                161          131380      D  "
      ]
     },
     "execution_count": 40,
     "metadata": {},
     "output_type": "execute_result"
    }
   ],
   "source": [
    "clinic_state_total_merged.head()"
   ]
  },
  {
   "cell_type": "code",
   "execution_count": 41,
   "id": "02fdb603",
   "metadata": {},
   "outputs": [
    {
     "name": "stdout",
     "output_type": "stream",
     "text": [
      "Arizona                   8\n",
      "California              161\n",
      "Colorado                 18\n",
      "Connecticut              26\n",
      "Delaware                  4\n",
      "District of Columbia      4\n",
      "Georgia                  15\n",
      "Hawaii                    4\n",
      "Illinois                 25\n",
      "Maine                    16\n",
      "Maryland                 25\n",
      "Massachusetts            19\n",
      "Michigan                 21\n",
      "Minnesota                 7\n",
      "Nevada                    7\n",
      "New Hampshire             4\n",
      "New Jersey               41\n",
      "New Mexico                6\n",
      "New York                113\n",
      "Oregon                   16\n",
      "Pennsylvania             18\n",
      "Rhode Island              2\n",
      "Vermont                   6\n",
      "Virginia                 16\n",
      "Washington               40\n",
      "Wisconsin                 3\n",
      "Name: Number_Of_Clinics, dtype: int64\n"
     ]
    }
   ],
   "source": [
    "total_clinics_democrat_state = clinic_state_total_merged[clinic_state_total_merged.called == 'D']\n",
    "total_clinics_republican_state = clinic_state_total_merged[clinic_state_total_merged.called == 'R']\n",
    "\n",
    "\n",
    "print(total_clinics_democrat_state.Number_Of_Clinics)"
   ]
  },
  {
   "cell_type": "code",
   "execution_count": 42,
   "id": "32b1b0fe",
   "metadata": {},
   "outputs": [
    {
     "name": "stdout",
     "output_type": "stream",
     "text": [
      "Mean by Democratic State:  24.03846153846154\n",
      "Mean by Rebulican State:  7.32\n"
     ]
    }
   ],
   "source": [
    "#If the outliers are included Democratic states have alot more abortion avaiablity\n",
    "\n",
    "print(\"Mean by Democratic State: \", total_clinics_democrat_state.Number_Of_Clinics.mean())\n",
    "print(\"Mean by Rebulican State: \", total_clinics_republican_state.Number_Of_Clinics.mean())\n"
   ]
  },
  {
   "cell_type": "code",
   "execution_count": 43,
   "id": "3199c5c4",
   "metadata": {},
   "outputs": [
    {
     "data": {
      "text/plain": [
       "<matplotlib.legend.Legend at 0x178db2dc9a0>"
      ]
     },
     "execution_count": 43,
     "metadata": {},
     "output_type": "execute_result"
    },
    {
     "data": {
      "image/png": "[encoded data removed]",
      "text/plain": [
       "<Figure size 432x288 with 1 Axes>"
      ]
     },
     "metadata": {
      "needs_background": "light"
     },
     "output_type": "display_data"
    }
   ],
   "source": [
    "# ploting by political state affliation\n",
    "\n",
    "fix, ax = plt.subplots()\n",
    "plt.xlabel(\"Abotion Clinics By Political Affliation\")\n",
    "plt.ylabel(\"Frequency\")\n",
    "ax.hist(total_clinics_democrat_state.Number_Of_Clinics, bins=30, histtype=\"step\" , label=\"Democrat\")\n",
    "ax.hist(total_clinics_republican_state.Number_Of_Clinics, bins=30, histtype=\"stepfilled\", label=\"Republican\", alpha=0.3, edgecolor=\"w\")\n",
    "ax.legend()\n",
    "\n"
   ]
  },
  {
   "cell_type": "code",
   "execution_count": 44,
   "id": "2a5a8265",
   "metadata": {},
   "outputs": [
    {
     "data": {
      "text/plain": [
       "(array([38.,  8.,  2.,  0.,  1.,  0.,  0.,  1.,  0.,  1.]),\n",
       " array([  1.,  17.,  33.,  49.,  65.,  81.,  97., 113., 129., 145., 161.]),\n",
       " <BarContainer object of 10 artists>)"
      ]
     },
     "execution_count": 44,
     "metadata": {},
     "output_type": "execute_result"
    },
    {
     "data": {
      "image/png": "[encoded data removed]",
      "text/plain": [
       "<Figure size 432x288 with 1 Axes>"
      ]
     },
     "metadata": {
      "needs_background": "light"
     },
     "output_type": "display_data"
    }
   ],
   "source": [
    "plt.hist(clinic_availablity.Number_Of_Clinics)"
   ]
  },
  {
   "cell_type": "code",
   "execution_count": 45,
   "id": "25e028dd",
   "metadata": {},
   "outputs": [],
   "source": [
    "Abortion_Age_df = pd.read_csv(\"State Pregnancy-Birth-Abortion Rates.csv\")"
   ]
  },
  {
   "cell_type": "code",
   "execution_count": 46,
   "id": "35b0e824",
   "metadata": {},
   "outputs": [
    {
     "data": {
      "text/html": [
       "<div>\n",
       "<style scoped>\n",
       "    .dataframe tbody tr th:only-of-type {\n",
       "        vertical-align: middle;\n",
       "    }\n",
       "\n",
       "    .dataframe tbody tr th {\n",
       "        vertical-align: top;\n",
       "    }\n",
       "\n",
       "    .dataframe thead th {\n",
       "        text-align: right;\n",
       "    }\n",
       "</style>\n",
       "<table border=\"1\" class=\"dataframe\">\n",
       "  <thead>\n",
       "    <tr style=\"text-align: right;\">\n",
       "      <th></th>\n",
       "      <th>Year</th>\n",
       "      <th>State</th>\n",
       "      <th>Metric</th>\n",
       "      <th>Age_Range</th>\n",
       "      <th>Events per 1,000 women</th>\n",
       "    </tr>\n",
       "  </thead>\n",
       "  <tbody>\n",
       "    <tr>\n",
       "      <th>0</th>\n",
       "      <td>1988</td>\n",
       "      <td>AL</td>\n",
       "      <td>Abortion Rate</td>\n",
       "      <td>15-17</td>\n",
       "      <td>24.0</td>\n",
       "    </tr>\n",
       "    <tr>\n",
       "      <th>1</th>\n",
       "      <td>1992</td>\n",
       "      <td>AL</td>\n",
       "      <td>Abortion Rate</td>\n",
       "      <td>15-17</td>\n",
       "      <td>19.1</td>\n",
       "    </tr>\n",
       "    <tr>\n",
       "      <th>2</th>\n",
       "      <td>1996</td>\n",
       "      <td>AL</td>\n",
       "      <td>Abortion Rate</td>\n",
       "      <td>15-17</td>\n",
       "      <td>12.5</td>\n",
       "    </tr>\n",
       "    <tr>\n",
       "      <th>3</th>\n",
       "      <td>2000</td>\n",
       "      <td>AL</td>\n",
       "      <td>Abortion Rate</td>\n",
       "      <td>15-17</td>\n",
       "      <td>9.3</td>\n",
       "    </tr>\n",
       "    <tr>\n",
       "      <th>4</th>\n",
       "      <td>2005</td>\n",
       "      <td>AL</td>\n",
       "      <td>Abortion Rate</td>\n",
       "      <td>15-17</td>\n",
       "      <td>7.0</td>\n",
       "    </tr>\n",
       "  </tbody>\n",
       "</table>\n",
       "</div>"
      ],
      "text/plain": [
       "   Year State         Metric Age_Range  Events per 1,000 women\n",
       "0  1988    AL  Abortion Rate     15-17                    24.0\n",
       "1  1992    AL  Abortion Rate     15-17                    19.1\n",
       "2  1996    AL  Abortion Rate     15-17                    12.5\n",
       "3  2000    AL  Abortion Rate     15-17                     9.3\n",
       "4  2005    AL  Abortion Rate     15-17                     7.0"
      ]
     },
     "execution_count": 46,
     "metadata": {},
     "output_type": "execute_result"
    }
   ],
   "source": [
    "Abortion_Age_df.head()"
   ]
  },
  {
   "cell_type": "code",
   "execution_count": 47,
   "id": "44981ae0",
   "metadata": {},
   "outputs": [
    {
     "name": "stderr",
     "output_type": "stream",
     "text": [
      "<ipython-input-47-098c669e01c8>:5: SettingWithCopyWarning: \n",
      "A value is trying to be set on a copy of a slice from a DataFrame.\n",
      "Try using .loc[row_indexer,col_indexer] = value instead\n",
      "\n",
      "See the caveats in the documentation: https://pandas.pydata.org/pandas-docs/stable/user_guide/indexing.html#returning-a-view-versus-a-copy\n",
      "  year16_abortionDf['Total_Abortions_Age'] = Abortion_Age_df['Events per 1,000 women'] * 1000\n"
     ]
    },
    {
     "data": {
      "text/html": [
       "<div>\n",
       "<style scoped>\n",
       "    .dataframe tbody tr th:only-of-type {\n",
       "        vertical-align: middle;\n",
       "    }\n",
       "\n",
       "    .dataframe tbody tr th {\n",
       "        vertical-align: top;\n",
       "    }\n",
       "\n",
       "    .dataframe thead th {\n",
       "        text-align: right;\n",
       "    }\n",
       "</style>\n",
       "<table border=\"1\" class=\"dataframe\">\n",
       "  <thead>\n",
       "    <tr style=\"text-align: right;\">\n",
       "      <th></th>\n",
       "      <th>Year</th>\n",
       "      <th>State</th>\n",
       "      <th>Metric</th>\n",
       "      <th>Age_Range</th>\n",
       "      <th>Events per 1,000 women</th>\n",
       "      <th>Total_Abortions_Age</th>\n",
       "    </tr>\n",
       "  </thead>\n",
       "  <tbody>\n",
       "    <tr>\n",
       "      <th>15</th>\n",
       "      <td>2016</td>\n",
       "      <td>AL</td>\n",
       "      <td>Abortion Rate</td>\n",
       "      <td>15-17</td>\n",
       "      <td>2.9</td>\n",
       "      <td>2900.0</td>\n",
       "    </tr>\n",
       "    <tr>\n",
       "      <th>31</th>\n",
       "      <td>2016</td>\n",
       "      <td>AK</td>\n",
       "      <td>Abortion Rate</td>\n",
       "      <td>15-17</td>\n",
       "      <td>4.5</td>\n",
       "      <td>4500.0</td>\n",
       "    </tr>\n",
       "    <tr>\n",
       "      <th>47</th>\n",
       "      <td>2016</td>\n",
       "      <td>AZ</td>\n",
       "      <td>Abortion Rate</td>\n",
       "      <td>15-17</td>\n",
       "      <td>2.2</td>\n",
       "      <td>2200.0</td>\n",
       "    </tr>\n",
       "    <tr>\n",
       "      <th>63</th>\n",
       "      <td>2016</td>\n",
       "      <td>AR</td>\n",
       "      <td>Abortion Rate</td>\n",
       "      <td>15-17</td>\n",
       "      <td>2.2</td>\n",
       "      <td>2200.0</td>\n",
       "    </tr>\n",
       "    <tr>\n",
       "      <th>79</th>\n",
       "      <td>2016</td>\n",
       "      <td>CA</td>\n",
       "      <td>Abortion Rate</td>\n",
       "      <td>15-17</td>\n",
       "      <td>5.3</td>\n",
       "      <td>5300.0</td>\n",
       "    </tr>\n",
       "  </tbody>\n",
       "</table>\n",
       "</div>"
      ],
      "text/plain": [
       "    Year State         Metric Age_Range  Events per 1,000 women  \\\n",
       "15  2016    AL  Abortion Rate     15-17                     2.9   \n",
       "31  2016    AK  Abortion Rate     15-17                     4.5   \n",
       "47  2016    AZ  Abortion Rate     15-17                     2.2   \n",
       "63  2016    AR  Abortion Rate     15-17                     2.2   \n",
       "79  2016    CA  Abortion Rate     15-17                     5.3   \n",
       "\n",
       "    Total_Abortions_Age  \n",
       "15               2900.0  \n",
       "31               4500.0  \n",
       "47               2200.0  \n",
       "63               2200.0  \n",
       "79               5300.0  "
      ]
     },
     "execution_count": 47,
     "metadata": {},
     "output_type": "execute_result"
    }
   ],
   "source": [
    "#combinding total abotion total , to get a clearier picture of \n",
    "# adding a formula from events by women times 1000 to get an exact estimate\n",
    "year16_abortionDf =  Abortion_Age_df[Abortion_Age_df.Year == 2016]\n",
    "\n",
    "year16_abortionDf['Total_Abortions_Age'] = Abortion_Age_df['Events per 1,000 women'] * 1000\n",
    "\n",
    "year16_abortionDf.head()\n",
    "\n",
    "\n",
    "\n",
    "\n"
   ]
  },
  {
   "cell_type": "code",
   "execution_count": 161,
   "id": "b0f3deb9",
   "metadata": {},
   "outputs": [
    {
     "data": {
      "text/html": [
       "<div>\n",
       "<style scoped>\n",
       "    .dataframe tbody tr th:only-of-type {\n",
       "        vertical-align: middle;\n",
       "    }\n",
       "\n",
       "    .dataframe tbody tr th {\n",
       "        vertical-align: top;\n",
       "    }\n",
       "\n",
       "    .dataframe thead th {\n",
       "        text-align: right;\n",
       "    }\n",
       "</style>\n",
       "<table border=\"1\" class=\"dataframe\">\n",
       "  <thead>\n",
       "    <tr style=\"text-align: right;\">\n",
       "      <th></th>\n",
       "      <th></th>\n",
       "      <th>Year</th>\n",
       "      <th>State</th>\n",
       "      <th>Metric</th>\n",
       "      <th>Events per 1,000 women</th>\n",
       "    </tr>\n",
       "    <tr>\n",
       "      <th>Age_Range</th>\n",
       "      <th>Total_Abortions_Age</th>\n",
       "      <th></th>\n",
       "      <th></th>\n",
       "      <th></th>\n",
       "      <th></th>\n",
       "    </tr>\n",
       "  </thead>\n",
       "  <tbody>\n",
       "    <tr>\n",
       "      <th rowspan=\"5\" valign=\"top\">15-17</th>\n",
       "      <th>1000.0</th>\n",
       "      <td>2016</td>\n",
       "      <td>UT</td>\n",
       "      <td>Abortion Rate</td>\n",
       "      <td>1.0</td>\n",
       "    </tr>\n",
       "    <tr>\n",
       "      <th>1100.0</th>\n",
       "      <td>2016</td>\n",
       "      <td>SD</td>\n",
       "      <td>Abortion Rate</td>\n",
       "      <td>1.1</td>\n",
       "    </tr>\n",
       "    <tr>\n",
       "      <th>1300.0</th>\n",
       "      <td>2016</td>\n",
       "      <td>OK</td>\n",
       "      <td>Abortion Rate</td>\n",
       "      <td>1.3</td>\n",
       "    </tr>\n",
       "    <tr>\n",
       "      <th>1500.0</th>\n",
       "      <td>2016</td>\n",
       "      <td>ID</td>\n",
       "      <td>Abortion Rate</td>\n",
       "      <td>1.5</td>\n",
       "    </tr>\n",
       "    <tr>\n",
       "      <th>1600.0</th>\n",
       "      <td>2016</td>\n",
       "      <td>KS</td>\n",
       "      <td>Abortion Rate</td>\n",
       "      <td>1.6</td>\n",
       "    </tr>\n",
       "    <tr>\n",
       "      <th>...</th>\n",
       "      <th>...</th>\n",
       "      <td>...</td>\n",
       "      <td>...</td>\n",
       "      <td>...</td>\n",
       "      <td>...</td>\n",
       "    </tr>\n",
       "    <tr>\n",
       "      <th rowspan=\"5\" valign=\"top\">Total</th>\n",
       "      <th>98200.0</th>\n",
       "      <td>2016</td>\n",
       "      <td>SD</td>\n",
       "      <td>Pregnancy Rate</td>\n",
       "      <td>98.2</td>\n",
       "    </tr>\n",
       "    <tr>\n",
       "      <th>100600.0</th>\n",
       "      <td>2016</td>\n",
       "      <td>ND</td>\n",
       "      <td>Pregnancy Rate</td>\n",
       "      <td>100.6</td>\n",
       "    </tr>\n",
       "    <tr>\n",
       "      <th>101300.0</th>\n",
       "      <td>2016</td>\n",
       "      <td>NY</td>\n",
       "      <td>Pregnancy Rate</td>\n",
       "      <td>101.3</td>\n",
       "    </tr>\n",
       "    <tr>\n",
       "      <th>102400.0</th>\n",
       "      <td>2016</td>\n",
       "      <td>AK</td>\n",
       "      <td>Pregnancy Rate</td>\n",
       "      <td>102.4</td>\n",
       "    </tr>\n",
       "    <tr>\n",
       "      <th>104300.0</th>\n",
       "      <td>2016</td>\n",
       "      <td>NJ</td>\n",
       "      <td>Pregnancy Rate</td>\n",
       "      <td>104.3</td>\n",
       "    </tr>\n",
       "  </tbody>\n",
       "</table>\n",
       "<p>1187 rows × 4 columns</p>\n",
       "</div>"
      ],
      "text/plain": [
       "                               Year State          Metric  \\\n",
       "Age_Range Total_Abortions_Age                               \n",
       "15-17     1000.0               2016    UT   Abortion Rate   \n",
       "          1100.0               2016    SD   Abortion Rate   \n",
       "          1300.0               2016    OK   Abortion Rate   \n",
       "          1500.0               2016    ID   Abortion Rate   \n",
       "          1600.0               2016    KS   Abortion Rate   \n",
       "...                             ...   ...             ...   \n",
       "Total     98200.0              2016    SD  Pregnancy Rate   \n",
       "          100600.0             2016    ND  Pregnancy Rate   \n",
       "          101300.0             2016    NY  Pregnancy Rate   \n",
       "          102400.0             2016    AK  Pregnancy Rate   \n",
       "          104300.0             2016    NJ  Pregnancy Rate   \n",
       "\n",
       "                               Events per 1,000 women  \n",
       "Age_Range Total_Abortions_Age                          \n",
       "15-17     1000.0                                  1.0  \n",
       "          1100.0                                  1.1  \n",
       "          1300.0                                  1.3  \n",
       "          1500.0                                  1.5  \n",
       "          1600.0                                  1.6  \n",
       "...                                               ...  \n",
       "Total     98200.0                                98.2  \n",
       "          100600.0                              100.6  \n",
       "          101300.0                              101.3  \n",
       "          102400.0                              102.4  \n",
       "          104300.0                              104.3  \n",
       "\n",
       "[1187 rows x 4 columns]"
      ]
     },
     "execution_count": 161,
     "metadata": {},
     "output_type": "execute_result"
    }
   ],
   "source": [
    "\n",
    "\n",
    "age_group = year16_abortionDf.groupby(['Age_Range','Total_Abortions_Age'])\n",
    "\n",
    "age_group.last()\n"
   ]
  },
  {
   "cell_type": "code",
   "execution_count": null,
   "id": "5474b26e",
   "metadata": {},
   "outputs": [],
   "source": [
    "#Take the most recent data and see if there is a trend between age goups that have a higer number of abortions\n",
    "\n",
    "\n",
    "year16_abortionDf['Total_Abortions_Age'].hist(by=year16_abortionDf['Age Range'], bins=40 , figsize = (16,18))"
   ]
  },
  {
   "cell_type": "code",
   "execution_count": 49,
   "id": "affaef21",
   "metadata": {},
   "outputs": [
    {
     "data": {
      "text/html": [
       "<div>\n",
       "<style scoped>\n",
       "    .dataframe tbody tr th:only-of-type {\n",
       "        vertical-align: middle;\n",
       "    }\n",
       "\n",
       "    .dataframe tbody tr th {\n",
       "        vertical-align: top;\n",
       "    }\n",
       "\n",
       "    .dataframe thead th {\n",
       "        text-align: right;\n",
       "    }\n",
       "</style>\n",
       "<table border=\"1\" class=\"dataframe\">\n",
       "  <thead>\n",
       "    <tr style=\"text-align: right;\">\n",
       "      <th></th>\n",
       "      <th>Year</th>\n",
       "      <th>State</th>\n",
       "      <th>Metric</th>\n",
       "      <th>Age_Range</th>\n",
       "      <th>Events per 1,000 women</th>\n",
       "      <th>TotalAbortions</th>\n",
       "    </tr>\n",
       "  </thead>\n",
       "  <tbody>\n",
       "    <tr>\n",
       "      <th>0</th>\n",
       "      <td>1988</td>\n",
       "      <td>AL</td>\n",
       "      <td>Abortion Rate</td>\n",
       "      <td>15-17</td>\n",
       "      <td>24.0</td>\n",
       "      <td>24000.0</td>\n",
       "    </tr>\n",
       "    <tr>\n",
       "      <th>1</th>\n",
       "      <td>1992</td>\n",
       "      <td>AL</td>\n",
       "      <td>Abortion Rate</td>\n",
       "      <td>15-17</td>\n",
       "      <td>19.1</td>\n",
       "      <td>19100.0</td>\n",
       "    </tr>\n",
       "    <tr>\n",
       "      <th>2</th>\n",
       "      <td>1996</td>\n",
       "      <td>AL</td>\n",
       "      <td>Abortion Rate</td>\n",
       "      <td>15-17</td>\n",
       "      <td>12.5</td>\n",
       "      <td>12500.0</td>\n",
       "    </tr>\n",
       "    <tr>\n",
       "      <th>3</th>\n",
       "      <td>2000</td>\n",
       "      <td>AL</td>\n",
       "      <td>Abortion Rate</td>\n",
       "      <td>15-17</td>\n",
       "      <td>9.3</td>\n",
       "      <td>9300.0</td>\n",
       "    </tr>\n",
       "    <tr>\n",
       "      <th>4</th>\n",
       "      <td>2005</td>\n",
       "      <td>AL</td>\n",
       "      <td>Abortion Rate</td>\n",
       "      <td>15-17</td>\n",
       "      <td>7.0</td>\n",
       "      <td>7000.0</td>\n",
       "    </tr>\n",
       "  </tbody>\n",
       "</table>\n",
       "</div>"
      ],
      "text/plain": [
       "   Year State         Metric Age_Range  Events per 1,000 women  TotalAbortions\n",
       "0  1988    AL  Abortion Rate     15-17                    24.0         24000.0\n",
       "1  1992    AL  Abortion Rate     15-17                    19.1         19100.0\n",
       "2  1996    AL  Abortion Rate     15-17                    12.5         12500.0\n",
       "3  2000    AL  Abortion Rate     15-17                     9.3          9300.0\n",
       "4  2005    AL  Abortion Rate     15-17                     7.0          7000.0"
      ]
     },
     "execution_count": 49,
     "metadata": {},
     "output_type": "execute_result"
    }
   ],
   "source": [
    "abortion_by_year = Abortion_Age_df.copy()\n",
    "abortion_by_year['TotalAbortions'] = abortion_by_year['Events per 1,000 women'] * 1000\n",
    "abortion_by_year.head()\n",
    "\n",
    "\n"
   ]
  },
  {
   "cell_type": "code",
   "execution_count": 154,
   "id": "8bcafe4f",
   "metadata": {},
   "outputs": [
    {
     "data": {
      "text/plain": [
       "<AxesSubplot:title={'center':'Abortion By Year'}, xlabel='Year', ylabel='Frequncy'>"
      ]
     },
     "execution_count": 154,
     "metadata": {},
     "output_type": "execute_result"
    },
    {
     "data": {
      "image/png": "[encoded data removed]",
      "text/plain": [
       "<Figure size 576x504 with 1 Axes>"
      ]
     },
     "metadata": {
      "needs_background": "light"
     },
     "output_type": "display_data"
    }
   ],
   "source": [
    "\n",
    "\n",
    "df1 = abortion_by_year.groupby(abortion_by_year['Year'])[\"TotalAbortions\"].sum()\n",
    "plt.title(\"Abortion By Year\")\n",
    "plt.ylabel(\"Frequncy\")\n",
    "\n",
    "df1.plot.bar(figsize = (8,7))"
   ]
  },
  {
   "cell_type": "markdown",
   "id": "85224422",
   "metadata": {},
   "source": [
    "# PMF \n",
    "PMF will be anaylized"
   ]
  },
  {
   "cell_type": "code",
   "execution_count": 51,
   "id": "6800a228",
   "metadata": {},
   "outputs": [],
   "source": [
    "import seaborn as sns\n",
    "import matplotlib.pyplot as plt"
   ]
  },
  {
   "cell_type": "code",
   "execution_count": 52,
   "id": "8e1b64cd",
   "metadata": {},
   "outputs": [],
   "source": [
    "#taking the states total abortion\n",
    "\n",
    "states_totalM_df = state_total_df.copy()"
   ]
  },
  {
   "cell_type": "code",
   "execution_count": 53,
   "id": "75dde6c9",
   "metadata": {},
   "outputs": [],
   "source": [
    "#ordering the pmf by value\n",
    "\n",
    "states_totalM_df['pmf'] = states_totalM_df['TotalAbortions'] / states_totalM_df['TotalAbortions'].sum()\n",
    "\n",
    "states_totalM_df = states_totalM_df.sort_values(['pmf']).reset_index(drop=True)"
   ]
  },
  {
   "cell_type": "code",
   "execution_count": 54,
   "id": "6bb8a342",
   "metadata": {},
   "outputs": [
    {
     "data": {
      "text/html": [
       "<div>\n",
       "<style scoped>\n",
       "    .dataframe tbody tr th:only-of-type {\n",
       "        vertical-align: middle;\n",
       "    }\n",
       "\n",
       "    .dataframe tbody tr th {\n",
       "        vertical-align: top;\n",
       "    }\n",
       "\n",
       "    .dataframe thead th {\n",
       "        text-align: right;\n",
       "    }\n",
       "</style>\n",
       "<table border=\"1\" class=\"dataframe\">\n",
       "  <thead>\n",
       "    <tr style=\"text-align: right;\">\n",
       "      <th></th>\n",
       "      <th>state</th>\n",
       "      <th>TotalAbortions</th>\n",
       "      <th>pmf</th>\n",
       "    </tr>\n",
       "  </thead>\n",
       "  <tbody>\n",
       "    <tr>\n",
       "      <th>0</th>\n",
       "      <td>WY</td>\n",
       "      <td>720</td>\n",
       "      <td>0.000836</td>\n",
       "    </tr>\n",
       "    <tr>\n",
       "      <th>1</th>\n",
       "      <td>SD</td>\n",
       "      <td>750</td>\n",
       "      <td>0.000871</td>\n",
       "    </tr>\n",
       "    <tr>\n",
       "      <th>2</th>\n",
       "      <td>ND</td>\n",
       "      <td>970</td>\n",
       "      <td>0.001127</td>\n",
       "    </tr>\n",
       "    <tr>\n",
       "      <th>3</th>\n",
       "      <td>VT</td>\n",
       "      <td>1140</td>\n",
       "      <td>0.001324</td>\n",
       "    </tr>\n",
       "    <tr>\n",
       "      <th>4</th>\n",
       "      <td>AK</td>\n",
       "      <td>1420</td>\n",
       "      <td>0.001650</td>\n",
       "    </tr>\n",
       "  </tbody>\n",
       "</table>\n",
       "</div>"
      ],
      "text/plain": [
       "  state  TotalAbortions       pmf\n",
       "0    WY             720  0.000836\n",
       "1    SD             750  0.000871\n",
       "2    ND             970  0.001127\n",
       "3    VT            1140  0.001324\n",
       "4    AK            1420  0.001650"
      ]
     },
     "execution_count": 54,
     "metadata": {},
     "output_type": "execute_result"
    }
   ],
   "source": [
    "states_totalM_df.head()"
   ]
  },
  {
   "cell_type": "code",
   "execution_count": 155,
   "id": "87e6a1f7",
   "metadata": {},
   "outputs": [
    {
     "name": "stderr",
     "output_type": "stream",
     "text": [
      "C:\\Users\\cast6\\anaconda3\\lib\\site-packages\\seaborn\\_decorators.py:36: FutureWarning: Pass the following variables as keyword args: x, y. From version 0.12, the only valid positional argument will be `data`, and passing other arguments without an explicit keyword will result in an error or misinterpretation.\n",
      "  warnings.warn(\n"
     ]
    },
    {
     "data": {
      "image/png": "[encoded data removed]",
      "text/plain": [
       "<Figure size 936x936 with 1 Axes>"
      ]
     },
     "metadata": {
      "needs_background": "light"
     },
     "output_type": "display_data"
    }
   ],
   "source": [
    "#pmf by abbortion totals\n",
    "\n",
    "fig , ax = plt.subplots(figsize = (13,13))\n",
    "plt.title(\"State Abortion Total PMF\")\n",
    "plt.xlabel(\"States\")\n",
    "plt.ylabel(\"Abortion Pmf\")\n",
    "sns.barplot(states_totalM_df['state'],states_totalM_df['pmf'],ax=ax)\n",
    "\n",
    "\n",
    "\n",
    "plt.show()\n",
    "\n",
    "\n"
   ]
  },
  {
   "cell_type": "code",
   "execution_count": 56,
   "id": "e485a144",
   "metadata": {
    "scrolled": true
   },
   "outputs": [],
   "source": [
    "\n",
    "\n",
    "age_abortion_pmf = year16_abortionDf.copy()\n",
    "\n",
    "age_abortion_pmf['pmf'] = age_abortion_pmf['Total_Abortions_Age'] / year16_abortionDf['Total_Abortions_Age'].sum()\n",
    "\n",
    "\n",
    "age_abortion_pmf.drop(age_abortion_pmf.index[age_abortion_pmf['Age_Range'] == 'Total'], inplace = True)\n",
    "\n"
   ]
  },
  {
   "cell_type": "code",
   "execution_count": 57,
   "id": "c8e79628",
   "metadata": {
    "scrolled": true
   },
   "outputs": [
    {
     "data": {
      "text/html": [
       "<div>\n",
       "<style scoped>\n",
       "    .dataframe tbody tr th:only-of-type {\n",
       "        vertical-align: middle;\n",
       "    }\n",
       "\n",
       "    .dataframe tbody tr th {\n",
       "        vertical-align: top;\n",
       "    }\n",
       "\n",
       "    .dataframe thead th {\n",
       "        text-align: right;\n",
       "    }\n",
       "</style>\n",
       "<table border=\"1\" class=\"dataframe\">\n",
       "  <thead>\n",
       "    <tr style=\"text-align: right;\">\n",
       "      <th></th>\n",
       "      <th>Year</th>\n",
       "      <th>State</th>\n",
       "      <th>Metric</th>\n",
       "      <th>Age_Range</th>\n",
       "      <th>Events per 1,000 women</th>\n",
       "      <th>Total_Abortions_Age</th>\n",
       "      <th>pmf</th>\n",
       "    </tr>\n",
       "  </thead>\n",
       "  <tbody>\n",
       "    <tr>\n",
       "      <th>15</th>\n",
       "      <td>2016</td>\n",
       "      <td>AL</td>\n",
       "      <td>Abortion Rate</td>\n",
       "      <td>15-17</td>\n",
       "      <td>2.9</td>\n",
       "      <td>2900.0</td>\n",
       "      <td>0.000045</td>\n",
       "    </tr>\n",
       "    <tr>\n",
       "      <th>31</th>\n",
       "      <td>2016</td>\n",
       "      <td>AK</td>\n",
       "      <td>Abortion Rate</td>\n",
       "      <td>15-17</td>\n",
       "      <td>4.5</td>\n",
       "      <td>4500.0</td>\n",
       "      <td>0.000069</td>\n",
       "    </tr>\n",
       "    <tr>\n",
       "      <th>47</th>\n",
       "      <td>2016</td>\n",
       "      <td>AZ</td>\n",
       "      <td>Abortion Rate</td>\n",
       "      <td>15-17</td>\n",
       "      <td>2.2</td>\n",
       "      <td>2200.0</td>\n",
       "      <td>0.000034</td>\n",
       "    </tr>\n",
       "    <tr>\n",
       "      <th>63</th>\n",
       "      <td>2016</td>\n",
       "      <td>AR</td>\n",
       "      <td>Abortion Rate</td>\n",
       "      <td>15-17</td>\n",
       "      <td>2.2</td>\n",
       "      <td>2200.0</td>\n",
       "      <td>0.000034</td>\n",
       "    </tr>\n",
       "    <tr>\n",
       "      <th>79</th>\n",
       "      <td>2016</td>\n",
       "      <td>CA</td>\n",
       "      <td>Abortion Rate</td>\n",
       "      <td>15-17</td>\n",
       "      <td>5.3</td>\n",
       "      <td>5300.0</td>\n",
       "      <td>0.000082</td>\n",
       "    </tr>\n",
       "  </tbody>\n",
       "</table>\n",
       "</div>"
      ],
      "text/plain": [
       "    Year State         Metric Age_Range  Events per 1,000 women  \\\n",
       "15  2016    AL  Abortion Rate     15-17                     2.9   \n",
       "31  2016    AK  Abortion Rate     15-17                     4.5   \n",
       "47  2016    AZ  Abortion Rate     15-17                     2.2   \n",
       "63  2016    AR  Abortion Rate     15-17                     2.2   \n",
       "79  2016    CA  Abortion Rate     15-17                     5.3   \n",
       "\n",
       "    Total_Abortions_Age       pmf  \n",
       "15               2900.0  0.000045  \n",
       "31               4500.0  0.000069  \n",
       "47               2200.0  0.000034  \n",
       "63               2200.0  0.000034  \n",
       "79               5300.0  0.000082  "
      ]
     },
     "execution_count": 57,
     "metadata": {},
     "output_type": "execute_result"
    }
   ],
   "source": [
    "\n",
    "age_abortion_pmf.head()\n"
   ]
  },
  {
   "cell_type": "code",
   "execution_count": 156,
   "id": "27c1901f",
   "metadata": {},
   "outputs": [
    {
     "name": "stderr",
     "output_type": "stream",
     "text": [
      "C:\\Users\\cast6\\anaconda3\\lib\\site-packages\\seaborn\\_decorators.py:36: FutureWarning: Pass the following variables as keyword args: x, y. From version 0.12, the only valid positional argument will be `data`, and passing other arguments without an explicit keyword will result in an error or misinterpretation.\n",
      "  warnings.warn(\n"
     ]
    },
    {
     "data": {
      "image/png": "[encoded data removed]",
      "text/plain": [
       "<Figure size 936x936 with 1 Axes>"
      ]
     },
     "metadata": {
      "needs_background": "light"
     },
     "output_type": "display_data"
    }
   ],
   "source": [
    "fig , ax = plt.subplots(figsize = (13,13))\n",
    "plt.title(\"AGe Abortion Total PMF\")\n",
    "plt.xlabel(\"States\")\n",
    "plt.ylabel(\"Abortion Pmf\")\n",
    "sns.barplot(age_abortion_pmf['Age_Range'],age_abortion_pmf['pmf'],ax=ax)\n",
    "\n",
    "\n",
    "plt.show()"
   ]
  },
  {
   "cell_type": "markdown",
   "id": "cf5d8aea",
   "metadata": {},
   "source": [
    "Its safe to say your twice more likely to get an abortion from 20-30. "
   ]
  },
  {
   "cell_type": "code",
   "execution_count": 59,
   "id": "4dbf318c",
   "metadata": {},
   "outputs": [
    {
     "data": {
      "text/html": [
       "<div>\n",
       "<style scoped>\n",
       "    .dataframe tbody tr th:only-of-type {\n",
       "        vertical-align: middle;\n",
       "    }\n",
       "\n",
       "    .dataframe tbody tr th {\n",
       "        vertical-align: top;\n",
       "    }\n",
       "\n",
       "    .dataframe thead th {\n",
       "        text-align: right;\n",
       "    }\n",
       "</style>\n",
       "<table border=\"1\" class=\"dataframe\">\n",
       "  <thead>\n",
       "    <tr style=\"text-align: right;\">\n",
       "      <th></th>\n",
       "      <th>TotalAbortions</th>\n",
       "      <th>state</th>\n",
       "      <th>called</th>\n",
       "      <th>pmf</th>\n",
       "    </tr>\n",
       "  </thead>\n",
       "  <tbody>\n",
       "    <tr>\n",
       "      <th>AL</th>\n",
       "      <td>7660</td>\n",
       "      <td>Alabama</td>\n",
       "      <td>R</td>\n",
       "      <td>0.008898</td>\n",
       "    </tr>\n",
       "    <tr>\n",
       "      <th>AK</th>\n",
       "      <td>1420</td>\n",
       "      <td>Alaska</td>\n",
       "      <td>R</td>\n",
       "      <td>0.001650</td>\n",
       "    </tr>\n",
       "    <tr>\n",
       "      <th>AZ</th>\n",
       "      <td>13270</td>\n",
       "      <td>Arizona</td>\n",
       "      <td>D</td>\n",
       "      <td>0.015415</td>\n",
       "    </tr>\n",
       "    <tr>\n",
       "      <th>AR</th>\n",
       "      <td>3710</td>\n",
       "      <td>Arkansas</td>\n",
       "      <td>R</td>\n",
       "      <td>0.004310</td>\n",
       "    </tr>\n",
       "    <tr>\n",
       "      <th>CA</th>\n",
       "      <td>131380</td>\n",
       "      <td>California</td>\n",
       "      <td>D</td>\n",
       "      <td>0.152617</td>\n",
       "    </tr>\n",
       "  </tbody>\n",
       "</table>\n",
       "</div>"
      ],
      "text/plain": [
       "    TotalAbortions       state called       pmf\n",
       "AL            7660     Alabama      R  0.008898\n",
       "AK            1420      Alaska      R  0.001650\n",
       "AZ           13270     Arizona      D  0.015415\n",
       "AR            3710    Arkansas      R  0.004310\n",
       "CA          131380  California      D  0.152617"
      ]
     },
     "execution_count": 59,
     "metadata": {},
     "output_type": "execute_result"
    }
   ],
   "source": [
    "#Taking the pmf of political afflication\n",
    "\n",
    "poli_state_pmf =  poli_state_total_merged.copy()\n",
    "\n",
    "\n",
    "poli_state_pmf['pmf'] = poli_state_pmf['TotalAbortions'] / poli_state_pmf['TotalAbortions'].sum()\n",
    "poli_state_pmf.head()\n",
    "\n"
   ]
  },
  {
   "cell_type": "code",
   "execution_count": 60,
   "id": "d7369f92",
   "metadata": {},
   "outputs": [
    {
     "name": "stderr",
     "output_type": "stream",
     "text": [
      "C:\\Users\\cast6\\anaconda3\\lib\\site-packages\\seaborn\\_decorators.py:36: FutureWarning: Pass the following variables as keyword args: x, y. From version 0.12, the only valid positional argument will be `data`, and passing other arguments without an explicit keyword will result in an error or misinterpretation.\n",
      "  warnings.warn(\n"
     ]
    },
    {
     "data": {
      "image/png": "[encoded data removed]",
      "text/plain": [
       "<Figure size 504x936 with 1 Axes>"
      ]
     },
     "metadata": {
      "needs_background": "light"
     },
     "output_type": "display_data"
    }
   ],
   "source": [
    "fig , ax = plt.subplots(figsize = (7,13))\n",
    "plt.title(\"Called States PMF\")\n",
    "plt.xlabel(\"States\")\n",
    "plt.ylabel(\"Abortion Pmf\")\n",
    "sns.barplot(poli_state_pmf['called'],poli_state_pmf['pmf'],ax=ax)\n",
    "\n",
    "\n",
    "plt.show()"
   ]
  },
  {
   "cell_type": "code",
   "execution_count": 61,
   "id": "3c69402b",
   "metadata": {},
   "outputs": [
    {
     "data": {
      "text/html": [
       "<div>\n",
       "<style scoped>\n",
       "    .dataframe tbody tr th:only-of-type {\n",
       "        vertical-align: middle;\n",
       "    }\n",
       "\n",
       "    .dataframe tbody tr th {\n",
       "        vertical-align: top;\n",
       "    }\n",
       "\n",
       "    .dataframe thead th {\n",
       "        text-align: right;\n",
       "    }\n",
       "</style>\n",
       "<table border=\"1\" class=\"dataframe\">\n",
       "  <thead>\n",
       "    <tr style=\"text-align: right;\">\n",
       "      <th></th>\n",
       "      <th>State</th>\n",
       "      <th>No. of abortions</th>\n",
       "      <th>% of all U.S. abortions</th>\n",
       "      <th>Change in the no. of abortion clinics, 2014-2017 b</th>\n",
       "      <th>% change in the no. of abortion clinics</th>\n",
       "      <th>Number_Of_Clinics</th>\n",
       "      <th>% of counties without a known abortion provider, 2014</th>\n",
       "    </tr>\n",
       "  </thead>\n",
       "  <tbody>\n",
       "    <tr>\n",
       "      <th>0</th>\n",
       "      <td>Alabama</td>\n",
       "      <td>6110</td>\n",
       "      <td>0.7</td>\n",
       "      <td>0</td>\n",
       "      <td>0</td>\n",
       "      <td>5</td>\n",
       "      <td>91</td>\n",
       "    </tr>\n",
       "    <tr>\n",
       "      <th>1</th>\n",
       "      <td>Alaska</td>\n",
       "      <td>1260</td>\n",
       "      <td>0.1</td>\n",
       "      <td>1</td>\n",
       "      <td>33</td>\n",
       "      <td>4</td>\n",
       "      <td>79</td>\n",
       "    </tr>\n",
       "    <tr>\n",
       "      <th>2</th>\n",
       "      <td>Arizona</td>\n",
       "      <td>12400</td>\n",
       "      <td>1.4</td>\n",
       "      <td>-1</td>\n",
       "      <td>-11</td>\n",
       "      <td>8</td>\n",
       "      <td>80</td>\n",
       "    </tr>\n",
       "    <tr>\n",
       "      <th>3</th>\n",
       "      <td>Arkansas</td>\n",
       "      <td>3200</td>\n",
       "      <td>0.4</td>\n",
       "      <td>0</td>\n",
       "      <td>0</td>\n",
       "      <td>3</td>\n",
       "      <td>97</td>\n",
       "    </tr>\n",
       "    <tr>\n",
       "      <th>4</th>\n",
       "      <td>California</td>\n",
       "      <td>132680</td>\n",
       "      <td>15.4</td>\n",
       "      <td>9</td>\n",
       "      <td>6</td>\n",
       "      <td>161</td>\n",
       "      <td>24</td>\n",
       "    </tr>\n",
       "  </tbody>\n",
       "</table>\n",
       "</div>"
      ],
      "text/plain": [
       "        State  No. of abortions  % of all U.S. abortions  \\\n",
       "0     Alabama              6110                      0.7   \n",
       "1      Alaska              1260                      0.1   \n",
       "2     Arizona             12400                      1.4   \n",
       "3    Arkansas              3200                      0.4   \n",
       "4  California            132680                     15.4   \n",
       "\n",
       "   Change in the no. of abortion clinics, 2014-2017 b  \\\n",
       "0                                                  0    \n",
       "1                                                  1    \n",
       "2                                                 -1    \n",
       "3                                                  0    \n",
       "4                                                  9    \n",
       "\n",
       "   % change in the no. of abortion clinics  Number_Of_Clinics  \\\n",
       "0                                        0                  5   \n",
       "1                                       33                  4   \n",
       "2                                      -11                  8   \n",
       "3                                        0                  3   \n",
       "4                                        6                161   \n",
       "\n",
       "   % of counties without a known abortion provider, 2014  \n",
       "0                                                 91      \n",
       "1                                                 79      \n",
       "2                                                 80      \n",
       "3                                                 97      \n",
       "4                                                 24      "
      ]
     },
     "execution_count": 61,
     "metadata": {},
     "output_type": "execute_result"
    }
   ],
   "source": [
    "clinic_availablity.head()"
   ]
  },
  {
   "cell_type": "code",
   "execution_count": 62,
   "id": "b3108713",
   "metadata": {},
   "outputs": [],
   "source": [
    "percent_us_abor = clinic_availablity['% of all U.S. abortions']\n"
   ]
  },
  {
   "cell_type": "code",
   "execution_count": 63,
   "id": "ad38a017",
   "metadata": {},
   "outputs": [],
   "source": [
    "pdf = percent_us_abor / sum(percent_us_abor)\n",
    "\n",
    "\n",
    "cdf = np.cumsum(pdf)\n"
   ]
  },
  {
   "cell_type": "code",
   "execution_count": 159,
   "id": "728135d7",
   "metadata": {
    "scrolled": true
   },
   "outputs": [
    {
     "data": {
      "text/plain": [
       "Text(0.5, 0, 'Clinic')"
      ]
     },
     "execution_count": 159,
     "metadata": {},
     "output_type": "execute_result"
    },
    {
     "data": {
      "image/png": "[encoded data removed]",
      "text/plain": [
       "<Figure size 432x288 with 1 Axes>"
      ]
     },
     "metadata": {
      "needs_background": "light"
     },
     "output_type": "display_data"
    }
   ],
   "source": [
    "plt.plot( percent_us_abor ,cdf, label=\"CDF\")\n",
    "plt.title(\"CDF Clinic Availablity\")\n",
    "plt.ylabel(\" CDF\")\n",
    "plt.xlabel(\"Clinic\")"
   ]
  },
  {
   "cell_type": "markdown",
   "id": "0b58e975",
   "metadata": {},
   "source": [
    "# scatter plot\n"
   ]
  },
  {
   "cell_type": "code",
   "execution_count": 65,
   "id": "40a8fd39",
   "metadata": {},
   "outputs": [
    {
     "data": {
      "text/plain": [
       "Text(0, 0.5, 'Total Number of abortions')"
      ]
     },
     "execution_count": 65,
     "metadata": {},
     "output_type": "execute_result"
    },
    {
     "data": {
      "image/png": "[encoded data removed]",
      "text/plain": [
       "<Figure size 432x288 with 1 Axes>"
      ]
     },
     "metadata": {
      "needs_background": "light"
     },
     "output_type": "display_data"
    }
   ],
   "source": [
    "plt.scatter(clinic_availablity.Number_Of_Clinics, poli_state_total_merged.TotalAbortions)\n",
    "plt.title(\"Number of Abortions With Clinic Availiablity\")\n",
    "plt.xlabel(\"Total Number of Clinics\")\n",
    "plt.ylabel(\"Total Number of abortions\")"
   ]
  },
  {
   "cell_type": "code",
   "execution_count": 66,
   "id": "c9d24b0c",
   "metadata": {},
   "outputs": [
    {
     "data": {
      "text/html": [
       "<div>\n",
       "<style scoped>\n",
       "    .dataframe tbody tr th:only-of-type {\n",
       "        vertical-align: middle;\n",
       "    }\n",
       "\n",
       "    .dataframe tbody tr th {\n",
       "        vertical-align: top;\n",
       "    }\n",
       "\n",
       "    .dataframe thead th {\n",
       "        text-align: right;\n",
       "    }\n",
       "</style>\n",
       "<table border=\"1\" class=\"dataframe\">\n",
       "  <thead>\n",
       "    <tr style=\"text-align: right;\">\n",
       "      <th></th>\n",
       "      <th>State</th>\n",
       "      <th>No. of abortions</th>\n",
       "      <th>% of all U.S. abortions</th>\n",
       "      <th>Change in the no. of abortion clinics, 2014-2017 b</th>\n",
       "      <th>% change in the no. of abortion clinics</th>\n",
       "      <th>Number_Of_Clinics</th>\n",
       "      <th>% of counties without a known abortion provider, 2014</th>\n",
       "    </tr>\n",
       "  </thead>\n",
       "  <tbody>\n",
       "    <tr>\n",
       "      <th>0</th>\n",
       "      <td>Alabama</td>\n",
       "      <td>6110</td>\n",
       "      <td>0.7</td>\n",
       "      <td>0</td>\n",
       "      <td>0</td>\n",
       "      <td>5</td>\n",
       "      <td>91</td>\n",
       "    </tr>\n",
       "    <tr>\n",
       "      <th>1</th>\n",
       "      <td>Alaska</td>\n",
       "      <td>1260</td>\n",
       "      <td>0.1</td>\n",
       "      <td>1</td>\n",
       "      <td>33</td>\n",
       "      <td>4</td>\n",
       "      <td>79</td>\n",
       "    </tr>\n",
       "    <tr>\n",
       "      <th>2</th>\n",
       "      <td>Arizona</td>\n",
       "      <td>12400</td>\n",
       "      <td>1.4</td>\n",
       "      <td>-1</td>\n",
       "      <td>-11</td>\n",
       "      <td>8</td>\n",
       "      <td>80</td>\n",
       "    </tr>\n",
       "    <tr>\n",
       "      <th>3</th>\n",
       "      <td>Arkansas</td>\n",
       "      <td>3200</td>\n",
       "      <td>0.4</td>\n",
       "      <td>0</td>\n",
       "      <td>0</td>\n",
       "      <td>3</td>\n",
       "      <td>97</td>\n",
       "    </tr>\n",
       "    <tr>\n",
       "      <th>4</th>\n",
       "      <td>California</td>\n",
       "      <td>132680</td>\n",
       "      <td>15.4</td>\n",
       "      <td>9</td>\n",
       "      <td>6</td>\n",
       "      <td>161</td>\n",
       "      <td>24</td>\n",
       "    </tr>\n",
       "  </tbody>\n",
       "</table>\n",
       "</div>"
      ],
      "text/plain": [
       "        State  No. of abortions  % of all U.S. abortions  \\\n",
       "0     Alabama              6110                      0.7   \n",
       "1      Alaska              1260                      0.1   \n",
       "2     Arizona             12400                      1.4   \n",
       "3    Arkansas              3200                      0.4   \n",
       "4  California            132680                     15.4   \n",
       "\n",
       "   Change in the no. of abortion clinics, 2014-2017 b  \\\n",
       "0                                                  0    \n",
       "1                                                  1    \n",
       "2                                                 -1    \n",
       "3                                                  0    \n",
       "4                                                  9    \n",
       "\n",
       "   % change in the no. of abortion clinics  Number_Of_Clinics  \\\n",
       "0                                        0                  5   \n",
       "1                                       33                  4   \n",
       "2                                      -11                  8   \n",
       "3                                        0                  3   \n",
       "4                                        6                161   \n",
       "\n",
       "   % of counties without a known abortion provider, 2014  \n",
       "0                                                 91      \n",
       "1                                                 79      \n",
       "2                                                 80      \n",
       "3                                                 97      \n",
       "4                                                 24      "
      ]
     },
     "execution_count": 66,
     "metadata": {},
     "output_type": "execute_result"
    }
   ],
   "source": [
    "clinic_availablity.head()"
   ]
  },
  {
   "cell_type": "code",
   "execution_count": 67,
   "id": "bf847a74",
   "metadata": {
    "scrolled": false
   },
   "outputs": [
    {
     "data": {
      "text/plain": [
       "Text(0.5, 0, 'Unknown Clinics')"
      ]
     },
     "execution_count": 67,
     "metadata": {},
     "output_type": "execute_result"
    },
    {
     "data": {
      "image/png": "[encoded data removed]",
      "text/plain": [
       "<Figure size 432x288 with 1 Axes>"
      ]
     },
     "metadata": {
      "needs_background": "light"
     },
     "output_type": "display_data"
    }
   ],
   "source": [
    "plt.scatter(clinic_availablity['% of counties without a known abortion provider, 2014'],clinic_availablity['No. of abortions'])\n",
    "plt.title(\"Unknown clincs Abortion Numbers\")\n",
    "plt.ylabel(\"Total Abortions\")\n",
    "plt.xlabel(\"Unknown Clinics\")\n",
    "\n"
   ]
  },
  {
   "cell_type": "markdown",
   "id": "406ee4c6",
   "metadata": {},
   "source": [
    "# Hypothesis Testing"
   ]
  },
  {
   "cell_type": "code",
   "execution_count": 88,
   "id": "f83763d6",
   "metadata": {},
   "outputs": [
    {
     "name": "stdout",
     "output_type": "stream",
     "text": [
      "860850\n"
     ]
    }
   ],
   "source": [
    "\n",
    "total_clinics_democrat_state.head()\n",
    "total_clinics_republican_state.head()\n",
    "poli_state_total_merged.head()\n",
    "\n",
    "print(sum(poli_state_total_merged.TotalAbortions))"
   ]
  },
  {
   "cell_type": "code",
   "execution_count": 120,
   "id": "f9efaa5e",
   "metadata": {},
   "outputs": [],
   "source": [
    "from scipy.stats import ttest_1samp\n",
    "from scipy.stats import ttest_rel\n",
    "from scipy.stats import shapiro\n",
    "from scipy.stats import spearmanr\n",
    "\n",
    "import numpy as np \n",
    "\n",
    "total_abortion_sum =sum(poli_state_total_merged.TotalAbortions)\n",
    "democrat_mean = np.mean(total_clinics_democrat_state.TotalAbortions)\n",
    "repblican_mean = np.mean(total_clinics_republican_state.TotalAbortions)\n"
   ]
  },
  {
   "cell_type": "code",
   "execution_count": 111,
   "id": "7742ee41",
   "metadata": {},
   "outputs": [
    {
     "data": {
      "text/plain": [
       "Ttest_relResult(statistic=nan, pvalue=nan)"
      ]
     },
     "execution_count": 111,
     "metadata": {},
     "output_type": "execute_result"
    }
   ],
   "source": [
    "#tset , pval = ttest_1samp(20000,860850)\n",
    "\n",
    "ttest_rel(democrat_mean,repblican_mean)"
   ]
  },
  {
   "cell_type": "code",
   "execution_count": 114,
   "id": "74dcd3af",
   "metadata": {},
   "outputs": [],
   "source": [
    "stat , p = shapiro(total_clinics_democrat_state.TotalAbortions)"
   ]
  },
  {
   "cell_type": "code",
   "execution_count": 116,
   "id": "54c72ca6",
   "metadata": {},
   "outputs": [
    {
     "name": "stdout",
     "output_type": "stream",
     "text": [
      "0.6598344445228577 1.566005039421725e-06\n"
     ]
    }
   ],
   "source": [
    "print(stat, p)\n"
   ]
  },
  {
   "cell_type": "markdown",
   "id": "61ee280b",
   "metadata": {},
   "source": [
    "# Correlation between clincs and abortions"
   ]
  },
  {
   "cell_type": "code",
   "execution_count": 118,
   "id": "6a488465",
   "metadata": {},
   "outputs": [
    {
     "data": {
      "text/html": [
       "<div>\n",
       "<style scoped>\n",
       "    .dataframe tbody tr th:only-of-type {\n",
       "        vertical-align: middle;\n",
       "    }\n",
       "\n",
       "    .dataframe tbody tr th {\n",
       "        vertical-align: top;\n",
       "    }\n",
       "\n",
       "    .dataframe thead th {\n",
       "        text-align: right;\n",
       "    }\n",
       "</style>\n",
       "<table border=\"1\" class=\"dataframe\">\n",
       "  <thead>\n",
       "    <tr style=\"text-align: right;\">\n",
       "      <th></th>\n",
       "      <th>State</th>\n",
       "      <th>No. of abortions</th>\n",
       "      <th>% of all U.S. abortions</th>\n",
       "      <th>Change in the no. of abortion clinics, 2014-2017 b</th>\n",
       "      <th>% change in the no. of abortion clinics</th>\n",
       "      <th>Number_Of_Clinics</th>\n",
       "      <th>% of counties without a known abortion provider, 2014</th>\n",
       "    </tr>\n",
       "  </thead>\n",
       "  <tbody>\n",
       "    <tr>\n",
       "      <th>0</th>\n",
       "      <td>Alabama</td>\n",
       "      <td>6110</td>\n",
       "      <td>0.7</td>\n",
       "      <td>0</td>\n",
       "      <td>0</td>\n",
       "      <td>5</td>\n",
       "      <td>91</td>\n",
       "    </tr>\n",
       "    <tr>\n",
       "      <th>1</th>\n",
       "      <td>Alaska</td>\n",
       "      <td>1260</td>\n",
       "      <td>0.1</td>\n",
       "      <td>1</td>\n",
       "      <td>33</td>\n",
       "      <td>4</td>\n",
       "      <td>79</td>\n",
       "    </tr>\n",
       "    <tr>\n",
       "      <th>2</th>\n",
       "      <td>Arizona</td>\n",
       "      <td>12400</td>\n",
       "      <td>1.4</td>\n",
       "      <td>-1</td>\n",
       "      <td>-11</td>\n",
       "      <td>8</td>\n",
       "      <td>80</td>\n",
       "    </tr>\n",
       "    <tr>\n",
       "      <th>3</th>\n",
       "      <td>Arkansas</td>\n",
       "      <td>3200</td>\n",
       "      <td>0.4</td>\n",
       "      <td>0</td>\n",
       "      <td>0</td>\n",
       "      <td>3</td>\n",
       "      <td>97</td>\n",
       "    </tr>\n",
       "    <tr>\n",
       "      <th>4</th>\n",
       "      <td>California</td>\n",
       "      <td>132680</td>\n",
       "      <td>15.4</td>\n",
       "      <td>9</td>\n",
       "      <td>6</td>\n",
       "      <td>161</td>\n",
       "      <td>24</td>\n",
       "    </tr>\n",
       "  </tbody>\n",
       "</table>\n",
       "</div>"
      ],
      "text/plain": [
       "        State  No. of abortions  % of all U.S. abortions  \\\n",
       "0     Alabama              6110                      0.7   \n",
       "1      Alaska              1260                      0.1   \n",
       "2     Arizona             12400                      1.4   \n",
       "3    Arkansas              3200                      0.4   \n",
       "4  California            132680                     15.4   \n",
       "\n",
       "   Change in the no. of abortion clinics, 2014-2017 b  \\\n",
       "0                                                  0    \n",
       "1                                                  1    \n",
       "2                                                 -1    \n",
       "3                                                  0    \n",
       "4                                                  9    \n",
       "\n",
       "   % change in the no. of abortion clinics  Number_Of_Clinics  \\\n",
       "0                                        0                  5   \n",
       "1                                       33                  4   \n",
       "2                                      -11                  8   \n",
       "3                                        0                  3   \n",
       "4                                        6                161   \n",
       "\n",
       "   % of counties without a known abortion provider, 2014  \n",
       "0                                                 91      \n",
       "1                                                 79      \n",
       "2                                                 80      \n",
       "3                                                 97      \n",
       "4                                                 24      "
      ]
     },
     "execution_count": 118,
     "metadata": {},
     "output_type": "execute_result"
    }
   ],
   "source": [
    "clinic_availablity.head()"
   ]
  },
  {
   "cell_type": "code",
   "execution_count": 128,
   "id": "977ae443",
   "metadata": {},
   "outputs": [
    {
     "name": "stdout",
     "output_type": "stream",
     "text": [
      "0.8329054398987282 3.466203958646422e-14\n",
      "3.466203958646422e-14\n",
      "Has enough evidence to support claim\n"
     ]
    }
   ],
   "source": [
    "#null hypothesis: Clinic availablity does not mean more abortions\n",
    "\n",
    "#alternative: More clinic availablity means more abortions.\n",
    "\n",
    "\n",
    "number_of_abortion = clinic_availablity['No. of abortions']\n",
    "number_of_clinics = clinic_availablity['Number_Of_Clinics']\n",
    "\n",
    "\n",
    "stat , p = spearmanr(number_of_abortion,number_of_clinics )\n",
    "\n",
    "print(stat , p)\n",
    "\n",
    "if p > 0.05:\n",
    "    print(\"Does not support a strong enough claim that it effects the population.\")\n",
    "else:\n",
    "    print(p)\n",
    "    print(\"Has enough evidence to support claim\")\n",
    "\n",
    "    #shows and effect is large\n"
   ]
  },
  {
   "cell_type": "code",
   "execution_count": 130,
   "id": "fd69f5f2",
   "metadata": {},
   "outputs": [
    {
     "data": {
      "text/plain": [
       "0.9394296452703171"
      ]
     },
     "execution_count": 130,
     "metadata": {},
     "output_type": "execute_result"
    }
   ],
   "source": [
    "correlation = number_of_abortion.corr(number_of_clinics)\n",
    "correlation"
   ]
  },
  {
   "cell_type": "code",
   "execution_count": null,
   "id": "fd0e3cb0",
   "metadata": {},
   "outputs": [],
   "source": [
    "sns.heatmap()"
   ]
  },
  {
   "cell_type": "code",
   "execution_count": 136,
   "id": "36acf61b",
   "metadata": {},
   "outputs": [
    {
     "data": {
      "text/plain": [
       "[<matplotlib.lines.Line2D at 0x178dc185700>]"
      ]
     },
     "execution_count": 136,
     "metadata": {},
     "output_type": "execute_result"
    },
    {
     "data": {
      "image/png": "[encoded data removed]",
      "text/plain": [
       "<Figure size 432x288 with 1 Axes>"
      ]
     },
     "metadata": {
      "needs_background": "light"
     },
     "output_type": "display_data"
    }
   ],
   "source": [
    "plt.title(\"Correlation Number of Clincs Abortion\")\n",
    "plt.ylabel(\"Number of Abortions\")\n",
    "plt.xlabel(\"Number of Clinics\")\n",
    "plt.scatter(number_of_clinics,number_of_abortion)\n",
    "plt.plot(np.unique(number_of_clinics) , np.poly1d(np.polyfit(number_of_clinics, number_of_abortion, 1))\n",
    "        (np.unique(number_of_clinics)), color='red')"
   ]
  },
  {
   "cell_type": "code",
   "execution_count": 137,
   "id": "295103c5",
   "metadata": {},
   "outputs": [
    {
     "data": {
      "text/plain": [
       "<AxesSubplot:>"
      ]
     },
     "execution_count": 137,
     "metadata": {},
     "output_type": "execute_result"
    },
    {
     "data": {
      "image/png": "[encoded data removed]",
      "text/plain": [
       "<Figure size 432x288 with 2 Axes>"
      ]
     },
     "metadata": {
      "needs_background": "light"
     },
     "output_type": "display_data"
    }
   ],
   "source": [
    "corr = clinic_availablity.corr()\n",
    "\n",
    "sns.heatmap(corr,xticklabels = corr.columns , yticklabels=corr.columns, cmap = \"RdBu\")"
   ]
  }
 ],
 "metadata": {
  "kernelspec": {
   "display_name": "Python 3",
   "language": "python",
   "name": "python3"
  },
  "language_info": {
   "codemirror_mode": {
    "name": "ipython",
    "version": 3
   },
   "file_extension": ".py",
   "mimetype": "text/x-python",
   "name": "python",
   "nbconvert_exporter": "python",
   "pygments_lexer": "ipython3",
   "version": "3.8.8"
  }
 },
 "nbformat": 4,
 "nbformat_minor": 5
}
